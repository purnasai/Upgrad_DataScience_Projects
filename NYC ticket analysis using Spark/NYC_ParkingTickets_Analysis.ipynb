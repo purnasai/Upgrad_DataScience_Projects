{
 "cells": [
  {
   "cell_type": "markdown",
   "metadata": {},
   "source": [
    "# NYC Parking Tickets Case Study\n",
    "\n",
    "**Completed by:**\n",
    "* **Saad Syed Adeeb**\n",
    "* **Anubhab Nath**"
   ]
  },
  {
   "cell_type": "markdown",
   "metadata": {},
   "source": [
    "## Setting up Environment and importing required libraries "
   ]
  },
  {
   "cell_type": "code",
   "execution_count": 1,
   "metadata": {},
   "outputs": [],
   "source": [
    "from pyspark.sql import SparkSession\n",
    "import pandas as pd\n",
    "import matplotlib.pyplot as plt\n",
    "spark = SparkSession \\\n",
    "    .builder \\\n",
    "    .appName(\"NYC Case Study SAAD_ANATH\") \\\n",
    "    .getOrCreate()"
   ]
  },
  {
   "cell_type": "markdown",
   "metadata": {},
   "source": [
    "## Loading the data "
   ]
  },
  {
   "cell_type": "code",
   "execution_count": 2,
   "metadata": {},
   "outputs": [
    {
     "data": {
      "text/plain": [
       "DataFrame[Summons Number: bigint, Plate ID: string, Registration State: string, Issue Date: timestamp, Violation Code: int, Vehicle Body Type: string, Vehicle Make: string, Violation Precinct: int, Issuer Precinct: int, Violation Time: string]"
      ]
     },
     "execution_count": 2,
     "metadata": {},
     "output_type": "execute_result"
    }
   ],
   "source": [
    "nyc_parking = spark.read.format(\"csv\").option(\"header\", \"true\").option(\"inferSchema\", \"true\").load('/common_folder/nyc_parking/Parking_Violations_Issued_-_Fiscal_Year_2017.csv')\n",
    "nyc_parking"
   ]
  },
  {
   "cell_type": "markdown",
   "metadata": {},
   "source": [
    "## Initial analysis of data"
   ]
  },
  {
   "cell_type": "code",
   "execution_count": 3,
   "metadata": {},
   "outputs": [
    {
     "name": "stdout",
     "output_type": "stream",
     "text": [
      "+--------------+--------+------------------+-------------------+--------------+-----------------+------------+------------------+---------------+--------------+\n",
      "|Summons Number|Plate ID|Registration State|         Issue Date|Violation Code|Vehicle Body Type|Vehicle Make|Violation Precinct|Issuer Precinct|Violation Time|\n",
      "+--------------+--------+------------------+-------------------+--------------+-----------------+------------+------------------+---------------+--------------+\n",
      "|    5092469481| GZH7067|                NY|2016-07-10 00:00:00|             7|             SUBN|       TOYOT|                 0|              0|         0143A|\n",
      "|    5092451658| GZH7067|                NY|2016-07-08 00:00:00|             7|             SUBN|       TOYOT|                 0|              0|         0400P|\n",
      "|    4006265037| FZX9232|                NY|2016-08-23 00:00:00|             5|             SUBN|        FORD|                 0|              0|         0233P|\n",
      "|    8478629828| 66623ME|                NY|2017-06-14 00:00:00|            47|             REFG|       MITSU|                14|             14|         1120A|\n",
      "|    7868300310| 37033JV|                NY|2016-11-21 00:00:00|            69|             DELV|       INTER|                13|             13|         0555P|\n",
      "+--------------+--------+------------------+-------------------+--------------+-----------------+------------+------------------+---------------+--------------+\n",
      "only showing top 5 rows\n",
      "\n"
     ]
    }
   ],
   "source": [
    "nyc_parking.show(5)"
   ]
  },
  {
   "cell_type": "code",
   "execution_count": 4,
   "metadata": {},
   "outputs": [
    {
     "name": "stdout",
     "output_type": "stream",
     "text": [
      "+-------+--------------------+--------+------------------+------------------+------------------+------------------+------------------+-----------------+-----------------+\n",
      "|summary|      Summons Number|Plate ID|Registration State|    Violation Code| Vehicle Body Type|      Vehicle Make|Violation Precinct|  Issuer Precinct|   Violation Time|\n",
      "+-------+--------------------+--------+------------------+------------------+------------------+------------------+------------------+-----------------+-----------------+\n",
      "|  count|            10803028|10803028|          10803028|          10803028|          10803028|          10803028|          10803028|         10803028|         10803028|\n",
      "|   mean|6.8174470290656595E9|Infinity|              99.0|34.599430455979565|3.9258887134586864| 6519.974025974026| 45.01216260848347|46.82931211508477|909.2857142857143|\n",
      "| stddev| 2.320233962328229E9|     NaN|               0.0| 19.35986871632348|0.5013415469252523|18091.257389147086|40.552560268435805|62.66703577269466|791.8453853409226|\n",
      "|    min|          1002884949|   #1MOM|                99|                 0|                00|             ,FREI|                 0|                0|            .240P|\n",
      "|    max|          8585600044|       ~|                WY|                99|               nan|               nan|               933|              997|              nan|\n",
      "+-------+--------------------+--------+------------------+------------------+------------------+------------------+------------------+-----------------+-----------------+\n",
      "\n"
     ]
    }
   ],
   "source": [
    "nyc_parking.describe().show()"
   ]
  },
  {
   "cell_type": "code",
   "execution_count": 5,
   "metadata": {},
   "outputs": [
    {
     "name": "stdout",
     "output_type": "stream",
     "text": [
      "root\n",
      " |-- Summons Number: long (nullable = true)\n",
      " |-- Plate ID: string (nullable = true)\n",
      " |-- Registration State: string (nullable = true)\n",
      " |-- Issue Date: timestamp (nullable = true)\n",
      " |-- Violation Code: integer (nullable = true)\n",
      " |-- Vehicle Body Type: string (nullable = true)\n",
      " |-- Vehicle Make: string (nullable = true)\n",
      " |-- Violation Precinct: integer (nullable = true)\n",
      " |-- Issuer Precinct: integer (nullable = true)\n",
      " |-- Violation Time: string (nullable = true)\n",
      "\n"
     ]
    }
   ],
   "source": [
    "nyc_parking.printSchema()"
   ]
  },
  {
   "cell_type": "code",
   "execution_count": 6,
   "metadata": {},
   "outputs": [
    {
     "data": {
      "text/plain": [
       "10803028"
      ]
     },
     "execution_count": 6,
     "metadata": {},
     "output_type": "execute_result"
    }
   ],
   "source": [
    "# rows\n",
    "nyc_parking.count()"
   ]
  },
  {
   "cell_type": "code",
   "execution_count": 7,
   "metadata": {},
   "outputs": [
    {
     "data": {
      "text/plain": [
       "['Summons Number',\n",
       " 'Plate ID',\n",
       " 'Registration State',\n",
       " 'Issue Date',\n",
       " 'Violation Code',\n",
       " 'Vehicle Body Type',\n",
       " 'Vehicle Make',\n",
       " 'Violation Precinct',\n",
       " 'Issuer Precinct',\n",
       " 'Violation Time']"
      ]
     },
     "execution_count": 7,
     "metadata": {},
     "output_type": "execute_result"
    }
   ],
   "source": [
    "nyc_parking.columns"
   ]
  },
  {
   "cell_type": "markdown",
   "metadata": {},
   "source": [
    "#### Check and remove duplicates from dataset (if any)"
   ]
  },
  {
   "cell_type": "code",
   "execution_count": 8,
   "metadata": {},
   "outputs": [
    {
     "data": {
      "text/plain": [
       "10803028"
      ]
     },
     "execution_count": 8,
     "metadata": {},
     "output_type": "execute_result"
    }
   ],
   "source": [
    "\n",
    "nyc_parking=nyc_parking.dropDuplicates()\n",
    "nyc_parking.count()"
   ]
  },
  {
   "cell_type": "markdown",
   "metadata": {},
   "source": [
    "#### Count remains the same ,thus there are no duplicates in the dataset"
   ]
  },
  {
   "cell_type": "markdown",
   "metadata": {},
   "source": [
    "#### Checking and removing null values(if any)"
   ]
  },
  {
   "cell_type": "code",
   "execution_count": 9,
   "metadata": {},
   "outputs": [
    {
     "data": {
      "text/plain": [
       "10803028"
      ]
     },
     "execution_count": 9,
     "metadata": {},
     "output_type": "execute_result"
    }
   ],
   "source": [
    "# Droping null values if any\n",
    "nyc_parking=nyc_parking.dropna()\n",
    "nyc_parking.count()"
   ]
  },
  {
   "cell_type": "markdown",
   "metadata": {},
   "source": [
    "#### no null values to remove in NA\n",
    "#### Since in spark we use sql queries it'll be easier if there are no spaces in between column names"
   ]
  },
  {
   "cell_type": "code",
   "execution_count": 10,
   "metadata": {},
   "outputs": [
    {
     "name": "stdout",
     "output_type": "stream",
     "text": [
      "+--------------+--------+------------------+-------------------+--------------+-----------------+------------+------------------+---------------+--------------+\n",
      "|Summons_Number|Plate_ID|Registration_State|         Issue_Date|Violation_Code|Vehicle_Body_Type|Vehicle_Make|Violation_Precinct|Issuer_Precinct|Violation_Time|\n",
      "+--------------+--------+------------------+-------------------+--------------+-----------------+------------+------------------+---------------+--------------+\n",
      "|    4634224008| AE75413|                CT|2017-05-22 00:00:00|            36|               4D|       NISSA|                 0|              0|         0100P|\n",
      "|    4629644490| HHJ3068|                NY|2017-01-17 00:00:00|            36|             4DSD|       CHRYS|                 0|              0|         0100P|\n",
      "|    5094523077| BK55073|                NY|2016-11-28 00:00:00|             7|             SEMI|       PINES|                 0|              0|         0101P|\n",
      "|    4635330000| FJT8706|                NY|2017-06-20 00:00:00|            36|             SUBN|        AUDI|                 0|              0|         0101P|\n",
      "|    4631557643| HLC8572|                NY|2017-03-10 00:00:00|            36|             SUBN|       HONDA|                 0|              0|         0101P|\n",
      "+--------------+--------+------------------+-------------------+--------------+-----------------+------------+------------------+---------------+--------------+\n",
      "only showing top 5 rows\n",
      "\n"
     ]
    }
   ],
   "source": [
    "nyc_parking= nyc_parking.toDF(*(c.replace(' ', '_') for c in nyc_parking.columns))\n",
    "nyc_parking.show(5)"
   ]
  },
  {
   "cell_type": "markdown",
   "metadata": {},
   "source": [
    "#### Creating a view to query the dataset using sql "
   ]
  },
  {
   "cell_type": "code",
   "execution_count": 11,
   "metadata": {},
   "outputs": [],
   "source": [
    "nyc_parking.createOrReplaceTempView(\"parking_info\")"
   ]
  },
  {
   "cell_type": "code",
   "execution_count": 12,
   "metadata": {},
   "outputs": [
    {
     "data": {
      "text/plain": [
       "DataFrame[Summons_Number: bigint, Plate_ID: string, Registration_State: string, Issue_Date: timestamp, Violation_Code: int, Vehicle_Body_Type: string, Vehicle_Make: string, Violation_Precinct: int, Issuer_Precinct: int, Violation_Time: string]"
      ]
     },
     "execution_count": 12,
     "metadata": {},
     "output_type": "execute_result"
    }
   ],
   "source": [
    "spark.sql('Select * from parking_info')"
   ]
  },
  {
   "cell_type": "code",
   "execution_count": 13,
   "metadata": {},
   "outputs": [
    {
     "name": "stdout",
     "output_type": "stream",
     "text": [
      "+---------+-------------+\n",
      "|IssueYear|TicketsIssued|\n",
      "+---------+-------------+\n",
      "|     1972|            2|\n",
      "|     1973|            2|\n",
      "|     1974|            1|\n",
      "|     1976|            1|\n",
      "|     1977|            1|\n",
      "|     1984|            1|\n",
      "|     1985|            1|\n",
      "|     1990|            2|\n",
      "|     1991|            3|\n",
      "|     1994|            1|\n",
      "|     1996|            1|\n",
      "|     1997|            1|\n",
      "|     2000|          185|\n",
      "|     2001|            2|\n",
      "|     2002|            1|\n",
      "|     2003|            1|\n",
      "|     2004|            2|\n",
      "|     2005|            1|\n",
      "|     2006|            8|\n",
      "|     2007|           18|\n",
      "|     2008|            4|\n",
      "|     2009|            3|\n",
      "|     2010|           48|\n",
      "|     2011|           22|\n",
      "|     2012|           87|\n",
      "|     2013|           70|\n",
      "|     2014|          120|\n",
      "|     2015|          419|\n",
      "|     2016|      5368391|\n",
      "|     2017|      5431918|\n",
      "|     2018|         1057|\n",
      "|     2019|          472|\n",
      "|     2020|           22|\n",
      "|     2021|           22|\n",
      "|     2022|            4|\n",
      "|     2023|            5|\n",
      "|     2024|            3|\n",
      "|     2025|            6|\n",
      "|     2026|           24|\n",
      "|     2027|           50|\n",
      "|     2028|            8|\n",
      "|     2029|            2|\n",
      "|     2030|           12|\n",
      "|     2031|            5|\n",
      "|     2033|            2|\n",
      "|     2036|            1|\n",
      "|     2041|            1|\n",
      "|     2047|            2|\n",
      "|     2053|            1|\n",
      "|     2060|            2|\n",
      "|     2061|            1|\n",
      "|     2062|            2|\n",
      "|     2063|            2|\n",
      "|     2068|            1|\n",
      "|     2069|            4|\n",
      "+---------+-------------+\n",
      "\n"
     ]
    }
   ],
   "source": [
    "# Total number of tickets for each year\n",
    "ticket_year = spark.sql(\"select year(Issue_Date) as IssueYear, count(Summons_Number) as TicketsIssued from parking_info group by IssueYear order by IssueYear\")\n",
    "ticket_year.show(100)"
   ]
  },
  {
   "cell_type": "markdown",
   "metadata": {},
   "source": [
    "#### So we have data from 1972 to 2069,We are only going to consider the tickets issued over the year 2017. "
   ]
  },
  {
   "cell_type": "code",
   "execution_count": 14,
   "metadata": {},
   "outputs": [
    {
     "data": {
      "text/plain": [
       "5431918"
      ]
     },
     "execution_count": 14,
     "metadata": {},
     "output_type": "execute_result"
    }
   ],
   "source": [
    "nyc_parking.createOrReplaceTempView(\"tickets_2017\")\n",
    "nyc_parking=spark.sql(\"select * from tickets_2017 where year(TO_DATE(CAST(UNIX_TIMESTAMP(Issue_Date,'MM/dd/yyyy') AS TIMESTAMP))) = 2017 \")\n",
    "nyc_parking.count()"
   ]
  },
  {
   "cell_type": "markdown",
   "metadata": {},
   "source": [
    "#### Creating a view to query the dataset using sql "
   ]
  },
  {
   "cell_type": "code",
   "execution_count": 15,
   "metadata": {},
   "outputs": [],
   "source": [
    "nyc_parking.createOrReplaceTempView(\"ticketinfo_2017\")"
   ]
  },
  {
   "cell_type": "code",
   "execution_count": 16,
   "metadata": {},
   "outputs": [
    {
     "name": "stdout",
     "output_type": "stream",
     "text": [
      "+----------+-------------+\n",
      "|IssueMonth|TicketsIssued|\n",
      "+----------+-------------+\n",
      "|         5|      1020244|\n",
      "|         3|       964737|\n",
      "|         4|       888402|\n",
      "|         1|       877365|\n",
      "|         6|       852187|\n",
      "|         2|       826967|\n",
      "|         7|          370|\n",
      "|         9|          367|\n",
      "|        12|          358|\n",
      "|        11|          338|\n",
      "|         8|          309|\n",
      "|        10|          274|\n",
      "+----------+-------------+\n",
      "\n"
     ]
    }
   ],
   "source": [
    "#Showing distribution \n",
    "ticket_month_distribution= spark.sql(\"SELECT month(Issue_Date) as IssueMonth,count(*) as TicketsIssued FROM ticketinfo_2017 GROUP BY IssueMonth order by TicketsIssued desc\")\n",
    "ticket_month_distribution.show()"
   ]
  },
  {
   "cell_type": "markdown",
   "metadata": {},
   "source": [
    "**Maximum number of violations are in the month of May.One more point to note is the number tickets issued reduce drastically from July-Dec**"
   ]
  },
  {
   "cell_type": "code",
   "execution_count": 17,
   "metadata": {},
   "outputs": [],
   "source": [
    "Freq_Violations_by_month = ticket_month_distribution.toPandas()"
   ]
  },
  {
   "cell_type": "code",
   "execution_count": 18,
   "metadata": {},
   "outputs": [
    {
     "data": {
      "text/plain": [
       "<Figure size 432x288 with 0 Axes>"
      ]
     },
     "metadata": {},
     "output_type": "display_data"
    },
    {
     "data": {
      "image/png": "[encoded data removed]",
      "text/plain": [
       "<Figure size 432x288 with 1 Axes>"
      ]
     },
     "metadata": {},
     "output_type": "display_data"
    }
   ],
   "source": [
    "import pandas as pd\n",
    "import matplotlib.pyplot as plt\n",
    "plt.clf()\n",
    "Freq_Violations_by_month.plot(x= 'IssueMonth', y='TicketsIssued', kind='bar')\n",
    "plt.title(\"Violations on the basis of month in 2017\")\n",
    "plt.xlabel('Issued Month')\n",
    "plt.ylabel('No. Of tickets')\n",
    "plt.show()"
   ]
  },
  {
   "cell_type": "code",
   "execution_count": 19,
   "metadata": {},
   "outputs": [
    {
     "name": "stdout",
     "output_type": "stream",
     "text": [
      "+----------+-------------+\n",
      "|  Plate_ID|TicketsIssued|\n",
      "+----------+-------------+\n",
      "|BLANKPLATE|         5261|\n",
      "|   96089MA|          529|\n",
      "|   96087MA|          528|\n",
      "|   94905JA|          527|\n",
      "|   14828MJ|          526|\n",
      "|   85848MD|          512|\n",
      "|   30954JX|          510|\n",
      "|   2121796|          507|\n",
      "|   16242TC|          496|\n",
      "|   2194153|          495|\n",
      "|   77116MA|          493|\n",
      "|   47603MD|          492|\n",
      "|   12359MG|          474|\n",
      "|   16208TC|          468|\n",
      "|   49731MA|          464|\n",
      "|   14829MJ|          460|\n",
      "|    XEEF98|          458|\n",
      "|   49331KA|          458|\n",
      "|   2028685|          454|\n",
      "|   66103JR|          452|\n",
      "+----------+-------------+\n",
      "only showing top 20 rows\n",
      "\n"
     ]
    }
   ],
   "source": [
    "#Checking on Plate_ID field to know if there are cases with same plate id.\n",
    "\n",
    "Plate_Id_Check=spark.sql(\"Select Plate_ID, count(*) as TicketsIssued from ticketinfo_2017 group by Plate_ID having count(*)>1 order by TicketsIssued desc\")\n",
    "Plate_Id_Check.show()"
   ]
  },
  {
   "cell_type": "markdown",
   "metadata": {},
   "source": [
    "**There is one value'BLANKPLATE' which we cannot infer anything from. Therefore, we will remove this.**"
   ]
  },
  {
   "cell_type": "code",
   "execution_count": 20,
   "metadata": {},
   "outputs": [
    {
     "data": {
      "text/plain": [
       "5426657"
      ]
     },
     "execution_count": 20,
     "metadata": {},
     "output_type": "execute_result"
    }
   ],
   "source": [
    "nyc_parking=nyc_parking[nyc_parking.Plate_ID!='BLANKPLATE']\n",
    "nyc_parking.count()"
   ]
  },
  {
   "cell_type": "markdown",
   "metadata": {},
   "source": [
    "#### Creating a view to query the dataset using sql "
   ]
  },
  {
   "cell_type": "code",
   "execution_count": 21,
   "metadata": {},
   "outputs": [],
   "source": [
    "nyc_parking.createOrReplaceTempView(\"ticketinfo_2017\")"
   ]
  },
  {
   "cell_type": "markdown",
   "metadata": {},
   "source": [
    "## Questions to Be Answered in the Analysis"
   ]
  },
  {
   "cell_type": "markdown",
   "metadata": {},
   "source": [
    "### Examine the data"
   ]
  },
  {
   "cell_type": "markdown",
   "metadata": {},
   "source": [
    "#### Q1. Find the total number of tickets for the year"
   ]
  },
  {
   "cell_type": "code",
   "execution_count": 22,
   "metadata": {},
   "outputs": [
    {
     "name": "stdout",
     "output_type": "stream",
     "text": [
      "+------------------------------+\n",
      "|count(DISTINCT Summons_Number)|\n",
      "+------------------------------+\n",
      "|                       5426657|\n",
      "+------------------------------+\n",
      "\n"
     ]
    }
   ],
   "source": [
    "query1=spark.sql(\"Select count(distinct(Summons_Number)) from ticketinfo_2017\")\n",
    "query1.show()"
   ]
  },
  {
   "cell_type": "markdown",
   "metadata": {},
   "source": [
    "**Total number of tickets for the year 2017 are 5426657**"
   ]
  },
  {
   "cell_type": "markdown",
   "metadata": {},
   "source": [
    "#### Q2. Find out the number of unique states from where the cars that got parking tickets came from. "
   ]
  },
  {
   "cell_type": "code",
   "execution_count": 23,
   "metadata": {},
   "outputs": [
    {
     "data": {
      "text/plain": [
       "65"
      ]
     },
     "execution_count": 23,
     "metadata": {},
     "output_type": "execute_result"
    }
   ],
   "source": [
    "query2 = spark.sql(\"SELECT distinct(Registration_State), Count(*) as Number_of_Records from ticketinfo_2017 group by Registration_State order by Number_of_Records desc\")\n",
    "query2.count()"
   ]
  },
  {
   "cell_type": "code",
   "execution_count": 24,
   "metadata": {},
   "outputs": [
    {
     "name": "stdout",
     "output_type": "stream",
     "text": [
      "+------------------+-----------------+\n",
      "|Registration_State|Number_of_Records|\n",
      "+------------------+-----------------+\n",
      "|                NY|          4273951|\n",
      "|                NJ|           475825|\n",
      "|                PA|           140286|\n",
      "|                CT|            70403|\n",
      "|                FL|            69468|\n",
      "|                IN|            45525|\n",
      "|                MA|            38941|\n",
      "|                VA|            34367|\n",
      "|                MD|            30213|\n",
      "|                NC|            27152|\n",
      "+------------------+-----------------+\n",
      "only showing top 10 rows\n",
      "\n"
     ]
    }
   ],
   "source": [
    "query2.show(10)"
   ]
  },
  {
   "cell_type": "markdown",
   "metadata": {},
   "source": [
    "#### There are  65 unique States.There is a numeric entry '99' in the column which should be corrected. We need to replace it with the state having maximum entries.\n",
    "**As maximum number of tickets are issued in NY, We will replace 99 by NY**"
   ]
  },
  {
   "cell_type": "code",
   "execution_count": 25,
   "metadata": {},
   "outputs": [],
   "source": [
    "from pyspark.sql.functions import when,lit\n",
    "nyc_parking=nyc_parking.withColumn('Registration_State',when(nyc_parking[\"Registration_State\"]==\"99\",lit('NY')).otherwise(nyc_parking[\"Registration_State\"]))"
   ]
  },
  {
   "cell_type": "code",
   "execution_count": 26,
   "metadata": {},
   "outputs": [],
   "source": [
    "nyc_parking.createOrReplaceTempView(\"ticketinfo_2017\")"
   ]
  },
  {
   "cell_type": "code",
   "execution_count": 27,
   "metadata": {},
   "outputs": [
    {
     "data": {
      "text/plain": [
       "64"
      ]
     },
     "execution_count": 27,
     "metadata": {},
     "output_type": "execute_result"
    }
   ],
   "source": [
    "# Lets check again for number of distinct Registration_State.\n",
    "query2=spark.sql(\"SELECT Registration_State, Count(*) as IssuedTickets from ticketinfo_2017 group by Registration_State order by IssuedTickets desc\")\n",
    "query2.count()"
   ]
  },
  {
   "cell_type": "markdown",
   "metadata": {},
   "source": [
    "#### Therefore there  are 64 unique states in the dataset after cleaning the column Registration state\n",
    "**Now let's plot this information and see what we can infer**"
   ]
  },
  {
   "cell_type": "code",
   "execution_count": 28,
   "metadata": {},
   "outputs": [
    {
     "data": {
      "text/plain": [
       "<Figure size 7200x14400 with 0 Axes>"
      ]
     },
     "metadata": {},
     "output_type": "display_data"
    },
    {
     "data": {
      "image/png": "[encoded data removed]",
      "text/plain": [
       "<Figure size 432x288 with 1 Axes>"
      ]
     },
     "metadata": {},
     "output_type": "display_data"
    }
   ],
   "source": [
    "# plot violation on the basis of Registration State\n",
    "q2_for_plot = query2.toPandas()\n",
    "plt.figure(figsize=(100,200))\n",
    "q2_for_plot.head(10).plot(x='Registration_State', y='IssuedTickets', kind='bar')\n",
    "plt.title(\"Violations on the basis of Registration State (top 10)\")\n",
    "plt.xlabel('Registration State')\n",
    "plt.ylabel('No. of Tickets')\n",
    "\n",
    "plt.show()"
   ]
  },
  {
   "cell_type": "markdown",
   "metadata": {},
   "source": [
    "**Therefore after examining the data we can conclude that there are total of 5426657 tickets issued in a total of 65 countries out of which maximum number of tickets have been issued in NY (New York)**"
   ]
  },
  {
   "cell_type": "markdown",
   "metadata": {},
   "source": [
    "## Aggregation tasks"
   ]
  },
  {
   "cell_type": "markdown",
   "metadata": {},
   "source": [
    "### Q1. How often does each violation code occur? Display the frequency of the top five violation codes."
   ]
  },
  {
   "cell_type": "code",
   "execution_count": 29,
   "metadata": {},
   "outputs": [
    {
     "name": "stdout",
     "output_type": "stream",
     "text": [
      "+--------------+-------------+\n",
      "|Violation_Code|TicketsIssued|\n",
      "+--------------+-------------+\n",
      "|            21|       767740|\n",
      "|            36|       662765|\n",
      "|            38|       541526|\n",
      "|            14|       476405|\n",
      "|            20|       319439|\n",
      "|            46|       312168|\n",
      "|            37|       293038|\n",
      "|            40|       276905|\n",
      "|            71|       263124|\n",
      "|             7|       210176|\n",
      "|            19|       148978|\n",
      "|            70|       144242|\n",
      "|            69|        96881|\n",
      "|            31|        80528|\n",
      "|            16|        74768|\n",
      "|            47|        65427|\n",
      "|            74|        57388|\n",
      "|            50|        53710|\n",
      "|             5|        48081|\n",
      "|            48|        40970|\n",
      "+--------------+-------------+\n",
      "only showing top 20 rows\n",
      "\n"
     ]
    }
   ],
   "source": [
    "query3_a = spark.sql(\"select Violation_Code,count(*) as TicketsIssued from ticketinfo_2017 group by Violation_Code order by count(*) desc\")\n",
    "query3_a.show()"
   ]
  },
  {
   "cell_type": "code",
   "execution_count": 30,
   "metadata": {},
   "outputs": [
    {
     "name": "stdout",
     "output_type": "stream",
     "text": [
      "+--------------+-------------+\n",
      "|Violation_Code|TicketsIssued|\n",
      "+--------------+-------------+\n",
      "|            21|       767740|\n",
      "|            36|       662765|\n",
      "|            38|       541526|\n",
      "|            14|       476405|\n",
      "|            20|       319439|\n",
      "+--------------+-------------+\n",
      "\n"
     ]
    }
   ],
   "source": [
    "query3_b = spark.sql(\"select Violation_Code,count(*) as TicketsIssued from ticketinfo_2017 group by Violation_Code order by count(*) desc limit 5\")\n",
    "query3_b.show()"
   ]
  },
  {
   "cell_type": "markdown",
   "metadata": {},
   "source": [
    "#### So it's evident that the violation codes 21,36,38,14,20 are are the top 5 viloation codes  and constitute approximately 51% of all tickets in the year 2017\n",
    "#### Let's visualize the same to get the top violation code"
   ]
  },
  {
   "cell_type": "code",
   "execution_count": 31,
   "metadata": {},
   "outputs": [
    {
     "data": {
      "text/plain": [
       "<Figure size 432x288 with 0 Axes>"
      ]
     },
     "metadata": {},
     "output_type": "display_data"
    },
    {
     "data": {
      "image/png": "[encoded data removed]",
      "text/plain": [
       "<Figure size 432x288 with 1 Axes>"
      ]
     },
     "metadata": {},
     "output_type": "display_data"
    }
   ],
   "source": [
    "q3_for_plot = query3_b.toPandas()\n",
    "plt.clf()\n",
    "q3_for_plot.plot(x='Violation_Code', y='TicketsIssued', kind='bar')\n",
    "plt.title(\"Top Violation Code\")\n",
    "plt.xlabel('Violation Code')\n",
    "plt.ylabel('Ticket Frequency')\n",
    "plt.show()"
   ]
  },
  {
   "cell_type": "markdown",
   "metadata": {},
   "source": [
    "**Thus we can conclude that the violation code 21 is the maximum occuring violation for the year 2017 and also that 21,36,38,14,20 are are the top 5 viloation codes and constitute approximately 51% of all tickets in the year 2017**"
   ]
  },
  {
   "cell_type": "markdown",
   "metadata": {},
   "source": [
    "### Q2. How often does each 'vehicle body type' get a parking ticket? How about the 'vehicle make'? "
   ]
  },
  {
   "cell_type": "code",
   "execution_count": 32,
   "metadata": {},
   "outputs": [
    {
     "name": "stdout",
     "output_type": "stream",
     "text": [
      "+-----------------+-------------+\n",
      "|Vehicle_Body_Type|IssuedTickets|\n",
      "+-----------------+-------------+\n",
      "|             SUBN|      1882978|\n",
      "|             4DSD|      1547063|\n",
      "|              VAN|       723796|\n",
      "|             DELV|       358924|\n",
      "|              SDN|       192927|\n",
      "+-----------------+-------------+\n",
      "only showing top 5 rows\n",
      "\n"
     ]
    }
   ],
   "source": [
    "\n",
    "query4_a = spark.sql(\"SELECT Vehicle_Body_Type, count(*) as IssuedTickets from ticketinfo_2017 group by Vehicle_Body_Type order by IssuedTickets desc\")\n",
    "query4_a.show(5)"
   ]
  },
  {
   "cell_type": "code",
   "execution_count": 33,
   "metadata": {},
   "outputs": [
    {
     "name": "stdout",
     "output_type": "stream",
     "text": [
      "+------------+-------------+\n",
      "|Vehicle_Make|IssuedTickets|\n",
      "+------------+-------------+\n",
      "|        FORD|       636527|\n",
      "|       TOYOT|       605011|\n",
      "|       HONDA|       538460|\n",
      "|       NISSA|       461725|\n",
      "|       CHEVR|       355868|\n",
      "+------------+-------------+\n",
      "only showing top 5 rows\n",
      "\n"
     ]
    }
   ],
   "source": [
    "query_4b =spark.sql(\"SELECT Vehicle_Make, count(*) as IssuedTickets from ticketinfo_2017 group by Vehicle_Make order by IssuedTickets desc\")\n",
    "query_4b.show(5)"
   ]
  },
  {
   "cell_type": "markdown",
   "metadata": {},
   "source": [
    "**Now that we have top 5 of both vehicle body type and vehicle make that have tickets issued, let's plot them and see what we can infer from it**"
   ]
  },
  {
   "cell_type": "code",
   "execution_count": 34,
   "metadata": {},
   "outputs": [
    {
     "data": {
      "text/plain": [
       "<Figure size 432x288 with 0 Axes>"
      ]
     },
     "metadata": {},
     "output_type": "display_data"
    },
    {
     "data": {
      "image/png": "[encoded data removed]",
      "text/plain": [
       "<Figure size 432x288 with 1 Axes>"
      ]
     },
     "metadata": {},
     "output_type": "display_data"
    }
   ],
   "source": [
    "# plot Violations on the basis of Vehicle_Body_Type\n",
    "vehicleBodyType_for_plot = query4_a.toPandas()\n",
    "plt.clf()\n",
    "vehicleBodyType_for_plot.head(5).plot(x='Vehicle_Body_Type', y='IssuedTickets', kind='bar')\n",
    "plt.title(\"Violations on the basis of Vehicle_Body_Type\")\n",
    "plt.xlabel('Vehicle Body Type')\n",
    "plt.ylabel('No. of Tickets')\n",
    "plt.show()"
   ]
  },
  {
   "cell_type": "markdown",
   "metadata": {},
   "source": [
    "**We can see that SUBN vehicle body type has the maximum number of tickets issued.**"
   ]
  },
  {
   "cell_type": "code",
   "execution_count": 35,
   "metadata": {},
   "outputs": [
    {
     "data": {
      "text/plain": [
       "<Figure size 432x288 with 0 Axes>"
      ]
     },
     "metadata": {},
     "output_type": "display_data"
    },
    {
     "data": {
      "image/png": "[encoded data removed]",
      "text/plain": [
       "<Figure size 432x288 with 1 Axes>"
      ]
     },
     "metadata": {},
     "output_type": "display_data"
    }
   ],
   "source": [
    "# plot Violations on the basis of Vehicle_Make\n",
    "vehicleMake_for_plot = query_4b.toPandas()\n",
    "plt.clf()\n",
    "vehicleMake_for_plot.head(5).plot(x='Vehicle_Make', y='IssuedTickets', kind='bar')\n",
    "plt.title(\"Violations on the basis of Vehicle_Make\")\n",
    "plt.xlabel('Vehicle Make')\n",
    "plt.ylabel('No. of Tickets')\n",
    "plt.show()"
   ]
  },
  {
   "cell_type": "markdown",
   "metadata": {},
   "source": [
    "**We can conclude FORD vehicle make is issued the maximum number of tickets**"
   ]
  },
  {
   "cell_type": "markdown",
   "metadata": {},
   "source": [
    "**Thus we can conclude that SUBN,4DSD,VAN,DELV,SDN and FORD TOYOT HONDA NISSA CHEVR are the top 5 vehicle body type and vehicle make respectively which get the most tickets issued and SUBN and FORD are the top vehicle body and vehicle make respectively with the highest tickets issued.**"
   ]
  },
  {
   "cell_type": "markdown",
   "metadata": {},
   "source": [
    "### Q3 :  A precinct is a police station that has a certain zone of the city under its command.Find the (5 highest) frequency of tickets for each of the following:\n",
    "#### 1.'Violation Precinct' (this is the precinct of the zone where the violation occurred). Using this, can you make any insights for parking violations in any specific areas of the city?"
   ]
  },
  {
   "cell_type": "code",
   "execution_count": 36,
   "metadata": {},
   "outputs": [
    {
     "name": "stdout",
     "output_type": "stream",
     "text": [
      "+------------------+-------------+\n",
      "|Violation_Precinct|IssuedTickets|\n",
      "+------------------+-------------+\n",
      "|                 0|       925395|\n",
      "|                19|       274264|\n",
      "|                14|       203375|\n",
      "|                 1|       174620|\n",
      "|                18|       169043|\n",
      "+------------------+-------------+\n",
      "only showing top 5 rows\n",
      "\n"
     ]
    }
   ],
   "source": [
    "query5_a = spark.sql(\"SELECT Violation_Precinct, count(*) as IssuedTickets from ticketinfo_2017 group by Violation_Precinct order by IssuedTickets desc\")\n",
    "query5_a.show(5)"
   ]
  },
  {
   "cell_type": "markdown",
   "metadata": {},
   "source": [
    "#### Here, it is observed that the dataframe has the'Violating Precinct' as '0'. These are erroneous entries. Hence, we need to provide the records for five correct precincts. Therefore we shall print the top 6 "
   ]
  },
  {
   "cell_type": "code",
   "execution_count": 37,
   "metadata": {},
   "outputs": [
    {
     "name": "stdout",
     "output_type": "stream",
     "text": [
      "+------------------+-------------+\n",
      "|Violation_Precinct|IssuedTickets|\n",
      "+------------------+-------------+\n",
      "|                 0|       925395|\n",
      "|                19|       274264|\n",
      "|                14|       203375|\n",
      "|                 1|       174620|\n",
      "|                18|       169043|\n",
      "|               114|       147223|\n",
      "+------------------+-------------+\n",
      "only showing top 6 rows\n",
      "\n"
     ]
    }
   ],
   "source": [
    "query5_a.show(6)"
   ]
  },
  {
   "cell_type": "markdown",
   "metadata": {},
   "source": [
    "**Thus we see that precint 19 has maximum number of tickets issued in that zone (we will ignore 0 as that is an erroneous value entered)**"
   ]
  },
  {
   "cell_type": "markdown",
   "metadata": {},
   "source": [
    "#### 2) Issuer Precinct' (This is the precinct that issued the ticket.) \n",
    " **We will print top 6 as 0 may be present in this collumn as well** "
   ]
  },
  {
   "cell_type": "code",
   "execution_count": 38,
   "metadata": {},
   "outputs": [
    {
     "name": "stdout",
     "output_type": "stream",
     "text": [
      "+---------------+-------------+\n",
      "|Issuer_Precinct|IssuedTickets|\n",
      "+---------------+-------------+\n",
      "|              0|      1077884|\n",
      "|             19|       266790|\n",
      "|             14|       200328|\n",
      "|              1|       168630|\n",
      "|             18|       162908|\n",
      "|            114|       143900|\n",
      "+---------------+-------------+\n",
      "only showing top 6 rows\n",
      "\n"
     ]
    }
   ],
   "source": [
    "query5_b = spark.sql(\"SELECT Issuer_Precinct, count(*) as IssuedTickets from ticketinfo_2017 group by Issuer_Precinct order by IssuedTickets desc\")\n",
    "query5_b.show(6)"
   ]
  },
  {
   "cell_type": "markdown",
   "metadata": {},
   "source": [
    "**It is interesting to note that the precint 19 is leading with the number of issued tickets as well**\n",
    "**now let's plot these values and see what we can infer**"
   ]
  },
  {
   "cell_type": "code",
   "execution_count": 39,
   "metadata": {},
   "outputs": [
    {
     "data": {
      "text/plain": [
       "<Figure size 432x288 with 0 Axes>"
      ]
     },
     "metadata": {},
     "output_type": "display_data"
    },
    {
     "data": {
      "image/png": "[encoded data removed]",
      "text/plain": [
       "<Figure size 432x288 with 1 Axes>"
      ]
     },
     "metadata": {},
     "output_type": "display_data"
    }
   ],
   "source": [
    "Violation_Precinct_for_plot = query5_a.toPandas()\n",
    "plt.clf()\n",
    "Violation_Precinct_for_plot[Violation_Precinct_for_plot.Violation_Precinct!=0].head(5).plot(x='Violation_Precinct', y='IssuedTickets', kind='bar')\n",
    "plt.title(\"Violations on the basis of Violation_Precinct\")\n",
    "plt.xlabel('Vehicle Precinct')\n",
    "plt.ylabel('Number of tickets')\n",
    "plt.show()"
   ]
  },
  {
   "cell_type": "code",
   "execution_count": 40,
   "metadata": {},
   "outputs": [
    {
     "data": {
      "text/plain": [
       "<Figure size 432x288 with 0 Axes>"
      ]
     },
     "metadata": {},
     "output_type": "display_data"
    },
    {
     "data": {
      "image/png": "[encoded data removed]",
      "text/plain": [
       "<Figure size 432x288 with 1 Axes>"
      ]
     },
     "metadata": {},
     "output_type": "display_data"
    }
   ],
   "source": [
    "# plot Violations on the basis of Issue_Precinct\n",
    "Issue_Precinct_for_plot = query5_b.toPandas()\n",
    "plt.clf()\n",
    "Issue_Precinct_for_plot[Issue_Precinct_for_plot.Issuer_Precinct!=0].head(5).plot(x='Issuer_Precinct', y='IssuedTickets', kind='bar')\n",
    "plt.title(\"Violations on the basis of Issuer Precinct TOP 5\")\n",
    "plt.xlabel('Issuer Precinct')\n",
    "plt.ylabel('No. of Tickets')\n",
    "plt.show()"
   ]
  },
  {
   "cell_type": "markdown",
   "metadata": {},
   "source": [
    "**Thus we conclude that  the top 5 area where most violation occurs are 19, 14, 1, 18 and  114.**\n",
    "**Similarily,  the top 5 Issuer Precinct are 19, 14, 1, 18 and  114**\n",
    "**Interesting point to note here the violation precint and issuer precinct frequencies follow the same order of frequency of tickets and precinct 19 is the highest ticket issued to as well as the maximum number of tickets issued in the area**  "
   ]
  },
  {
   "cell_type": "markdown",
   "metadata": {},
   "source": [
    "### Q4. Find the violation code frequency across three precincts which have issued the most number of tickets.Do these precinct zones have an exceptionally high frequency of certain violation codes? Are these codes common across precincts? Hint: In the SQL view, use the 'where' attribute to filter among three precincts"
   ]
  },
  {
   "cell_type": "code",
   "execution_count": 41,
   "metadata": {},
   "outputs": [
    {
     "name": "stdout",
     "output_type": "stream",
     "text": [
      "+---------------+--------------+-------------+\n",
      "|Issuer_Precinct|Violation_Code|TicketsIssued|\n",
      "+---------------+--------------+-------------+\n",
      "|              0|            36|       662765|\n",
      "|              0|             7|       210175|\n",
      "|              0|            21|       125923|\n",
      "|             18|            14|        50135|\n",
      "|             19|            46|        48422|\n",
      "|              0|             5|        48076|\n",
      "|             14|            14|        45019|\n",
      "+---------------+--------------+-------------+\n",
      "only showing top 7 rows\n",
      "\n"
     ]
    }
   ],
   "source": [
    "query6_a = spark.sql(\"select Issuer_Precinct,Violation_Code, count(*) as TicketsIssued from ticketinfo_2017 group by Issuer_Precinct, Violation_Code order by TicketsIssued desc\" )\n",
    "query6_a.show(7)"
   ]
  },
  {
   "cell_type": "markdown",
   "metadata": {},
   "source": [
    "**We will not be  considering 0. Therefore 18,19,14 are the three issuer precincts which have the  maximum number of violations.**\n",
    "**Lets analyze  the Issuer Precincts one by one**\n",
    "#### Issuer Precinct 18"
   ]
  },
  {
   "cell_type": "code",
   "execution_count": 42,
   "metadata": {},
   "outputs": [
    {
     "name": "stdout",
     "output_type": "stream",
     "text": [
      "+--------------+-------------+\n",
      "|Violation_Code|TicketsIssued|\n",
      "+--------------+-------------+\n",
      "|            14|        50135|\n",
      "|            69|        20188|\n",
      "|            47|        14105|\n",
      "|            31|        11887|\n",
      "|            46|         7861|\n",
      "|            42|         6189|\n",
      "|            38|         6157|\n",
      "|            84|         5188|\n",
      "|            19|         4580|\n",
      "|            20|         4109|\n",
      "+--------------+-------------+\n",
      "only showing top 10 rows\n",
      "\n"
     ]
    }
   ],
   "source": [
    "\n",
    "violation_code_freq_18 = spark.sql(\"select Violation_Code, count(*) as TicketsIssued from ticketinfo_2017 where Issuer_Precinct=18 group by Violation_Code order by TicketsIssued desc\" )\n",
    "violation_code_freq_18.show(10)"
   ]
  },
  {
   "cell_type": "markdown",
   "metadata": {},
   "source": [
    "**Violation code 14,69,47 are the top 3 codes for issuer precinct 18**\n",
    "#### Issuer Precinct 19"
   ]
  },
  {
   "cell_type": "code",
   "execution_count": 43,
   "metadata": {},
   "outputs": [
    {
     "name": "stdout",
     "output_type": "stream",
     "text": [
      "+--------------+-------------+\n",
      "|Violation_Code|TicketsIssued|\n",
      "+--------------+-------------+\n",
      "|            46|        48422|\n",
      "|            38|        36332|\n",
      "|            37|        36046|\n",
      "|            14|        29791|\n",
      "|            21|        28409|\n",
      "|            20|        14624|\n",
      "|            40|        11408|\n",
      "|            16|         9921|\n",
      "|            71|         7489|\n",
      "|            19|         6854|\n",
      "+--------------+-------------+\n",
      "only showing top 10 rows\n",
      "\n"
     ]
    }
   ],
   "source": [
    "violation_code_freq_19 = spark.sql(\"select Violation_Code, count(*) as TicketsIssued from ticketinfo_2017 where Issuer_Precinct=19 group by Violation_Code order by TicketsIssued desc\" )\n",
    "violation_code_freq_19.show(10)"
   ]
  },
  {
   "cell_type": "markdown",
   "metadata": {},
   "source": [
    "**Violation code 46,38,37 are the top 3 codes for issuer precinct 19**\n",
    "#### Issuer Precinct 14"
   ]
  },
  {
   "cell_type": "code",
   "execution_count": 44,
   "metadata": {},
   "outputs": [
    {
     "name": "stdout",
     "output_type": "stream",
     "text": [
      "+--------------+-------------+\n",
      "|Violation_Code|TicketsIssued|\n",
      "+--------------+-------------+\n",
      "|            14|        45019|\n",
      "|            69|        30453|\n",
      "|            31|        22528|\n",
      "|            47|        18357|\n",
      "|            42|        10022|\n",
      "|            46|         7675|\n",
      "|            19|         7031|\n",
      "|            84|         6739|\n",
      "|            82|         5052|\n",
      "|            40|         3581|\n",
      "+--------------+-------------+\n",
      "only showing top 10 rows\n",
      "\n"
     ]
    }
   ],
   "source": [
    "violation_code_freq_14 = spark.sql(\"select Violation_Code, count(*) as TicketsIssued from ticketinfo_2017 where Issuer_Precinct=14 group by Violation_Code order by TicketsIssued desc\" )\n",
    "violation_code_freq_14.show(10)"
   ]
  },
  {
   "cell_type": "markdown",
   "metadata": {},
   "source": [
    "**Violation code 14,69,31 are the top 3 codes for issuer precinct 14**\n",
    "#### Common codes accross precincts "
   ]
  },
  {
   "cell_type": "code",
   "execution_count": 45,
   "metadata": {},
   "outputs": [
    {
     "name": "stdout",
     "output_type": "stream",
     "text": [
      "+---------------+--------------+-------------+\n",
      "|Issuer_Precinct|Violation_Code|TicketsIssued|\n",
      "+---------------+--------------+-------------+\n",
      "|             18|            14|        50135|\n",
      "|             19|            46|        48422|\n",
      "|             14|            14|        45019|\n",
      "|             19|            38|        36332|\n",
      "|             19|            37|        36046|\n",
      "|             14|            69|        30453|\n",
      "|             19|            14|        29791|\n",
      "|             19|            21|        28409|\n",
      "|             14|            31|        22528|\n",
      "|             18|            69|        20188|\n",
      "|             14|            47|        18357|\n",
      "|             19|            20|        14624|\n",
      "|             18|            47|        14105|\n",
      "|             18|            31|        11887|\n",
      "|             19|            40|        11408|\n",
      "|             14|            42|        10022|\n",
      "|             19|            16|         9921|\n",
      "|             18|            46|         7861|\n",
      "|             14|            46|         7675|\n",
      "|             19|            71|         7489|\n",
      "+---------------+--------------+-------------+\n",
      "only showing top 20 rows\n",
      "\n"
     ]
    }
   ],
   "source": [
    "query6_b =spark.sql(\"select Issuer_Precinct,Violation_Code, count(*) as TicketsIssued from ticketinfo_2017 where Issuer_Precinct in (18,19,14) group by Issuer_Precinct,Violation_Code order by TicketsIssued desc\")\n",
    "query6_b.show(20)"
   ]
  },
  {
   "cell_type": "markdown",
   "metadata": {},
   "source": [
    "**we can observe that precinct 18 and 14 have the same highest frequency of 2 codes 14,69 whereas precinct 19 doesn't share any common codes with either of the other precincts highest frequency codes**\n",
    "**Lets plot this and see what we can infer**"
   ]
  },
  {
   "cell_type": "code",
   "execution_count": 46,
   "metadata": {},
   "outputs": [
    {
     "data": {
      "text/plain": [
       "<Figure size 432x288 with 0 Axes>"
      ]
     },
     "metadata": {},
     "output_type": "display_data"
    },
    {
     "data": {
      "image/png": "[encoded data removed]",
      "text/plain": [
       "<Figure size 2160x1440 with 1 Axes>"
      ]
     },
     "metadata": {},
     "output_type": "display_data"
    }
   ],
   "source": [
    "import seaborn as sns; sns.set()\n",
    "Issuer_Precinct_ViolationCode = query6_b.toPandas()\n",
    "plt.clf()\n",
    "plt.figure(figsize=(30,20))\n",
    "plt.title(\"Issuer precincts highest frequency violation codes\")\n",
    "plt.xlabel('Issuer Precinct')\n",
    "plt.ylabel('No. of Tickets')\n",
    "plt.yscale(\"log\")\n",
    "ax = sns.barplot(x=\"Issuer_Precinct\", y=\"TicketsIssued\", hue=\"Violation_Code\", data=Issuer_Precinct_ViolationCode[Issuer_Precinct_ViolationCode.Issuer_Precinct!=0].head(20))\n",
    "plt.show()"
   ]
  },
  {
   "cell_type": "markdown",
   "metadata": {},
   "source": [
    "Therefore we can conclude the following:\n",
    "    \n",
    "**Precinct 18 and Precinct 14 has more  or less similar top violation code.**\n",
    "**But Precinct 19 has very different top violation code.**"
   ]
  },
  {
   "cell_type": "markdown",
   "metadata": {},
   "source": [
    "### Q5.Find out the properties of parking violations across different times of the day:"
   ]
  },
  {
   "cell_type": "markdown",
   "metadata": {},
   "source": [
    "- Find a way to deal with missing values, if any.\n",
    "(Hint: Check for the null values using 'isNull' under the SQL. Also, to remove the null values, check the 'dropna' command in the API documentation.)\n",
    "\n",
    "- The Violation Time field is specified in a strange format. Find a way to make this a time attribute that you can use to divide into groups.\n",
    "\n",
    "- Divide 24 hours into six equal discrete bins of time. Choose the intervals as you see fit. For each of these groups, find the three most commonly occurring violations.\n",
    "(Hint: Use the CASE-WHEN in SQL view to segregate into bins. To find the most commonly occurring violations, you can use an approach similar to the one mentioned in the hint for question 4.)\n",
    "\n",
    "- Now, try another direction. For the three most commonly occurring violation codes, find the most common time of the day (in terms of the bins from the previous part)."
   ]
  },
  {
   "cell_type": "code",
   "execution_count": 47,
   "metadata": {},
   "outputs": [
    {
     "name": "stdout",
     "output_type": "stream",
     "text": [
      "+------------+\n",
      "|NumOfRecords|\n",
      "+------------+\n",
      "|           0|\n",
      "+------------+\n",
      "\n"
     ]
    }
   ],
   "source": [
    "query7_a = spark.sql(\"SELECT count(*) as NumOfRecords from ticketinfo_2017 WHERE Violation_Time is NULL\")\n",
    "query7_a.show()"
   ]
  },
  {
   "cell_type": "code",
   "execution_count": 48,
   "metadata": {},
   "outputs": [
    {
     "name": "stdout",
     "output_type": "stream",
     "text": [
      "+--------------+--------+------------------+----------+--------------+-----------------+------------+------------------+---------------+--------------+\n",
      "|Summons_Number|Plate_ID|Registration_State|Issue_Date|Violation_Code|Vehicle_Body_Type|Vehicle_Make|Violation_Precinct|Issuer_Precinct|Violation_Time|\n",
      "+--------------+--------+------------------+----------+--------------+-----------------+------------+------------------+---------------+--------------+\n",
      "+--------------+--------+------------------+----------+--------------+-----------------+------------+------------------+---------------+--------------+\n",
      "\n"
     ]
    }
   ],
   "source": [
    "from pyspark.sql.functions import col\n",
    "nyc_parking.where(col(\"Violation_Time\").isNull()).show()"
   ]
  },
  {
   "cell_type": "markdown",
   "metadata": {},
   "source": [
    "**To Divide 24 hours into six equal discrete bins of time, we need to first convert violation time given to a correct format , we can do this by using substring**"
   ]
  },
  {
   "cell_type": "code",
   "execution_count": 49,
   "metadata": {},
   "outputs": [
    {
     "name": "stdout",
     "output_type": "stream",
     "text": [
      "+--------------+--------------+--------------+---------------+------------------+\n",
      "|Summons_Number|Violation_Code|Violation_Time|Issuer_Precinct|Violation_Time_bin|\n",
      "+--------------+--------------+--------------+---------------+------------------+\n",
      "|    8523552492|            38|         1055A|             52|                 3|\n",
      "|    8539069866|            21|         1206P|             94|                 4|\n",
      "|    8486072323|            14|         1029A|             14|                 3|\n",
      "|    8566105485|            78|         0938P|            107|                 6|\n",
      "|    8515117083|            21|         0915A|             30|                 3|\n",
      "|    8506703712|            20|         0830A|              5|                 3|\n",
      "|    8443544983|            14|         1234P|             66|                 4|\n",
      "|    8566302783|            85|         0257A|            104|                 1|\n",
      "|    8537963938|            21|         1005A|             94|                 3|\n",
      "|    1419675813|            41|         0105A|              0|                 1|\n",
      "|    8526268983|            48|         0259P|             48|                 4|\n",
      "|    8497254818|            19|         0253P|             14|                 4|\n",
      "|    1422373186|            21|         1005A|              0|                 3|\n",
      "|    4007230225|             5|         1049A|              0|                 3|\n",
      "|    8561505680|            38|         0526P|            104|                 5|\n",
      "|    4635378421|            36|         1138A|              0|                 3|\n",
      "|    1420311281|            67|         0752P|             49|                 5|\n",
      "|    8487472930|            46|         0152P|            108|                 4|\n",
      "|    4630308581|            36|         0820A|              0|                 3|\n",
      "|    8532468007|            21|         0034A|              7|                 1|\n",
      "+--------------+--------------+--------------+---------------+------------------+\n",
      "only showing top 20 rows\n",
      "\n"
     ]
    }
   ],
   "source": [
    "query7_b=spark.sql(\"SELECT Summons_Number, Violation_Code , Violation_Time, Issuer_Precinct, case when substring(Violation_Time,1,2) in ('00','01','02','03','12') and upper(substring(Violation_Time,-1))='A' then 1 when substring(Violation_Time,1,2) in ('04','05','06','07') and upper(substring(Violation_Time,-1))='A' then 2 when substring(Violation_Time,1,2) in ('08','09','10','11') and upper(substring(Violation_Time,-1))='A' then 3 when substring(Violation_Time,1,2) in ('12','00','01','02','03') and upper(substring(Violation_Time,-1))='P' then 4 when substring(Violation_Time,1,2) in ('04','05','06','07') and upper(substring(Violation_Time,-1))='P' then 5 when substring(Violation_Time,1,2) in ('08','09','10','11') and upper(substring(Violation_Time,-1))='P' then 6 else null end as Violation_Time_bin from ticketinfo_2017 where Violation_Time is not null or (length(Violation_Time)=5 and upper(substring(Violation_Time,-1)) in ('A','P') and substring(Violation_Time,1,2) in ('00','01','02','03','04','05','06','07', '08','09','10','11','12'))\")\n",
    "query7_b.show()          "
   ]
  },
  {
   "cell_type": "markdown",
   "metadata": {},
   "source": [
    "#### Details of the Bins\n",
    "\n",
    "    Bin       Time Interval\n",
    "    1         12:00 AM to 4:00 AM\n",
    "    2         4:00 AM to 8:00 AM\n",
    "    3         8:00 AM to 12:00 PM\n",
    "    4         12:00 PM to 4:00 PM\n",
    "    5         4:00 PM to 8:00 PM\n",
    "    6         8:00 PM to 12:00 AM"
   ]
  },
  {
   "cell_type": "code",
   "execution_count": 50,
   "metadata": {},
   "outputs": [],
   "source": [
    "query7_b.createOrReplaceTempView(\"ticketinfo_2017_bins\")"
   ]
  },
  {
   "cell_type": "markdown",
   "metadata": {},
   "source": [
    "**Now let's see the top 3 violation codes of each bin**"
   ]
  },
  {
   "cell_type": "code",
   "execution_count": 51,
   "metadata": {},
   "outputs": [
    {
     "name": "stdout",
     "output_type": "stream",
     "text": [
      "+--------------+-------------+\n",
      "|Violation_Code|TicketsIssued|\n",
      "+--------------+-------------+\n",
      "|            21|        36934|\n",
      "|            40|        25810|\n",
      "|            78|        15513|\n",
      "+--------------+-------------+\n",
      "only showing top 3 rows\n",
      "\n"
     ]
    }
   ],
   "source": [
    "bin1 = spark.sql(\"select Violation_Code,count(*) TicketsIssued from ticketinfo_2017_bins where Violation_Time_bin == 1 group by Violation_Code order by TicketsIssued desc\")\n",
    "bin1.show(3)"
   ]
  },
  {
   "cell_type": "code",
   "execution_count": 52,
   "metadata": {},
   "outputs": [
    {
     "name": "stdout",
     "output_type": "stream",
     "text": [
      "+--------------+-------------+\n",
      "|Violation_Code|TicketsIssued|\n",
      "+--------------+-------------+\n",
      "|            14|        74095|\n",
      "|            40|        60609|\n",
      "|            21|        57876|\n",
      "+--------------+-------------+\n",
      "only showing top 3 rows\n",
      "\n"
     ]
    }
   ],
   "source": [
    "bin2 = spark.sql(\"select Violation_Code,count(*) TicketsIssued from ticketinfo_2017_bins where Violation_Time_bin == 2 group by Violation_Code order by TicketsIssued desc\")\n",
    "bin2.show(3)"
   ]
  },
  {
   "cell_type": "code",
   "execution_count": 53,
   "metadata": {},
   "outputs": [
    {
     "name": "stdout",
     "output_type": "stream",
     "text": [
      "+--------------+-------------+\n",
      "|Violation_Code|TicketsIssued|\n",
      "+--------------+-------------+\n",
      "|            21|       597827|\n",
      "|            36|       348165|\n",
      "|            38|       176310|\n",
      "+--------------+-------------+\n",
      "only showing top 3 rows\n",
      "\n"
     ]
    }
   ],
   "source": [
    "bin3 = spark.sql(\"select Violation_Code,count(*) TicketsIssued from ticketinfo_2017_bins where Violation_Time_bin == 3 group by Violation_Code order by TicketsIssued desc\")\n",
    "bin3.show(3)"
   ]
  },
  {
   "cell_type": "code",
   "execution_count": 54,
   "metadata": {},
   "outputs": [
    {
     "name": "stdout",
     "output_type": "stream",
     "text": [
      "+--------------+-------------+\n",
      "|Violation_Code|TicketsIssued|\n",
      "+--------------+-------------+\n",
      "|            36|       286284|\n",
      "|            38|       240511|\n",
      "|            37|       166969|\n",
      "+--------------+-------------+\n",
      "only showing top 3 rows\n",
      "\n"
     ]
    }
   ],
   "source": [
    "bin4 = spark.sql(\"select Violation_Code,count(*) TicketsIssued from ticketinfo_2017_bins where Violation_Time_bin == 4 group by Violation_Code order by TicketsIssued desc\")\n",
    "bin4.show(3)"
   ]
  },
  {
   "cell_type": "code",
   "execution_count": 55,
   "metadata": {},
   "outputs": [
    {
     "name": "stdout",
     "output_type": "stream",
     "text": [
      "+--------------+-------------+\n",
      "|Violation_Code|TicketsIssued|\n",
      "+--------------+-------------+\n",
      "|            38|       102784|\n",
      "|            14|        75856|\n",
      "|            37|        70317|\n",
      "+--------------+-------------+\n",
      "only showing top 3 rows\n",
      "\n"
     ]
    }
   ],
   "source": [
    "bin5 = spark.sql(\"select Violation_Code,count(*) TicketsIssued from ticketinfo_2017_bins where Violation_Time_bin == 5 group by Violation_Code order by TicketsIssued desc\")\n",
    "bin5.show(3)"
   ]
  },
  {
   "cell_type": "code",
   "execution_count": 56,
   "metadata": {},
   "outputs": [
    {
     "name": "stdout",
     "output_type": "stream",
     "text": [
      "+--------------+-------------+\n",
      "|Violation_Code|TicketsIssued|\n",
      "+--------------+-------------+\n",
      "|             7|        26293|\n",
      "|            40|        22301|\n",
      "|            14|        21026|\n",
      "+--------------+-------------+\n",
      "only showing top 3 rows\n",
      "\n"
     ]
    }
   ],
   "source": [
    "bin6 = spark.sql(\"select Violation_Code,count(*) TicketsIssued from ticketinfo_2017_bins where Violation_Time_bin == 6 group by Violation_Code order by TicketsIssued desc\")\n",
    "bin6.show(3)"
   ]
  },
  {
   "cell_type": "markdown",
   "metadata": {},
   "source": [
    "**Now that we know the top 3 violation code for each time period**"
   ]
  },
  {
   "cell_type": "markdown",
   "metadata": {},
   "source": [
    "**Now, try another direction. For the three most commonly occurring violation codes, find the most common time of the day (in terms of the bins from the previous part).**"
   ]
  },
  {
   "cell_type": "code",
   "execution_count": 57,
   "metadata": {},
   "outputs": [
    {
     "name": "stdout",
     "output_type": "stream",
     "text": [
      "+------------------+-------------+\n",
      "|Violation_Time_bin|TicketsIssued|\n",
      "+------------------+-------------+\n",
      "|                 3|      1122302|\n",
      "|                 4|       601432|\n",
      "|                 5|       116574|\n",
      "+------------------+-------------+\n",
      "only showing top 3 rows\n",
      "\n"
     ]
    }
   ],
   "source": [
    "time_bin = spark.sql(\"select Violation_Time_bin, count(*) TicketsIssued from ticketinfo_2017_bins where Violation_Code in (21, 36, 38) group by Violation_Time_bin order by TicketsIssued desc\")\n",
    "time_bin.show(3)"
   ]
  },
  {
   "cell_type": "markdown",
   "metadata": {},
   "source": [
    "**Bins 3, 4, 5 are having most violations**\n",
    "\n",
    "The most obvious reason would be that during day time there's more viloations"
   ]
  },
  {
   "cell_type": "markdown",
   "metadata": {},
   "source": [
    "### Q6.Let’s try and find some seasonality in this data:"
   ]
  },
  {
   "cell_type": "markdown",
   "metadata": {},
   "source": [
    "#### a)First, divide the year into some number of seasons,and find frequencies of tickets for each season."
   ]
  },
  {
   "cell_type": "code",
   "execution_count": 58,
   "metadata": {},
   "outputs": [
    {
     "name": "stdout",
     "output_type": "stream",
     "text": [
      "+--------------+---------------+------+\n",
      "|Violation_Code|Issuer_Precinct|season|\n",
      "+--------------+---------------+------+\n",
      "|            36|              0|summer|\n",
      "|            36|              0|summer|\n",
      "|            48|             78|spring|\n",
      "|            71|             72|spring|\n",
      "|            14|            112|spring|\n",
      "|            71|             67|summer|\n",
      "|            42|              1|winter|\n",
      "|            14|             63|winter|\n",
      "|            36|              0|spring|\n",
      "|            46|             71|summer|\n",
      "|            71|             66|winter|\n",
      "|            14|             84|summer|\n",
      "|            40|             23|spring|\n",
      "|            37|            977|spring|\n",
      "|            20|            114|spring|\n",
      "|            31|             13|summer|\n",
      "|            21|             42|spring|\n",
      "|             7|              0|spring|\n",
      "|            37|             19|winter|\n",
      "|            37|            106|spring|\n",
      "+--------------+---------------+------+\n",
      "only showing top 20 rows\n",
      "\n"
     ]
    }
   ],
   "source": [
    "query8_a = spark.sql(\"select Violation_Code , Issuer_Precinct, case when MONTH(TO_DATE(Issue_Date, 'MM/dd/yyyy')) between 03 and 05 then 'spring' when MONTH(TO_DATE(Issue_Date, 'MM/dd/yyyy')) between 06 and 08 then 'summer' when MONTH(TO_DATE(Issue_Date, 'MM/dd/yyyy')) between 09 and 11 then 'autumn' when MONTH(TO_DATE(Issue_Date, 'MM/dd/yyyy')) in (1,2,12) then 'winter' else 'unknown' end  as season from ticketinfo_2017\")\n",
    "query8_a.show()"
   ]
  },
  {
   "cell_type": "markdown",
   "metadata": {},
   "source": [
    "#### Season Binning Details\n",
    "\n",
    "    Season    Month interval\n",
    "    \n",
    "    spring    March, April, May\n",
    "    summer    June, July, August\n",
    "    autumn    September, October, November\n",
    "    winter    December, January, February"
   ]
  },
  {
   "cell_type": "code",
   "execution_count": 59,
   "metadata": {},
   "outputs": [],
   "source": [
    "query8_a.createOrReplaceTempView(\"ticketseason_2017_bins\")"
   ]
  },
  {
   "cell_type": "code",
   "execution_count": 60,
   "metadata": {},
   "outputs": [
    {
     "name": "stdout",
     "output_type": "stream",
     "text": [
      "+------+-------------+\n",
      "|season|TicketsIssued|\n",
      "+------+-------------+\n",
      "|spring|      2870491|\n",
      "|winter|      1702786|\n",
      "|summer|       852405|\n",
      "|autumn|          975|\n",
      "+------+-------------+\n",
      "\n"
     ]
    }
   ],
   "source": [
    "tickets_seasonality_freq = spark.sql(\"select season, count(*) as TicketsIssued from ticketseason_2017_bins group by season order by TicketsIssued desc\")\n",
    "tickets_seasonality_freq.show()"
   ]
  },
  {
   "cell_type": "code",
   "execution_count": 61,
   "metadata": {},
   "outputs": [
    {
     "name": "stdout",
     "output_type": "stream",
     "text": [
      "+--------------+-------------+\n",
      "|Violation_Code|TicketsIssued|\n",
      "+--------------+-------------+\n",
      "|            14|        61633|\n",
      "|            46|        37732|\n",
      "|            38|        25511|\n",
      "+--------------+-------------+\n",
      "only showing top 3 rows\n",
      "\n"
     ]
    }
   ],
   "source": [
    "# Spring season\n",
    "violation_spring = spark.sql(\"select Violation_Code, count(*) as TicketsIssued from ticketseason_2017_bins where Issuer_Precinct in (19, 14, 1) and season = 'spring' group by Violation_Code order by TicketsIssued desc\" )\n",
    "violation_spring.show(3)"
   ]
  },
  {
   "cell_type": "code",
   "execution_count": 62,
   "metadata": {},
   "outputs": [
    {
     "name": "stdout",
     "output_type": "stream",
     "text": [
      "+--------------+-------------+\n",
      "|Violation_Code|TicketsIssued|\n",
      "+--------------+-------------+\n",
      "|            14|        32824|\n",
      "|            46|        20148|\n",
      "|            38|        14885|\n",
      "+--------------+-------------+\n",
      "only showing top 3 rows\n",
      "\n"
     ]
    }
   ],
   "source": [
    "# Winter season\n",
    "violation_winter = spark.sql(\"select Violation_Code, count(*) as TicketsIssued from ticketseason_2017_bins where Issuer_Precinct in (19, 14, 1) and season = 'winter' group by Violation_Code order by TicketsIssued desc\" )\n",
    "violation_winter.show(3)"
   ]
  },
  {
   "cell_type": "code",
   "execution_count": 63,
   "metadata": {},
   "outputs": [
    {
     "name": "stdout",
     "output_type": "stream",
     "text": [
      "+--------------+-------------+\n",
      "|Violation_Code|TicketsIssued|\n",
      "+--------------+-------------+\n",
      "|            14|        18689|\n",
      "|            46|        10945|\n",
      "|            20|        10393|\n",
      "+--------------+-------------+\n",
      "only showing top 3 rows\n",
      "\n"
     ]
    }
   ],
   "source": [
    "# Summer season\n",
    "violation_summer = spark.sql(\"select Violation_Code, count(*) as TicketsIssued from ticketseason_2017_bins where Issuer_Precinct in (19, 14, 1) and season = 'summer' group by Violation_Code order by TicketsIssued desc\" )\n",
    "violation_summer.show(3)"
   ]
  },
  {
   "cell_type": "code",
   "execution_count": 64,
   "metadata": {},
   "outputs": [
    {
     "name": "stdout",
     "output_type": "stream",
     "text": [
      "+--------------+-------------+\n",
      "|Violation_Code|TicketsIssued|\n",
      "+--------------+-------------+\n",
      "|            46|           15|\n",
      "|            14|            9|\n",
      "|             9|            3|\n",
      "+--------------+-------------+\n",
      "only showing top 3 rows\n",
      "\n"
     ]
    }
   ],
   "source": [
    "# Autumn season\n",
    "violation_autumn = spark.sql(\"select Violation_Code, count(*) as TicketsIssued from ticketseason_2017_bins where Issuer_Precinct in (19, 14, 1) and season = 'autumn' group by Violation_Code order by TicketsIssued desc\" )\n",
    "violation_autumn.show(3)"
   ]
  },
  {
   "cell_type": "markdown",
   "metadata": {},
   "source": [
    "### Q7. The fines collected from all the instances of parking violation constitute a source of revenue for the NYC Police Department. Let’s take an example of estimating this for the three most commonly occurring codes:"
   ]
  },
  {
   "cell_type": "markdown",
   "metadata": {},
   "source": [
    "#### a). Find total occurrences of the three most common violation codes"
   ]
  },
  {
   "cell_type": "code",
   "execution_count": 65,
   "metadata": {},
   "outputs": [
    {
     "name": "stdout",
     "output_type": "stream",
     "text": [
      "+--------------+-------------+\n",
      "|Violation_Code|TicketsIssued|\n",
      "+--------------+-------------+\n",
      "|            21|       767740|\n",
      "|            36|       662765|\n",
      "|            38|       541526|\n",
      "+--------------+-------------+\n",
      "only showing top 3 rows\n",
      "\n"
     ]
    }
   ],
   "source": [
    "query9_a = spark.sql(\"select Violation_Code, count(*) as TicketsIssued from ticketinfo_2017 group by Violation_Code order by TicketsIssued desc\")\n",
    "query9_a.show(3)"
   ]
  },
  {
   "cell_type": "markdown",
   "metadata": {},
   "source": [
    "#### b). Using this information, find the total amount collected for the three violation codes with maximum tickets. State the code which has the highest total collection."
   ]
  },
  {
   "cell_type": "code",
   "execution_count": 71,
   "metadata": {},
   "outputs": [
    {
     "ename": "AttributeError",
     "evalue": "'NoneType' object has no attribute '_jvm'",
     "output_type": "error",
     "traceback": [
      "\u001b[0;31m---------------------------------------------------------------------------\u001b[0m",
      "\u001b[0;31mAttributeError\u001b[0m                            Traceback (most recent call last)",
      "\u001b[0;32m<ipython-input-71-79a58fa4f5ac>\u001b[0m in \u001b[0;36m<module>\u001b[0;34m()\u001b[0m\n\u001b[1;32m      1\u001b[0m \u001b[0;32mfrom\u001b[0m \u001b[0mpyspark\u001b[0m\u001b[0;34m.\u001b[0m\u001b[0msql\u001b[0m\u001b[0;34m.\u001b[0m\u001b[0mfunctions\u001b[0m \u001b[0;32mimport\u001b[0m \u001b[0mwhen\u001b[0m\u001b[0;34m\u001b[0m\u001b[0m\n\u001b[1;32m      2\u001b[0m \u001b[0;34m\u001b[0m\u001b[0m\n\u001b[0;32m----> 3\u001b[0;31m \u001b[0mquery9_b\u001b[0m\u001b[0;34m=\u001b[0m\u001b[0mquery9_a\u001b[0m\u001b[0;34m.\u001b[0m\u001b[0mwithColumn\u001b[0m\u001b[0;34m(\u001b[0m\u001b[0;34m\"fine\"\u001b[0m\u001b[0;34m,\u001b[0m\u001b[0mwhen\u001b[0m\u001b[0;34m(\u001b[0m\u001b[0mquery9_a\u001b[0m\u001b[0;34m.\u001b[0m\u001b[0mViolation_Code\u001b[0m \u001b[0;34m==\u001b[0m \u001b[0;36m21\u001b[0m\u001b[0;34m,\u001b[0m \u001b[0;34m(\u001b[0m\u001b[0mquery9_a\u001b[0m\u001b[0;34m.\u001b[0m\u001b[0mTicketsIssued\u001b[0m\u001b[0;34m)\u001b[0m \u001b[0;34m*\u001b[0m\u001b[0;36m55\u001b[0m\u001b[0;34m)\u001b[0m\u001b[0;34m.\u001b[0m\u001b[0motherwise\u001b[0m\u001b[0;34m(\u001b[0m\u001b[0;34m(\u001b[0m\u001b[0mquery9_a\u001b[0m\u001b[0;34m.\u001b[0m\u001b[0mTicketsIssued\u001b[0m\u001b[0;34m)\u001b[0m\u001b[0;34m*\u001b[0m\u001b[0;36m50\u001b[0m\u001b[0;34m)\u001b[0m\u001b[0;34m)\u001b[0m\u001b[0;34m\u001b[0m\u001b[0m\n\u001b[0m\u001b[1;32m      4\u001b[0m \u001b[0mquery9_b\u001b[0m\u001b[0;34m.\u001b[0m\u001b[0mshow\u001b[0m\u001b[0;34m(\u001b[0m\u001b[0;36m3\u001b[0m\u001b[0;34m)\u001b[0m\u001b[0;34m\u001b[0m\u001b[0m\n",
      "\u001b[0;32m/usr/local/spark2.4/python/pyspark/sql/functions.py\u001b[0m in \u001b[0;36mwhen\u001b[0;34m(condition, value)\u001b[0m\n\u001b[1;32m    745\u001b[0m         \u001b[0;32mraise\u001b[0m \u001b[0mTypeError\u001b[0m\u001b[0;34m(\u001b[0m\u001b[0;34m\"condition should be a Column\"\u001b[0m\u001b[0;34m)\u001b[0m\u001b[0;34m\u001b[0m\u001b[0m\n\u001b[1;32m    746\u001b[0m     \u001b[0mv\u001b[0m \u001b[0;34m=\u001b[0m \u001b[0mvalue\u001b[0m\u001b[0;34m.\u001b[0m\u001b[0m_jc\u001b[0m \u001b[0;32mif\u001b[0m \u001b[0misinstance\u001b[0m\u001b[0;34m(\u001b[0m\u001b[0mvalue\u001b[0m\u001b[0;34m,\u001b[0m \u001b[0mColumn\u001b[0m\u001b[0;34m)\u001b[0m \u001b[0;32melse\u001b[0m \u001b[0mvalue\u001b[0m\u001b[0;34m\u001b[0m\u001b[0m\n\u001b[0;32m--> 747\u001b[0;31m     \u001b[0mjc\u001b[0m \u001b[0;34m=\u001b[0m \u001b[0msc\u001b[0m\u001b[0;34m.\u001b[0m\u001b[0m_jvm\u001b[0m\u001b[0;34m.\u001b[0m\u001b[0mfunctions\u001b[0m\u001b[0;34m.\u001b[0m\u001b[0mwhen\u001b[0m\u001b[0;34m(\u001b[0m\u001b[0mcondition\u001b[0m\u001b[0;34m.\u001b[0m\u001b[0m_jc\u001b[0m\u001b[0;34m,\u001b[0m \u001b[0mv\u001b[0m\u001b[0;34m)\u001b[0m\u001b[0;34m\u001b[0m\u001b[0m\n\u001b[0m\u001b[1;32m    748\u001b[0m     \u001b[0;32mreturn\u001b[0m \u001b[0mColumn\u001b[0m\u001b[0;34m(\u001b[0m\u001b[0mjc\u001b[0m\u001b[0;34m)\u001b[0m\u001b[0;34m\u001b[0m\u001b[0m\n\u001b[1;32m    749\u001b[0m \u001b[0;34m\u001b[0m\u001b[0m\n",
      "\u001b[0;31mAttributeError\u001b[0m: 'NoneType' object has no attribute '_jvm'"
     ]
    }
   ],
   "source": [
    "from pyspark.sql.functions import when\n",
    "\n",
    "query9_b=query9_a.withColumn(\"fine\",when(query9_a.Violation_Code == 21, (query9_a.TicketsIssued) *55).otherwise((query9_a.TicketsIssued)*50))\n",
    "query9_b.show(3)"
   ]
  },
  {
   "cell_type": "code",
   "execution_count": 69,
   "metadata": {},
   "outputs": [
    {
     "name": "stdout",
     "output_type": "stream",
     "text": [
      "Total collection =  102440250\n"
     ]
    }
   ],
   "source": [
    "print('Total collection = ',767740*55+662765*50+541526*50)"
   ]
  },
  {
   "cell_type": "markdown",
   "metadata": {},
   "source": [
    "**Therefore code with 21 had the highest collection and the total collection is  102440250**"
   ]
  },
  {
   "cell_type": "markdown",
   "metadata": {},
   "source": [
    "#### c).What can you intuitively infer from these findings?\n",
    "**Jan to June had the major issue of ticket due to violation & July  to Dec has a sudden and drastic drop** \n",
    "**Highest violation & collection was by Code-21(No parking where parking is not allowed by sign, street marking or traffic control device.)**"
   ]
  },
  {
   "cell_type": "markdown",
   "metadata": {},
   "source": [
    "**After the spark job is completed let's now stop the spark context**"
   ]
  },
  {
   "cell_type": "code",
   "execution_count": 70,
   "metadata": {},
   "outputs": [],
   "source": [
    "spark.stop()"
   ]
  },
  {
   "cell_type": "code",
   "execution_count": null,
   "metadata": {},
   "outputs": [],
   "source": []
  }
 ],
 "metadata": {
  "kernelspec": {
   "display_name": "PySpark",
   "language": "python",
   "name": "pyspark"
  },
  "language_info": {
   "codemirror_mode": {
    "name": "ipython",
    "version": 3
   },
   "file_extension": ".py",
   "mimetype": "text/x-python",
   "name": "python",
   "nbconvert_exporter": "python",
   "pygments_lexer": "ipython3",
   "version": "3.6.5"
  }
 },
 "nbformat": 4,
 "nbformat_minor": 2
}
