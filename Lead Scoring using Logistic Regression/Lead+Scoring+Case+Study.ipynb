{
 "cells": [
  {
   "cell_type": "markdown",
   "metadata": {},
   "source": [
    "### Importing the required libraries to perform Logistic Regression"
   ]
  },
  {
   "cell_type": "code",
   "execution_count": 1,
   "metadata": {},
   "outputs": [],
   "source": [
    "#import all the necessary libraries\n",
    "\n",
    "import pandas as pd\n",
    "import numpy as np\n",
    "import pandas as pd\n",
    "\n",
    "# For Visualisation\n",
    "import matplotlib.pyplot as plt\n",
    "import seaborn as sns\n",
    "%matplotlib inline\n",
    "\n",
    "# To Scale our data\n",
    "from sklearn.preprocessing import scale\n",
    "\n",
    "import warnings\n",
    "warnings.filterwarnings(\"ignore\")"
   ]
  },
  {
   "cell_type": "markdown",
   "metadata": {},
   "source": [
    "### Step 1: Reading and Understanding the Data"
   ]
  },
  {
   "cell_type": "code",
   "execution_count": 2,
   "metadata": {},
   "outputs": [],
   "source": [
    "leads_scoring=pd.read_csv(\"./Leads.csv\")"
   ]
  },
  {
   "cell_type": "markdown",
   "metadata": {},
   "source": [
    "### Inspecting the data"
   ]
  },
  {
   "cell_type": "code",
   "execution_count": 3,
   "metadata": {},
   "outputs": [
    {
     "data": {
      "text/html": [
       "<div>\n",
       "<style scoped>\n",
       "    .dataframe tbody tr th:only-of-type {\n",
       "        vertical-align: middle;\n",
       "    }\n",
       "\n",
       "    .dataframe tbody tr th {\n",
       "        vertical-align: top;\n",
       "    }\n",
       "\n",
       "    .dataframe thead th {\n",
       "        text-align: right;\n",
       "    }\n",
       "</style>\n",
       "<table border=\"1\" class=\"dataframe\">\n",
       "  <thead>\n",
       "    <tr style=\"text-align: right;\">\n",
       "      <th></th>\n",
       "      <th>Prospect ID</th>\n",
       "      <th>Lead Number</th>\n",
       "      <th>Lead Origin</th>\n",
       "      <th>Lead Source</th>\n",
       "      <th>Do Not Email</th>\n",
       "      <th>Do Not Call</th>\n",
       "      <th>Converted</th>\n",
       "      <th>TotalVisits</th>\n",
       "      <th>Total Time Spent on Website</th>\n",
       "      <th>Page Views Per Visit</th>\n",
       "      <th>...</th>\n",
       "      <th>Get updates on DM Content</th>\n",
       "      <th>Lead Profile</th>\n",
       "      <th>City</th>\n",
       "      <th>Asymmetrique Activity Index</th>\n",
       "      <th>Asymmetrique Profile Index</th>\n",
       "      <th>Asymmetrique Activity Score</th>\n",
       "      <th>Asymmetrique Profile Score</th>\n",
       "      <th>I agree to pay the amount through cheque</th>\n",
       "      <th>A free copy of Mastering The Interview</th>\n",
       "      <th>Last Notable Activity</th>\n",
       "    </tr>\n",
       "  </thead>\n",
       "  <tbody>\n",
       "    <tr>\n",
       "      <th>0</th>\n",
       "      <td>7927b2df-8bba-4d29-b9a2-b6e0beafe620</td>\n",
       "      <td>660737</td>\n",
       "      <td>API</td>\n",
       "      <td>Olark Chat</td>\n",
       "      <td>No</td>\n",
       "      <td>No</td>\n",
       "      <td>0</td>\n",
       "      <td>0.0</td>\n",
       "      <td>0</td>\n",
       "      <td>0.0</td>\n",
       "      <td>...</td>\n",
       "      <td>No</td>\n",
       "      <td>Select</td>\n",
       "      <td>Select</td>\n",
       "      <td>02.Medium</td>\n",
       "      <td>02.Medium</td>\n",
       "      <td>15.0</td>\n",
       "      <td>15.0</td>\n",
       "      <td>No</td>\n",
       "      <td>No</td>\n",
       "      <td>Modified</td>\n",
       "    </tr>\n",
       "    <tr>\n",
       "      <th>1</th>\n",
       "      <td>2a272436-5132-4136-86fa-dcc88c88f482</td>\n",
       "      <td>660728</td>\n",
       "      <td>API</td>\n",
       "      <td>Organic Search</td>\n",
       "      <td>No</td>\n",
       "      <td>No</td>\n",
       "      <td>0</td>\n",
       "      <td>5.0</td>\n",
       "      <td>674</td>\n",
       "      <td>2.5</td>\n",
       "      <td>...</td>\n",
       "      <td>No</td>\n",
       "      <td>Select</td>\n",
       "      <td>Select</td>\n",
       "      <td>02.Medium</td>\n",
       "      <td>02.Medium</td>\n",
       "      <td>15.0</td>\n",
       "      <td>15.0</td>\n",
       "      <td>No</td>\n",
       "      <td>No</td>\n",
       "      <td>Email Opened</td>\n",
       "    </tr>\n",
       "    <tr>\n",
       "      <th>2</th>\n",
       "      <td>8cc8c611-a219-4f35-ad23-fdfd2656bd8a</td>\n",
       "      <td>660727</td>\n",
       "      <td>Landing Page Submission</td>\n",
       "      <td>Direct Traffic</td>\n",
       "      <td>No</td>\n",
       "      <td>No</td>\n",
       "      <td>1</td>\n",
       "      <td>2.0</td>\n",
       "      <td>1532</td>\n",
       "      <td>2.0</td>\n",
       "      <td>...</td>\n",
       "      <td>No</td>\n",
       "      <td>Potential Lead</td>\n",
       "      <td>Mumbai</td>\n",
       "      <td>02.Medium</td>\n",
       "      <td>01.High</td>\n",
       "      <td>14.0</td>\n",
       "      <td>20.0</td>\n",
       "      <td>No</td>\n",
       "      <td>Yes</td>\n",
       "      <td>Email Opened</td>\n",
       "    </tr>\n",
       "    <tr>\n",
       "      <th>3</th>\n",
       "      <td>0cc2df48-7cf4-4e39-9de9-19797f9b38cc</td>\n",
       "      <td>660719</td>\n",
       "      <td>Landing Page Submission</td>\n",
       "      <td>Direct Traffic</td>\n",
       "      <td>No</td>\n",
       "      <td>No</td>\n",
       "      <td>0</td>\n",
       "      <td>1.0</td>\n",
       "      <td>305</td>\n",
       "      <td>1.0</td>\n",
       "      <td>...</td>\n",
       "      <td>No</td>\n",
       "      <td>Select</td>\n",
       "      <td>Mumbai</td>\n",
       "      <td>02.Medium</td>\n",
       "      <td>01.High</td>\n",
       "      <td>13.0</td>\n",
       "      <td>17.0</td>\n",
       "      <td>No</td>\n",
       "      <td>No</td>\n",
       "      <td>Modified</td>\n",
       "    </tr>\n",
       "    <tr>\n",
       "      <th>4</th>\n",
       "      <td>3256f628-e534-4826-9d63-4a8b88782852</td>\n",
       "      <td>660681</td>\n",
       "      <td>Landing Page Submission</td>\n",
       "      <td>Google</td>\n",
       "      <td>No</td>\n",
       "      <td>No</td>\n",
       "      <td>1</td>\n",
       "      <td>2.0</td>\n",
       "      <td>1428</td>\n",
       "      <td>1.0</td>\n",
       "      <td>...</td>\n",
       "      <td>No</td>\n",
       "      <td>Select</td>\n",
       "      <td>Mumbai</td>\n",
       "      <td>02.Medium</td>\n",
       "      <td>01.High</td>\n",
       "      <td>15.0</td>\n",
       "      <td>18.0</td>\n",
       "      <td>No</td>\n",
       "      <td>No</td>\n",
       "      <td>Modified</td>\n",
       "    </tr>\n",
       "  </tbody>\n",
       "</table>\n",
       "<p>5 rows × 37 columns</p>\n",
       "</div>"
      ],
      "text/plain": [
       "                            Prospect ID  Lead Number              Lead Origin  \\\n",
       "0  7927b2df-8bba-4d29-b9a2-b6e0beafe620       660737                      API   \n",
       "1  2a272436-5132-4136-86fa-dcc88c88f482       660728                      API   \n",
       "2  8cc8c611-a219-4f35-ad23-fdfd2656bd8a       660727  Landing Page Submission   \n",
       "3  0cc2df48-7cf4-4e39-9de9-19797f9b38cc       660719  Landing Page Submission   \n",
       "4  3256f628-e534-4826-9d63-4a8b88782852       660681  Landing Page Submission   \n",
       "\n",
       "      Lead Source Do Not Email Do Not Call  Converted  TotalVisits  \\\n",
       "0      Olark Chat           No          No          0          0.0   \n",
       "1  Organic Search           No          No          0          5.0   \n",
       "2  Direct Traffic           No          No          1          2.0   \n",
       "3  Direct Traffic           No          No          0          1.0   \n",
       "4          Google           No          No          1          2.0   \n",
       "\n",
       "   Total Time Spent on Website  Page Views Per Visit          ...           \\\n",
       "0                            0                   0.0          ...            \n",
       "1                          674                   2.5          ...            \n",
       "2                         1532                   2.0          ...            \n",
       "3                          305                   1.0          ...            \n",
       "4                         1428                   1.0          ...            \n",
       "\n",
       "  Get updates on DM Content    Lead Profile    City  \\\n",
       "0                        No          Select  Select   \n",
       "1                        No          Select  Select   \n",
       "2                        No  Potential Lead  Mumbai   \n",
       "3                        No          Select  Mumbai   \n",
       "4                        No          Select  Mumbai   \n",
       "\n",
       "  Asymmetrique Activity Index Asymmetrique Profile Index  \\\n",
       "0                   02.Medium                  02.Medium   \n",
       "1                   02.Medium                  02.Medium   \n",
       "2                   02.Medium                    01.High   \n",
       "3                   02.Medium                    01.High   \n",
       "4                   02.Medium                    01.High   \n",
       "\n",
       "  Asymmetrique Activity Score Asymmetrique Profile Score  \\\n",
       "0                        15.0                       15.0   \n",
       "1                        15.0                       15.0   \n",
       "2                        14.0                       20.0   \n",
       "3                        13.0                       17.0   \n",
       "4                        15.0                       18.0   \n",
       "\n",
       "  I agree to pay the amount through cheque  \\\n",
       "0                                       No   \n",
       "1                                       No   \n",
       "2                                       No   \n",
       "3                                       No   \n",
       "4                                       No   \n",
       "\n",
       "  A free copy of Mastering The Interview Last Notable Activity  \n",
       "0                                     No              Modified  \n",
       "1                                     No          Email Opened  \n",
       "2                                    Yes          Email Opened  \n",
       "3                                     No              Modified  \n",
       "4                                     No              Modified  \n",
       "\n",
       "[5 rows x 37 columns]"
      ]
     },
     "execution_count": 3,
     "metadata": {},
     "output_type": "execute_result"
    }
   ],
   "source": [
    "leads_scoring.head(5)"
   ]
  },
  {
   "cell_type": "code",
   "execution_count": 4,
   "metadata": {},
   "outputs": [
    {
     "name": "stdout",
     "output_type": "stream",
     "text": [
      "<class 'pandas.core.frame.DataFrame'>\n",
      "RangeIndex: 9240 entries, 0 to 9239\n",
      "Data columns (total 37 columns):\n",
      "Prospect ID                                      9240 non-null object\n",
      "Lead Number                                      9240 non-null int64\n",
      "Lead Origin                                      9240 non-null object\n",
      "Lead Source                                      9204 non-null object\n",
      "Do Not Email                                     9240 non-null object\n",
      "Do Not Call                                      9240 non-null object\n",
      "Converted                                        9240 non-null int64\n",
      "TotalVisits                                      9103 non-null float64\n",
      "Total Time Spent on Website                      9240 non-null int64\n",
      "Page Views Per Visit                             9103 non-null float64\n",
      "Last Activity                                    9137 non-null object\n",
      "Country                                          6779 non-null object\n",
      "Specialization                                   7802 non-null object\n",
      "How did you hear about X Education               7033 non-null object\n",
      "What is your current occupation                  6550 non-null object\n",
      "What matters most to you in choosing a course    6531 non-null object\n",
      "Search                                           9240 non-null object\n",
      "Magazine                                         9240 non-null object\n",
      "Newspaper Article                                9240 non-null object\n",
      "X Education Forums                               9240 non-null object\n",
      "Newspaper                                        9240 non-null object\n",
      "Digital Advertisement                            9240 non-null object\n",
      "Through Recommendations                          9240 non-null object\n",
      "Receive More Updates About Our Courses           9240 non-null object\n",
      "Tags                                             5887 non-null object\n",
      "Lead Quality                                     4473 non-null object\n",
      "Update me on Supply Chain Content                9240 non-null object\n",
      "Get updates on DM Content                        9240 non-null object\n",
      "Lead Profile                                     6531 non-null object\n",
      "City                                             7820 non-null object\n",
      "Asymmetrique Activity Index                      5022 non-null object\n",
      "Asymmetrique Profile Index                       5022 non-null object\n",
      "Asymmetrique Activity Score                      5022 non-null float64\n",
      "Asymmetrique Profile Score                       5022 non-null float64\n",
      "I agree to pay the amount through cheque         9240 non-null object\n",
      "A free copy of Mastering The Interview           9240 non-null object\n",
      "Last Notable Activity                            9240 non-null object\n",
      "dtypes: float64(4), int64(3), object(30)\n",
      "memory usage: 2.6+ MB\n"
     ]
    }
   ],
   "source": [
    "leads_scoring.info()"
   ]
  },
  {
   "cell_type": "markdown",
   "metadata": {},
   "source": [
    "#### Replacing the Select option from categorical variables as it is esentially just a null value "
   ]
  },
  {
   "cell_type": "code",
   "execution_count": 5,
   "metadata": {},
   "outputs": [],
   "source": [
    "leads_scoring=leads_scoring.replace('Select',np.nan)"
   ]
  },
  {
   "cell_type": "code",
   "execution_count": 6,
   "metadata": {},
   "outputs": [
    {
     "data": {
      "text/html": [
       "<div>\n",
       "<style scoped>\n",
       "    .dataframe tbody tr th:only-of-type {\n",
       "        vertical-align: middle;\n",
       "    }\n",
       "\n",
       "    .dataframe tbody tr th {\n",
       "        vertical-align: top;\n",
       "    }\n",
       "\n",
       "    .dataframe thead th {\n",
       "        text-align: right;\n",
       "    }\n",
       "</style>\n",
       "<table border=\"1\" class=\"dataframe\">\n",
       "  <thead>\n",
       "    <tr style=\"text-align: right;\">\n",
       "      <th></th>\n",
       "      <th>Lead Number</th>\n",
       "      <th>Converted</th>\n",
       "      <th>TotalVisits</th>\n",
       "      <th>Total Time Spent on Website</th>\n",
       "      <th>Page Views Per Visit</th>\n",
       "      <th>Asymmetrique Activity Score</th>\n",
       "      <th>Asymmetrique Profile Score</th>\n",
       "    </tr>\n",
       "  </thead>\n",
       "  <tbody>\n",
       "    <tr>\n",
       "      <th>count</th>\n",
       "      <td>9240.000000</td>\n",
       "      <td>9240.000000</td>\n",
       "      <td>9103.000000</td>\n",
       "      <td>9240.000000</td>\n",
       "      <td>9103.000000</td>\n",
       "      <td>5022.000000</td>\n",
       "      <td>5022.000000</td>\n",
       "    </tr>\n",
       "    <tr>\n",
       "      <th>mean</th>\n",
       "      <td>617188.435606</td>\n",
       "      <td>0.385390</td>\n",
       "      <td>3.445238</td>\n",
       "      <td>487.698268</td>\n",
       "      <td>2.362820</td>\n",
       "      <td>14.306252</td>\n",
       "      <td>16.344883</td>\n",
       "    </tr>\n",
       "    <tr>\n",
       "      <th>std</th>\n",
       "      <td>23405.995698</td>\n",
       "      <td>0.486714</td>\n",
       "      <td>4.854853</td>\n",
       "      <td>548.021466</td>\n",
       "      <td>2.161418</td>\n",
       "      <td>1.386694</td>\n",
       "      <td>1.811395</td>\n",
       "    </tr>\n",
       "    <tr>\n",
       "      <th>min</th>\n",
       "      <td>579533.000000</td>\n",
       "      <td>0.000000</td>\n",
       "      <td>0.000000</td>\n",
       "      <td>0.000000</td>\n",
       "      <td>0.000000</td>\n",
       "      <td>7.000000</td>\n",
       "      <td>11.000000</td>\n",
       "    </tr>\n",
       "    <tr>\n",
       "      <th>25%</th>\n",
       "      <td>596484.500000</td>\n",
       "      <td>0.000000</td>\n",
       "      <td>1.000000</td>\n",
       "      <td>12.000000</td>\n",
       "      <td>1.000000</td>\n",
       "      <td>14.000000</td>\n",
       "      <td>15.000000</td>\n",
       "    </tr>\n",
       "    <tr>\n",
       "      <th>50%</th>\n",
       "      <td>615479.000000</td>\n",
       "      <td>0.000000</td>\n",
       "      <td>3.000000</td>\n",
       "      <td>248.000000</td>\n",
       "      <td>2.000000</td>\n",
       "      <td>14.000000</td>\n",
       "      <td>16.000000</td>\n",
       "    </tr>\n",
       "    <tr>\n",
       "      <th>75%</th>\n",
       "      <td>637387.250000</td>\n",
       "      <td>1.000000</td>\n",
       "      <td>5.000000</td>\n",
       "      <td>936.000000</td>\n",
       "      <td>3.000000</td>\n",
       "      <td>15.000000</td>\n",
       "      <td>18.000000</td>\n",
       "    </tr>\n",
       "    <tr>\n",
       "      <th>max</th>\n",
       "      <td>660737.000000</td>\n",
       "      <td>1.000000</td>\n",
       "      <td>251.000000</td>\n",
       "      <td>2272.000000</td>\n",
       "      <td>55.000000</td>\n",
       "      <td>18.000000</td>\n",
       "      <td>20.000000</td>\n",
       "    </tr>\n",
       "  </tbody>\n",
       "</table>\n",
       "</div>"
      ],
      "text/plain": [
       "         Lead Number    Converted  TotalVisits  Total Time Spent on Website  \\\n",
       "count    9240.000000  9240.000000  9103.000000                  9240.000000   \n",
       "mean   617188.435606     0.385390     3.445238                   487.698268   \n",
       "std     23405.995698     0.486714     4.854853                   548.021466   \n",
       "min    579533.000000     0.000000     0.000000                     0.000000   \n",
       "25%    596484.500000     0.000000     1.000000                    12.000000   \n",
       "50%    615479.000000     0.000000     3.000000                   248.000000   \n",
       "75%    637387.250000     1.000000     5.000000                   936.000000   \n",
       "max    660737.000000     1.000000   251.000000                  2272.000000   \n",
       "\n",
       "       Page Views Per Visit  Asymmetrique Activity Score  \\\n",
       "count           9103.000000                  5022.000000   \n",
       "mean               2.362820                    14.306252   \n",
       "std                2.161418                     1.386694   \n",
       "min                0.000000                     7.000000   \n",
       "25%                1.000000                    14.000000   \n",
       "50%                2.000000                    14.000000   \n",
       "75%                3.000000                    15.000000   \n",
       "max               55.000000                    18.000000   \n",
       "\n",
       "       Asymmetrique Profile Score  \n",
       "count                 5022.000000  \n",
       "mean                    16.344883  \n",
       "std                      1.811395  \n",
       "min                     11.000000  \n",
       "25%                     15.000000  \n",
       "50%                     16.000000  \n",
       "75%                     18.000000  \n",
       "max                     20.000000  "
      ]
     },
     "execution_count": 6,
     "metadata": {},
     "output_type": "execute_result"
    }
   ],
   "source": [
    "leads_scoring.describe()"
   ]
  },
  {
   "cell_type": "markdown",
   "metadata": {},
   "source": [
    "#### Dropping duplicate records"
   ]
  },
  {
   "cell_type": "code",
   "execution_count": 7,
   "metadata": {},
   "outputs": [],
   "source": [
    "leads_scoring.drop_duplicates(inplace=True)"
   ]
  },
  {
   "cell_type": "markdown",
   "metadata": {},
   "source": [
    "**Missing values along rows**"
   ]
  },
  {
   "cell_type": "code",
   "execution_count": 8,
   "metadata": {},
   "outputs": [
    {
     "data": {
      "text/plain": [
       "0       5\n",
       "1       5\n",
       "2       1\n",
       "3       1\n",
       "4       2\n",
       "5       9\n",
       "6       0\n",
       "7       9\n",
       "8       6\n",
       "9       5\n",
       "10      2\n",
       "11      3\n",
       "12      2\n",
       "13      3\n",
       "14      5\n",
       "15      4\n",
       "16      9\n",
       "17      4\n",
       "18      3\n",
       "19      4\n",
       "20      1\n",
       "21      3\n",
       "22      0\n",
       "23      1\n",
       "24      1\n",
       "25      1\n",
       "26      1\n",
       "27      0\n",
       "28      4\n",
       "29      1\n",
       "       ..\n",
       "9210    0\n",
       "9211    0\n",
       "9212    1\n",
       "9213    6\n",
       "9214    8\n",
       "9215    6\n",
       "9216    1\n",
       "9217    4\n",
       "9218    5\n",
       "9219    1\n",
       "9220    2\n",
       "9221    6\n",
       "9222    0\n",
       "9223    1\n",
       "9224    1\n",
       "9225    1\n",
       "9226    5\n",
       "9227    0\n",
       "9228    6\n",
       "9229    1\n",
       "9230    1\n",
       "9231    0\n",
       "9232    1\n",
       "9233    9\n",
       "9234    1\n",
       "9235    1\n",
       "9236    1\n",
       "9237    1\n",
       "9238    5\n",
       "9239    1\n",
       "Length: 9240, dtype: int64"
      ]
     },
     "execution_count": 8,
     "metadata": {},
     "output_type": "execute_result"
    }
   ],
   "source": [
    "leads_scoring.isnull().sum(axis=1)"
   ]
  },
  {
   "cell_type": "markdown",
   "metadata": {},
   "source": [
    "**Missing values along columns**"
   ]
  },
  {
   "cell_type": "code",
   "execution_count": 9,
   "metadata": {
    "scrolled": true
   },
   "outputs": [
    {
     "data": {
      "text/plain": [
       "Prospect ID                                       0.00\n",
       "Lead Number                                       0.00\n",
       "Lead Origin                                       0.00\n",
       "Lead Source                                       0.39\n",
       "Do Not Email                                      0.00\n",
       "Do Not Call                                       0.00\n",
       "Converted                                         0.00\n",
       "TotalVisits                                       1.48\n",
       "Total Time Spent on Website                       0.00\n",
       "Page Views Per Visit                              1.48\n",
       "Last Activity                                     1.11\n",
       "Country                                          26.63\n",
       "Specialization                                   36.58\n",
       "How did you hear about X Education               78.46\n",
       "What is your current occupation                  29.11\n",
       "What matters most to you in choosing a course    29.32\n",
       "Search                                            0.00\n",
       "Magazine                                          0.00\n",
       "Newspaper Article                                 0.00\n",
       "X Education Forums                                0.00\n",
       "Newspaper                                         0.00\n",
       "Digital Advertisement                             0.00\n",
       "Through Recommendations                           0.00\n",
       "Receive More Updates About Our Courses            0.00\n",
       "Tags                                             36.29\n",
       "Lead Quality                                     51.59\n",
       "Update me on Supply Chain Content                 0.00\n",
       "Get updates on DM Content                         0.00\n",
       "Lead Profile                                     74.19\n",
       "City                                             39.71\n",
       "Asymmetrique Activity Index                      45.65\n",
       "Asymmetrique Profile Index                       45.65\n",
       "Asymmetrique Activity Score                      45.65\n",
       "Asymmetrique Profile Score                       45.65\n",
       "I agree to pay the amount through cheque          0.00\n",
       "A free copy of Mastering The Interview            0.00\n",
       "Last Notable Activity                             0.00\n",
       "dtype: float64"
      ]
     },
     "execution_count": 9,
     "metadata": {},
     "output_type": "execute_result"
    }
   ],
   "source": [
    "round(100*leads_scoring.isnull().sum()/len(leads_scoring.index),2)"
   ]
  },
  {
   "cell_type": "markdown",
   "metadata": {},
   "source": [
    "#### Treatment of missing values"
   ]
  },
  {
   "cell_type": "markdown",
   "metadata": {},
   "source": [
    "**Dropping collumn with 70% or higher percentage of empty records** "
   ]
  },
  {
   "cell_type": "code",
   "execution_count": 10,
   "metadata": {},
   "outputs": [],
   "source": [
    "leads_scoring=leads_scoring.drop(['How did you hear about X Education','Lead Profile'],axis=1)"
   ]
  },
  {
   "cell_type": "markdown",
   "metadata": {},
   "source": [
    "#### Removing Information about customer that is for company purpose and doesn't serve any use in analysis"
   ]
  },
  {
   "cell_type": "code",
   "execution_count": 11,
   "metadata": {},
   "outputs": [],
   "source": [
    "leads_scoring=leads_scoring.drop(['Prospect ID','Lead Number'],axis=1)"
   ]
  },
  {
   "cell_type": "code",
   "execution_count": 12,
   "metadata": {},
   "outputs": [
    {
     "data": {
      "text/plain": [
       "Lead Origin                                         5\n",
       "Lead Source                                        21\n",
       "Do Not Email                                        2\n",
       "Do Not Call                                         2\n",
       "Converted                                           2\n",
       "TotalVisits                                        41\n",
       "Total Time Spent on Website                      1731\n",
       "Page Views Per Visit                              114\n",
       "Last Activity                                      17\n",
       "Country                                            38\n",
       "Specialization                                     18\n",
       "What is your current occupation                     6\n",
       "What matters most to you in choosing a course       3\n",
       "Search                                              2\n",
       "Magazine                                            1\n",
       "Newspaper Article                                   2\n",
       "X Education Forums                                  2\n",
       "Newspaper                                           2\n",
       "Digital Advertisement                               2\n",
       "Through Recommendations                             2\n",
       "Receive More Updates About Our Courses              1\n",
       "Tags                                               26\n",
       "Lead Quality                                        5\n",
       "Update me on Supply Chain Content                   1\n",
       "Get updates on DM Content                           1\n",
       "City                                                6\n",
       "Asymmetrique Activity Index                         3\n",
       "Asymmetrique Profile Index                          3\n",
       "Asymmetrique Activity Score                        12\n",
       "Asymmetrique Profile Score                         10\n",
       "I agree to pay the amount through cheque            1\n",
       "A free copy of Mastering The Interview              2\n",
       "Last Notable Activity                              16\n",
       "dtype: int64"
      ]
     },
     "execution_count": 12,
     "metadata": {},
     "output_type": "execute_result"
    }
   ],
   "source": [
    "#Finding the number of unique values under each collumn\n",
    "leads_scoring.nunique()"
   ]
  },
  {
   "cell_type": "markdown",
   "metadata": {},
   "source": [
    "**Dropping Collumns with single value as it doesn't serve any use for analysis**"
   ]
  },
  {
   "cell_type": "code",
   "execution_count": 13,
   "metadata": {},
   "outputs": [],
   "source": [
    "leads_scoring=leads_scoring.drop(['Magazine','Receive More Updates About Our Courses','Update me on Supply Chain Content','Get updates on DM Content','I agree to pay the amount through cheque'],axis=1)"
   ]
  },
  {
   "cell_type": "code",
   "execution_count": 14,
   "metadata": {},
   "outputs": [
    {
     "data": {
      "text/plain": [
       "Lead Origin                                         0\n",
       "Lead Source                                        36\n",
       "Do Not Email                                        0\n",
       "Do Not Call                                         0\n",
       "Converted                                           0\n",
       "TotalVisits                                       137\n",
       "Total Time Spent on Website                         0\n",
       "Page Views Per Visit                              137\n",
       "Last Activity                                     103\n",
       "Country                                          2461\n",
       "Specialization                                   3380\n",
       "What is your current occupation                  2690\n",
       "What matters most to you in choosing a course    2709\n",
       "Search                                              0\n",
       "Newspaper Article                                   0\n",
       "X Education Forums                                  0\n",
       "Newspaper                                           0\n",
       "Digital Advertisement                               0\n",
       "Through Recommendations                             0\n",
       "Tags                                             3353\n",
       "Lead Quality                                     4767\n",
       "City                                             3669\n",
       "Asymmetrique Activity Index                      4218\n",
       "Asymmetrique Profile Index                       4218\n",
       "Asymmetrique Activity Score                      4218\n",
       "Asymmetrique Profile Score                       4218\n",
       "A free copy of Mastering The Interview              0\n",
       "Last Notable Activity                               0\n",
       "dtype: int64"
      ]
     },
     "execution_count": 14,
     "metadata": {},
     "output_type": "execute_result"
    }
   ],
   "source": [
    "leads_scoring.isnull().sum()"
   ]
  },
  {
   "cell_type": "markdown",
   "metadata": {},
   "source": [
    "#### Imputing Missing values in Lead Quality"
   ]
  },
  {
   "cell_type": "code",
   "execution_count": 15,
   "metadata": {},
   "outputs": [
    {
     "data": {
      "text/html": [
       "<div>\n",
       "<style scoped>\n",
       "    .dataframe tbody tr th:only-of-type {\n",
       "        vertical-align: middle;\n",
       "    }\n",
       "\n",
       "    .dataframe tbody tr th {\n",
       "        vertical-align: top;\n",
       "    }\n",
       "\n",
       "    .dataframe thead th {\n",
       "        text-align: right;\n",
       "    }\n",
       "</style>\n",
       "<table border=\"1\" class=\"dataframe\">\n",
       "  <thead>\n",
       "    <tr style=\"text-align: right;\">\n",
       "      <th></th>\n",
       "      <th>Lead Origin</th>\n",
       "      <th>Lead Source</th>\n",
       "      <th>Do Not Email</th>\n",
       "      <th>Do Not Call</th>\n",
       "      <th>Converted</th>\n",
       "      <th>TotalVisits</th>\n",
       "      <th>Total Time Spent on Website</th>\n",
       "      <th>Page Views Per Visit</th>\n",
       "      <th>Last Activity</th>\n",
       "      <th>Country</th>\n",
       "      <th>...</th>\n",
       "      <th>Digital Advertisement</th>\n",
       "      <th>Through Recommendations</th>\n",
       "      <th>Tags</th>\n",
       "      <th>City</th>\n",
       "      <th>Asymmetrique Activity Index</th>\n",
       "      <th>Asymmetrique Profile Index</th>\n",
       "      <th>Asymmetrique Activity Score</th>\n",
       "      <th>Asymmetrique Profile Score</th>\n",
       "      <th>A free copy of Mastering The Interview</th>\n",
       "      <th>Last Notable Activity</th>\n",
       "    </tr>\n",
       "    <tr>\n",
       "      <th>Lead Quality</th>\n",
       "      <th></th>\n",
       "      <th></th>\n",
       "      <th></th>\n",
       "      <th></th>\n",
       "      <th></th>\n",
       "      <th></th>\n",
       "      <th></th>\n",
       "      <th></th>\n",
       "      <th></th>\n",
       "      <th></th>\n",
       "      <th></th>\n",
       "      <th></th>\n",
       "      <th></th>\n",
       "      <th></th>\n",
       "      <th></th>\n",
       "      <th></th>\n",
       "      <th></th>\n",
       "      <th></th>\n",
       "      <th></th>\n",
       "      <th></th>\n",
       "      <th></th>\n",
       "    </tr>\n",
       "  </thead>\n",
       "  <tbody>\n",
       "    <tr>\n",
       "      <th>High in Relevance</th>\n",
       "      <td>637</td>\n",
       "      <td>632</td>\n",
       "      <td>637</td>\n",
       "      <td>637</td>\n",
       "      <td>637</td>\n",
       "      <td>597</td>\n",
       "      <td>637</td>\n",
       "      <td>597</td>\n",
       "      <td>611</td>\n",
       "      <td>394</td>\n",
       "      <td>...</td>\n",
       "      <td>637</td>\n",
       "      <td>637</td>\n",
       "      <td>635</td>\n",
       "      <td>528</td>\n",
       "      <td>375</td>\n",
       "      <td>375</td>\n",
       "      <td>375</td>\n",
       "      <td>375</td>\n",
       "      <td>637</td>\n",
       "      <td>637</td>\n",
       "    </tr>\n",
       "    <tr>\n",
       "      <th>Low in Relevance</th>\n",
       "      <td>583</td>\n",
       "      <td>583</td>\n",
       "      <td>583</td>\n",
       "      <td>583</td>\n",
       "      <td>583</td>\n",
       "      <td>556</td>\n",
       "      <td>583</td>\n",
       "      <td>556</td>\n",
       "      <td>557</td>\n",
       "      <td>431</td>\n",
       "      <td>...</td>\n",
       "      <td>583</td>\n",
       "      <td>583</td>\n",
       "      <td>581</td>\n",
       "      <td>540</td>\n",
       "      <td>352</td>\n",
       "      <td>352</td>\n",
       "      <td>352</td>\n",
       "      <td>352</td>\n",
       "      <td>583</td>\n",
       "      <td>583</td>\n",
       "    </tr>\n",
       "    <tr>\n",
       "      <th>Might be</th>\n",
       "      <td>1560</td>\n",
       "      <td>1545</td>\n",
       "      <td>1560</td>\n",
       "      <td>1560</td>\n",
       "      <td>1560</td>\n",
       "      <td>1533</td>\n",
       "      <td>1560</td>\n",
       "      <td>1533</td>\n",
       "      <td>1539</td>\n",
       "      <td>1207</td>\n",
       "      <td>...</td>\n",
       "      <td>1560</td>\n",
       "      <td>1560</td>\n",
       "      <td>1550</td>\n",
       "      <td>1013</td>\n",
       "      <td>848</td>\n",
       "      <td>848</td>\n",
       "      <td>848</td>\n",
       "      <td>848</td>\n",
       "      <td>1560</td>\n",
       "      <td>1560</td>\n",
       "    </tr>\n",
       "    <tr>\n",
       "      <th>Not Sure</th>\n",
       "      <td>1092</td>\n",
       "      <td>1090</td>\n",
       "      <td>1092</td>\n",
       "      <td>1092</td>\n",
       "      <td>1092</td>\n",
       "      <td>1087</td>\n",
       "      <td>1092</td>\n",
       "      <td>1087</td>\n",
       "      <td>1087</td>\n",
       "      <td>986</td>\n",
       "      <td>...</td>\n",
       "      <td>1092</td>\n",
       "      <td>1092</td>\n",
       "      <td>1079</td>\n",
       "      <td>815</td>\n",
       "      <td>605</td>\n",
       "      <td>605</td>\n",
       "      <td>605</td>\n",
       "      <td>605</td>\n",
       "      <td>1092</td>\n",
       "      <td>1092</td>\n",
       "    </tr>\n",
       "    <tr>\n",
       "      <th>Worst</th>\n",
       "      <td>601</td>\n",
       "      <td>601</td>\n",
       "      <td>601</td>\n",
       "      <td>601</td>\n",
       "      <td>601</td>\n",
       "      <td>601</td>\n",
       "      <td>601</td>\n",
       "      <td>601</td>\n",
       "      <td>601</td>\n",
       "      <td>478</td>\n",
       "      <td>...</td>\n",
       "      <td>601</td>\n",
       "      <td>601</td>\n",
       "      <td>601</td>\n",
       "      <td>393</td>\n",
       "      <td>269</td>\n",
       "      <td>269</td>\n",
       "      <td>269</td>\n",
       "      <td>269</td>\n",
       "      <td>601</td>\n",
       "      <td>601</td>\n",
       "    </tr>\n",
       "  </tbody>\n",
       "</table>\n",
       "<p>5 rows × 27 columns</p>\n",
       "</div>"
      ],
      "text/plain": [
       "                   Lead Origin  Lead Source  Do Not Email  Do Not Call  \\\n",
       "Lead Quality                                                             \n",
       "High in Relevance          637          632           637          637   \n",
       "Low in Relevance           583          583           583          583   \n",
       "Might be                  1560         1545          1560         1560   \n",
       "Not Sure                  1092         1090          1092         1092   \n",
       "Worst                      601          601           601          601   \n",
       "\n",
       "                   Converted  TotalVisits  Total Time Spent on Website  \\\n",
       "Lead Quality                                                             \n",
       "High in Relevance        637          597                          637   \n",
       "Low in Relevance         583          556                          583   \n",
       "Might be                1560         1533                         1560   \n",
       "Not Sure                1092         1087                         1092   \n",
       "Worst                    601          601                          601   \n",
       "\n",
       "                   Page Views Per Visit  Last Activity  Country  \\\n",
       "Lead Quality                                                      \n",
       "High in Relevance                   597            611      394   \n",
       "Low in Relevance                    556            557      431   \n",
       "Might be                           1533           1539     1207   \n",
       "Not Sure                           1087           1087      986   \n",
       "Worst                               601            601      478   \n",
       "\n",
       "                           ...            Digital Advertisement  \\\n",
       "Lead Quality               ...                                    \n",
       "High in Relevance          ...                              637   \n",
       "Low in Relevance           ...                              583   \n",
       "Might be                   ...                             1560   \n",
       "Not Sure                   ...                             1092   \n",
       "Worst                      ...                              601   \n",
       "\n",
       "                   Through Recommendations  Tags  City  \\\n",
       "Lead Quality                                             \n",
       "High in Relevance                      637   635   528   \n",
       "Low in Relevance                       583   581   540   \n",
       "Might be                              1560  1550  1013   \n",
       "Not Sure                              1092  1079   815   \n",
       "Worst                                  601   601   393   \n",
       "\n",
       "                   Asymmetrique Activity Index  Asymmetrique Profile Index  \\\n",
       "Lead Quality                                                                 \n",
       "High in Relevance                          375                         375   \n",
       "Low in Relevance                           352                         352   \n",
       "Might be                                   848                         848   \n",
       "Not Sure                                   605                         605   \n",
       "Worst                                      269                         269   \n",
       "\n",
       "                   Asymmetrique Activity Score  Asymmetrique Profile Score  \\\n",
       "Lead Quality                                                                 \n",
       "High in Relevance                          375                         375   \n",
       "Low in Relevance                           352                         352   \n",
       "Might be                                   848                         848   \n",
       "Not Sure                                   605                         605   \n",
       "Worst                                      269                         269   \n",
       "\n",
       "                   A free copy of Mastering The Interview  \\\n",
       "Lead Quality                                                \n",
       "High in Relevance                                     637   \n",
       "Low in Relevance                                      583   \n",
       "Might be                                             1560   \n",
       "Not Sure                                             1092   \n",
       "Worst                                                 601   \n",
       "\n",
       "                   Last Notable Activity  \n",
       "Lead Quality                              \n",
       "High in Relevance                    637  \n",
       "Low in Relevance                     583  \n",
       "Might be                            1560  \n",
       "Not Sure                            1092  \n",
       "Worst                                601  \n",
       "\n",
       "[5 rows x 27 columns]"
      ]
     },
     "execution_count": 15,
     "metadata": {},
     "output_type": "execute_result"
    }
   ],
   "source": [
    "leads_scoring.groupby(by='Lead Quality').count()"
   ]
  },
  {
   "cell_type": "code",
   "execution_count": 16,
   "metadata": {},
   "outputs": [
    {
     "data": {
      "text/plain": [
       "51.59"
      ]
     },
     "execution_count": 16,
     "metadata": {},
     "output_type": "execute_result"
    }
   ],
   "source": [
    "round(100*(leads_scoring['Lead Quality'].isnull().sum()/len(leads_scoring.index)),2)"
   ]
  },
  {
   "cell_type": "markdown",
   "metadata": {},
   "source": [
    "There are more than 50% missing values in 'Lead Quality' column because of no assignment by X Education employee.\n",
    "We don't have any information about these missing fields hence replacing them by 'Unassigned'"
   ]
  },
  {
   "cell_type": "code",
   "execution_count": 17,
   "metadata": {},
   "outputs": [],
   "source": [
    "leads_scoring['Lead Quality']=leads_scoring['Lead Quality'].replace(np.nan,\"Unassigned\")"
   ]
  },
  {
   "cell_type": "code",
   "execution_count": 18,
   "metadata": {},
   "outputs": [
    {
     "data": {
      "text/plain": [
       "Lead Origin                                       0.00\n",
       "Lead Source                                       0.39\n",
       "Do Not Email                                      0.00\n",
       "Do Not Call                                       0.00\n",
       "Converted                                         0.00\n",
       "TotalVisits                                       1.48\n",
       "Total Time Spent on Website                       0.00\n",
       "Page Views Per Visit                              1.48\n",
       "Last Activity                                     1.11\n",
       "Country                                          26.63\n",
       "Specialization                                   36.58\n",
       "What is your current occupation                  29.11\n",
       "What matters most to you in choosing a course    29.32\n",
       "Search                                            0.00\n",
       "Newspaper Article                                 0.00\n",
       "X Education Forums                                0.00\n",
       "Newspaper                                         0.00\n",
       "Digital Advertisement                             0.00\n",
       "Through Recommendations                           0.00\n",
       "Tags                                             36.29\n",
       "Lead Quality                                      0.00\n",
       "City                                             39.71\n",
       "Asymmetrique Activity Index                      45.65\n",
       "Asymmetrique Profile Index                       45.65\n",
       "Asymmetrique Activity Score                      45.65\n",
       "Asymmetrique Profile Score                       45.65\n",
       "A free copy of Mastering The Interview            0.00\n",
       "Last Notable Activity                             0.00\n",
       "dtype: float64"
      ]
     },
     "execution_count": 18,
     "metadata": {},
     "output_type": "execute_result"
    }
   ],
   "source": [
    "round(100*leads_scoring.isnull().sum()/len(leads_scoring.index),2)"
   ]
  },
  {
   "cell_type": "markdown",
   "metadata": {},
   "source": [
    "#### Inspecting & Treating missing values in 'Asymmetrique Profile Index','Asymmetrique Profile Score'"
   ]
  },
  {
   "cell_type": "code",
   "execution_count": 19,
   "metadata": {},
   "outputs": [
    {
     "data": {
      "text/plain": [
       "Asymmetrique Activity Index\n",
       "01.High       821\n",
       "02.Medium    3839\n",
       "03.Low        362\n",
       "Name: Converted, dtype: int64"
      ]
     },
     "execution_count": 19,
     "metadata": {},
     "output_type": "execute_result"
    }
   ],
   "source": [
    "leads_scoring.groupby(['Asymmetrique Activity Index']).Converted.count()"
   ]
  },
  {
   "cell_type": "code",
   "execution_count": 20,
   "metadata": {},
   "outputs": [
    {
     "data": {
      "text/plain": [
       "Asymmetrique Profile Index\n",
       "01.High      2203\n",
       "02.Medium    2788\n",
       "03.Low         31\n",
       "Name: Converted, dtype: int64"
      ]
     },
     "execution_count": 20,
     "metadata": {},
     "output_type": "execute_result"
    }
   ],
   "source": [
    "leads_scoring.groupby(['Asymmetrique Profile Index']).Converted.count()"
   ]
  },
  {
   "cell_type": "code",
   "execution_count": 21,
   "metadata": {},
   "outputs": [
    {
     "data": {
      "text/plain": [
       "Asymmetrique Activity Score\n",
       "7.0        1\n",
       "8.0        4\n",
       "9.0        9\n",
       "10.0      57\n",
       "11.0      95\n",
       "12.0     196\n",
       "13.0     775\n",
       "14.0    1771\n",
       "15.0    1293\n",
       "16.0     467\n",
       "17.0     349\n",
       "18.0       5\n",
       "Name: Converted, dtype: int64"
      ]
     },
     "execution_count": 21,
     "metadata": {},
     "output_type": "execute_result"
    }
   ],
   "source": [
    "leads_scoring.groupby(['Asymmetrique Activity Score']).Converted.count()"
   ]
  },
  {
   "cell_type": "code",
   "execution_count": 22,
   "metadata": {},
   "outputs": [
    {
     "data": {
      "text/plain": [
       "Asymmetrique Profile Score\n",
       "11.0       9\n",
       "12.0      22\n",
       "13.0     204\n",
       "14.0     226\n",
       "15.0    1759\n",
       "16.0     599\n",
       "17.0     579\n",
       "18.0    1071\n",
       "19.0     245\n",
       "20.0     308\n",
       "Name: Converted, dtype: int64"
      ]
     },
     "execution_count": 22,
     "metadata": {},
     "output_type": "execute_result"
    }
   ],
   "source": [
    "leads_scoring.groupby(['Asymmetrique Profile Score']).Converted.count()"
   ]
  },
  {
   "cell_type": "markdown",
   "metadata": {},
   "source": [
    "#### Dropping Asymmetrique Activity Index,Asymmetrique Profile Index,Asymmetrique Activity Score,Asymmetrique Profile Score                       "
   ]
  },
  {
   "cell_type": "code",
   "execution_count": 23,
   "metadata": {},
   "outputs": [],
   "source": [
    "leads_scoring=leads_scoring.drop(['Asymmetrique Activity Index','Asymmetrique Activity Score','Asymmetrique Profile Index','Asymmetrique Profile Score'],axis=1)"
   ]
  },
  {
   "cell_type": "code",
   "execution_count": 24,
   "metadata": {},
   "outputs": [
    {
     "data": {
      "text/plain": [
       "Lead Origin                                       0.00\n",
       "Lead Source                                       0.39\n",
       "Do Not Email                                      0.00\n",
       "Do Not Call                                       0.00\n",
       "Converted                                         0.00\n",
       "TotalVisits                                       1.48\n",
       "Total Time Spent on Website                       0.00\n",
       "Page Views Per Visit                              1.48\n",
       "Last Activity                                     1.11\n",
       "Country                                          26.63\n",
       "Specialization                                   36.58\n",
       "What is your current occupation                  29.11\n",
       "What matters most to you in choosing a course    29.32\n",
       "Search                                            0.00\n",
       "Newspaper Article                                 0.00\n",
       "X Education Forums                                0.00\n",
       "Newspaper                                         0.00\n",
       "Digital Advertisement                             0.00\n",
       "Through Recommendations                           0.00\n",
       "Tags                                             36.29\n",
       "Lead Quality                                      0.00\n",
       "City                                             39.71\n",
       "A free copy of Mastering The Interview            0.00\n",
       "Last Notable Activity                             0.00\n",
       "dtype: float64"
      ]
     },
     "execution_count": 24,
     "metadata": {},
     "output_type": "execute_result"
    }
   ],
   "source": [
    "round(100*leads_scoring.isnull().sum()/len(leads_scoring.index),2)"
   ]
  },
  {
   "cell_type": "markdown",
   "metadata": {},
   "source": [
    "#### Treating City Collumn missing values"
   ]
  },
  {
   "cell_type": "code",
   "execution_count": 25,
   "metadata": {},
   "outputs": [
    {
     "data": {
      "text/plain": [
       "City\n",
       "Mumbai                         34.87\n",
       "Other Cities                    7.42\n",
       "Other Cities of Maharashtra     4.95\n",
       "Other Metro Cities              4.11\n",
       "Thane & Outskirts               8.14\n",
       "Tier II Cities                  0.80\n",
       "Name: City, dtype: float64"
      ]
     },
     "execution_count": 25,
     "metadata": {},
     "output_type": "execute_result"
    }
   ],
   "source": [
    "round(100*(leads_scoring.groupby('City').City.count()/len(leads_scoring.index)),2)"
   ]
  },
  {
   "cell_type": "markdown",
   "metadata": {},
   "source": [
    "#### 'City' column has approximately 40% missing values. The Collumn has maximum occurence of 'Mumbai' and other values have very few occurences .Thus we cannot impute the collumn with any value and decide to drop it as well"
   ]
  },
  {
   "cell_type": "code",
   "execution_count": 26,
   "metadata": {},
   "outputs": [],
   "source": [
    "leads_scoring.drop('City',axis=1,inplace=True)"
   ]
  },
  {
   "cell_type": "code",
   "execution_count": 27,
   "metadata": {},
   "outputs": [
    {
     "data": {
      "text/plain": [
       "Lead Origin                                       0.00\n",
       "Lead Source                                       0.39\n",
       "Do Not Email                                      0.00\n",
       "Do Not Call                                       0.00\n",
       "Converted                                         0.00\n",
       "TotalVisits                                       1.48\n",
       "Total Time Spent on Website                       0.00\n",
       "Page Views Per Visit                              1.48\n",
       "Last Activity                                     1.11\n",
       "Country                                          26.63\n",
       "Specialization                                   36.58\n",
       "What is your current occupation                  29.11\n",
       "What matters most to you in choosing a course    29.32\n",
       "Search                                            0.00\n",
       "Newspaper Article                                 0.00\n",
       "X Education Forums                                0.00\n",
       "Newspaper                                         0.00\n",
       "Digital Advertisement                             0.00\n",
       "Through Recommendations                           0.00\n",
       "Tags                                             36.29\n",
       "Lead Quality                                      0.00\n",
       "A free copy of Mastering The Interview            0.00\n",
       "Last Notable Activity                             0.00\n",
       "dtype: float64"
      ]
     },
     "execution_count": 27,
     "metadata": {},
     "output_type": "execute_result"
    }
   ],
   "source": [
    "round(100*leads_scoring.isnull().sum()/len(leads_scoring.index),2)"
   ]
  },
  {
   "cell_type": "markdown",
   "metadata": {},
   "source": [
    "#### Treating Tags collumn missing values"
   ]
  },
  {
   "cell_type": "code",
   "execution_count": 28,
   "metadata": {},
   "outputs": [
    {
     "data": {
      "text/plain": [
       "Tags\n",
       "Already a student                                     5.03\n",
       "Busy                                                  2.01\n",
       "Closed by Horizzon                                    3.87\n",
       "Diploma holder (Not Eligible)                         0.68\n",
       "Graduation in progress                                1.20\n",
       "In confusion whether part time or DLP                 0.05\n",
       "Interested  in full time MBA                          1.27\n",
       "Interested in Next batch                              0.05\n",
       "Interested in other courses                           5.55\n",
       "Lateral student                                       0.03\n",
       "Lost to EINS                                          1.89\n",
       "Lost to Others                                        0.08\n",
       "Not doing further education                           1.57\n",
       "Recognition issue (DEC approval)                      0.01\n",
       "Ringing                                              13.02\n",
       "Shall take in the next coming month                   0.02\n",
       "Still Thinking                                        0.06\n",
       "University not recognized                             0.02\n",
       "Want to take admission but has financial problems     0.06\n",
       "Will revert after reading the email                  22.42\n",
       "in touch with EINS                                    0.13\n",
       "invalid number                                        0.90\n",
       "number not provided                                   0.29\n",
       "opp hangup                                            0.36\n",
       "switched off                                          2.60\n",
       "wrong number given                                    0.51\n",
       "Name: Tags, dtype: float64"
      ]
     },
     "execution_count": 28,
     "metadata": {},
     "output_type": "execute_result"
    }
   ],
   "source": [
    "round(100*(leads_scoring.groupby('Tags').Tags.count()/len(leads_scoring.index)),2)"
   ]
  },
  {
   "cell_type": "markdown",
   "metadata": {},
   "source": [
    "Since we don't know what might be the status of missing value 'Tags', it is better to replace them with value 'Unknown'"
   ]
  },
  {
   "cell_type": "code",
   "execution_count": 29,
   "metadata": {},
   "outputs": [],
   "source": [
    "leads_scoring['Tags']=leads_scoring['Tags'].replace(np.nan,'Unknown')"
   ]
  },
  {
   "cell_type": "code",
   "execution_count": 30,
   "metadata": {},
   "outputs": [
    {
     "data": {
      "text/plain": [
       "Lead Origin                                       0.00\n",
       "Lead Source                                       0.39\n",
       "Do Not Email                                      0.00\n",
       "Do Not Call                                       0.00\n",
       "Converted                                         0.00\n",
       "TotalVisits                                       1.48\n",
       "Total Time Spent on Website                       0.00\n",
       "Page Views Per Visit                              1.48\n",
       "Last Activity                                     1.11\n",
       "Country                                          26.63\n",
       "Specialization                                   36.58\n",
       "What is your current occupation                  29.11\n",
       "What matters most to you in choosing a course    29.32\n",
       "Search                                            0.00\n",
       "Newspaper Article                                 0.00\n",
       "X Education Forums                                0.00\n",
       "Newspaper                                         0.00\n",
       "Digital Advertisement                             0.00\n",
       "Through Recommendations                           0.00\n",
       "Tags                                              0.00\n",
       "Lead Quality                                      0.00\n",
       "A free copy of Mastering The Interview            0.00\n",
       "Last Notable Activity                             0.00\n",
       "dtype: float64"
      ]
     },
     "execution_count": 30,
     "metadata": {},
     "output_type": "execute_result"
    }
   ],
   "source": [
    "round(100*leads_scoring.isnull().sum()/len(leads_scoring.index),2)"
   ]
  },
  {
   "cell_type": "markdown",
   "metadata": {},
   "source": [
    "#### Treating Specialization collumn missing values"
   ]
  },
  {
   "cell_type": "code",
   "execution_count": 31,
   "metadata": {},
   "outputs": [
    {
     "data": {
      "text/plain": [
       "Specialization\n",
       "Banking, Investment And Insurance     3.66\n",
       "Business Administration               4.36\n",
       "E-Business                            0.62\n",
       "E-COMMERCE                            1.21\n",
       "Finance Management                   10.56\n",
       "Healthcare Management                 1.72\n",
       "Hospitality Management                1.23\n",
       "Human Resource Management             9.18\n",
       "IT Projects Management                3.96\n",
       "International Business                1.93\n",
       "Marketing Management                  9.07\n",
       "Media and Advertising                 2.20\n",
       "Operations Management                 5.44\n",
       "Retail Management                     1.08\n",
       "Rural and Agribusiness                0.79\n",
       "Services Excellence                   0.43\n",
       "Supply Chain Management               3.78\n",
       "Travel and Tourism                    2.20\n",
       "Name: Specialization, dtype: float64"
      ]
     },
     "execution_count": 31,
     "metadata": {},
     "output_type": "execute_result"
    }
   ],
   "source": [
    "round(100*(leads_scoring.groupby('Specialization').Specialization.count()/len(leads_scoring.index)),2)"
   ]
  },
  {
   "cell_type": "markdown",
   "metadata": {},
   "source": [
    "37% values are missing in 'Specialization' & we don't have any information about those missing value prospects. Hence replacing the null values with 'Specialization Not given'"
   ]
  },
  {
   "cell_type": "code",
   "execution_count": 32,
   "metadata": {},
   "outputs": [],
   "source": [
    "leads_scoring['Specialization']=leads_scoring['Specialization'].replace(np.nan,'Specialization Not given')"
   ]
  },
  {
   "cell_type": "code",
   "execution_count": 33,
   "metadata": {},
   "outputs": [
    {
     "data": {
      "text/plain": [
       "Lead Origin                                       0.00\n",
       "Lead Source                                       0.39\n",
       "Do Not Email                                      0.00\n",
       "Do Not Call                                       0.00\n",
       "Converted                                         0.00\n",
       "TotalVisits                                       1.48\n",
       "Total Time Spent on Website                       0.00\n",
       "Page Views Per Visit                              1.48\n",
       "Last Activity                                     1.11\n",
       "Country                                          26.63\n",
       "Specialization                                    0.00\n",
       "What is your current occupation                  29.11\n",
       "What matters most to you in choosing a course    29.32\n",
       "Search                                            0.00\n",
       "Newspaper Article                                 0.00\n",
       "X Education Forums                                0.00\n",
       "Newspaper                                         0.00\n",
       "Digital Advertisement                             0.00\n",
       "Through Recommendations                           0.00\n",
       "Tags                                              0.00\n",
       "Lead Quality                                      0.00\n",
       "A free copy of Mastering The Interview            0.00\n",
       "Last Notable Activity                             0.00\n",
       "dtype: float64"
      ]
     },
     "execution_count": 33,
     "metadata": {},
     "output_type": "execute_result"
    }
   ],
   "source": [
    "round(100*leads_scoring.isnull().sum()/len(leads_scoring.index),2)"
   ]
  },
  {
   "cell_type": "markdown",
   "metadata": {},
   "source": [
    "#### Treating What is your current occupation missing values"
   ]
  },
  {
   "cell_type": "code",
   "execution_count": 34,
   "metadata": {},
   "outputs": [
    {
     "data": {
      "text/plain": [
       "What is your current occupation\n",
       "Businessman              0.09\n",
       "Housewife                0.11\n",
       "Other                    0.17\n",
       "Student                  2.27\n",
       "Unemployed              60.61\n",
       "Working Professional     7.64\n",
       "Name: What is your current occupation, dtype: float64"
      ]
     },
     "execution_count": 34,
     "metadata": {},
     "output_type": "execute_result"
    }
   ],
   "source": [
    "round(100*(leads_scoring.groupby('What is your current occupation')['What is your current occupation'].count()/len(leads_scoring.index)),2)"
   ]
  },
  {
   "cell_type": "markdown",
   "metadata": {},
   "source": [
    "60% of Data is Unemployed, however it'd be wrong to impute this value ,hence we will impute it with Other"
   ]
  },
  {
   "cell_type": "code",
   "execution_count": 35,
   "metadata": {},
   "outputs": [],
   "source": [
    "leads_scoring['What is your current occupation']=leads_scoring['What is your current occupation'].replace(np.nan,'Other')"
   ]
  },
  {
   "cell_type": "code",
   "execution_count": 36,
   "metadata": {},
   "outputs": [
    {
     "data": {
      "text/plain": [
       "Lead Origin                                       0.00\n",
       "Lead Source                                       0.39\n",
       "Do Not Email                                      0.00\n",
       "Do Not Call                                       0.00\n",
       "Converted                                         0.00\n",
       "TotalVisits                                       1.48\n",
       "Total Time Spent on Website                       0.00\n",
       "Page Views Per Visit                              1.48\n",
       "Last Activity                                     1.11\n",
       "Country                                          26.63\n",
       "Specialization                                    0.00\n",
       "What is your current occupation                   0.00\n",
       "What matters most to you in choosing a course    29.32\n",
       "Search                                            0.00\n",
       "Newspaper Article                                 0.00\n",
       "X Education Forums                                0.00\n",
       "Newspaper                                         0.00\n",
       "Digital Advertisement                             0.00\n",
       "Through Recommendations                           0.00\n",
       "Tags                                              0.00\n",
       "Lead Quality                                      0.00\n",
       "A free copy of Mastering The Interview            0.00\n",
       "Last Notable Activity                             0.00\n",
       "dtype: float64"
      ]
     },
     "execution_count": 36,
     "metadata": {},
     "output_type": "execute_result"
    }
   ],
   "source": [
    "round(100*leads_scoring.isnull().sum()/len(leads_scoring.index),2)"
   ]
  },
  {
   "cell_type": "markdown",
   "metadata": {},
   "source": [
    "#### Treating What matters most to you in choosing a course collumn missing values"
   ]
  },
  {
   "cell_type": "code",
   "execution_count": 37,
   "metadata": {},
   "outputs": [
    {
     "data": {
      "text/plain": [
       "What matters most to you in choosing a course\n",
       "Better Career Prospects      70.65\n",
       "Flexibility & Convenience     0.02\n",
       "Other                         0.01\n",
       "Name: What matters most to you in choosing a course, dtype: float64"
      ]
     },
     "execution_count": 37,
     "metadata": {},
     "output_type": "execute_result"
    }
   ],
   "source": [
    "round(100*(leads_scoring.groupby('What matters most to you in choosing a course')['What matters most to you in choosing a course'].count()/len(leads_scoring.index)),2)"
   ]
  },
  {
   "cell_type": "markdown",
   "metadata": {},
   "source": [
    "In 'What matters most to you in choosing a course' 71% values are 'Better Career Prospects'. Missing values are 29%. It makes sense both logically as well as business point of view to impute the collumn value with 'Better Career Prospects'"
   ]
  },
  {
   "cell_type": "code",
   "execution_count": 38,
   "metadata": {},
   "outputs": [],
   "source": [
    "leads_scoring['What matters most to you in choosing a course']=leads_scoring['What matters most to you in choosing a course'].replace(np.nan,'Better Career Prospects')"
   ]
  },
  {
   "cell_type": "code",
   "execution_count": 39,
   "metadata": {},
   "outputs": [
    {
     "data": {
      "text/plain": [
       "What matters most to you in choosing a course\n",
       "Better Career Prospects      99.97\n",
       "Flexibility & Convenience     0.02\n",
       "Other                         0.01\n",
       "Name: What matters most to you in choosing a course, dtype: float64"
      ]
     },
     "execution_count": 39,
     "metadata": {},
     "output_type": "execute_result"
    }
   ],
   "source": [
    "round(100*(leads_scoring.groupby('What matters most to you in choosing a course')['What matters most to you in choosing a course'].count()/len(leads_scoring.index)),2)"
   ]
  },
  {
   "cell_type": "markdown",
   "metadata": {},
   "source": [
    "#### After imputing the values we can see that 99.97% of the collumn value is Better Career Prospects . Thus it can be dropped as the main reason that customers take course is for Better Career Prospects and doesn't help in analysis"
   ]
  },
  {
   "cell_type": "code",
   "execution_count": 40,
   "metadata": {},
   "outputs": [],
   "source": [
    "leads_scoring.drop('What matters most to you in choosing a course',axis=1,inplace=True)"
   ]
  },
  {
   "cell_type": "markdown",
   "metadata": {},
   "source": [
    "'What is your current occupation' has ~29% missing values. 60% prospects are Unemployed. But it is unsafe to replace the missing fields with 'Unemployed'\n",
    "Hence replacing the missing field with 'Other'"
   ]
  },
  {
   "cell_type": "code",
   "execution_count": 41,
   "metadata": {},
   "outputs": [
    {
     "data": {
      "text/plain": [
       "Lead Origin                                0.00\n",
       "Lead Source                                0.39\n",
       "Do Not Email                               0.00\n",
       "Do Not Call                                0.00\n",
       "Converted                                  0.00\n",
       "TotalVisits                                1.48\n",
       "Total Time Spent on Website                0.00\n",
       "Page Views Per Visit                       1.48\n",
       "Last Activity                              1.11\n",
       "Country                                   26.63\n",
       "Specialization                             0.00\n",
       "What is your current occupation            0.00\n",
       "Search                                     0.00\n",
       "Newspaper Article                          0.00\n",
       "X Education Forums                         0.00\n",
       "Newspaper                                  0.00\n",
       "Digital Advertisement                      0.00\n",
       "Through Recommendations                    0.00\n",
       "Tags                                       0.00\n",
       "Lead Quality                               0.00\n",
       "A free copy of Mastering The Interview     0.00\n",
       "Last Notable Activity                      0.00\n",
       "dtype: float64"
      ]
     },
     "execution_count": 41,
     "metadata": {},
     "output_type": "execute_result"
    }
   ],
   "source": [
    "round(100*leads_scoring.isnull().sum()/len(leads_scoring.index),2)"
   ]
  },
  {
   "cell_type": "markdown",
   "metadata": {},
   "source": [
    "#### Treating Country collumn missing values"
   ]
  },
  {
   "cell_type": "code",
   "execution_count": 42,
   "metadata": {},
   "outputs": [
    {
     "data": {
      "text/plain": [
       "Country\n",
       "Asia/Pacific Region      0.02\n",
       "Australia                0.14\n",
       "Bahrain                  0.08\n",
       "Bangladesh               0.02\n",
       "Belgium                  0.02\n",
       "Canada                   0.04\n",
       "China                    0.02\n",
       "Denmark                  0.01\n",
       "France                   0.06\n",
       "Germany                  0.04\n",
       "Ghana                    0.02\n",
       "Hong Kong                0.08\n",
       "India                   70.26\n",
       "Indonesia                0.01\n",
       "Italy                    0.02\n",
       "Kenya                    0.01\n",
       "Kuwait                   0.04\n",
       "Liberia                  0.01\n",
       "Malaysia                 0.01\n",
       "Netherlands              0.02\n",
       "Nigeria                  0.04\n",
       "Oman                     0.06\n",
       "Philippines              0.02\n",
       "Qatar                    0.11\n",
       "Russia                   0.01\n",
       "Saudi Arabia             0.23\n",
       "Singapore                0.26\n",
       "South Africa             0.04\n",
       "Sri Lanka                0.01\n",
       "Sweden                   0.03\n",
       "Switzerland              0.01\n",
       "Tanzania                 0.01\n",
       "Uganda                   0.02\n",
       "United Arab Emirates     0.57\n",
       "United Kingdom           0.16\n",
       "United States            0.75\n",
       "Vietnam                  0.01\n",
       "unknown                  0.05\n",
       "Name: Country, dtype: float64"
      ]
     },
     "execution_count": 42,
     "metadata": {},
     "output_type": "execute_result"
    }
   ],
   "source": [
    "round(100*(leads_scoring.groupby('Country').Country.count()/len(leads_scoring.index)),2)"
   ]
  },
  {
   "cell_type": "markdown",
   "metadata": {},
   "source": [
    "Country India is the maximum occuring value in Collumn Country thus imputing missing values with this value"
   ]
  },
  {
   "cell_type": "code",
   "execution_count": 43,
   "metadata": {},
   "outputs": [],
   "source": [
    "leads_scoring['Country']=leads_scoring['Country'].replace(np.nan,'India') "
   ]
  },
  {
   "cell_type": "code",
   "execution_count": 44,
   "metadata": {},
   "outputs": [
    {
     "data": {
      "text/plain": [
       "Lead Origin                               0.00\n",
       "Lead Source                               0.39\n",
       "Do Not Email                              0.00\n",
       "Do Not Call                               0.00\n",
       "Converted                                 0.00\n",
       "TotalVisits                               1.48\n",
       "Total Time Spent on Website               0.00\n",
       "Page Views Per Visit                      1.48\n",
       "Last Activity                             1.11\n",
       "Country                                   0.00\n",
       "Specialization                            0.00\n",
       "What is your current occupation           0.00\n",
       "Search                                    0.00\n",
       "Newspaper Article                         0.00\n",
       "X Education Forums                        0.00\n",
       "Newspaper                                 0.00\n",
       "Digital Advertisement                     0.00\n",
       "Through Recommendations                   0.00\n",
       "Tags                                      0.00\n",
       "Lead Quality                              0.00\n",
       "A free copy of Mastering The Interview    0.00\n",
       "Last Notable Activity                     0.00\n",
       "dtype: float64"
      ]
     },
     "execution_count": 44,
     "metadata": {},
     "output_type": "execute_result"
    }
   ],
   "source": [
    "round(100*leads_scoring.isnull().sum()/len(leads_scoring.index),2)"
   ]
  },
  {
   "cell_type": "markdown",
   "metadata": {},
   "source": [
    "#### Inspecting & Treating missing values in 'Lead Source'"
   ]
  },
  {
   "cell_type": "code",
   "execution_count": 45,
   "metadata": {},
   "outputs": [
    {
     "data": {
      "text/plain": [
       "Page Views Per Visit\n",
       "0.00     23.69\n",
       "1.00      7.05\n",
       "1.14      0.02\n",
       "1.17      0.01\n",
       "1.19      0.01\n",
       "1.20      0.05\n",
       "1.21      0.01\n",
       "1.22      0.02\n",
       "1.23      0.02\n",
       "1.25      0.25\n",
       "1.27      0.01\n",
       "1.31      0.01\n",
       "1.33      0.71\n",
       "1.38      0.03\n",
       "1.40      0.12\n",
       "1.43      0.04\n",
       "1.45      0.01\n",
       "1.48      0.01\n",
       "1.50      3.31\n",
       "1.54      0.01\n",
       "1.56      0.02\n",
       "1.57      0.03\n",
       "1.60      0.09\n",
       "1.63      0.01\n",
       "1.64      0.01\n",
       "1.67      0.65\n",
       "1.71      0.04\n",
       "1.75      0.30\n",
       "1.78      0.03\n",
       "1.80      0.14\n",
       "         ...  \n",
       "5.00      5.60\n",
       "5.25      0.02\n",
       "5.33      0.02\n",
       "5.40      0.02\n",
       "5.50      0.23\n",
       "5.67      0.03\n",
       "6.00      2.64\n",
       "6.33      0.01\n",
       "6.50      0.14\n",
       "6.67      0.01\n",
       "6.71      0.01\n",
       "7.00      1.44\n",
       "7.50      0.02\n",
       "8.00      0.93\n",
       "8.21      0.01\n",
       "8.33      0.01\n",
       "8.50      0.01\n",
       "9.00      0.49\n",
       "10.00     0.27\n",
       "11.00     0.19\n",
       "11.50     0.01\n",
       "12.00     0.05\n",
       "12.33     0.01\n",
       "13.00     0.06\n",
       "14.00     0.10\n",
       "14.50     0.01\n",
       "15.00     0.04\n",
       "16.00     0.03\n",
       "24.00     0.01\n",
       "55.00     0.01\n",
       "Name: Page Views Per Visit, Length: 114, dtype: float64"
      ]
     },
     "execution_count": 45,
     "metadata": {},
     "output_type": "execute_result"
    }
   ],
   "source": [
    "round(100*(leads_scoring.groupby('Page Views Per Visit')['Page Views Per Visit'].count()/len(leads_scoring.index)),2)"
   ]
  },
  {
   "cell_type": "markdown",
   "metadata": {},
   "source": [
    "0.0 is the maximum occuring values , thus we will impute collumn with the same"
   ]
  },
  {
   "cell_type": "code",
   "execution_count": 46,
   "metadata": {},
   "outputs": [],
   "source": [
    "leads_scoring['Page Views Per Visit'].replace(np.nan,0.0,inplace=True)"
   ]
  },
  {
   "cell_type": "code",
   "execution_count": 47,
   "metadata": {},
   "outputs": [
    {
     "data": {
      "text/plain": [
       "Lead Origin                               0.00\n",
       "Lead Source                               0.39\n",
       "Do Not Email                              0.00\n",
       "Do Not Call                               0.00\n",
       "Converted                                 0.00\n",
       "TotalVisits                               1.48\n",
       "Total Time Spent on Website               0.00\n",
       "Page Views Per Visit                      0.00\n",
       "Last Activity                             1.11\n",
       "Country                                   0.00\n",
       "Specialization                            0.00\n",
       "What is your current occupation           0.00\n",
       "Search                                    0.00\n",
       "Newspaper Article                         0.00\n",
       "X Education Forums                        0.00\n",
       "Newspaper                                 0.00\n",
       "Digital Advertisement                     0.00\n",
       "Through Recommendations                   0.00\n",
       "Tags                                      0.00\n",
       "Lead Quality                              0.00\n",
       "A free copy of Mastering The Interview    0.00\n",
       "Last Notable Activity                     0.00\n",
       "dtype: float64"
      ]
     },
     "execution_count": 47,
     "metadata": {},
     "output_type": "execute_result"
    }
   ],
   "source": [
    "round(100*leads_scoring.isnull().sum()/len(leads_scoring.index),2)"
   ]
  },
  {
   "cell_type": "markdown",
   "metadata": {},
   "source": [
    "#### Treating missing values in Total Visits column "
   ]
  },
  {
   "cell_type": "code",
   "execution_count": 48,
   "metadata": {},
   "outputs": [
    {
     "data": {
      "text/plain": [
       "TotalVisits\n",
       "0.0      23.69\n",
       "1.0       4.27\n",
       "2.0      18.18\n",
       "3.0      14.13\n",
       "4.0      12.12\n",
       "5.0       8.47\n",
       "6.0       5.04\n",
       "7.0       3.34\n",
       "8.0       2.42\n",
       "9.0       1.77\n",
       "10.0      1.23\n",
       "11.0      0.93\n",
       "12.0      0.49\n",
       "13.0      0.52\n",
       "14.0      0.39\n",
       "15.0      0.19\n",
       "16.0      0.23\n",
       "17.0      0.17\n",
       "18.0      0.16\n",
       "19.0      0.10\n",
       "20.0      0.13\n",
       "21.0      0.06\n",
       "22.0      0.03\n",
       "23.0      0.06\n",
       "24.0      0.05\n",
       "25.0      0.05\n",
       "26.0      0.02\n",
       "27.0      0.05\n",
       "28.0      0.02\n",
       "29.0      0.02\n",
       "30.0      0.01\n",
       "32.0      0.01\n",
       "41.0      0.01\n",
       "42.0      0.01\n",
       "43.0      0.01\n",
       "54.0      0.01\n",
       "55.0      0.01\n",
       "74.0      0.01\n",
       "115.0     0.01\n",
       "141.0     0.01\n",
       "251.0     0.01\n",
       "Name: TotalVisits, dtype: float64"
      ]
     },
     "execution_count": 48,
     "metadata": {},
     "output_type": "execute_result"
    }
   ],
   "source": [
    "round(100*(leads_scoring.groupby('TotalVisits')['TotalVisits'].count()/len(leads_scoring.index)),2)"
   ]
  },
  {
   "cell_type": "markdown",
   "metadata": {},
   "source": [
    "0.0 is the maximum occuring values , thus we will impute collumn with the same"
   ]
  },
  {
   "cell_type": "code",
   "execution_count": 49,
   "metadata": {},
   "outputs": [],
   "source": [
    "leads_scoring['TotalVisits'].replace(np.nan,0.0,inplace=True)"
   ]
  },
  {
   "cell_type": "code",
   "execution_count": 50,
   "metadata": {},
   "outputs": [
    {
     "data": {
      "text/plain": [
       "Lead Origin                               0.00\n",
       "Lead Source                               0.39\n",
       "Do Not Email                              0.00\n",
       "Do Not Call                               0.00\n",
       "Converted                                 0.00\n",
       "TotalVisits                               0.00\n",
       "Total Time Spent on Website               0.00\n",
       "Page Views Per Visit                      0.00\n",
       "Last Activity                             1.11\n",
       "Country                                   0.00\n",
       "Specialization                            0.00\n",
       "What is your current occupation           0.00\n",
       "Search                                    0.00\n",
       "Newspaper Article                         0.00\n",
       "X Education Forums                        0.00\n",
       "Newspaper                                 0.00\n",
       "Digital Advertisement                     0.00\n",
       "Through Recommendations                   0.00\n",
       "Tags                                      0.00\n",
       "Lead Quality                              0.00\n",
       "A free copy of Mastering The Interview    0.00\n",
       "Last Notable Activity                     0.00\n",
       "dtype: float64"
      ]
     },
     "execution_count": 50,
     "metadata": {},
     "output_type": "execute_result"
    }
   ],
   "source": [
    "round(100*leads_scoring.isnull().sum()/len(leads_scoring.index),2)"
   ]
  },
  {
   "cell_type": "markdown",
   "metadata": {},
   "source": [
    "#### Treating missing values in Last Activity collumn"
   ]
  },
  {
   "cell_type": "code",
   "execution_count": 51,
   "metadata": {},
   "outputs": [
    {
     "data": {
      "text/plain": [
       "Last Activity\n",
       "Approached upfront               0.10\n",
       "Converted to Lead                4.63\n",
       "Email Bounced                    3.53\n",
       "Email Link Clicked               2.89\n",
       "Email Marked Spam                0.02\n",
       "Email Opened                    37.20\n",
       "Email Received                   0.02\n",
       "Form Submitted on Website        1.26\n",
       "Had a Phone Conversation         0.32\n",
       "Olark Chat Conversation         10.53\n",
       "Page Visited on Website          6.93\n",
       "Resubscribed to emails           0.01\n",
       "SMS Sent                        29.71\n",
       "Unreachable                      1.01\n",
       "Unsubscribed                     0.66\n",
       "View in browser link Clicked     0.06\n",
       "Visited Booth in Tradeshow       0.01\n",
       "Name: Last Activity, dtype: float64"
      ]
     },
     "execution_count": 51,
     "metadata": {},
     "output_type": "execute_result"
    }
   ],
   "source": [
    "round(100*(leads_scoring.groupby('Last Activity')['Last Activity'].count()/len(leads_scoring.index)),2)"
   ]
  },
  {
   "cell_type": "markdown",
   "metadata": {},
   "source": [
    "Replacing nan values with maximum occuring value that is Email Opened"
   ]
  },
  {
   "cell_type": "code",
   "execution_count": 52,
   "metadata": {},
   "outputs": [],
   "source": [
    "leads_scoring['Last Activity']=leads_scoring['Last Activity'].replace(np.nan,'Email Opened')"
   ]
  },
  {
   "cell_type": "code",
   "execution_count": 53,
   "metadata": {},
   "outputs": [
    {
     "data": {
      "text/plain": [
       "Lead Origin                               0.00\n",
       "Lead Source                               0.39\n",
       "Do Not Email                              0.00\n",
       "Do Not Call                               0.00\n",
       "Converted                                 0.00\n",
       "TotalVisits                               0.00\n",
       "Total Time Spent on Website               0.00\n",
       "Page Views Per Visit                      0.00\n",
       "Last Activity                             0.00\n",
       "Country                                   0.00\n",
       "Specialization                            0.00\n",
       "What is your current occupation           0.00\n",
       "Search                                    0.00\n",
       "Newspaper Article                         0.00\n",
       "X Education Forums                        0.00\n",
       "Newspaper                                 0.00\n",
       "Digital Advertisement                     0.00\n",
       "Through Recommendations                   0.00\n",
       "Tags                                      0.00\n",
       "Lead Quality                              0.00\n",
       "A free copy of Mastering The Interview    0.00\n",
       "Last Notable Activity                     0.00\n",
       "dtype: float64"
      ]
     },
     "execution_count": 53,
     "metadata": {},
     "output_type": "execute_result"
    }
   ],
   "source": [
    "round(100*leads_scoring.isnull().sum()/len(leads_scoring.index),2)"
   ]
  },
  {
   "cell_type": "markdown",
   "metadata": {},
   "source": [
    "#### Treating Lead Source missing values"
   ]
  },
  {
   "cell_type": "code",
   "execution_count": 54,
   "metadata": {},
   "outputs": [
    {
     "data": {
      "text/plain": [
       "Lead Source\n",
       "Click2call            0.04\n",
       "Direct Traffic       27.52\n",
       "Facebook              0.60\n",
       "Google               31.04\n",
       "Live Chat             0.02\n",
       "NC_EDM                0.01\n",
       "Olark Chat           18.99\n",
       "Organic Search       12.49\n",
       "Pay per Click Ads     0.01\n",
       "Press_Release         0.02\n",
       "Reference             5.78\n",
       "Referral Sites        1.35\n",
       "Social Media          0.02\n",
       "WeLearn               0.01\n",
       "Welingak Website      1.54\n",
       "bing                  0.06\n",
       "blog                  0.01\n",
       "google                0.05\n",
       "testone               0.01\n",
       "welearnblog_Home      0.01\n",
       "youtubechannel        0.01\n",
       "Name: Lead Source, dtype: float64"
      ]
     },
     "execution_count": 54,
     "metadata": {},
     "output_type": "execute_result"
    }
   ],
   "source": [
    "round(100*(leads_scoring.groupby('Lead Source')['Lead Source'].count()/len(leads_scoring.index)),2)"
   ]
  },
  {
   "cell_type": "code",
   "execution_count": 55,
   "metadata": {},
   "outputs": [],
   "source": [
    "#Google is appearing twice in different case letters, removing this inconsistency\n",
    "leads_scoring['Lead Source']=np.where(leads_scoring['Lead Source']==\"google\",\"Google\",leads_scoring['Lead Source'])"
   ]
  },
  {
   "cell_type": "code",
   "execution_count": 56,
   "metadata": {},
   "outputs": [
    {
     "data": {
      "text/plain": [
       "Google               31.09\n",
       "Direct Traffic       27.52\n",
       "Olark Chat           18.99\n",
       "Organic Search       12.49\n",
       "Reference             5.78\n",
       "Welingak Website      1.54\n",
       "Referral Sites        1.35\n",
       "Facebook              0.60\n",
       "bing                  0.06\n",
       "Click2call            0.04\n",
       "Live Chat             0.02\n",
       "Social Media          0.02\n",
       "Press_Release         0.02\n",
       "blog                  0.01\n",
       "testone               0.01\n",
       "WeLearn               0.01\n",
       "Pay per Click Ads     0.01\n",
       "welearnblog_Home      0.01\n",
       "NC_EDM                0.01\n",
       "youtubechannel        0.01\n",
       "Name: Lead Source, dtype: float64"
      ]
     },
     "execution_count": 56,
     "metadata": {},
     "output_type": "execute_result"
    }
   ],
   "source": [
    "round(100*(leads_scoring['Lead Source'].value_counts()/len(leads_scoring.index)),2)"
   ]
  },
  {
   "cell_type": "markdown",
   "metadata": {},
   "source": [
    "In lead Source column, replacing null values with most occurring value \"Google\""
   ]
  },
  {
   "cell_type": "code",
   "execution_count": 57,
   "metadata": {},
   "outputs": [],
   "source": [
    "leads_scoring['Lead Source']=leads_scoring['Lead Source'].replace(np.nan,'Google')"
   ]
  },
  {
   "cell_type": "code",
   "execution_count": 58,
   "metadata": {},
   "outputs": [
    {
     "data": {
      "text/plain": [
       "Lead Origin                               0.0\n",
       "Lead Source                               0.0\n",
       "Do Not Email                              0.0\n",
       "Do Not Call                               0.0\n",
       "Converted                                 0.0\n",
       "TotalVisits                               0.0\n",
       "Total Time Spent on Website               0.0\n",
       "Page Views Per Visit                      0.0\n",
       "Last Activity                             0.0\n",
       "Country                                   0.0\n",
       "Specialization                            0.0\n",
       "What is your current occupation           0.0\n",
       "Search                                    0.0\n",
       "Newspaper Article                         0.0\n",
       "X Education Forums                        0.0\n",
       "Newspaper                                 0.0\n",
       "Digital Advertisement                     0.0\n",
       "Through Recommendations                   0.0\n",
       "Tags                                      0.0\n",
       "Lead Quality                              0.0\n",
       "A free copy of Mastering The Interview    0.0\n",
       "Last Notable Activity                     0.0\n",
       "dtype: float64"
      ]
     },
     "execution_count": 58,
     "metadata": {},
     "output_type": "execute_result"
    }
   ],
   "source": [
    "round(100*leads_scoring.isnull().sum()/len(leads_scoring.index),2)"
   ]
  },
  {
   "cell_type": "markdown",
   "metadata": {},
   "source": [
    "#### Thus all missing values have been handled"
   ]
  },
  {
   "cell_type": "markdown",
   "metadata": {},
   "source": [
    "**Treating columns based on value frequency**"
   ]
  },
  {
   "cell_type": "code",
   "execution_count": 59,
   "metadata": {},
   "outputs": [
    {
     "data": {
      "text/plain": [
       "Lead Origin                                  5\n",
       "Lead Source                                 20\n",
       "Do Not Email                                 2\n",
       "Do Not Call                                  2\n",
       "Converted                                    2\n",
       "TotalVisits                                 41\n",
       "Total Time Spent on Website               1731\n",
       "Page Views Per Visit                       114\n",
       "Last Activity                               17\n",
       "Country                                     38\n",
       "Specialization                              19\n",
       "What is your current occupation              6\n",
       "Search                                       2\n",
       "Newspaper Article                            2\n",
       "X Education Forums                           2\n",
       "Newspaper                                    2\n",
       "Digital Advertisement                        2\n",
       "Through Recommendations                      2\n",
       "Tags                                        27\n",
       "Lead Quality                                 6\n",
       "A free copy of Mastering The Interview       2\n",
       "Last Notable Activity                       16\n",
       "dtype: int64"
      ]
     },
     "execution_count": 59,
     "metadata": {},
     "output_type": "execute_result"
    }
   ],
   "source": [
    "leads_scoring.nunique()"
   ]
  },
  {
   "cell_type": "markdown",
   "metadata": {},
   "source": [
    "**Checking the column frequencies where only '2' types of values exits.**"
   ]
  },
  {
   "cell_type": "code",
   "execution_count": 60,
   "metadata": {},
   "outputs": [
    {
     "data": {
      "text/plain": [
       "No     92.06\n",
       "Yes     7.94\n",
       "Name: Do Not Email, dtype: float64"
      ]
     },
     "execution_count": 60,
     "metadata": {},
     "output_type": "execute_result"
    }
   ],
   "source": [
    "round(100*(leads_scoring['Do Not Email'].value_counts()/len(leads_scoring.index)),2)"
   ]
  },
  {
   "cell_type": "code",
   "execution_count": 61,
   "metadata": {},
   "outputs": [
    {
     "data": {
      "text/plain": [
       "No     99.98\n",
       "Yes     0.02\n",
       "Name: Do Not Call, dtype: float64"
      ]
     },
     "execution_count": 61,
     "metadata": {},
     "output_type": "execute_result"
    }
   ],
   "source": [
    "round(100*(leads_scoring['Do Not Call'].value_counts()/len(leads_scoring.index)),2)"
   ]
  },
  {
   "cell_type": "markdown",
   "metadata": {},
   "source": [
    "#### The column \"Do not Call\"  has almost all values as \"No\", hence this column can be safely dropped in absence of variabilty."
   ]
  },
  {
   "cell_type": "code",
   "execution_count": 62,
   "metadata": {},
   "outputs": [],
   "source": [
    "leads_scoring.drop('Do Not Call',axis=1,inplace=True)"
   ]
  },
  {
   "cell_type": "code",
   "execution_count": 63,
   "metadata": {},
   "outputs": [
    {
     "data": {
      "text/plain": [
       "No     99.85\n",
       "Yes     0.15\n",
       "Name: Search, dtype: float64"
      ]
     },
     "execution_count": 63,
     "metadata": {},
     "output_type": "execute_result"
    }
   ],
   "source": [
    "round(100*(leads_scoring['Search'].value_counts()/len(leads_scoring.index)),2)"
   ]
  },
  {
   "cell_type": "code",
   "execution_count": 64,
   "metadata": {},
   "outputs": [
    {
     "data": {
      "text/plain": [
       "Search  Converted\n",
       "No      0            61.36\n",
       "        1            38.48\n",
       "Yes     0             0.10\n",
       "        1             0.05\n",
       "Name: Converted, dtype: float64"
      ]
     },
     "execution_count": 64,
     "metadata": {},
     "output_type": "execute_result"
    }
   ],
   "source": [
    "round(100*((leads_scoring.groupby(['Search','Converted']).Converted.count())/len(leads_scoring.index)),2)"
   ]
  },
  {
   "cell_type": "code",
   "execution_count": 65,
   "metadata": {},
   "outputs": [
    {
     "data": {
      "text/plain": [
       "No     99.98\n",
       "Yes     0.02\n",
       "Name: Newspaper Article, dtype: float64"
      ]
     },
     "execution_count": 65,
     "metadata": {},
     "output_type": "execute_result"
    }
   ],
   "source": [
    "round(100*(leads_scoring['Newspaper Article'].value_counts()/len(leads_scoring.index)),2)"
   ]
  },
  {
   "cell_type": "code",
   "execution_count": 66,
   "metadata": {},
   "outputs": [
    {
     "data": {
      "text/plain": [
       "Newspaper Article  Converted\n",
       "No                 0            61.45\n",
       "                   1            38.53\n",
       "Yes                0             0.01\n",
       "                   1             0.01\n",
       "Name: Converted, dtype: float64"
      ]
     },
     "execution_count": 66,
     "metadata": {},
     "output_type": "execute_result"
    }
   ],
   "source": [
    "round(100*((leads_scoring.groupby(['Newspaper Article','Converted']).Converted.count())/len(leads_scoring.index)),2)"
   ]
  },
  {
   "cell_type": "code",
   "execution_count": 67,
   "metadata": {},
   "outputs": [
    {
     "data": {
      "text/plain": [
       "No     99.99\n",
       "Yes     0.01\n",
       "Name: X Education Forums, dtype: float64"
      ]
     },
     "execution_count": 67,
     "metadata": {},
     "output_type": "execute_result"
    }
   ],
   "source": [
    "round(100*(leads_scoring['X Education Forums'].value_counts()/len(leads_scoring.index)),2)"
   ]
  },
  {
   "cell_type": "code",
   "execution_count": 68,
   "metadata": {},
   "outputs": [
    {
     "data": {
      "text/plain": [
       "X Education Forums  Converted\n",
       "No                  0            61.45\n",
       "                    1            38.54\n",
       "Yes                 0             0.01\n",
       "Name: Converted, dtype: float64"
      ]
     },
     "execution_count": 68,
     "metadata": {},
     "output_type": "execute_result"
    }
   ],
   "source": [
    "round(100*((leads_scoring.groupby(['X Education Forums','Converted']).Converted.count())/len(leads_scoring.index)),2)"
   ]
  },
  {
   "cell_type": "code",
   "execution_count": 69,
   "metadata": {},
   "outputs": [
    {
     "data": {
      "text/plain": [
       "No     99.99\n",
       "Yes     0.01\n",
       "Name: Newspaper, dtype: float64"
      ]
     },
     "execution_count": 69,
     "metadata": {},
     "output_type": "execute_result"
    }
   ],
   "source": [
    "round(100*(leads_scoring['Newspaper'].value_counts()/len(leads_scoring.index)),2)"
   ]
  },
  {
   "cell_type": "code",
   "execution_count": 70,
   "metadata": {},
   "outputs": [
    {
     "data": {
      "text/plain": [
       "Newspaper  Converted\n",
       "No         0            61.45\n",
       "           1            38.54\n",
       "Yes        0             0.01\n",
       "Name: Converted, dtype: float64"
      ]
     },
     "execution_count": 70,
     "metadata": {},
     "output_type": "execute_result"
    }
   ],
   "source": [
    "round(100*((leads_scoring.groupby(['Newspaper','Converted']).Converted.count())/len(leads_scoring.index)),2)"
   ]
  },
  {
   "cell_type": "code",
   "execution_count": 71,
   "metadata": {},
   "outputs": [
    {
     "data": {
      "text/plain": [
       "No     99.96\n",
       "Yes     0.04\n",
       "Name: Digital Advertisement, dtype: float64"
      ]
     },
     "execution_count": 71,
     "metadata": {},
     "output_type": "execute_result"
    }
   ],
   "source": [
    "round(100*(leads_scoring['Digital Advertisement'].value_counts()/len(leads_scoring.index)),2)"
   ]
  },
  {
   "cell_type": "code",
   "execution_count": 72,
   "metadata": {},
   "outputs": [
    {
     "data": {
      "text/plain": [
       "Digital Advertisement  Converted\n",
       "No                     0            61.43\n",
       "                       1            38.53\n",
       "Yes                    0             0.03\n",
       "                       1             0.01\n",
       "Name: Converted, dtype: float64"
      ]
     },
     "execution_count": 72,
     "metadata": {},
     "output_type": "execute_result"
    }
   ],
   "source": [
    "round(100*((leads_scoring.groupby(['Digital Advertisement','Converted']).Converted.count())/len(leads_scoring.index)),2)"
   ]
  },
  {
   "cell_type": "code",
   "execution_count": 73,
   "metadata": {},
   "outputs": [
    {
     "data": {
      "text/plain": [
       "No     99.92\n",
       "Yes     0.08\n",
       "Name: Through Recommendations, dtype: float64"
      ]
     },
     "execution_count": 73,
     "metadata": {},
     "output_type": "execute_result"
    }
   ],
   "source": [
    "round(100*(leads_scoring['Through Recommendations'].value_counts()/len(leads_scoring.index)),2)"
   ]
  },
  {
   "cell_type": "code",
   "execution_count": 74,
   "metadata": {},
   "outputs": [
    {
     "data": {
      "text/plain": [
       "Through Recommendations  Converted\n",
       "No                       0            61.44\n",
       "                         1            38.48\n",
       "Yes                      0             0.02\n",
       "                         1             0.05\n",
       "Name: Converted, dtype: float64"
      ]
     },
     "execution_count": 74,
     "metadata": {},
     "output_type": "execute_result"
    }
   ],
   "source": [
    "round(100*((leads_scoring.groupby(['Through Recommendations','Converted']).Converted.count())/len(leads_scoring.index)),2)"
   ]
  },
  {
   "cell_type": "markdown",
   "metadata": {},
   "source": [
    "**It can be noted that customer who said \"Yes\" in above 6 columns is a very small percentage and the conversion percentage of each is almost negligible.So the fields marked \"Yes\" don't serve the variance of the dataset and thus doesn't prove to be useful to the analysis.\n",
    "Hence we have chosen to drop the following columns** \n",
    "* Search\n",
    "* Newspaper Article\n",
    "* X Education Forums\n",
    "* Newspaper\n",
    "* Digital Advertisement\n",
    "* Through Recommendations\n"
   ]
  },
  {
   "cell_type": "code",
   "execution_count": 75,
   "metadata": {},
   "outputs": [],
   "source": [
    "leads_scoring=leads_scoring.drop(['Search','Newspaper Article','X Education Forums','Newspaper','Digital Advertisement','Through Recommendations'],axis=1)"
   ]
  },
  {
   "cell_type": "code",
   "execution_count": 76,
   "metadata": {},
   "outputs": [
    {
     "data": {
      "text/plain": [
       "No     68.74\n",
       "Yes    31.26\n",
       "Name: A free copy of Mastering The Interview, dtype: float64"
      ]
     },
     "execution_count": 76,
     "metadata": {},
     "output_type": "execute_result"
    }
   ],
   "source": [
    "round(100*(leads_scoring['A free copy of Mastering The Interview'].value_counts()/len(leads_scoring.index)),2)"
   ]
  },
  {
   "cell_type": "code",
   "execution_count": 77,
   "metadata": {},
   "outputs": [
    {
     "data": {
      "text/plain": [
       "A free copy of Mastering The Interview  Converted\n",
       "No                                      0            41.35\n",
       "                                        1            27.39\n",
       "Yes                                     0            20.11\n",
       "                                        1            11.15\n",
       "Name: Converted, dtype: float64"
      ]
     },
     "execution_count": 77,
     "metadata": {},
     "output_type": "execute_result"
    }
   ],
   "source": [
    "round(100*((leads_scoring.groupby(['A free copy of Mastering The Interview','Converted']).Converted.count())/len(leads_scoring.index)),2)"
   ]
  },
  {
   "cell_type": "markdown",
   "metadata": {},
   "source": [
    "**Outlier Treatment**"
   ]
  },
  {
   "cell_type": "code",
   "execution_count": 78,
   "metadata": {},
   "outputs": [
    {
     "data": {
      "text/html": [
       "<div>\n",
       "<style scoped>\n",
       "    .dataframe tbody tr th:only-of-type {\n",
       "        vertical-align: middle;\n",
       "    }\n",
       "\n",
       "    .dataframe tbody tr th {\n",
       "        vertical-align: top;\n",
       "    }\n",
       "\n",
       "    .dataframe thead th {\n",
       "        text-align: right;\n",
       "    }\n",
       "</style>\n",
       "<table border=\"1\" class=\"dataframe\">\n",
       "  <thead>\n",
       "    <tr style=\"text-align: right;\">\n",
       "      <th></th>\n",
       "      <th>Converted</th>\n",
       "      <th>TotalVisits</th>\n",
       "      <th>Total Time Spent on Website</th>\n",
       "      <th>Page Views Per Visit</th>\n",
       "    </tr>\n",
       "  </thead>\n",
       "  <tbody>\n",
       "    <tr>\n",
       "      <th>count</th>\n",
       "      <td>9240.00</td>\n",
       "      <td>9240.00</td>\n",
       "      <td>9240.00</td>\n",
       "      <td>9240.00</td>\n",
       "    </tr>\n",
       "    <tr>\n",
       "      <th>mean</th>\n",
       "      <td>0.39</td>\n",
       "      <td>3.39</td>\n",
       "      <td>487.70</td>\n",
       "      <td>2.33</td>\n",
       "    </tr>\n",
       "    <tr>\n",
       "      <th>std</th>\n",
       "      <td>0.49</td>\n",
       "      <td>4.84</td>\n",
       "      <td>548.02</td>\n",
       "      <td>2.16</td>\n",
       "    </tr>\n",
       "    <tr>\n",
       "      <th>min</th>\n",
       "      <td>0.00</td>\n",
       "      <td>0.00</td>\n",
       "      <td>0.00</td>\n",
       "      <td>0.00</td>\n",
       "    </tr>\n",
       "    <tr>\n",
       "      <th>25%</th>\n",
       "      <td>0.00</td>\n",
       "      <td>0.00</td>\n",
       "      <td>12.00</td>\n",
       "      <td>0.00</td>\n",
       "    </tr>\n",
       "    <tr>\n",
       "      <th>50%</th>\n",
       "      <td>0.00</td>\n",
       "      <td>3.00</td>\n",
       "      <td>248.00</td>\n",
       "      <td>2.00</td>\n",
       "    </tr>\n",
       "    <tr>\n",
       "      <th>75%</th>\n",
       "      <td>1.00</td>\n",
       "      <td>5.00</td>\n",
       "      <td>936.00</td>\n",
       "      <td>3.00</td>\n",
       "    </tr>\n",
       "    <tr>\n",
       "      <th>max</th>\n",
       "      <td>1.00</td>\n",
       "      <td>251.00</td>\n",
       "      <td>2272.00</td>\n",
       "      <td>55.00</td>\n",
       "    </tr>\n",
       "  </tbody>\n",
       "</table>\n",
       "</div>"
      ],
      "text/plain": [
       "       Converted  TotalVisits  Total Time Spent on Website  \\\n",
       "count    9240.00      9240.00                      9240.00   \n",
       "mean        0.39         3.39                       487.70   \n",
       "std         0.49         4.84                       548.02   \n",
       "min         0.00         0.00                         0.00   \n",
       "25%         0.00         0.00                        12.00   \n",
       "50%         0.00         3.00                       248.00   \n",
       "75%         1.00         5.00                       936.00   \n",
       "max         1.00       251.00                      2272.00   \n",
       "\n",
       "       Page Views Per Visit  \n",
       "count               9240.00  \n",
       "mean                   2.33  \n",
       "std                    2.16  \n",
       "min                    0.00  \n",
       "25%                    0.00  \n",
       "50%                    2.00  \n",
       "75%                    3.00  \n",
       "max                   55.00  "
      ]
     },
     "execution_count": 78,
     "metadata": {},
     "output_type": "execute_result"
    }
   ],
   "source": [
    "round(leads_scoring.describe(),2)"
   ]
  },
  {
   "cell_type": "markdown",
   "metadata": {},
   "source": [
    "**Retaining data within 3 time Std. Dev  for each column of the following collumns**\n",
    "* Total Time Spent on Website\n",
    "* Page Views Per Visit"
   ]
  },
  {
   "cell_type": "code",
   "execution_count": 79,
   "metadata": {},
   "outputs": [],
   "source": [
    "def remove_outlier(df, Data):\n",
    "        df_out=df[np.abs(df[Data]-df[Data].mean()) <= (3*df[Data].std())]\n",
    "        return df_out"
   ]
  },
  {
   "cell_type": "code",
   "execution_count": 80,
   "metadata": {},
   "outputs": [],
   "source": [
    "leads_scoring=remove_outlier(leads_scoring,'Total Time Spent on Website')\n",
    "leads_scoring=remove_outlier(leads_scoring,'Page Views Per Visit')"
   ]
  },
  {
   "cell_type": "code",
   "execution_count": 81,
   "metadata": {},
   "outputs": [
    {
     "data": {
      "text/html": [
       "<div>\n",
       "<style scoped>\n",
       "    .dataframe tbody tr th:only-of-type {\n",
       "        vertical-align: middle;\n",
       "    }\n",
       "\n",
       "    .dataframe tbody tr th {\n",
       "        vertical-align: top;\n",
       "    }\n",
       "\n",
       "    .dataframe thead th {\n",
       "        text-align: right;\n",
       "    }\n",
       "</style>\n",
       "<table border=\"1\" class=\"dataframe\">\n",
       "  <thead>\n",
       "    <tr style=\"text-align: right;\">\n",
       "      <th></th>\n",
       "      <th>Converted</th>\n",
       "      <th>TotalVisits</th>\n",
       "      <th>Total Time Spent on Website</th>\n",
       "      <th>Page Views Per Visit</th>\n",
       "    </tr>\n",
       "  </thead>\n",
       "  <tbody>\n",
       "    <tr>\n",
       "      <th>count</th>\n",
       "      <td>9112.00</td>\n",
       "      <td>9112.00</td>\n",
       "      <td>9112.00</td>\n",
       "      <td>9112.00</td>\n",
       "    </tr>\n",
       "    <tr>\n",
       "      <th>mean</th>\n",
       "      <td>0.38</td>\n",
       "      <td>3.28</td>\n",
       "      <td>483.21</td>\n",
       "      <td>2.21</td>\n",
       "    </tr>\n",
       "    <tr>\n",
       "      <th>std</th>\n",
       "      <td>0.49</td>\n",
       "      <td>4.67</td>\n",
       "      <td>545.48</td>\n",
       "      <td>1.85</td>\n",
       "    </tr>\n",
       "    <tr>\n",
       "      <th>min</th>\n",
       "      <td>0.00</td>\n",
       "      <td>0.00</td>\n",
       "      <td>0.00</td>\n",
       "      <td>0.00</td>\n",
       "    </tr>\n",
       "    <tr>\n",
       "      <th>25%</th>\n",
       "      <td>0.00</td>\n",
       "      <td>0.00</td>\n",
       "      <td>9.00</td>\n",
       "      <td>0.00</td>\n",
       "    </tr>\n",
       "    <tr>\n",
       "      <th>50%</th>\n",
       "      <td>0.00</td>\n",
       "      <td>3.00</td>\n",
       "      <td>246.00</td>\n",
       "      <td>2.00</td>\n",
       "    </tr>\n",
       "    <tr>\n",
       "      <th>75%</th>\n",
       "      <td>1.00</td>\n",
       "      <td>5.00</td>\n",
       "      <td>929.00</td>\n",
       "      <td>3.00</td>\n",
       "    </tr>\n",
       "    <tr>\n",
       "      <th>max</th>\n",
       "      <td>1.00</td>\n",
       "      <td>251.00</td>\n",
       "      <td>2125.00</td>\n",
       "      <td>8.50</td>\n",
       "    </tr>\n",
       "  </tbody>\n",
       "</table>\n",
       "</div>"
      ],
      "text/plain": [
       "       Converted  TotalVisits  Total Time Spent on Website  \\\n",
       "count    9112.00      9112.00                      9112.00   \n",
       "mean        0.38         3.28                       483.21   \n",
       "std         0.49         4.67                       545.48   \n",
       "min         0.00         0.00                         0.00   \n",
       "25%         0.00         0.00                         9.00   \n",
       "50%         0.00         3.00                       246.00   \n",
       "75%         1.00         5.00                       929.00   \n",
       "max         1.00       251.00                      2125.00   \n",
       "\n",
       "       Page Views Per Visit  \n",
       "count               9112.00  \n",
       "mean                   2.21  \n",
       "std                    1.85  \n",
       "min                    0.00  \n",
       "25%                    0.00  \n",
       "50%                    2.00  \n",
       "75%                    3.00  \n",
       "max                    8.50  "
      ]
     },
     "execution_count": 81,
     "metadata": {},
     "output_type": "execute_result"
    }
   ],
   "source": [
    "round(leads_scoring.describe(),2)"
   ]
  },
  {
   "cell_type": "code",
   "execution_count": 82,
   "metadata": {},
   "outputs": [
    {
     "data": {
      "text/plain": [
       "0    61.51\n",
       "1    38.49\n",
       "Name: Converted, dtype: float64"
      ]
     },
     "execution_count": 82,
     "metadata": {},
     "output_type": "execute_result"
    }
   ],
   "source": [
    "round(100*(leads_scoring.Converted.value_counts()/len(leads_scoring.index)),2)"
   ]
  },
  {
   "cell_type": "markdown",
   "metadata": {},
   "source": [
    "####  After Outlier Treatment  the data  has 38.49% cases of Conversion."
   ]
  },
  {
   "cell_type": "markdown",
   "metadata": {},
   "source": [
    "**Dummy variable creation for Logistic regression.**"
   ]
  },
  {
   "cell_type": "code",
   "execution_count": 83,
   "metadata": {},
   "outputs": [],
   "source": [
    "dummy_df = pd.get_dummies(leads_scoring[['Lead Origin','Lead Source','Last Activity','Country','Specialization','What is your current occupation','Tags','Lead Quality','Last Notable Activity']], drop_first=True)\n",
    "\n",
    "# Adding the results to the master dataframe\n",
    "leads_scoring_model = pd.concat([leads_scoring, dummy_df], axis=1)"
   ]
  },
  {
   "cell_type": "code",
   "execution_count": 84,
   "metadata": {},
   "outputs": [],
   "source": [
    "# List of variables to map\n",
    "\n",
    "varlist =  ['Do Not Email', 'A free copy of Mastering The Interview']\n",
    "\n",
    "# Defining the map function\n",
    "def binary_map(x):\n",
    "    return x.map({'Yes': 1, \"No\": 0})\n",
    "\n",
    "# Applying the function to the housing list\n",
    "leads_scoring_model[varlist] = leads_scoring_model[varlist].apply(binary_map)"
   ]
  },
  {
   "cell_type": "code",
   "execution_count": 85,
   "metadata": {},
   "outputs": [],
   "source": [
    "leads_scoring_model.drop(['Lead Origin','Lead Source','Last Activity','Country','Specialization','What is your current occupation','Tags','Lead Quality','Last Notable Activity'],axis=1,inplace=True)"
   ]
  },
  {
   "cell_type": "code",
   "execution_count": 86,
   "metadata": {},
   "outputs": [
    {
     "name": "stdout",
     "output_type": "stream",
     "text": [
      "<class 'pandas.core.frame.DataFrame'>\n",
      "Int64Index: 9112 entries, 0 to 9239\n",
      "Columns: 150 entries, Do Not Email to Last Notable Activity_View in browser link Clicked\n",
      "dtypes: float64(2), int64(4), uint8(144)\n",
      "memory usage: 1.7 MB\n"
     ]
    }
   ],
   "source": [
    "leads_scoring_model.info()"
   ]
  },
  {
   "cell_type": "code",
   "execution_count": 87,
   "metadata": {},
   "outputs": [
    {
     "data": {
      "text/plain": [
       "(9112, 150)"
      ]
     },
     "execution_count": 87,
     "metadata": {},
     "output_type": "execute_result"
    }
   ],
   "source": [
    "leads_scoring_model.shape"
   ]
  },
  {
   "cell_type": "code",
   "execution_count": 88,
   "metadata": {},
   "outputs": [
    {
     "data": {
      "text/html": [
       "<div>\n",
       "<style scoped>\n",
       "    .dataframe tbody tr th:only-of-type {\n",
       "        vertical-align: middle;\n",
       "    }\n",
       "\n",
       "    .dataframe tbody tr th {\n",
       "        vertical-align: top;\n",
       "    }\n",
       "\n",
       "    .dataframe thead th {\n",
       "        text-align: right;\n",
       "    }\n",
       "</style>\n",
       "<table border=\"1\" class=\"dataframe\">\n",
       "  <thead>\n",
       "    <tr style=\"text-align: right;\">\n",
       "      <th></th>\n",
       "      <th>Do Not Email</th>\n",
       "      <th>Converted</th>\n",
       "      <th>TotalVisits</th>\n",
       "      <th>Total Time Spent on Website</th>\n",
       "      <th>Page Views Per Visit</th>\n",
       "      <th>A free copy of Mastering The Interview</th>\n",
       "      <th>Lead Origin_Landing Page Submission</th>\n",
       "      <th>Lead Origin_Lead Add Form</th>\n",
       "      <th>Lead Origin_Lead Import</th>\n",
       "      <th>Lead Source_Direct Traffic</th>\n",
       "      <th>...</th>\n",
       "      <th>Last Notable Activity_Form Submitted on Website</th>\n",
       "      <th>Last Notable Activity_Had a Phone Conversation</th>\n",
       "      <th>Last Notable Activity_Modified</th>\n",
       "      <th>Last Notable Activity_Olark Chat Conversation</th>\n",
       "      <th>Last Notable Activity_Page Visited on Website</th>\n",
       "      <th>Last Notable Activity_Resubscribed to emails</th>\n",
       "      <th>Last Notable Activity_SMS Sent</th>\n",
       "      <th>Last Notable Activity_Unreachable</th>\n",
       "      <th>Last Notable Activity_Unsubscribed</th>\n",
       "      <th>Last Notable Activity_View in browser link Clicked</th>\n",
       "    </tr>\n",
       "  </thead>\n",
       "  <tbody>\n",
       "    <tr>\n",
       "      <th>0</th>\n",
       "      <td>0</td>\n",
       "      <td>0</td>\n",
       "      <td>0.0</td>\n",
       "      <td>0</td>\n",
       "      <td>0.0</td>\n",
       "      <td>0</td>\n",
       "      <td>0</td>\n",
       "      <td>0</td>\n",
       "      <td>0</td>\n",
       "      <td>0</td>\n",
       "      <td>...</td>\n",
       "      <td>0</td>\n",
       "      <td>0</td>\n",
       "      <td>1</td>\n",
       "      <td>0</td>\n",
       "      <td>0</td>\n",
       "      <td>0</td>\n",
       "      <td>0</td>\n",
       "      <td>0</td>\n",
       "      <td>0</td>\n",
       "      <td>0</td>\n",
       "    </tr>\n",
       "    <tr>\n",
       "      <th>1</th>\n",
       "      <td>0</td>\n",
       "      <td>0</td>\n",
       "      <td>5.0</td>\n",
       "      <td>674</td>\n",
       "      <td>2.5</td>\n",
       "      <td>0</td>\n",
       "      <td>0</td>\n",
       "      <td>0</td>\n",
       "      <td>0</td>\n",
       "      <td>0</td>\n",
       "      <td>...</td>\n",
       "      <td>0</td>\n",
       "      <td>0</td>\n",
       "      <td>0</td>\n",
       "      <td>0</td>\n",
       "      <td>0</td>\n",
       "      <td>0</td>\n",
       "      <td>0</td>\n",
       "      <td>0</td>\n",
       "      <td>0</td>\n",
       "      <td>0</td>\n",
       "    </tr>\n",
       "    <tr>\n",
       "      <th>2</th>\n",
       "      <td>0</td>\n",
       "      <td>1</td>\n",
       "      <td>2.0</td>\n",
       "      <td>1532</td>\n",
       "      <td>2.0</td>\n",
       "      <td>1</td>\n",
       "      <td>1</td>\n",
       "      <td>0</td>\n",
       "      <td>0</td>\n",
       "      <td>1</td>\n",
       "      <td>...</td>\n",
       "      <td>0</td>\n",
       "      <td>0</td>\n",
       "      <td>0</td>\n",
       "      <td>0</td>\n",
       "      <td>0</td>\n",
       "      <td>0</td>\n",
       "      <td>0</td>\n",
       "      <td>0</td>\n",
       "      <td>0</td>\n",
       "      <td>0</td>\n",
       "    </tr>\n",
       "    <tr>\n",
       "      <th>3</th>\n",
       "      <td>0</td>\n",
       "      <td>0</td>\n",
       "      <td>1.0</td>\n",
       "      <td>305</td>\n",
       "      <td>1.0</td>\n",
       "      <td>0</td>\n",
       "      <td>1</td>\n",
       "      <td>0</td>\n",
       "      <td>0</td>\n",
       "      <td>1</td>\n",
       "      <td>...</td>\n",
       "      <td>0</td>\n",
       "      <td>0</td>\n",
       "      <td>1</td>\n",
       "      <td>0</td>\n",
       "      <td>0</td>\n",
       "      <td>0</td>\n",
       "      <td>0</td>\n",
       "      <td>0</td>\n",
       "      <td>0</td>\n",
       "      <td>0</td>\n",
       "    </tr>\n",
       "    <tr>\n",
       "      <th>4</th>\n",
       "      <td>0</td>\n",
       "      <td>1</td>\n",
       "      <td>2.0</td>\n",
       "      <td>1428</td>\n",
       "      <td>1.0</td>\n",
       "      <td>0</td>\n",
       "      <td>1</td>\n",
       "      <td>0</td>\n",
       "      <td>0</td>\n",
       "      <td>0</td>\n",
       "      <td>...</td>\n",
       "      <td>0</td>\n",
       "      <td>0</td>\n",
       "      <td>1</td>\n",
       "      <td>0</td>\n",
       "      <td>0</td>\n",
       "      <td>0</td>\n",
       "      <td>0</td>\n",
       "      <td>0</td>\n",
       "      <td>0</td>\n",
       "      <td>0</td>\n",
       "    </tr>\n",
       "  </tbody>\n",
       "</table>\n",
       "<p>5 rows × 150 columns</p>\n",
       "</div>"
      ],
      "text/plain": [
       "   Do Not Email  Converted  TotalVisits  Total Time Spent on Website  \\\n",
       "0             0          0          0.0                            0   \n",
       "1             0          0          5.0                          674   \n",
       "2             0          1          2.0                         1532   \n",
       "3             0          0          1.0                          305   \n",
       "4             0          1          2.0                         1428   \n",
       "\n",
       "   Page Views Per Visit  A free copy of Mastering The Interview  \\\n",
       "0                   0.0                                       0   \n",
       "1                   2.5                                       0   \n",
       "2                   2.0                                       1   \n",
       "3                   1.0                                       0   \n",
       "4                   1.0                                       0   \n",
       "\n",
       "   Lead Origin_Landing Page Submission  Lead Origin_Lead Add Form  \\\n",
       "0                                    0                          0   \n",
       "1                                    0                          0   \n",
       "2                                    1                          0   \n",
       "3                                    1                          0   \n",
       "4                                    1                          0   \n",
       "\n",
       "   Lead Origin_Lead Import  Lead Source_Direct Traffic  \\\n",
       "0                        0                           0   \n",
       "1                        0                           0   \n",
       "2                        0                           1   \n",
       "3                        0                           1   \n",
       "4                        0                           0   \n",
       "\n",
       "                          ...                          \\\n",
       "0                         ...                           \n",
       "1                         ...                           \n",
       "2                         ...                           \n",
       "3                         ...                           \n",
       "4                         ...                           \n",
       "\n",
       "   Last Notable Activity_Form Submitted on Website  \\\n",
       "0                                                0   \n",
       "1                                                0   \n",
       "2                                                0   \n",
       "3                                                0   \n",
       "4                                                0   \n",
       "\n",
       "   Last Notable Activity_Had a Phone Conversation  \\\n",
       "0                                               0   \n",
       "1                                               0   \n",
       "2                                               0   \n",
       "3                                               0   \n",
       "4                                               0   \n",
       "\n",
       "   Last Notable Activity_Modified  \\\n",
       "0                               1   \n",
       "1                               0   \n",
       "2                               0   \n",
       "3                               1   \n",
       "4                               1   \n",
       "\n",
       "   Last Notable Activity_Olark Chat Conversation  \\\n",
       "0                                              0   \n",
       "1                                              0   \n",
       "2                                              0   \n",
       "3                                              0   \n",
       "4                                              0   \n",
       "\n",
       "   Last Notable Activity_Page Visited on Website  \\\n",
       "0                                              0   \n",
       "1                                              0   \n",
       "2                                              0   \n",
       "3                                              0   \n",
       "4                                              0   \n",
       "\n",
       "   Last Notable Activity_Resubscribed to emails  \\\n",
       "0                                             0   \n",
       "1                                             0   \n",
       "2                                             0   \n",
       "3                                             0   \n",
       "4                                             0   \n",
       "\n",
       "   Last Notable Activity_SMS Sent  Last Notable Activity_Unreachable  \\\n",
       "0                               0                                  0   \n",
       "1                               0                                  0   \n",
       "2                               0                                  0   \n",
       "3                               0                                  0   \n",
       "4                               0                                  0   \n",
       "\n",
       "   Last Notable Activity_Unsubscribed  \\\n",
       "0                                   0   \n",
       "1                                   0   \n",
       "2                                   0   \n",
       "3                                   0   \n",
       "4                                   0   \n",
       "\n",
       "   Last Notable Activity_View in browser link Clicked  \n",
       "0                                                  0   \n",
       "1                                                  0   \n",
       "2                                                  0   \n",
       "3                                                  0   \n",
       "4                                                  0   \n",
       "\n",
       "[5 rows x 150 columns]"
      ]
     },
     "execution_count": 88,
     "metadata": {},
     "output_type": "execute_result"
    }
   ],
   "source": [
    "leads_scoring_model.head()"
   ]
  },
  {
   "cell_type": "markdown",
   "metadata": {},
   "source": [
    "## Data Modelling\n",
    "### Test Train Split"
   ]
  },
  {
   "cell_type": "code",
   "execution_count": 89,
   "metadata": {},
   "outputs": [],
   "source": [
    "from sklearn.model_selection import train_test_split"
   ]
  },
  {
   "cell_type": "code",
   "execution_count": 90,
   "metadata": {},
   "outputs": [
    {
     "data": {
      "text/html": [
       "<div>\n",
       "<style scoped>\n",
       "    .dataframe tbody tr th:only-of-type {\n",
       "        vertical-align: middle;\n",
       "    }\n",
       "\n",
       "    .dataframe tbody tr th {\n",
       "        vertical-align: top;\n",
       "    }\n",
       "\n",
       "    .dataframe thead th {\n",
       "        text-align: right;\n",
       "    }\n",
       "</style>\n",
       "<table border=\"1\" class=\"dataframe\">\n",
       "  <thead>\n",
       "    <tr style=\"text-align: right;\">\n",
       "      <th></th>\n",
       "      <th>Do Not Email</th>\n",
       "      <th>TotalVisits</th>\n",
       "      <th>Total Time Spent on Website</th>\n",
       "      <th>Page Views Per Visit</th>\n",
       "      <th>A free copy of Mastering The Interview</th>\n",
       "      <th>Lead Origin_Landing Page Submission</th>\n",
       "      <th>Lead Origin_Lead Add Form</th>\n",
       "      <th>Lead Origin_Lead Import</th>\n",
       "      <th>Lead Source_Direct Traffic</th>\n",
       "      <th>Lead Source_Facebook</th>\n",
       "      <th>...</th>\n",
       "      <th>Last Notable Activity_Form Submitted on Website</th>\n",
       "      <th>Last Notable Activity_Had a Phone Conversation</th>\n",
       "      <th>Last Notable Activity_Modified</th>\n",
       "      <th>Last Notable Activity_Olark Chat Conversation</th>\n",
       "      <th>Last Notable Activity_Page Visited on Website</th>\n",
       "      <th>Last Notable Activity_Resubscribed to emails</th>\n",
       "      <th>Last Notable Activity_SMS Sent</th>\n",
       "      <th>Last Notable Activity_Unreachable</th>\n",
       "      <th>Last Notable Activity_Unsubscribed</th>\n",
       "      <th>Last Notable Activity_View in browser link Clicked</th>\n",
       "    </tr>\n",
       "  </thead>\n",
       "  <tbody>\n",
       "    <tr>\n",
       "      <th>0</th>\n",
       "      <td>0</td>\n",
       "      <td>0.0</td>\n",
       "      <td>0</td>\n",
       "      <td>0.0</td>\n",
       "      <td>0</td>\n",
       "      <td>0</td>\n",
       "      <td>0</td>\n",
       "      <td>0</td>\n",
       "      <td>0</td>\n",
       "      <td>0</td>\n",
       "      <td>...</td>\n",
       "      <td>0</td>\n",
       "      <td>0</td>\n",
       "      <td>1</td>\n",
       "      <td>0</td>\n",
       "      <td>0</td>\n",
       "      <td>0</td>\n",
       "      <td>0</td>\n",
       "      <td>0</td>\n",
       "      <td>0</td>\n",
       "      <td>0</td>\n",
       "    </tr>\n",
       "    <tr>\n",
       "      <th>1</th>\n",
       "      <td>0</td>\n",
       "      <td>5.0</td>\n",
       "      <td>674</td>\n",
       "      <td>2.5</td>\n",
       "      <td>0</td>\n",
       "      <td>0</td>\n",
       "      <td>0</td>\n",
       "      <td>0</td>\n",
       "      <td>0</td>\n",
       "      <td>0</td>\n",
       "      <td>...</td>\n",
       "      <td>0</td>\n",
       "      <td>0</td>\n",
       "      <td>0</td>\n",
       "      <td>0</td>\n",
       "      <td>0</td>\n",
       "      <td>0</td>\n",
       "      <td>0</td>\n",
       "      <td>0</td>\n",
       "      <td>0</td>\n",
       "      <td>0</td>\n",
       "    </tr>\n",
       "    <tr>\n",
       "      <th>2</th>\n",
       "      <td>0</td>\n",
       "      <td>2.0</td>\n",
       "      <td>1532</td>\n",
       "      <td>2.0</td>\n",
       "      <td>1</td>\n",
       "      <td>1</td>\n",
       "      <td>0</td>\n",
       "      <td>0</td>\n",
       "      <td>1</td>\n",
       "      <td>0</td>\n",
       "      <td>...</td>\n",
       "      <td>0</td>\n",
       "      <td>0</td>\n",
       "      <td>0</td>\n",
       "      <td>0</td>\n",
       "      <td>0</td>\n",
       "      <td>0</td>\n",
       "      <td>0</td>\n",
       "      <td>0</td>\n",
       "      <td>0</td>\n",
       "      <td>0</td>\n",
       "    </tr>\n",
       "    <tr>\n",
       "      <th>3</th>\n",
       "      <td>0</td>\n",
       "      <td>1.0</td>\n",
       "      <td>305</td>\n",
       "      <td>1.0</td>\n",
       "      <td>0</td>\n",
       "      <td>1</td>\n",
       "      <td>0</td>\n",
       "      <td>0</td>\n",
       "      <td>1</td>\n",
       "      <td>0</td>\n",
       "      <td>...</td>\n",
       "      <td>0</td>\n",
       "      <td>0</td>\n",
       "      <td>1</td>\n",
       "      <td>0</td>\n",
       "      <td>0</td>\n",
       "      <td>0</td>\n",
       "      <td>0</td>\n",
       "      <td>0</td>\n",
       "      <td>0</td>\n",
       "      <td>0</td>\n",
       "    </tr>\n",
       "    <tr>\n",
       "      <th>4</th>\n",
       "      <td>0</td>\n",
       "      <td>2.0</td>\n",
       "      <td>1428</td>\n",
       "      <td>1.0</td>\n",
       "      <td>0</td>\n",
       "      <td>1</td>\n",
       "      <td>0</td>\n",
       "      <td>0</td>\n",
       "      <td>0</td>\n",
       "      <td>0</td>\n",
       "      <td>...</td>\n",
       "      <td>0</td>\n",
       "      <td>0</td>\n",
       "      <td>1</td>\n",
       "      <td>0</td>\n",
       "      <td>0</td>\n",
       "      <td>0</td>\n",
       "      <td>0</td>\n",
       "      <td>0</td>\n",
       "      <td>0</td>\n",
       "      <td>0</td>\n",
       "    </tr>\n",
       "  </tbody>\n",
       "</table>\n",
       "<p>5 rows × 149 columns</p>\n",
       "</div>"
      ],
      "text/plain": [
       "   Do Not Email  TotalVisits  Total Time Spent on Website  \\\n",
       "0             0          0.0                            0   \n",
       "1             0          5.0                          674   \n",
       "2             0          2.0                         1532   \n",
       "3             0          1.0                          305   \n",
       "4             0          2.0                         1428   \n",
       "\n",
       "   Page Views Per Visit  A free copy of Mastering The Interview  \\\n",
       "0                   0.0                                       0   \n",
       "1                   2.5                                       0   \n",
       "2                   2.0                                       1   \n",
       "3                   1.0                                       0   \n",
       "4                   1.0                                       0   \n",
       "\n",
       "   Lead Origin_Landing Page Submission  Lead Origin_Lead Add Form  \\\n",
       "0                                    0                          0   \n",
       "1                                    0                          0   \n",
       "2                                    1                          0   \n",
       "3                                    1                          0   \n",
       "4                                    1                          0   \n",
       "\n",
       "   Lead Origin_Lead Import  Lead Source_Direct Traffic  Lead Source_Facebook  \\\n",
       "0                        0                           0                     0   \n",
       "1                        0                           0                     0   \n",
       "2                        0                           1                     0   \n",
       "3                        0                           1                     0   \n",
       "4                        0                           0                     0   \n",
       "\n",
       "                          ...                          \\\n",
       "0                         ...                           \n",
       "1                         ...                           \n",
       "2                         ...                           \n",
       "3                         ...                           \n",
       "4                         ...                           \n",
       "\n",
       "   Last Notable Activity_Form Submitted on Website  \\\n",
       "0                                                0   \n",
       "1                                                0   \n",
       "2                                                0   \n",
       "3                                                0   \n",
       "4                                                0   \n",
       "\n",
       "   Last Notable Activity_Had a Phone Conversation  \\\n",
       "0                                               0   \n",
       "1                                               0   \n",
       "2                                               0   \n",
       "3                                               0   \n",
       "4                                               0   \n",
       "\n",
       "   Last Notable Activity_Modified  \\\n",
       "0                               1   \n",
       "1                               0   \n",
       "2                               0   \n",
       "3                               1   \n",
       "4                               1   \n",
       "\n",
       "   Last Notable Activity_Olark Chat Conversation  \\\n",
       "0                                              0   \n",
       "1                                              0   \n",
       "2                                              0   \n",
       "3                                              0   \n",
       "4                                              0   \n",
       "\n",
       "   Last Notable Activity_Page Visited on Website  \\\n",
       "0                                              0   \n",
       "1                                              0   \n",
       "2                                              0   \n",
       "3                                              0   \n",
       "4                                              0   \n",
       "\n",
       "   Last Notable Activity_Resubscribed to emails  \\\n",
       "0                                             0   \n",
       "1                                             0   \n",
       "2                                             0   \n",
       "3                                             0   \n",
       "4                                             0   \n",
       "\n",
       "   Last Notable Activity_SMS Sent  Last Notable Activity_Unreachable  \\\n",
       "0                               0                                  0   \n",
       "1                               0                                  0   \n",
       "2                               0                                  0   \n",
       "3                               0                                  0   \n",
       "4                               0                                  0   \n",
       "\n",
       "   Last Notable Activity_Unsubscribed  \\\n",
       "0                                   0   \n",
       "1                                   0   \n",
       "2                                   0   \n",
       "3                                   0   \n",
       "4                                   0   \n",
       "\n",
       "   Last Notable Activity_View in browser link Clicked  \n",
       "0                                                  0   \n",
       "1                                                  0   \n",
       "2                                                  0   \n",
       "3                                                  0   \n",
       "4                                                  0   \n",
       "\n",
       "[5 rows x 149 columns]"
      ]
     },
     "execution_count": 90,
     "metadata": {},
     "output_type": "execute_result"
    }
   ],
   "source": [
    "# Putting feature variable to X\n",
    "X = leads_scoring_model.drop(['Converted'], axis=1)\n",
    "X.head()"
   ]
  },
  {
   "cell_type": "code",
   "execution_count": 91,
   "metadata": {},
   "outputs": [
    {
     "data": {
      "text/plain": [
       "0    0\n",
       "1    0\n",
       "2    1\n",
       "3    0\n",
       "4    1\n",
       "Name: Converted, dtype: int64"
      ]
     },
     "execution_count": 91,
     "metadata": {},
     "output_type": "execute_result"
    }
   ],
   "source": [
    "# Putting response variable to y\n",
    "y = leads_scoring_model['Converted']\n",
    "\n",
    "y.head()"
   ]
  },
  {
   "cell_type": "markdown",
   "metadata": {},
   "source": [
    "#### Splitting the data into train and test"
   ]
  },
  {
   "cell_type": "code",
   "execution_count": 92,
   "metadata": {},
   "outputs": [],
   "source": [
    "\n",
    "X_train, X_test, y_train, y_test = train_test_split(X, y, train_size=0.7, test_size=0.3, random_state=100)"
   ]
  },
  {
   "cell_type": "markdown",
   "metadata": {},
   "source": [
    "**Feature Scaling**"
   ]
  },
  {
   "cell_type": "code",
   "execution_count": 93,
   "metadata": {},
   "outputs": [],
   "source": [
    "from sklearn.preprocessing import StandardScaler"
   ]
  },
  {
   "cell_type": "code",
   "execution_count": 94,
   "metadata": {},
   "outputs": [
    {
     "data": {
      "text/html": [
       "<div>\n",
       "<style scoped>\n",
       "    .dataframe tbody tr th:only-of-type {\n",
       "        vertical-align: middle;\n",
       "    }\n",
       "\n",
       "    .dataframe tbody tr th {\n",
       "        vertical-align: top;\n",
       "    }\n",
       "\n",
       "    .dataframe thead th {\n",
       "        text-align: right;\n",
       "    }\n",
       "</style>\n",
       "<table border=\"1\" class=\"dataframe\">\n",
       "  <thead>\n",
       "    <tr style=\"text-align: right;\">\n",
       "      <th></th>\n",
       "      <th>Do Not Email</th>\n",
       "      <th>TotalVisits</th>\n",
       "      <th>Total Time Spent on Website</th>\n",
       "      <th>Page Views Per Visit</th>\n",
       "      <th>A free copy of Mastering The Interview</th>\n",
       "      <th>Lead Origin_Landing Page Submission</th>\n",
       "      <th>Lead Origin_Lead Add Form</th>\n",
       "      <th>Lead Origin_Lead Import</th>\n",
       "      <th>Lead Source_Direct Traffic</th>\n",
       "      <th>Lead Source_Facebook</th>\n",
       "      <th>...</th>\n",
       "      <th>Last Notable Activity_Form Submitted on Website</th>\n",
       "      <th>Last Notable Activity_Had a Phone Conversation</th>\n",
       "      <th>Last Notable Activity_Modified</th>\n",
       "      <th>Last Notable Activity_Olark Chat Conversation</th>\n",
       "      <th>Last Notable Activity_Page Visited on Website</th>\n",
       "      <th>Last Notable Activity_Resubscribed to emails</th>\n",
       "      <th>Last Notable Activity_SMS Sent</th>\n",
       "      <th>Last Notable Activity_Unreachable</th>\n",
       "      <th>Last Notable Activity_Unsubscribed</th>\n",
       "      <th>Last Notable Activity_View in browser link Clicked</th>\n",
       "    </tr>\n",
       "  </thead>\n",
       "  <tbody>\n",
       "    <tr>\n",
       "      <th>309</th>\n",
       "      <td>0</td>\n",
       "      <td>0.328238</td>\n",
       "      <td>-0.399270</td>\n",
       "      <td>0.156262</td>\n",
       "      <td>0</td>\n",
       "      <td>1</td>\n",
       "      <td>0</td>\n",
       "      <td>0</td>\n",
       "      <td>0</td>\n",
       "      <td>0</td>\n",
       "      <td>...</td>\n",
       "      <td>0</td>\n",
       "      <td>0</td>\n",
       "      <td>0</td>\n",
       "      <td>0</td>\n",
       "      <td>0</td>\n",
       "      <td>0</td>\n",
       "      <td>0</td>\n",
       "      <td>0</td>\n",
       "      <td>0</td>\n",
       "      <td>0</td>\n",
       "    </tr>\n",
       "    <tr>\n",
       "      <th>3745</th>\n",
       "      <td>0</td>\n",
       "      <td>0.133801</td>\n",
       "      <td>-0.555732</td>\n",
       "      <td>0.970750</td>\n",
       "      <td>0</td>\n",
       "      <td>1</td>\n",
       "      <td>0</td>\n",
       "      <td>0</td>\n",
       "      <td>0</td>\n",
       "      <td>0</td>\n",
       "      <td>...</td>\n",
       "      <td>0</td>\n",
       "      <td>0</td>\n",
       "      <td>1</td>\n",
       "      <td>0</td>\n",
       "      <td>0</td>\n",
       "      <td>0</td>\n",
       "      <td>0</td>\n",
       "      <td>0</td>\n",
       "      <td>0</td>\n",
       "      <td>0</td>\n",
       "    </tr>\n",
       "    <tr>\n",
       "      <th>8035</th>\n",
       "      <td>0</td>\n",
       "      <td>-0.643946</td>\n",
       "      <td>-0.883382</td>\n",
       "      <td>-1.201218</td>\n",
       "      <td>0</td>\n",
       "      <td>0</td>\n",
       "      <td>0</td>\n",
       "      <td>0</td>\n",
       "      <td>0</td>\n",
       "      <td>0</td>\n",
       "      <td>...</td>\n",
       "      <td>0</td>\n",
       "      <td>0</td>\n",
       "      <td>0</td>\n",
       "      <td>0</td>\n",
       "      <td>0</td>\n",
       "      <td>0</td>\n",
       "      <td>1</td>\n",
       "      <td>0</td>\n",
       "      <td>0</td>\n",
       "      <td>0</td>\n",
       "    </tr>\n",
       "    <tr>\n",
       "      <th>8286</th>\n",
       "      <td>0</td>\n",
       "      <td>-0.060636</td>\n",
       "      <td>1.864828</td>\n",
       "      <td>0.427758</td>\n",
       "      <td>0</td>\n",
       "      <td>1</td>\n",
       "      <td>0</td>\n",
       "      <td>0</td>\n",
       "      <td>0</td>\n",
       "      <td>0</td>\n",
       "      <td>...</td>\n",
       "      <td>0</td>\n",
       "      <td>0</td>\n",
       "      <td>0</td>\n",
       "      <td>0</td>\n",
       "      <td>0</td>\n",
       "      <td>0</td>\n",
       "      <td>1</td>\n",
       "      <td>0</td>\n",
       "      <td>0</td>\n",
       "      <td>0</td>\n",
       "    </tr>\n",
       "    <tr>\n",
       "      <th>7954</th>\n",
       "      <td>1</td>\n",
       "      <td>-0.060636</td>\n",
       "      <td>-0.629361</td>\n",
       "      <td>0.427758</td>\n",
       "      <td>0</td>\n",
       "      <td>0</td>\n",
       "      <td>0</td>\n",
       "      <td>0</td>\n",
       "      <td>0</td>\n",
       "      <td>0</td>\n",
       "      <td>...</td>\n",
       "      <td>0</td>\n",
       "      <td>0</td>\n",
       "      <td>0</td>\n",
       "      <td>0</td>\n",
       "      <td>0</td>\n",
       "      <td>0</td>\n",
       "      <td>0</td>\n",
       "      <td>0</td>\n",
       "      <td>0</td>\n",
       "      <td>0</td>\n",
       "    </tr>\n",
       "  </tbody>\n",
       "</table>\n",
       "<p>5 rows × 149 columns</p>\n",
       "</div>"
      ],
      "text/plain": [
       "      Do Not Email  TotalVisits  Total Time Spent on Website  \\\n",
       "309              0     0.328238                    -0.399270   \n",
       "3745             0     0.133801                    -0.555732   \n",
       "8035             0    -0.643946                    -0.883382   \n",
       "8286             0    -0.060636                     1.864828   \n",
       "7954             1    -0.060636                    -0.629361   \n",
       "\n",
       "      Page Views Per Visit  A free copy of Mastering The Interview  \\\n",
       "309               0.156262                                       0   \n",
       "3745              0.970750                                       0   \n",
       "8035             -1.201218                                       0   \n",
       "8286              0.427758                                       0   \n",
       "7954              0.427758                                       0   \n",
       "\n",
       "      Lead Origin_Landing Page Submission  Lead Origin_Lead Add Form  \\\n",
       "309                                     1                          0   \n",
       "3745                                    1                          0   \n",
       "8035                                    0                          0   \n",
       "8286                                    1                          0   \n",
       "7954                                    0                          0   \n",
       "\n",
       "      Lead Origin_Lead Import  Lead Source_Direct Traffic  \\\n",
       "309                         0                           0   \n",
       "3745                        0                           0   \n",
       "8035                        0                           0   \n",
       "8286                        0                           0   \n",
       "7954                        0                           0   \n",
       "\n",
       "      Lead Source_Facebook  \\\n",
       "309                      0   \n",
       "3745                     0   \n",
       "8035                     0   \n",
       "8286                     0   \n",
       "7954                     0   \n",
       "\n",
       "                             ...                          \\\n",
       "309                          ...                           \n",
       "3745                         ...                           \n",
       "8035                         ...                           \n",
       "8286                         ...                           \n",
       "7954                         ...                           \n",
       "\n",
       "      Last Notable Activity_Form Submitted on Website  \\\n",
       "309                                                 0   \n",
       "3745                                                0   \n",
       "8035                                                0   \n",
       "8286                                                0   \n",
       "7954                                                0   \n",
       "\n",
       "      Last Notable Activity_Had a Phone Conversation  \\\n",
       "309                                                0   \n",
       "3745                                               0   \n",
       "8035                                               0   \n",
       "8286                                               0   \n",
       "7954                                               0   \n",
       "\n",
       "      Last Notable Activity_Modified  \\\n",
       "309                                0   \n",
       "3745                               1   \n",
       "8035                               0   \n",
       "8286                               0   \n",
       "7954                               0   \n",
       "\n",
       "      Last Notable Activity_Olark Chat Conversation  \\\n",
       "309                                               0   \n",
       "3745                                              0   \n",
       "8035                                              0   \n",
       "8286                                              0   \n",
       "7954                                              0   \n",
       "\n",
       "      Last Notable Activity_Page Visited on Website  \\\n",
       "309                                               0   \n",
       "3745                                              0   \n",
       "8035                                              0   \n",
       "8286                                              0   \n",
       "7954                                              0   \n",
       "\n",
       "      Last Notable Activity_Resubscribed to emails  \\\n",
       "309                                              0   \n",
       "3745                                             0   \n",
       "8035                                             0   \n",
       "8286                                             0   \n",
       "7954                                             0   \n",
       "\n",
       "      Last Notable Activity_SMS Sent  Last Notable Activity_Unreachable  \\\n",
       "309                                0                                  0   \n",
       "3745                               0                                  0   \n",
       "8035                               1                                  0   \n",
       "8286                               1                                  0   \n",
       "7954                               0                                  0   \n",
       "\n",
       "      Last Notable Activity_Unsubscribed  \\\n",
       "309                                    0   \n",
       "3745                                   0   \n",
       "8035                                   0   \n",
       "8286                                   0   \n",
       "7954                                   0   \n",
       "\n",
       "      Last Notable Activity_View in browser link Clicked  \n",
       "309                                                   0   \n",
       "3745                                                  0   \n",
       "8035                                                  0   \n",
       "8286                                                  0   \n",
       "7954                                                  0   \n",
       "\n",
       "[5 rows x 149 columns]"
      ]
     },
     "execution_count": 94,
     "metadata": {},
     "output_type": "execute_result"
    }
   ],
   "source": [
    "scaler = StandardScaler()\n",
    "X_train[['Total Time Spent on Website','TotalVisits','Page Views Per Visit']] = scaler.fit_transform(X_train[['Total Time Spent on Website','TotalVisits','Page Views Per Visit']])\n",
    "X_train.head()"
   ]
  },
  {
   "cell_type": "code",
   "execution_count": 95,
   "metadata": {},
   "outputs": [
    {
     "data": {
      "text/html": [
       "<div>\n",
       "<style scoped>\n",
       "    .dataframe tbody tr th:only-of-type {\n",
       "        vertical-align: middle;\n",
       "    }\n",
       "\n",
       "    .dataframe tbody tr th {\n",
       "        vertical-align: top;\n",
       "    }\n",
       "\n",
       "    .dataframe thead th {\n",
       "        text-align: right;\n",
       "    }\n",
       "</style>\n",
       "<table border=\"1\" class=\"dataframe\">\n",
       "  <thead>\n",
       "    <tr style=\"text-align: right;\">\n",
       "      <th></th>\n",
       "      <th>Do Not Email</th>\n",
       "      <th>TotalVisits</th>\n",
       "      <th>Total Time Spent on Website</th>\n",
       "      <th>Page Views Per Visit</th>\n",
       "      <th>A free copy of Mastering The Interview</th>\n",
       "      <th>Lead Origin_Landing Page Submission</th>\n",
       "      <th>Lead Origin_Lead Add Form</th>\n",
       "      <th>Lead Origin_Lead Import</th>\n",
       "      <th>Lead Source_Direct Traffic</th>\n",
       "      <th>Lead Source_Facebook</th>\n",
       "      <th>...</th>\n",
       "      <th>Last Notable Activity_Form Submitted on Website</th>\n",
       "      <th>Last Notable Activity_Had a Phone Conversation</th>\n",
       "      <th>Last Notable Activity_Modified</th>\n",
       "      <th>Last Notable Activity_Olark Chat Conversation</th>\n",
       "      <th>Last Notable Activity_Page Visited on Website</th>\n",
       "      <th>Last Notable Activity_Resubscribed to emails</th>\n",
       "      <th>Last Notable Activity_SMS Sent</th>\n",
       "      <th>Last Notable Activity_Unreachable</th>\n",
       "      <th>Last Notable Activity_Unsubscribed</th>\n",
       "      <th>Last Notable Activity_View in browser link Clicked</th>\n",
       "    </tr>\n",
       "  </thead>\n",
       "  <tbody>\n",
       "    <tr>\n",
       "      <th>count</th>\n",
       "      <td>6378.000000</td>\n",
       "      <td>6.378000e+03</td>\n",
       "      <td>6.378000e+03</td>\n",
       "      <td>6.378000e+03</td>\n",
       "      <td>6378.00000</td>\n",
       "      <td>6378.000000</td>\n",
       "      <td>6378.000000</td>\n",
       "      <td>6378.000000</td>\n",
       "      <td>6378.000000</td>\n",
       "      <td>6378.000000</td>\n",
       "      <td>...</td>\n",
       "      <td>6378.000000</td>\n",
       "      <td>6378.000000</td>\n",
       "      <td>6378.000000</td>\n",
       "      <td>6378.000000</td>\n",
       "      <td>6378.000000</td>\n",
       "      <td>6378.000000</td>\n",
       "      <td>6378.000000</td>\n",
       "      <td>6378.000000</td>\n",
       "      <td>6378.000000</td>\n",
       "      <td>6378.0</td>\n",
       "    </tr>\n",
       "    <tr>\n",
       "      <th>mean</th>\n",
       "      <td>0.078708</td>\n",
       "      <td>2.189407e-16</td>\n",
       "      <td>-2.485142e-16</td>\n",
       "      <td>-8.861940e-17</td>\n",
       "      <td>0.30809</td>\n",
       "      <td>0.527595</td>\n",
       "      <td>0.077297</td>\n",
       "      <td>0.005644</td>\n",
       "      <td>0.274067</td>\n",
       "      <td>0.005644</td>\n",
       "      <td>...</td>\n",
       "      <td>0.000157</td>\n",
       "      <td>0.001568</td>\n",
       "      <td>0.370022</td>\n",
       "      <td>0.019128</td>\n",
       "      <td>0.037159</td>\n",
       "      <td>0.000157</td>\n",
       "      <td>0.232048</td>\n",
       "      <td>0.003293</td>\n",
       "      <td>0.005174</td>\n",
       "      <td>0.0</td>\n",
       "    </tr>\n",
       "    <tr>\n",
       "      <th>std</th>\n",
       "      <td>0.269304</td>\n",
       "      <td>1.000078e+00</td>\n",
       "      <td>1.000078e+00</td>\n",
       "      <td>1.000078e+00</td>\n",
       "      <td>0.46174</td>\n",
       "      <td>0.499277</td>\n",
       "      <td>0.267083</td>\n",
       "      <td>0.074923</td>\n",
       "      <td>0.446078</td>\n",
       "      <td>0.074923</td>\n",
       "      <td>...</td>\n",
       "      <td>0.012522</td>\n",
       "      <td>0.039569</td>\n",
       "      <td>0.482848</td>\n",
       "      <td>0.136987</td>\n",
       "      <td>0.189166</td>\n",
       "      <td>0.012522</td>\n",
       "      <td>0.422172</td>\n",
       "      <td>0.057291</td>\n",
       "      <td>0.071750</td>\n",
       "      <td>0.0</td>\n",
       "    </tr>\n",
       "    <tr>\n",
       "      <th>min</th>\n",
       "      <td>0.000000</td>\n",
       "      <td>-6.439464e-01</td>\n",
       "      <td>-8.833818e-01</td>\n",
       "      <td>-1.201218e+00</td>\n",
       "      <td>0.00000</td>\n",
       "      <td>0.000000</td>\n",
       "      <td>0.000000</td>\n",
       "      <td>0.000000</td>\n",
       "      <td>0.000000</td>\n",
       "      <td>0.000000</td>\n",
       "      <td>...</td>\n",
       "      <td>0.000000</td>\n",
       "      <td>0.000000</td>\n",
       "      <td>0.000000</td>\n",
       "      <td>0.000000</td>\n",
       "      <td>0.000000</td>\n",
       "      <td>0.000000</td>\n",
       "      <td>0.000000</td>\n",
       "      <td>0.000000</td>\n",
       "      <td>0.000000</td>\n",
       "      <td>0.0</td>\n",
       "    </tr>\n",
       "    <tr>\n",
       "      <th>25%</th>\n",
       "      <td>0.000000</td>\n",
       "      <td>-6.439464e-01</td>\n",
       "      <td>-8.649745e-01</td>\n",
       "      <td>-1.201218e+00</td>\n",
       "      <td>0.00000</td>\n",
       "      <td>0.000000</td>\n",
       "      <td>0.000000</td>\n",
       "      <td>0.000000</td>\n",
       "      <td>0.000000</td>\n",
       "      <td>0.000000</td>\n",
       "      <td>...</td>\n",
       "      <td>0.000000</td>\n",
       "      <td>0.000000</td>\n",
       "      <td>0.000000</td>\n",
       "      <td>0.000000</td>\n",
       "      <td>0.000000</td>\n",
       "      <td>0.000000</td>\n",
       "      <td>0.000000</td>\n",
       "      <td>0.000000</td>\n",
       "      <td>0.000000</td>\n",
       "      <td>0.0</td>\n",
       "    </tr>\n",
       "    <tr>\n",
       "      <th>50%</th>\n",
       "      <td>0.000000</td>\n",
       "      <td>-6.063577e-02</td>\n",
       "      <td>-4.305623e-01</td>\n",
       "      <td>-1.152338e-01</td>\n",
       "      <td>0.00000</td>\n",
       "      <td>1.000000</td>\n",
       "      <td>0.000000</td>\n",
       "      <td>0.000000</td>\n",
       "      <td>0.000000</td>\n",
       "      <td>0.000000</td>\n",
       "      <td>...</td>\n",
       "      <td>0.000000</td>\n",
       "      <td>0.000000</td>\n",
       "      <td>0.000000</td>\n",
       "      <td>0.000000</td>\n",
       "      <td>0.000000</td>\n",
       "      <td>0.000000</td>\n",
       "      <td>0.000000</td>\n",
       "      <td>0.000000</td>\n",
       "      <td>0.000000</td>\n",
       "      <td>0.0</td>\n",
       "    </tr>\n",
       "    <tr>\n",
       "      <th>75%</th>\n",
       "      <td>0.000000</td>\n",
       "      <td>3.282380e-01</td>\n",
       "      <td>8.096295e-01</td>\n",
       "      <td>4.277581e-01</td>\n",
       "      <td>1.00000</td>\n",
       "      <td>1.000000</td>\n",
       "      <td>0.000000</td>\n",
       "      <td>0.000000</td>\n",
       "      <td>1.000000</td>\n",
       "      <td>0.000000</td>\n",
       "      <td>...</td>\n",
       "      <td>0.000000</td>\n",
       "      <td>0.000000</td>\n",
       "      <td>1.000000</td>\n",
       "      <td>0.000000</td>\n",
       "      <td>0.000000</td>\n",
       "      <td>0.000000</td>\n",
       "      <td>0.000000</td>\n",
       "      <td>0.000000</td>\n",
       "      <td>0.000000</td>\n",
       "      <td>0.0</td>\n",
       "    </tr>\n",
       "    <tr>\n",
       "      <th>max</th>\n",
       "      <td>1.000000</td>\n",
       "      <td>4.815971e+01</td>\n",
       "      <td>3.028169e+00</td>\n",
       "      <td>3.414213e+00</td>\n",
       "      <td>1.00000</td>\n",
       "      <td>1.000000</td>\n",
       "      <td>1.000000</td>\n",
       "      <td>1.000000</td>\n",
       "      <td>1.000000</td>\n",
       "      <td>1.000000</td>\n",
       "      <td>...</td>\n",
       "      <td>1.000000</td>\n",
       "      <td>1.000000</td>\n",
       "      <td>1.000000</td>\n",
       "      <td>1.000000</td>\n",
       "      <td>1.000000</td>\n",
       "      <td>1.000000</td>\n",
       "      <td>1.000000</td>\n",
       "      <td>1.000000</td>\n",
       "      <td>1.000000</td>\n",
       "      <td>0.0</td>\n",
       "    </tr>\n",
       "  </tbody>\n",
       "</table>\n",
       "<p>8 rows × 149 columns</p>\n",
       "</div>"
      ],
      "text/plain": [
       "       Do Not Email   TotalVisits  Total Time Spent on Website  \\\n",
       "count   6378.000000  6.378000e+03                 6.378000e+03   \n",
       "mean       0.078708  2.189407e-16                -2.485142e-16   \n",
       "std        0.269304  1.000078e+00                 1.000078e+00   \n",
       "min        0.000000 -6.439464e-01                -8.833818e-01   \n",
       "25%        0.000000 -6.439464e-01                -8.649745e-01   \n",
       "50%        0.000000 -6.063577e-02                -4.305623e-01   \n",
       "75%        0.000000  3.282380e-01                 8.096295e-01   \n",
       "max        1.000000  4.815971e+01                 3.028169e+00   \n",
       "\n",
       "       Page Views Per Visit  A free copy of Mastering The Interview  \\\n",
       "count          6.378000e+03                              6378.00000   \n",
       "mean          -8.861940e-17                                 0.30809   \n",
       "std            1.000078e+00                                 0.46174   \n",
       "min           -1.201218e+00                                 0.00000   \n",
       "25%           -1.201218e+00                                 0.00000   \n",
       "50%           -1.152338e-01                                 0.00000   \n",
       "75%            4.277581e-01                                 1.00000   \n",
       "max            3.414213e+00                                 1.00000   \n",
       "\n",
       "       Lead Origin_Landing Page Submission  Lead Origin_Lead Add Form  \\\n",
       "count                          6378.000000                6378.000000   \n",
       "mean                              0.527595                   0.077297   \n",
       "std                               0.499277                   0.267083   \n",
       "min                               0.000000                   0.000000   \n",
       "25%                               0.000000                   0.000000   \n",
       "50%                               1.000000                   0.000000   \n",
       "75%                               1.000000                   0.000000   \n",
       "max                               1.000000                   1.000000   \n",
       "\n",
       "       Lead Origin_Lead Import  Lead Source_Direct Traffic  \\\n",
       "count              6378.000000                 6378.000000   \n",
       "mean                  0.005644                    0.274067   \n",
       "std                   0.074923                    0.446078   \n",
       "min                   0.000000                    0.000000   \n",
       "25%                   0.000000                    0.000000   \n",
       "50%                   0.000000                    0.000000   \n",
       "75%                   0.000000                    1.000000   \n",
       "max                   1.000000                    1.000000   \n",
       "\n",
       "       Lead Source_Facebook  \\\n",
       "count           6378.000000   \n",
       "mean               0.005644   \n",
       "std                0.074923   \n",
       "min                0.000000   \n",
       "25%                0.000000   \n",
       "50%                0.000000   \n",
       "75%                0.000000   \n",
       "max                1.000000   \n",
       "\n",
       "                              ...                          \\\n",
       "count                         ...                           \n",
       "mean                          ...                           \n",
       "std                           ...                           \n",
       "min                           ...                           \n",
       "25%                           ...                           \n",
       "50%                           ...                           \n",
       "75%                           ...                           \n",
       "max                           ...                           \n",
       "\n",
       "       Last Notable Activity_Form Submitted on Website  \\\n",
       "count                                      6378.000000   \n",
       "mean                                          0.000157   \n",
       "std                                           0.012522   \n",
       "min                                           0.000000   \n",
       "25%                                           0.000000   \n",
       "50%                                           0.000000   \n",
       "75%                                           0.000000   \n",
       "max                                           1.000000   \n",
       "\n",
       "       Last Notable Activity_Had a Phone Conversation  \\\n",
       "count                                     6378.000000   \n",
       "mean                                         0.001568   \n",
       "std                                          0.039569   \n",
       "min                                          0.000000   \n",
       "25%                                          0.000000   \n",
       "50%                                          0.000000   \n",
       "75%                                          0.000000   \n",
       "max                                          1.000000   \n",
       "\n",
       "       Last Notable Activity_Modified  \\\n",
       "count                     6378.000000   \n",
       "mean                         0.370022   \n",
       "std                          0.482848   \n",
       "min                          0.000000   \n",
       "25%                          0.000000   \n",
       "50%                          0.000000   \n",
       "75%                          1.000000   \n",
       "max                          1.000000   \n",
       "\n",
       "       Last Notable Activity_Olark Chat Conversation  \\\n",
       "count                                    6378.000000   \n",
       "mean                                        0.019128   \n",
       "std                                         0.136987   \n",
       "min                                         0.000000   \n",
       "25%                                         0.000000   \n",
       "50%                                         0.000000   \n",
       "75%                                         0.000000   \n",
       "max                                         1.000000   \n",
       "\n",
       "       Last Notable Activity_Page Visited on Website  \\\n",
       "count                                    6378.000000   \n",
       "mean                                        0.037159   \n",
       "std                                         0.189166   \n",
       "min                                         0.000000   \n",
       "25%                                         0.000000   \n",
       "50%                                         0.000000   \n",
       "75%                                         0.000000   \n",
       "max                                         1.000000   \n",
       "\n",
       "       Last Notable Activity_Resubscribed to emails  \\\n",
       "count                                   6378.000000   \n",
       "mean                                       0.000157   \n",
       "std                                        0.012522   \n",
       "min                                        0.000000   \n",
       "25%                                        0.000000   \n",
       "50%                                        0.000000   \n",
       "75%                                        0.000000   \n",
       "max                                        1.000000   \n",
       "\n",
       "       Last Notable Activity_SMS Sent  Last Notable Activity_Unreachable  \\\n",
       "count                     6378.000000                        6378.000000   \n",
       "mean                         0.232048                           0.003293   \n",
       "std                          0.422172                           0.057291   \n",
       "min                          0.000000                           0.000000   \n",
       "25%                          0.000000                           0.000000   \n",
       "50%                          0.000000                           0.000000   \n",
       "75%                          0.000000                           0.000000   \n",
       "max                          1.000000                           1.000000   \n",
       "\n",
       "       Last Notable Activity_Unsubscribed  \\\n",
       "count                         6378.000000   \n",
       "mean                             0.005174   \n",
       "std                              0.071750   \n",
       "min                              0.000000   \n",
       "25%                              0.000000   \n",
       "50%                              0.000000   \n",
       "75%                              0.000000   \n",
       "max                              1.000000   \n",
       "\n",
       "       Last Notable Activity_View in browser link Clicked  \n",
       "count                                             6378.0   \n",
       "mean                                                 0.0   \n",
       "std                                                  0.0   \n",
       "min                                                  0.0   \n",
       "25%                                                  0.0   \n",
       "50%                                                  0.0   \n",
       "75%                                                  0.0   \n",
       "max                                                  0.0   \n",
       "\n",
       "[8 rows x 149 columns]"
      ]
     },
     "execution_count": 95,
     "metadata": {},
     "output_type": "execute_result"
    }
   ],
   "source": [
    "X_train.describe()"
   ]
  },
  {
   "cell_type": "code",
   "execution_count": 96,
   "metadata": {},
   "outputs": [],
   "source": [
    "# Importing matplotlib and seaborn\n",
    "import matplotlib.pyplot as plt\n",
    "import seaborn as sns\n",
    "%matplotlib inline"
   ]
  },
  {
   "cell_type": "markdown",
   "metadata": {},
   "source": [
    "### Model Building"
   ]
  },
  {
   "cell_type": "code",
   "execution_count": 97,
   "metadata": {},
   "outputs": [],
   "source": [
    "import statsmodels.api as sm"
   ]
  },
  {
   "cell_type": "code",
   "execution_count": 98,
   "metadata": {},
   "outputs": [
    {
     "data": {
      "text/html": [
       "<div>\n",
       "<style scoped>\n",
       "    .dataframe tbody tr th:only-of-type {\n",
       "        vertical-align: middle;\n",
       "    }\n",
       "\n",
       "    .dataframe tbody tr th {\n",
       "        vertical-align: top;\n",
       "    }\n",
       "\n",
       "    .dataframe thead th {\n",
       "        text-align: right;\n",
       "    }\n",
       "</style>\n",
       "<table border=\"1\" class=\"dataframe\">\n",
       "  <thead>\n",
       "    <tr style=\"text-align: right;\">\n",
       "      <th></th>\n",
       "      <th>Do Not Email</th>\n",
       "      <th>TotalVisits</th>\n",
       "      <th>Total Time Spent on Website</th>\n",
       "      <th>Page Views Per Visit</th>\n",
       "      <th>A free copy of Mastering The Interview</th>\n",
       "      <th>Lead Origin_Landing Page Submission</th>\n",
       "      <th>Lead Origin_Lead Add Form</th>\n",
       "      <th>Lead Origin_Lead Import</th>\n",
       "      <th>Lead Source_Direct Traffic</th>\n",
       "      <th>Lead Source_Facebook</th>\n",
       "      <th>...</th>\n",
       "      <th>Last Notable Activity_Form Submitted on Website</th>\n",
       "      <th>Last Notable Activity_Had a Phone Conversation</th>\n",
       "      <th>Last Notable Activity_Modified</th>\n",
       "      <th>Last Notable Activity_Olark Chat Conversation</th>\n",
       "      <th>Last Notable Activity_Page Visited on Website</th>\n",
       "      <th>Last Notable Activity_Resubscribed to emails</th>\n",
       "      <th>Last Notable Activity_SMS Sent</th>\n",
       "      <th>Last Notable Activity_Unreachable</th>\n",
       "      <th>Last Notable Activity_Unsubscribed</th>\n",
       "      <th>Last Notable Activity_View in browser link Clicked</th>\n",
       "    </tr>\n",
       "    <tr>\n",
       "      <th>Lead Quality_Low in Relevance</th>\n",
       "      <th></th>\n",
       "      <th></th>\n",
       "      <th></th>\n",
       "      <th></th>\n",
       "      <th></th>\n",
       "      <th></th>\n",
       "      <th></th>\n",
       "      <th></th>\n",
       "      <th></th>\n",
       "      <th></th>\n",
       "      <th></th>\n",
       "      <th></th>\n",
       "      <th></th>\n",
       "      <th></th>\n",
       "      <th></th>\n",
       "      <th></th>\n",
       "      <th></th>\n",
       "      <th></th>\n",
       "      <th></th>\n",
       "      <th></th>\n",
       "      <th></th>\n",
       "    </tr>\n",
       "  </thead>\n",
       "  <tbody>\n",
       "    <tr>\n",
       "      <th>0</th>\n",
       "      <td>5969</td>\n",
       "      <td>5969</td>\n",
       "      <td>5969</td>\n",
       "      <td>5969</td>\n",
       "      <td>5969</td>\n",
       "      <td>5969</td>\n",
       "      <td>5969</td>\n",
       "      <td>5969</td>\n",
       "      <td>5969</td>\n",
       "      <td>5969</td>\n",
       "      <td>...</td>\n",
       "      <td>5969</td>\n",
       "      <td>5969</td>\n",
       "      <td>5969</td>\n",
       "      <td>5969</td>\n",
       "      <td>5969</td>\n",
       "      <td>5969</td>\n",
       "      <td>5969</td>\n",
       "      <td>5969</td>\n",
       "      <td>5969</td>\n",
       "      <td>5969</td>\n",
       "    </tr>\n",
       "    <tr>\n",
       "      <th>1</th>\n",
       "      <td>409</td>\n",
       "      <td>409</td>\n",
       "      <td>409</td>\n",
       "      <td>409</td>\n",
       "      <td>409</td>\n",
       "      <td>409</td>\n",
       "      <td>409</td>\n",
       "      <td>409</td>\n",
       "      <td>409</td>\n",
       "      <td>409</td>\n",
       "      <td>...</td>\n",
       "      <td>409</td>\n",
       "      <td>409</td>\n",
       "      <td>409</td>\n",
       "      <td>409</td>\n",
       "      <td>409</td>\n",
       "      <td>409</td>\n",
       "      <td>409</td>\n",
       "      <td>409</td>\n",
       "      <td>409</td>\n",
       "      <td>409</td>\n",
       "    </tr>\n",
       "  </tbody>\n",
       "</table>\n",
       "<p>2 rows × 148 columns</p>\n",
       "</div>"
      ],
      "text/plain": [
       "                               Do Not Email  TotalVisits  \\\n",
       "Lead Quality_Low in Relevance                              \n",
       "0                                      5969         5969   \n",
       "1                                       409          409   \n",
       "\n",
       "                               Total Time Spent on Website  \\\n",
       "Lead Quality_Low in Relevance                                \n",
       "0                                                     5969   \n",
       "1                                                      409   \n",
       "\n",
       "                               Page Views Per Visit  \\\n",
       "Lead Quality_Low in Relevance                         \n",
       "0                                              5969   \n",
       "1                                               409   \n",
       "\n",
       "                               A free copy of Mastering The Interview  \\\n",
       "Lead Quality_Low in Relevance                                           \n",
       "0                                                                5969   \n",
       "1                                                                 409   \n",
       "\n",
       "                               Lead Origin_Landing Page Submission  \\\n",
       "Lead Quality_Low in Relevance                                        \n",
       "0                                                             5969   \n",
       "1                                                              409   \n",
       "\n",
       "                               Lead Origin_Lead Add Form  \\\n",
       "Lead Quality_Low in Relevance                              \n",
       "0                                                   5969   \n",
       "1                                                    409   \n",
       "\n",
       "                               Lead Origin_Lead Import  \\\n",
       "Lead Quality_Low in Relevance                            \n",
       "0                                                 5969   \n",
       "1                                                  409   \n",
       "\n",
       "                               Lead Source_Direct Traffic  \\\n",
       "Lead Quality_Low in Relevance                               \n",
       "0                                                    5969   \n",
       "1                                                     409   \n",
       "\n",
       "                               Lead Source_Facebook  \\\n",
       "Lead Quality_Low in Relevance                         \n",
       "0                                              5969   \n",
       "1                                               409   \n",
       "\n",
       "                                                      ...                          \\\n",
       "Lead Quality_Low in Relevance                         ...                           \n",
       "0                                                     ...                           \n",
       "1                                                     ...                           \n",
       "\n",
       "                               Last Notable Activity_Form Submitted on Website  \\\n",
       "Lead Quality_Low in Relevance                                                    \n",
       "0                                                                         5969   \n",
       "1                                                                          409   \n",
       "\n",
       "                               Last Notable Activity_Had a Phone Conversation  \\\n",
       "Lead Quality_Low in Relevance                                                   \n",
       "0                                                                        5969   \n",
       "1                                                                         409   \n",
       "\n",
       "                               Last Notable Activity_Modified  \\\n",
       "Lead Quality_Low in Relevance                                   \n",
       "0                                                        5969   \n",
       "1                                                         409   \n",
       "\n",
       "                               Last Notable Activity_Olark Chat Conversation  \\\n",
       "Lead Quality_Low in Relevance                                                  \n",
       "0                                                                       5969   \n",
       "1                                                                        409   \n",
       "\n",
       "                               Last Notable Activity_Page Visited on Website  \\\n",
       "Lead Quality_Low in Relevance                                                  \n",
       "0                                                                       5969   \n",
       "1                                                                        409   \n",
       "\n",
       "                               Last Notable Activity_Resubscribed to emails  \\\n",
       "Lead Quality_Low in Relevance                                                 \n",
       "0                                                                      5969   \n",
       "1                                                                       409   \n",
       "\n",
       "                               Last Notable Activity_SMS Sent  \\\n",
       "Lead Quality_Low in Relevance                                   \n",
       "0                                                        5969   \n",
       "1                                                         409   \n",
       "\n",
       "                               Last Notable Activity_Unreachable  \\\n",
       "Lead Quality_Low in Relevance                                      \n",
       "0                                                           5969   \n",
       "1                                                            409   \n",
       "\n",
       "                               Last Notable Activity_Unsubscribed  \\\n",
       "Lead Quality_Low in Relevance                                       \n",
       "0                                                            5969   \n",
       "1                                                             409   \n",
       "\n",
       "                               Last Notable Activity_View in browser link Clicked  \n",
       "Lead Quality_Low in Relevance                                                      \n",
       "0                                                                           5969   \n",
       "1                                                                            409   \n",
       "\n",
       "[2 rows x 148 columns]"
      ]
     },
     "execution_count": 98,
     "metadata": {},
     "output_type": "execute_result"
    }
   ],
   "source": [
    "X_train.groupby('Lead Quality_Low in Relevance').count()"
   ]
  },
  {
   "cell_type": "code",
   "execution_count": 99,
   "metadata": {},
   "outputs": [
    {
     "data": {
      "text/html": [
       "<table class=\"simpletable\">\n",
       "<caption>Generalized Linear Model Regression Results</caption>\n",
       "<tr>\n",
       "  <th>Dep. Variable:</th>      <td>Converted</td>    <th>  No. Observations:  </th>  <td>  6378</td>  \n",
       "</tr>\n",
       "<tr>\n",
       "  <th>Model:</th>                 <td>GLM</td>       <th>  Df Residuals:      </th>  <td>  6247</td>  \n",
       "</tr>\n",
       "<tr>\n",
       "  <th>Model Family:</th>       <td>Binomial</td>     <th>  Df Model:          </th>  <td>   130</td>  \n",
       "</tr>\n",
       "<tr>\n",
       "  <th>Link Function:</th>        <td>logit</td>      <th>  Scale:             </th> <td>  1.0000</td> \n",
       "</tr>\n",
       "<tr>\n",
       "  <th>Method:</th>               <td>IRLS</td>       <th>  Log-Likelihood:    </th> <td>     nan</td> \n",
       "</tr>\n",
       "<tr>\n",
       "  <th>Date:</th>           <td>Mon, 17 Jun 2019</td> <th>  Deviance:          </th> <td>     nan</td> \n",
       "</tr>\n",
       "<tr>\n",
       "  <th>Time:</th>               <td>21:30:04</td>     <th>  Pearson chi2:      </th> <td>1.95e+18</td> \n",
       "</tr>\n",
       "<tr>\n",
       "  <th>No. Iterations:</th>        <td>100</td>       <th>  Covariance Type:   </th> <td>nonrobust</td>\n",
       "</tr>\n",
       "</table>\n",
       "<table class=\"simpletable\">\n",
       "<tr>\n",
       "                             <td></td>                               <th>coef</th>     <th>std err</th>      <th>z</th>      <th>P>|z|</th>  <th>[0.025</th>    <th>0.975]</th>  \n",
       "</tr>\n",
       "<tr>\n",
       "  <th>const</th>                                                  <td> 2.681e+15</td> <td> 1.08e+08</td> <td> 2.49e+07</td> <td> 0.000</td> <td> 2.68e+15</td> <td> 2.68e+15</td>\n",
       "</tr>\n",
       "<tr>\n",
       "  <th>Do Not Email</th>                                           <td>-3.027e+14</td> <td> 4.48e+06</td> <td>-6.76e+07</td> <td> 0.000</td> <td>-3.03e+14</td> <td>-3.03e+14</td>\n",
       "</tr>\n",
       "<tr>\n",
       "  <th>TotalVisits</th>                                            <td> 2.663e+13</td> <td> 9.83e+05</td> <td> 2.71e+07</td> <td> 0.000</td> <td> 2.66e+13</td> <td> 2.66e+13</td>\n",
       "</tr>\n",
       "<tr>\n",
       "  <th>Total Time Spent on Website</th>                            <td> 1.604e+14</td> <td> 1.02e+06</td> <td> 1.57e+08</td> <td> 0.000</td> <td>  1.6e+14</td> <td>  1.6e+14</td>\n",
       "</tr>\n",
       "<tr>\n",
       "  <th>Page Views Per Visit</th>                                   <td>-2.525e+13</td> <td> 1.35e+06</td> <td>-1.87e+07</td> <td> 0.000</td> <td>-2.52e+13</td> <td>-2.52e+13</td>\n",
       "</tr>\n",
       "<tr>\n",
       "  <th>A free copy of Mastering The Interview</th>                 <td> 8.799e+12</td> <td> 2.72e+06</td> <td> 3.24e+06</td> <td> 0.000</td> <td>  8.8e+12</td> <td>  8.8e+12</td>\n",
       "</tr>\n",
       "<tr>\n",
       "  <th>Lead Origin_Landing Page Submission</th>                    <td>  -1.2e+14</td> <td> 3.38e+06</td> <td>-3.55e+07</td> <td> 0.000</td> <td> -1.2e+14</td> <td> -1.2e+14</td>\n",
       "</tr>\n",
       "<tr>\n",
       "  <th>Lead Origin_Lead Add Form</th>                              <td> 1.722e+14</td> <td> 1.54e+07</td> <td> 1.12e+07</td> <td> 0.000</td> <td> 1.72e+14</td> <td> 1.72e+14</td>\n",
       "</tr>\n",
       "<tr>\n",
       "  <th>Lead Origin_Lead Import</th>                                <td> 8.621e+14</td> <td> 4.96e+07</td> <td> 1.74e+07</td> <td> 0.000</td> <td> 8.62e+14</td> <td> 8.62e+14</td>\n",
       "</tr>\n",
       "<tr>\n",
       "  <th>Lead Source_Direct Traffic</th>                             <td>-4.513e+14</td> <td> 3.77e+07</td> <td> -1.2e+07</td> <td> 0.000</td> <td>-4.51e+14</td> <td>-4.51e+14</td>\n",
       "</tr>\n",
       "<tr>\n",
       "  <th>Lead Source_Facebook</th>                                   <td>-1.476e+15</td> <td> 6.22e+07</td> <td>-2.37e+07</td> <td> 0.000</td> <td>-1.48e+15</td> <td>-1.48e+15</td>\n",
       "</tr>\n",
       "<tr>\n",
       "  <th>Lead Source_Google</th>                                     <td>-4.155e+14</td> <td> 3.76e+07</td> <td> -1.1e+07</td> <td> 0.000</td> <td>-4.15e+14</td> <td>-4.15e+14</td>\n",
       "</tr>\n",
       "<tr>\n",
       "  <th>Lead Source_Live Chat</th>                                  <td> 3.047e+15</td> <td> 5.88e+07</td> <td> 5.19e+07</td> <td> 0.000</td> <td> 3.05e+15</td> <td> 3.05e+15</td>\n",
       "</tr>\n",
       "<tr>\n",
       "  <th>Lead Source_NC_EDM</th>                                     <td>  -22.9731</td> <td> 1.37e-06</td> <td>-1.68e+07</td> <td> 0.000</td> <td>  -22.973</td> <td>  -22.973</td>\n",
       "</tr>\n",
       "<tr>\n",
       "  <th>Lead Source_Olark Chat</th>                                 <td>-1.773e+14</td> <td> 3.78e+07</td> <td>-4.69e+06</td> <td> 0.000</td> <td>-1.77e+14</td> <td>-1.77e+14</td>\n",
       "</tr>\n",
       "<tr>\n",
       "  <th>Lead Source_Organic Search</th>                             <td>-4.004e+14</td> <td> 3.77e+07</td> <td>-1.06e+07</td> <td> 0.000</td> <td>   -4e+14</td> <td>   -4e+14</td>\n",
       "</tr>\n",
       "<tr>\n",
       "  <th>Lead Source_Pay per Click Ads</th>                          <td>   41.0456</td> <td> 1.91e-06</td> <td> 2.14e+07</td> <td> 0.000</td> <td>   41.046</td> <td>   41.046</td>\n",
       "</tr>\n",
       "<tr>\n",
       "  <th>Lead Source_Press_Release</th>                              <td>  -14.2003</td> <td> 7.91e-07</td> <td> -1.8e+07</td> <td> 0.000</td> <td>  -14.200</td> <td>  -14.200</td>\n",
       "</tr>\n",
       "<tr>\n",
       "  <th>Lead Source_Reference</th>                                  <td>-7.408e+14</td> <td> 3.46e+07</td> <td>-2.14e+07</td> <td> 0.000</td> <td>-7.41e+14</td> <td>-7.41e+14</td>\n",
       "</tr>\n",
       "<tr>\n",
       "  <th>Lead Source_Referral Sites</th>                             <td>-5.031e+14</td> <td> 3.84e+07</td> <td>-1.31e+07</td> <td> 0.000</td> <td>-5.03e+14</td> <td>-5.03e+14</td>\n",
       "</tr>\n",
       "<tr>\n",
       "  <th>Lead Source_Social Media</th>                               <td> 4.531e+15</td> <td> 7.72e+07</td> <td> 5.87e+07</td> <td> 0.000</td> <td> 4.53e+15</td> <td> 4.53e+15</td>\n",
       "</tr>\n",
       "<tr>\n",
       "  <th>Lead Source_WeLearn</th>                                    <td>  -73.7487</td> <td> 2.16e-06</td> <td>-3.41e+07</td> <td> 0.000</td> <td>  -73.749</td> <td>  -73.749</td>\n",
       "</tr>\n",
       "<tr>\n",
       "  <th>Lead Source_Welingak Website</th>                           <td>-7.428e+13</td> <td> 3.52e+07</td> <td>-2.11e+06</td> <td> 0.000</td> <td>-7.43e+13</td> <td>-7.43e+13</td>\n",
       "</tr>\n",
       "<tr>\n",
       "  <th>Lead Source_bing</th>                                       <td>-5.746e+14</td> <td> 4.82e+07</td> <td>-1.19e+07</td> <td> 0.000</td> <td>-5.75e+14</td> <td>-5.75e+14</td>\n",
       "</tr>\n",
       "<tr>\n",
       "  <th>Lead Source_blog</th>                                       <td>   25.5853</td> <td> 4.85e-07</td> <td> 5.28e+07</td> <td> 0.000</td> <td>   25.585</td> <td>   25.585</td>\n",
       "</tr>\n",
       "<tr>\n",
       "  <th>Lead Source_testone</th>                                    <td>  6.44e+14</td> <td> 7.73e+07</td> <td> 8.33e+06</td> <td> 0.000</td> <td> 6.44e+14</td> <td> 6.44e+14</td>\n",
       "</tr>\n",
       "<tr>\n",
       "  <th>Lead Source_welearnblog_Home</th>                           <td> -2.82e+13</td> <td>  7.7e+07</td> <td>-3.66e+05</td> <td> 0.000</td> <td>-2.82e+13</td> <td>-2.82e+13</td>\n",
       "</tr>\n",
       "<tr>\n",
       "  <th>Lead Source_youtubechannel</th>                             <td> 3.036e+15</td> <td> 9.15e+07</td> <td> 3.32e+07</td> <td> 0.000</td> <td> 3.04e+15</td> <td> 3.04e+15</td>\n",
       "</tr>\n",
       "<tr>\n",
       "  <th>Last Activity_Converted to Lead</th>                        <td> -1.24e+15</td> <td> 2.81e+07</td> <td>-4.42e+07</td> <td> 0.000</td> <td>-1.24e+15</td> <td>-1.24e+15</td>\n",
       "</tr>\n",
       "<tr>\n",
       "  <th>Last Activity_Email Bounced</th>                            <td> -1.26e+15</td> <td> 2.85e+07</td> <td>-4.43e+07</td> <td> 0.000</td> <td>-1.26e+15</td> <td>-1.26e+15</td>\n",
       "</tr>\n",
       "<tr>\n",
       "  <th>Last Activity_Email Link Clicked</th>                       <td>-7.589e+14</td> <td> 2.91e+07</td> <td>-2.61e+07</td> <td> 0.000</td> <td>-7.59e+14</td> <td>-7.59e+14</td>\n",
       "</tr>\n",
       "<tr>\n",
       "  <th>Last Activity_Email Marked Spam</th>                        <td> 1.042e+14</td> <td> 4.77e+07</td> <td> 2.19e+06</td> <td> 0.000</td> <td> 1.04e+14</td> <td> 1.04e+14</td>\n",
       "</tr>\n",
       "<tr>\n",
       "  <th>Last Activity_Email Opened</th>                             <td>-1.047e+15</td> <td> 2.78e+07</td> <td>-3.76e+07</td> <td> 0.000</td> <td>-1.05e+15</td> <td>-1.05e+15</td>\n",
       "</tr>\n",
       "<tr>\n",
       "  <th>Last Activity_Email Received</th>                           <td> 2.384e+15</td> <td> 7.28e+07</td> <td> 3.28e+07</td> <td> 0.000</td> <td> 2.38e+15</td> <td> 2.38e+15</td>\n",
       "</tr>\n",
       "<tr>\n",
       "  <th>Last Activity_Form Submitted on Website</th>                <td>-1.069e+15</td> <td> 2.88e+07</td> <td>-3.71e+07</td> <td> 0.000</td> <td>-1.07e+15</td> <td>-1.07e+15</td>\n",
       "</tr>\n",
       "<tr>\n",
       "  <th>Last Activity_Had a Phone Conversation</th>                 <td>-1.508e+15</td> <td> 3.33e+07</td> <td>-4.53e+07</td> <td> 0.000</td> <td>-1.51e+15</td> <td>-1.51e+15</td>\n",
       "</tr>\n",
       "<tr>\n",
       "  <th>Last Activity_Olark Chat Conversation</th>                  <td>-1.107e+15</td> <td> 2.79e+07</td> <td>-3.97e+07</td> <td> 0.000</td> <td>-1.11e+15</td> <td>-1.11e+15</td>\n",
       "</tr>\n",
       "<tr>\n",
       "  <th>Last Activity_Page Visited on Website</th>                  <td>-9.103e+14</td> <td> 2.81e+07</td> <td>-3.24e+07</td> <td> 0.000</td> <td> -9.1e+14</td> <td> -9.1e+14</td>\n",
       "</tr>\n",
       "<tr>\n",
       "  <th>Last Activity_Resubscribed to emails</th>                   <td>   2.4e+14</td> <td> 4.85e+07</td> <td> 4.95e+06</td> <td> 0.000</td> <td>  2.4e+14</td> <td>  2.4e+14</td>\n",
       "</tr>\n",
       "<tr>\n",
       "  <th>Last Activity_SMS Sent</th>                                 <td>-8.675e+14</td> <td> 2.79e+07</td> <td>-3.11e+07</td> <td> 0.000</td> <td>-8.67e+14</td> <td>-8.67e+14</td>\n",
       "</tr>\n",
       "<tr>\n",
       "  <th>Last Activity_Unreachable</th>                              <td>-1.437e+15</td> <td> 2.95e+07</td> <td>-4.87e+07</td> <td> 0.000</td> <td>-1.44e+15</td> <td>-1.44e+15</td>\n",
       "</tr>\n",
       "<tr>\n",
       "  <th>Last Activity_Unsubscribed</th>                             <td>-9.762e+14</td> <td> 3.77e+07</td> <td>-2.59e+07</td> <td> 0.000</td> <td>-9.76e+14</td> <td>-9.76e+14</td>\n",
       "</tr>\n",
       "<tr>\n",
       "  <th>Last Activity_View in browser link Clicked</th>             <td>-3.889e+15</td> <td> 4.78e+07</td> <td>-8.14e+07</td> <td> 0.000</td> <td>-3.89e+15</td> <td>-3.89e+15</td>\n",
       "</tr>\n",
       "<tr>\n",
       "  <th>Last Activity_Visited Booth in Tradeshow</th>               <td>  -18.1244</td> <td> 8.41e-07</td> <td>-2.15e+07</td> <td> 0.000</td> <td>  -18.124</td> <td>  -18.124</td>\n",
       "</tr>\n",
       "<tr>\n",
       "  <th>Country_Australia</th>                                      <td>-1.101e+14</td> <td> 7.14e+07</td> <td>-1.54e+06</td> <td> 0.000</td> <td> -1.1e+14</td> <td> -1.1e+14</td>\n",
       "</tr>\n",
       "<tr>\n",
       "  <th>Country_Bahrain</th>                                        <td>-3.955e+14</td> <td> 7.27e+07</td> <td>-5.44e+06</td> <td> 0.000</td> <td>-3.95e+14</td> <td>-3.95e+14</td>\n",
       "</tr>\n",
       "<tr>\n",
       "  <th>Country_Bangladesh</th>                                     <td> 4.179e+15</td> <td> 9.53e+07</td> <td> 4.39e+07</td> <td> 0.000</td> <td> 4.18e+15</td> <td> 4.18e+15</td>\n",
       "</tr>\n",
       "<tr>\n",
       "  <th>Country_Belgium</th>                                        <td>-4.192e+15</td> <td> 8.25e+07</td> <td>-5.08e+07</td> <td> 0.000</td> <td>-4.19e+15</td> <td>-4.19e+15</td>\n",
       "</tr>\n",
       "<tr>\n",
       "  <th>Country_Canada</th>                                         <td>-4.372e+15</td> <td> 8.26e+07</td> <td> -5.3e+07</td> <td> 0.000</td> <td>-4.37e+15</td> <td>-4.37e+15</td>\n",
       "</tr>\n",
       "<tr>\n",
       "  <th>Country_China</th>                                          <td>-3.289e+15</td> <td> 8.24e+07</td> <td>-3.99e+07</td> <td> 0.000</td> <td>-3.29e+15</td> <td>-3.29e+15</td>\n",
       "</tr>\n",
       "<tr>\n",
       "  <th>Country_Denmark</th>                                        <td> 2.946e+15</td> <td> 9.52e+07</td> <td>  3.1e+07</td> <td> 0.000</td> <td> 2.95e+15</td> <td> 2.95e+15</td>\n",
       "</tr>\n",
       "<tr>\n",
       "  <th>Country_France</th>                                         <td>-1.384e+15</td> <td> 7.53e+07</td> <td>-1.84e+07</td> <td> 0.000</td> <td>-1.38e+15</td> <td>-1.38e+15</td>\n",
       "</tr>\n",
       "<tr>\n",
       "  <th>Country_Germany</th>                                        <td>-3.124e+15</td> <td> 8.25e+07</td> <td>-3.79e+07</td> <td> 0.000</td> <td>-3.12e+15</td> <td>-3.12e+15</td>\n",
       "</tr>\n",
       "<tr>\n",
       "  <th>Country_Ghana</th>                                          <td>-3.247e+15</td> <td> 8.24e+07</td> <td>-3.94e+07</td> <td> 0.000</td> <td>-3.25e+15</td> <td>-3.25e+15</td>\n",
       "</tr>\n",
       "<tr>\n",
       "  <th>Country_Hong Kong</th>                                      <td> 6.303e+14</td> <td> 7.37e+07</td> <td> 8.56e+06</td> <td> 0.000</td> <td>  6.3e+14</td> <td>  6.3e+14</td>\n",
       "</tr>\n",
       "<tr>\n",
       "  <th>Country_India</th>                                          <td>-2.347e+14</td> <td> 6.73e+07</td> <td>-3.49e+06</td> <td> 0.000</td> <td>-2.35e+14</td> <td>-2.35e+14</td>\n",
       "</tr>\n",
       "<tr>\n",
       "  <th>Country_Indonesia</th>                                      <td> -4.56e+15</td> <td> 9.58e+07</td> <td>-4.76e+07</td> <td> 0.000</td> <td>-4.56e+15</td> <td>-4.56e+15</td>\n",
       "</tr>\n",
       "<tr>\n",
       "  <th>Country_Italy</th>                                          <td>    3.1124</td> <td> 5.62e-07</td> <td> 5.54e+06</td> <td> 0.000</td> <td>    3.112</td> <td>    3.112</td>\n",
       "</tr>\n",
       "<tr>\n",
       "  <th>Country_Kenya</th>                                          <td>   -5.8505</td> <td> 7.83e-07</td> <td>-7.47e+06</td> <td> 0.000</td> <td>   -5.850</td> <td>   -5.850</td>\n",
       "</tr>\n",
       "<tr>\n",
       "  <th>Country_Kuwait</th>                                         <td> -2.95e+15</td> <td> 7.77e+07</td> <td> -3.8e+07</td> <td> 0.000</td> <td>-2.95e+15</td> <td>-2.95e+15</td>\n",
       "</tr>\n",
       "<tr>\n",
       "  <th>Country_Liberia</th>                                        <td>-3.288e+15</td> <td> 9.53e+07</td> <td>-3.45e+07</td> <td> 0.000</td> <td>-3.29e+15</td> <td>-3.29e+15</td>\n",
       "</tr>\n",
       "<tr>\n",
       "  <th>Country_Malaysia</th>                                       <td>   -7.5806</td> <td> 1.71e-07</td> <td>-4.45e+07</td> <td> 0.000</td> <td>   -7.581</td> <td>   -7.581</td>\n",
       "</tr>\n",
       "<tr>\n",
       "  <th>Country_Netherlands</th>                                    <td>-3.595e+15</td> <td> 9.52e+07</td> <td>-3.78e+07</td> <td> 0.000</td> <td>-3.59e+15</td> <td>-3.59e+15</td>\n",
       "</tr>\n",
       "<tr>\n",
       "  <th>Country_Nigeria</th>                                        <td>-2.198e+15</td> <td> 8.25e+07</td> <td>-2.66e+07</td> <td> 0.000</td> <td> -2.2e+15</td> <td> -2.2e+15</td>\n",
       "</tr>\n",
       "<tr>\n",
       "  <th>Country_Oman</th>                                           <td>-2.812e+15</td> <td> 7.53e+07</td> <td>-3.73e+07</td> <td> 0.000</td> <td>-2.81e+15</td> <td>-2.81e+15</td>\n",
       "</tr>\n",
       "<tr>\n",
       "  <th>Country_Philippines</th>                                    <td> 8.127e+14</td> <td> 8.25e+07</td> <td> 9.85e+06</td> <td> 0.000</td> <td> 8.13e+14</td> <td> 8.13e+14</td>\n",
       "</tr>\n",
       "<tr>\n",
       "  <th>Country_Qatar</th>                                          <td>-3.474e+15</td> <td> 7.53e+07</td> <td>-4.61e+07</td> <td> 0.000</td> <td>-3.47e+15</td> <td>-3.47e+15</td>\n",
       "</tr>\n",
       "<tr>\n",
       "  <th>Country_Russia</th>                                         <td>   -1.3088</td> <td> 5.18e-07</td> <td>-2.53e+06</td> <td> 0.000</td> <td>   -1.309</td> <td>   -1.309</td>\n",
       "</tr>\n",
       "<tr>\n",
       "  <th>Country_Saudi Arabia</th>                                   <td>-8.423e+14</td> <td> 6.96e+07</td> <td>-1.21e+07</td> <td> 0.000</td> <td>-8.42e+14</td> <td>-8.42e+14</td>\n",
       "</tr>\n",
       "<tr>\n",
       "  <th>Country_Singapore</th>                                      <td>-3.926e+14</td> <td> 6.91e+07</td> <td>-5.68e+06</td> <td> 0.000</td> <td>-3.93e+14</td> <td>-3.93e+14</td>\n",
       "</tr>\n",
       "<tr>\n",
       "  <th>Country_South Africa</th>                                   <td> 1.335e+15</td> <td> 7.78e+07</td> <td> 1.72e+07</td> <td> 0.000</td> <td> 1.33e+15</td> <td> 1.33e+15</td>\n",
       "</tr>\n",
       "<tr>\n",
       "  <th>Country_Sri Lanka</th>                                      <td>-3.314e+15</td> <td> 9.55e+07</td> <td>-3.47e+07</td> <td> 0.000</td> <td>-3.31e+15</td> <td>-3.31e+15</td>\n",
       "</tr>\n",
       "<tr>\n",
       "  <th>Country_Sweden</th>                                         <td>-6.999e+14</td> <td> 7.76e+07</td> <td>-9.02e+06</td> <td> 0.000</td> <td>   -7e+14</td> <td>   -7e+14</td>\n",
       "</tr>\n",
       "<tr>\n",
       "  <th>Country_Switzerland</th>                                    <td>   -5.5614</td> <td> 1.85e-07</td> <td>-3.01e+07</td> <td> 0.000</td> <td>   -5.561</td> <td>   -5.561</td>\n",
       "</tr>\n",
       "<tr>\n",
       "  <th>Country_Tanzania</th>                                       <td>    3.3042</td> <td> 8.02e-07</td> <td> 4.12e+06</td> <td> 0.000</td> <td>    3.304</td> <td>    3.304</td>\n",
       "</tr>\n",
       "<tr>\n",
       "  <th>Country_Uganda</th>                                         <td>-3.876e+15</td> <td> 9.51e+07</td> <td>-4.08e+07</td> <td> 0.000</td> <td>-3.88e+15</td> <td>-3.88e+15</td>\n",
       "</tr>\n",
       "<tr>\n",
       "  <th>Country_United Arab Emirates</th>                           <td>-3.526e+14</td> <td> 6.82e+07</td> <td>-5.17e+06</td> <td> 0.000</td> <td>-3.53e+14</td> <td>-3.53e+14</td>\n",
       "</tr>\n",
       "<tr>\n",
       "  <th>Country_United Kingdom</th>                                 <td> 2.241e+14</td> <td>  7.1e+07</td> <td> 3.16e+06</td> <td> 0.000</td> <td> 2.24e+14</td> <td> 2.24e+14</td>\n",
       "</tr>\n",
       "<tr>\n",
       "  <th>Country_United States</th>                                  <td>-6.408e+13</td> <td> 6.79e+07</td> <td>-9.43e+05</td> <td> 0.000</td> <td>-6.41e+13</td> <td>-6.41e+13</td>\n",
       "</tr>\n",
       "<tr>\n",
       "  <th>Country_Vietnam</th>                                        <td>    4.9351</td> <td> 3.88e-07</td> <td> 1.27e+07</td> <td> 0.000</td> <td>    4.935</td> <td>    4.935</td>\n",
       "</tr>\n",
       "<tr>\n",
       "  <th>Country_unknown</th>                                        <td>-3.675e+15</td> <td> 8.23e+07</td> <td>-4.46e+07</td> <td> 0.000</td> <td>-3.68e+15</td> <td>-3.68e+15</td>\n",
       "</tr>\n",
       "<tr>\n",
       "  <th>Specialization_Business Administration</th>                 <td>  1.81e+14</td> <td> 5.86e+06</td> <td> 3.09e+07</td> <td> 0.000</td> <td> 1.81e+14</td> <td> 1.81e+14</td>\n",
       "</tr>\n",
       "<tr>\n",
       "  <th>Specialization_E-Business</th>                              <td> 1.495e+14</td> <td> 1.27e+07</td> <td> 1.18e+07</td> <td> 0.000</td> <td> 1.49e+14</td> <td> 1.49e+14</td>\n",
       "</tr>\n",
       "<tr>\n",
       "  <th>Specialization_E-COMMERCE</th>                              <td> 2.717e+14</td> <td> 8.76e+06</td> <td>  3.1e+07</td> <td> 0.000</td> <td> 2.72e+14</td> <td> 2.72e+14</td>\n",
       "</tr>\n",
       "<tr>\n",
       "  <th>Specialization_Finance Management</th>                      <td> 8.351e+13</td> <td> 5.04e+06</td> <td> 1.66e+07</td> <td> 0.000</td> <td> 8.35e+13</td> <td> 8.35e+13</td>\n",
       "</tr>\n",
       "<tr>\n",
       "  <th>Specialization_Healthcare Management</th>                   <td> 1.868e+14</td> <td> 7.66e+06</td> <td> 2.44e+07</td> <td> 0.000</td> <td> 1.87e+14</td> <td> 1.87e+14</td>\n",
       "</tr>\n",
       "<tr>\n",
       "  <th>Specialization_Hospitality Management</th>                  <td> 7.361e+13</td> <td> 8.85e+06</td> <td> 8.32e+06</td> <td> 0.000</td> <td> 7.36e+13</td> <td> 7.36e+13</td>\n",
       "</tr>\n",
       "<tr>\n",
       "  <th>Specialization_Human Resource Management</th>               <td> -2.52e+13</td> <td> 5.17e+06</td> <td>-4.87e+06</td> <td> 0.000</td> <td>-2.52e+13</td> <td>-2.52e+13</td>\n",
       "</tr>\n",
       "<tr>\n",
       "  <th>Specialization_IT Projects Management</th>                  <td> 1.864e+14</td> <td>  6.2e+06</td> <td> 3.01e+07</td> <td> 0.000</td> <td> 1.86e+14</td> <td> 1.86e+14</td>\n",
       "</tr>\n",
       "<tr>\n",
       "  <th>Specialization_International Business</th>                  <td>-1.255e+14</td> <td> 7.46e+06</td> <td>-1.68e+07</td> <td> 0.000</td> <td>-1.25e+14</td> <td>-1.25e+14</td>\n",
       "</tr>\n",
       "<tr>\n",
       "  <th>Specialization_Marketing Management</th>                    <td> 2.296e+14</td> <td> 5.19e+06</td> <td> 4.43e+07</td> <td> 0.000</td> <td>  2.3e+14</td> <td>  2.3e+14</td>\n",
       "</tr>\n",
       "<tr>\n",
       "  <th>Specialization_Media and Advertising</th>                   <td> 2.205e+14</td> <td> 7.19e+06</td> <td> 3.07e+07</td> <td> 0.000</td> <td> 2.21e+14</td> <td> 2.21e+14</td>\n",
       "</tr>\n",
       "<tr>\n",
       "  <th>Specialization_Operations Management</th>                   <td>  1.52e+14</td> <td> 5.63e+06</td> <td>  2.7e+07</td> <td> 0.000</td> <td> 1.52e+14</td> <td> 1.52e+14</td>\n",
       "</tr>\n",
       "<tr>\n",
       "  <th>Specialization_Retail Management</th>                       <td> 4.866e+13</td> <td> 9.55e+06</td> <td>  5.1e+06</td> <td> 0.000</td> <td> 4.87e+13</td> <td> 4.87e+13</td>\n",
       "</tr>\n",
       "<tr>\n",
       "  <th>Specialization_Rural and Agribusiness</th>                  <td> 2.729e+13</td> <td> 1.04e+07</td> <td> 2.63e+06</td> <td> 0.000</td> <td> 2.73e+13</td> <td> 2.73e+13</td>\n",
       "</tr>\n",
       "<tr>\n",
       "  <th>Specialization_Services Excellence</th>                     <td> 1.511e+14</td> <td> 1.49e+07</td> <td> 1.02e+07</td> <td> 0.000</td> <td> 1.51e+14</td> <td> 1.51e+14</td>\n",
       "</tr>\n",
       "<tr>\n",
       "  <th>Specialization_Specialization Not given</th>                <td> 1.598e+14</td> <td> 5.33e+06</td> <td>    3e+07</td> <td> 0.000</td> <td>  1.6e+14</td> <td>  1.6e+14</td>\n",
       "</tr>\n",
       "<tr>\n",
       "  <th>Specialization_Supply Chain Management</th>                 <td>-1.433e+14</td> <td> 6.32e+06</td> <td>-2.27e+07</td> <td> 0.000</td> <td>-1.43e+14</td> <td>-1.43e+14</td>\n",
       "</tr>\n",
       "<tr>\n",
       "  <th>Specialization_Travel and Tourism</th>                      <td> 5.411e+13</td> <td>  7.5e+06</td> <td> 7.22e+06</td> <td> 0.000</td> <td> 5.41e+13</td> <td> 5.41e+13</td>\n",
       "</tr>\n",
       "<tr>\n",
       "  <th>What is your current occupation_Housewife</th>              <td> 2.263e+15</td> <td> 3.66e+07</td> <td> 6.18e+07</td> <td> 0.000</td> <td> 2.26e+15</td> <td> 2.26e+15</td>\n",
       "</tr>\n",
       "<tr>\n",
       "  <th>What is your current occupation_Other</th>                  <td>-8.515e+14</td> <td> 2.78e+07</td> <td>-3.07e+07</td> <td> 0.000</td> <td>-8.52e+14</td> <td>-8.52e+14</td>\n",
       "</tr>\n",
       "<tr>\n",
       "  <th>What is your current occupation_Student</th>                <td>-5.244e+13</td> <td> 2.82e+07</td> <td>-1.86e+06</td> <td> 0.000</td> <td>-5.24e+13</td> <td>-5.24e+13</td>\n",
       "</tr>\n",
       "<tr>\n",
       "  <th>What is your current occupation_Unemployed</th>             <td> 1.527e+14</td> <td> 2.77e+07</td> <td> 5.52e+06</td> <td> 0.000</td> <td> 1.53e+14</td> <td> 1.53e+14</td>\n",
       "</tr>\n",
       "<tr>\n",
       "  <th>What is your current occupation_Working Professional</th>   <td> 1.893e+14</td> <td> 2.78e+07</td> <td>  6.8e+06</td> <td> 0.000</td> <td> 1.89e+14</td> <td> 1.89e+14</td>\n",
       "</tr>\n",
       "<tr>\n",
       "  <th>Tags_Busy</th>                                              <td> 2.534e+15</td> <td> 7.84e+06</td> <td> 3.23e+08</td> <td> 0.000</td> <td> 2.53e+15</td> <td> 2.53e+15</td>\n",
       "</tr>\n",
       "<tr>\n",
       "  <th>Tags_Closed by Horizzon</th>                                <td> 5.781e+15</td> <td> 7.32e+06</td> <td>  7.9e+08</td> <td> 0.000</td> <td> 5.78e+15</td> <td> 5.78e+15</td>\n",
       "</tr>\n",
       "<tr>\n",
       "  <th>Tags_Diploma holder (Not Eligible)</th>                     <td> 5.771e+14</td> <td> 1.03e+07</td> <td> 5.63e+07</td> <td> 0.000</td> <td> 5.77e+14</td> <td> 5.77e+14</td>\n",
       "</tr>\n",
       "<tr>\n",
       "  <th>Tags_Graduation in progress</th>                            <td> 9.106e+14</td> <td> 8.84e+06</td> <td> 1.03e+08</td> <td> 0.000</td> <td> 9.11e+14</td> <td> 9.11e+14</td>\n",
       "</tr>\n",
       "<tr>\n",
       "  <th>Tags_In confusion whether part time or DLP</th>             <td>-2.979e+15</td> <td> 4.78e+07</td> <td>-6.24e+07</td> <td> 0.000</td> <td>-2.98e+15</td> <td>-2.98e+15</td>\n",
       "</tr>\n",
       "<tr>\n",
       "  <th>Tags_Interested  in full time MBA</th>                      <td> 9.572e+14</td> <td>  8.6e+06</td> <td> 1.11e+08</td> <td> 0.000</td> <td> 9.57e+14</td> <td> 9.57e+14</td>\n",
       "</tr>\n",
       "<tr>\n",
       "  <th>Tags_Interested in Next batch</th>                          <td> 5.468e+15</td> <td> 3.43e+07</td> <td>  1.6e+08</td> <td> 0.000</td> <td> 5.47e+15</td> <td> 5.47e+15</td>\n",
       "</tr>\n",
       "<tr>\n",
       "  <th>Tags_Interested in other courses</th>                       <td> 6.985e+14</td> <td> 5.69e+06</td> <td> 1.23e+08</td> <td> 0.000</td> <td> 6.98e+14</td> <td> 6.98e+14</td>\n",
       "</tr>\n",
       "<tr>\n",
       "  <th>Tags_Lateral student</th>                                   <td> 3.456e+15</td> <td>  4.8e+07</td> <td> 7.21e+07</td> <td> 0.000</td> <td> 3.46e+15</td> <td> 3.46e+15</td>\n",
       "</tr>\n",
       "<tr>\n",
       "  <th>Tags_Lost to EINS</th>                                      <td> 3.163e+15</td> <td> 7.76e+06</td> <td> 4.08e+08</td> <td> 0.000</td> <td> 3.16e+15</td> <td> 3.16e+15</td>\n",
       "</tr>\n",
       "<tr>\n",
       "  <th>Tags_Lost to Others</th>                                    <td>-2.763e+15</td> <td> 3.46e+07</td> <td>-7.98e+07</td> <td> 0.000</td> <td>-2.76e+15</td> <td>-2.76e+15</td>\n",
       "</tr>\n",
       "<tr>\n",
       "  <th>Tags_Not doing further education</th>                       <td>-2.119e+15</td> <td> 7.95e+06</td> <td>-2.67e+08</td> <td> 0.000</td> <td>-2.12e+15</td> <td>-2.12e+15</td>\n",
       "</tr>\n",
       "<tr>\n",
       "  <th>Tags_Recognition issue (DEC approval)</th>                  <td>   -0.9231</td> <td> 3.07e-08</td> <td>-3.01e+07</td> <td> 0.000</td> <td>   -0.923</td> <td>   -0.923</td>\n",
       "</tr>\n",
       "<tr>\n",
       "  <th>Tags_Ringing</th>                                           <td> 2.225e+14</td> <td> 5.37e+06</td> <td> 4.14e+07</td> <td> 0.000</td> <td> 2.23e+14</td> <td> 2.23e+14</td>\n",
       "</tr>\n",
       "<tr>\n",
       "  <th>Tags_Shall take in the next coming month</th>               <td>   -2.2929</td> <td> 3.83e-08</td> <td>-5.98e+07</td> <td> 0.000</td> <td>   -2.293</td> <td>   -2.293</td>\n",
       "</tr>\n",
       "<tr>\n",
       "  <th>Tags_Still Thinking</th>                                    <td> 5.475e+14</td> <td> 3.42e+07</td> <td>  1.6e+07</td> <td> 0.000</td> <td> 5.47e+14</td> <td> 5.47e+14</td>\n",
       "</tr>\n",
       "<tr>\n",
       "  <th>Tags_University not recognized</th>                         <td>-2.866e+15</td> <td>  4.8e+07</td> <td>-5.97e+07</td> <td> 0.000</td> <td>-2.87e+15</td> <td>-2.87e+15</td>\n",
       "</tr>\n",
       "<tr>\n",
       "  <th>Tags_Unknown</th>                                           <td> 2.013e+15</td> <td> 5.75e+06</td> <td>  3.5e+08</td> <td> 0.000</td> <td> 2.01e+15</td> <td> 2.01e+15</td>\n",
       "</tr>\n",
       "<tr>\n",
       "  <th>Tags_Want to take admission but has financial problems</th> <td> 6.428e+14</td> <td> 2.88e+07</td> <td> 2.23e+07</td> <td> 0.000</td> <td> 6.43e+14</td> <td> 6.43e+14</td>\n",
       "</tr>\n",
       "<tr>\n",
       "  <th>Tags_Will revert after reading the email</th>               <td> 2.357e+15</td> <td> 5.81e+06</td> <td> 4.06e+08</td> <td> 0.000</td> <td> 2.36e+15</td> <td> 2.36e+15</td>\n",
       "</tr>\n",
       "<tr>\n",
       "  <th>Tags_in touch with EINS</th>                                <td> 2.911e+13</td> <td> 3.05e+07</td> <td> 9.54e+05</td> <td> 0.000</td> <td> 2.91e+13</td> <td> 2.91e+13</td>\n",
       "</tr>\n",
       "<tr>\n",
       "  <th>Tags_invalid number</th>                                    <td> 1.189e+14</td> <td> 1.04e+07</td> <td> 1.14e+07</td> <td> 0.000</td> <td> 1.19e+14</td> <td> 1.19e+14</td>\n",
       "</tr>\n",
       "<tr>\n",
       "  <th>Tags_number not provided</th>                               <td>-5.896e+14</td> <td> 1.51e+07</td> <td> -3.9e+07</td> <td> 0.000</td> <td> -5.9e+14</td> <td> -5.9e+14</td>\n",
       "</tr>\n",
       "<tr>\n",
       "  <th>Tags_opp hangup</th>                                        <td> 5.191e+14</td> <td> 1.47e+07</td> <td> 3.52e+07</td> <td> 0.000</td> <td> 5.19e+14</td> <td> 5.19e+14</td>\n",
       "</tr>\n",
       "<tr>\n",
       "  <th>Tags_switched off</th>                                      <td>-4.893e+14</td> <td> 7.13e+06</td> <td>-6.86e+07</td> <td> 0.000</td> <td>-4.89e+14</td> <td>-4.89e+14</td>\n",
       "</tr>\n",
       "<tr>\n",
       "  <th>Tags_wrong number given</th>                                <td> -3.04e+15</td> <td> 1.38e+07</td> <td>-2.21e+08</td> <td> 0.000</td> <td>-3.04e+15</td> <td>-3.04e+15</td>\n",
       "</tr>\n",
       "<tr>\n",
       "  <th>Lead Quality_Low in Relevance</th>                          <td>-2.864e+14</td> <td> 4.92e+06</td> <td>-5.82e+07</td> <td> 0.000</td> <td>-2.86e+14</td> <td>-2.86e+14</td>\n",
       "</tr>\n",
       "<tr>\n",
       "  <th>Lead Quality_Might be</th>                                  <td>-2.075e+14</td> <td> 4.25e+06</td> <td>-4.88e+07</td> <td> 0.000</td> <td>-2.08e+14</td> <td>-2.08e+14</td>\n",
       "</tr>\n",
       "<tr>\n",
       "  <th>Lead Quality_Not Sure</th>                                  <td> 2.693e+13</td> <td> 5.16e+06</td> <td> 5.22e+06</td> <td> 0.000</td> <td> 2.69e+13</td> <td> 2.69e+13</td>\n",
       "</tr>\n",
       "<tr>\n",
       "  <th>Lead Quality_Unassigned</th>                                <td>-3.255e+14</td> <td> 4.95e+06</td> <td>-6.58e+07</td> <td> 0.000</td> <td>-3.26e+14</td> <td>-3.26e+14</td>\n",
       "</tr>\n",
       "<tr>\n",
       "  <th>Lead Quality_Worst</th>                                     <td>-1.038e+15</td> <td> 6.24e+06</td> <td>-1.66e+08</td> <td> 0.000</td> <td>-1.04e+15</td> <td>-1.04e+15</td>\n",
       "</tr>\n",
       "<tr>\n",
       "  <th>Last Notable Activity_Email Bounced</th>                    <td>-2.731e+15</td> <td> 7.58e+07</td> <td> -3.6e+07</td> <td> 0.000</td> <td>-2.73e+15</td> <td>-2.73e+15</td>\n",
       "</tr>\n",
       "<tr>\n",
       "  <th>Last Notable Activity_Email Link Clicked</th>               <td>-2.999e+15</td> <td> 7.56e+07</td> <td>-3.96e+07</td> <td> 0.000</td> <td>   -3e+15</td> <td>   -3e+15</td>\n",
       "</tr>\n",
       "<tr>\n",
       "  <th>Last Notable Activity_Email Marked Spam</th>                <td> 1.042e+14</td> <td> 4.77e+07</td> <td> 2.19e+06</td> <td> 0.000</td> <td> 1.04e+14</td> <td> 1.04e+14</td>\n",
       "</tr>\n",
       "<tr>\n",
       "  <th>Last Notable Activity_Email Opened</th>                     <td>-2.386e+15</td> <td> 7.49e+07</td> <td>-3.18e+07</td> <td> 0.000</td> <td>-2.39e+15</td> <td>-2.39e+15</td>\n",
       "</tr>\n",
       "<tr>\n",
       "  <th>Last Notable Activity_Email Received</th>                   <td>         0</td> <td>        0</td> <td>      nan</td> <td>   nan</td> <td>        0</td> <td>        0</td>\n",
       "</tr>\n",
       "<tr>\n",
       "  <th>Last Notable Activity_Form Submitted on Website</th>        <td>-5.405e+15</td> <td> 1.01e+08</td> <td>-5.35e+07</td> <td> 0.000</td> <td>-5.41e+15</td> <td>-5.41e+15</td>\n",
       "</tr>\n",
       "<tr>\n",
       "  <th>Last Notable Activity_Had a Phone Conversation</th>         <td>  1.28e+15</td> <td>    8e+07</td> <td>  1.6e+07</td> <td> 0.000</td> <td> 1.28e+15</td> <td> 1.28e+15</td>\n",
       "</tr>\n",
       "<tr>\n",
       "  <th>Last Notable Activity_Modified</th>                         <td>-2.725e+15</td> <td> 7.49e+07</td> <td>-3.64e+07</td> <td> 0.000</td> <td>-2.72e+15</td> <td>-2.72e+15</td>\n",
       "</tr>\n",
       "<tr>\n",
       "  <th>Last Notable Activity_Olark Chat Conversation</th>          <td>-2.857e+15</td> <td> 7.52e+07</td> <td> -3.8e+07</td> <td> 0.000</td> <td>-2.86e+15</td> <td>-2.86e+15</td>\n",
       "</tr>\n",
       "<tr>\n",
       "  <th>Last Notable Activity_Page Visited on Website</th>          <td>-2.701e+15</td> <td> 7.52e+07</td> <td>-3.59e+07</td> <td> 0.000</td> <td> -2.7e+15</td> <td> -2.7e+15</td>\n",
       "</tr>\n",
       "<tr>\n",
       "  <th>Last Notable Activity_Resubscribed to emails</th>           <td>   2.4e+14</td> <td> 4.85e+07</td> <td> 4.95e+06</td> <td> 0.000</td> <td>  2.4e+14</td> <td>  2.4e+14</td>\n",
       "</tr>\n",
       "<tr>\n",
       "  <th>Last Notable Activity_SMS Sent</th>                         <td>-2.201e+15</td> <td>  7.5e+07</td> <td>-2.93e+07</td> <td> 0.000</td> <td> -2.2e+15</td> <td> -2.2e+15</td>\n",
       "</tr>\n",
       "<tr>\n",
       "  <th>Last Notable Activity_Unreachable</th>                      <td>-2.224e+15</td> <td>  7.7e+07</td> <td>-2.89e+07</td> <td> 0.000</td> <td>-2.22e+15</td> <td>-2.22e+15</td>\n",
       "</tr>\n",
       "<tr>\n",
       "  <th>Last Notable Activity_Unsubscribed</th>                     <td>-2.308e+15</td> <td> 7.99e+07</td> <td>-2.89e+07</td> <td> 0.000</td> <td>-2.31e+15</td> <td>-2.31e+15</td>\n",
       "</tr>\n",
       "<tr>\n",
       "  <th>Last Notable Activity_View in browser link Clicked</th>     <td>         0</td> <td>        0</td> <td>      nan</td> <td>   nan</td> <td>        0</td> <td>        0</td>\n",
       "</tr>\n",
       "</table>"
      ],
      "text/plain": [
       "<class 'statsmodels.iolib.summary.Summary'>\n",
       "\"\"\"\n",
       "                 Generalized Linear Model Regression Results                  \n",
       "==============================================================================\n",
       "Dep. Variable:              Converted   No. Observations:                 6378\n",
       "Model:                            GLM   Df Residuals:                     6247\n",
       "Model Family:                Binomial   Df Model:                          130\n",
       "Link Function:                  logit   Scale:                          1.0000\n",
       "Method:                          IRLS   Log-Likelihood:                    nan\n",
       "Date:                Mon, 17 Jun 2019   Deviance:                          nan\n",
       "Time:                        21:30:04   Pearson chi2:                 1.95e+18\n",
       "No. Iterations:                   100   Covariance Type:             nonrobust\n",
       "==========================================================================================================================\n",
       "                                                             coef    std err          z      P>|z|      [0.025      0.975]\n",
       "--------------------------------------------------------------------------------------------------------------------------\n",
       "const                                                   2.681e+15   1.08e+08   2.49e+07      0.000    2.68e+15    2.68e+15\n",
       "Do Not Email                                           -3.027e+14   4.48e+06  -6.76e+07      0.000   -3.03e+14   -3.03e+14\n",
       "TotalVisits                                             2.663e+13   9.83e+05   2.71e+07      0.000    2.66e+13    2.66e+13\n",
       "Total Time Spent on Website                             1.604e+14   1.02e+06   1.57e+08      0.000     1.6e+14     1.6e+14\n",
       "Page Views Per Visit                                   -2.525e+13   1.35e+06  -1.87e+07      0.000   -2.52e+13   -2.52e+13\n",
       "A free copy of Mastering The Interview                  8.799e+12   2.72e+06   3.24e+06      0.000     8.8e+12     8.8e+12\n",
       "Lead Origin_Landing Page Submission                      -1.2e+14   3.38e+06  -3.55e+07      0.000    -1.2e+14    -1.2e+14\n",
       "Lead Origin_Lead Add Form                               1.722e+14   1.54e+07   1.12e+07      0.000    1.72e+14    1.72e+14\n",
       "Lead Origin_Lead Import                                 8.621e+14   4.96e+07   1.74e+07      0.000    8.62e+14    8.62e+14\n",
       "Lead Source_Direct Traffic                             -4.513e+14   3.77e+07   -1.2e+07      0.000   -4.51e+14   -4.51e+14\n",
       "Lead Source_Facebook                                   -1.476e+15   6.22e+07  -2.37e+07      0.000   -1.48e+15   -1.48e+15\n",
       "Lead Source_Google                                     -4.155e+14   3.76e+07   -1.1e+07      0.000   -4.15e+14   -4.15e+14\n",
       "Lead Source_Live Chat                                   3.047e+15   5.88e+07   5.19e+07      0.000    3.05e+15    3.05e+15\n",
       "Lead Source_NC_EDM                                       -22.9731   1.37e-06  -1.68e+07      0.000     -22.973     -22.973\n",
       "Lead Source_Olark Chat                                 -1.773e+14   3.78e+07  -4.69e+06      0.000   -1.77e+14   -1.77e+14\n",
       "Lead Source_Organic Search                             -4.004e+14   3.77e+07  -1.06e+07      0.000      -4e+14      -4e+14\n",
       "Lead Source_Pay per Click Ads                             41.0456   1.91e-06   2.14e+07      0.000      41.046      41.046\n",
       "Lead Source_Press_Release                                -14.2003   7.91e-07   -1.8e+07      0.000     -14.200     -14.200\n",
       "Lead Source_Reference                                  -7.408e+14   3.46e+07  -2.14e+07      0.000   -7.41e+14   -7.41e+14\n",
       "Lead Source_Referral Sites                             -5.031e+14   3.84e+07  -1.31e+07      0.000   -5.03e+14   -5.03e+14\n",
       "Lead Source_Social Media                                4.531e+15   7.72e+07   5.87e+07      0.000    4.53e+15    4.53e+15\n",
       "Lead Source_WeLearn                                      -73.7487   2.16e-06  -3.41e+07      0.000     -73.749     -73.749\n",
       "Lead Source_Welingak Website                           -7.428e+13   3.52e+07  -2.11e+06      0.000   -7.43e+13   -7.43e+13\n",
       "Lead Source_bing                                       -5.746e+14   4.82e+07  -1.19e+07      0.000   -5.75e+14   -5.75e+14\n",
       "Lead Source_blog                                          25.5853   4.85e-07   5.28e+07      0.000      25.585      25.585\n",
       "Lead Source_testone                                      6.44e+14   7.73e+07   8.33e+06      0.000    6.44e+14    6.44e+14\n",
       "Lead Source_welearnblog_Home                            -2.82e+13    7.7e+07  -3.66e+05      0.000   -2.82e+13   -2.82e+13\n",
       "Lead Source_youtubechannel                              3.036e+15   9.15e+07   3.32e+07      0.000    3.04e+15    3.04e+15\n",
       "Last Activity_Converted to Lead                         -1.24e+15   2.81e+07  -4.42e+07      0.000   -1.24e+15   -1.24e+15\n",
       "Last Activity_Email Bounced                             -1.26e+15   2.85e+07  -4.43e+07      0.000   -1.26e+15   -1.26e+15\n",
       "Last Activity_Email Link Clicked                       -7.589e+14   2.91e+07  -2.61e+07      0.000   -7.59e+14   -7.59e+14\n",
       "Last Activity_Email Marked Spam                         1.042e+14   4.77e+07   2.19e+06      0.000    1.04e+14    1.04e+14\n",
       "Last Activity_Email Opened                             -1.047e+15   2.78e+07  -3.76e+07      0.000   -1.05e+15   -1.05e+15\n",
       "Last Activity_Email Received                            2.384e+15   7.28e+07   3.28e+07      0.000    2.38e+15    2.38e+15\n",
       "Last Activity_Form Submitted on Website                -1.069e+15   2.88e+07  -3.71e+07      0.000   -1.07e+15   -1.07e+15\n",
       "Last Activity_Had a Phone Conversation                 -1.508e+15   3.33e+07  -4.53e+07      0.000   -1.51e+15   -1.51e+15\n",
       "Last Activity_Olark Chat Conversation                  -1.107e+15   2.79e+07  -3.97e+07      0.000   -1.11e+15   -1.11e+15\n",
       "Last Activity_Page Visited on Website                  -9.103e+14   2.81e+07  -3.24e+07      0.000    -9.1e+14    -9.1e+14\n",
       "Last Activity_Resubscribed to emails                      2.4e+14   4.85e+07   4.95e+06      0.000     2.4e+14     2.4e+14\n",
       "Last Activity_SMS Sent                                 -8.675e+14   2.79e+07  -3.11e+07      0.000   -8.67e+14   -8.67e+14\n",
       "Last Activity_Unreachable                              -1.437e+15   2.95e+07  -4.87e+07      0.000   -1.44e+15   -1.44e+15\n",
       "Last Activity_Unsubscribed                             -9.762e+14   3.77e+07  -2.59e+07      0.000   -9.76e+14   -9.76e+14\n",
       "Last Activity_View in browser link Clicked             -3.889e+15   4.78e+07  -8.14e+07      0.000   -3.89e+15   -3.89e+15\n",
       "Last Activity_Visited Booth in Tradeshow                 -18.1244   8.41e-07  -2.15e+07      0.000     -18.124     -18.124\n",
       "Country_Australia                                      -1.101e+14   7.14e+07  -1.54e+06      0.000    -1.1e+14    -1.1e+14\n",
       "Country_Bahrain                                        -3.955e+14   7.27e+07  -5.44e+06      0.000   -3.95e+14   -3.95e+14\n",
       "Country_Bangladesh                                      4.179e+15   9.53e+07   4.39e+07      0.000    4.18e+15    4.18e+15\n",
       "Country_Belgium                                        -4.192e+15   8.25e+07  -5.08e+07      0.000   -4.19e+15   -4.19e+15\n",
       "Country_Canada                                         -4.372e+15   8.26e+07   -5.3e+07      0.000   -4.37e+15   -4.37e+15\n",
       "Country_China                                          -3.289e+15   8.24e+07  -3.99e+07      0.000   -3.29e+15   -3.29e+15\n",
       "Country_Denmark                                         2.946e+15   9.52e+07    3.1e+07      0.000    2.95e+15    2.95e+15\n",
       "Country_France                                         -1.384e+15   7.53e+07  -1.84e+07      0.000   -1.38e+15   -1.38e+15\n",
       "Country_Germany                                        -3.124e+15   8.25e+07  -3.79e+07      0.000   -3.12e+15   -3.12e+15\n",
       "Country_Ghana                                          -3.247e+15   8.24e+07  -3.94e+07      0.000   -3.25e+15   -3.25e+15\n",
       "Country_Hong Kong                                       6.303e+14   7.37e+07   8.56e+06      0.000     6.3e+14     6.3e+14\n",
       "Country_India                                          -2.347e+14   6.73e+07  -3.49e+06      0.000   -2.35e+14   -2.35e+14\n",
       "Country_Indonesia                                       -4.56e+15   9.58e+07  -4.76e+07      0.000   -4.56e+15   -4.56e+15\n",
       "Country_Italy                                              3.1124   5.62e-07   5.54e+06      0.000       3.112       3.112\n",
       "Country_Kenya                                             -5.8505   7.83e-07  -7.47e+06      0.000      -5.850      -5.850\n",
       "Country_Kuwait                                          -2.95e+15   7.77e+07   -3.8e+07      0.000   -2.95e+15   -2.95e+15\n",
       "Country_Liberia                                        -3.288e+15   9.53e+07  -3.45e+07      0.000   -3.29e+15   -3.29e+15\n",
       "Country_Malaysia                                          -7.5806   1.71e-07  -4.45e+07      0.000      -7.581      -7.581\n",
       "Country_Netherlands                                    -3.595e+15   9.52e+07  -3.78e+07      0.000   -3.59e+15   -3.59e+15\n",
       "Country_Nigeria                                        -2.198e+15   8.25e+07  -2.66e+07      0.000    -2.2e+15    -2.2e+15\n",
       "Country_Oman                                           -2.812e+15   7.53e+07  -3.73e+07      0.000   -2.81e+15   -2.81e+15\n",
       "Country_Philippines                                     8.127e+14   8.25e+07   9.85e+06      0.000    8.13e+14    8.13e+14\n",
       "Country_Qatar                                          -3.474e+15   7.53e+07  -4.61e+07      0.000   -3.47e+15   -3.47e+15\n",
       "Country_Russia                                            -1.3088   5.18e-07  -2.53e+06      0.000      -1.309      -1.309\n",
       "Country_Saudi Arabia                                   -8.423e+14   6.96e+07  -1.21e+07      0.000   -8.42e+14   -8.42e+14\n",
       "Country_Singapore                                      -3.926e+14   6.91e+07  -5.68e+06      0.000   -3.93e+14   -3.93e+14\n",
       "Country_South Africa                                    1.335e+15   7.78e+07   1.72e+07      0.000    1.33e+15    1.33e+15\n",
       "Country_Sri Lanka                                      -3.314e+15   9.55e+07  -3.47e+07      0.000   -3.31e+15   -3.31e+15\n",
       "Country_Sweden                                         -6.999e+14   7.76e+07  -9.02e+06      0.000      -7e+14      -7e+14\n",
       "Country_Switzerland                                       -5.5614   1.85e-07  -3.01e+07      0.000      -5.561      -5.561\n",
       "Country_Tanzania                                           3.3042   8.02e-07   4.12e+06      0.000       3.304       3.304\n",
       "Country_Uganda                                         -3.876e+15   9.51e+07  -4.08e+07      0.000   -3.88e+15   -3.88e+15\n",
       "Country_United Arab Emirates                           -3.526e+14   6.82e+07  -5.17e+06      0.000   -3.53e+14   -3.53e+14\n",
       "Country_United Kingdom                                  2.241e+14    7.1e+07   3.16e+06      0.000    2.24e+14    2.24e+14\n",
       "Country_United States                                  -6.408e+13   6.79e+07  -9.43e+05      0.000   -6.41e+13   -6.41e+13\n",
       "Country_Vietnam                                            4.9351   3.88e-07   1.27e+07      0.000       4.935       4.935\n",
       "Country_unknown                                        -3.675e+15   8.23e+07  -4.46e+07      0.000   -3.68e+15   -3.68e+15\n",
       "Specialization_Business Administration                   1.81e+14   5.86e+06   3.09e+07      0.000    1.81e+14    1.81e+14\n",
       "Specialization_E-Business                               1.495e+14   1.27e+07   1.18e+07      0.000    1.49e+14    1.49e+14\n",
       "Specialization_E-COMMERCE                               2.717e+14   8.76e+06    3.1e+07      0.000    2.72e+14    2.72e+14\n",
       "Specialization_Finance Management                       8.351e+13   5.04e+06   1.66e+07      0.000    8.35e+13    8.35e+13\n",
       "Specialization_Healthcare Management                    1.868e+14   7.66e+06   2.44e+07      0.000    1.87e+14    1.87e+14\n",
       "Specialization_Hospitality Management                   7.361e+13   8.85e+06   8.32e+06      0.000    7.36e+13    7.36e+13\n",
       "Specialization_Human Resource Management                -2.52e+13   5.17e+06  -4.87e+06      0.000   -2.52e+13   -2.52e+13\n",
       "Specialization_IT Projects Management                   1.864e+14    6.2e+06   3.01e+07      0.000    1.86e+14    1.86e+14\n",
       "Specialization_International Business                  -1.255e+14   7.46e+06  -1.68e+07      0.000   -1.25e+14   -1.25e+14\n",
       "Specialization_Marketing Management                     2.296e+14   5.19e+06   4.43e+07      0.000     2.3e+14     2.3e+14\n",
       "Specialization_Media and Advertising                    2.205e+14   7.19e+06   3.07e+07      0.000    2.21e+14    2.21e+14\n",
       "Specialization_Operations Management                     1.52e+14   5.63e+06    2.7e+07      0.000    1.52e+14    1.52e+14\n",
       "Specialization_Retail Management                        4.866e+13   9.55e+06    5.1e+06      0.000    4.87e+13    4.87e+13\n",
       "Specialization_Rural and Agribusiness                   2.729e+13   1.04e+07   2.63e+06      0.000    2.73e+13    2.73e+13\n",
       "Specialization_Services Excellence                      1.511e+14   1.49e+07   1.02e+07      0.000    1.51e+14    1.51e+14\n",
       "Specialization_Specialization Not given                 1.598e+14   5.33e+06      3e+07      0.000     1.6e+14     1.6e+14\n",
       "Specialization_Supply Chain Management                 -1.433e+14   6.32e+06  -2.27e+07      0.000   -1.43e+14   -1.43e+14\n",
       "Specialization_Travel and Tourism                       5.411e+13    7.5e+06   7.22e+06      0.000    5.41e+13    5.41e+13\n",
       "What is your current occupation_Housewife               2.263e+15   3.66e+07   6.18e+07      0.000    2.26e+15    2.26e+15\n",
       "What is your current occupation_Other                  -8.515e+14   2.78e+07  -3.07e+07      0.000   -8.52e+14   -8.52e+14\n",
       "What is your current occupation_Student                -5.244e+13   2.82e+07  -1.86e+06      0.000   -5.24e+13   -5.24e+13\n",
       "What is your current occupation_Unemployed              1.527e+14   2.77e+07   5.52e+06      0.000    1.53e+14    1.53e+14\n",
       "What is your current occupation_Working Professional    1.893e+14   2.78e+07    6.8e+06      0.000    1.89e+14    1.89e+14\n",
       "Tags_Busy                                               2.534e+15   7.84e+06   3.23e+08      0.000    2.53e+15    2.53e+15\n",
       "Tags_Closed by Horizzon                                 5.781e+15   7.32e+06    7.9e+08      0.000    5.78e+15    5.78e+15\n",
       "Tags_Diploma holder (Not Eligible)                      5.771e+14   1.03e+07   5.63e+07      0.000    5.77e+14    5.77e+14\n",
       "Tags_Graduation in progress                             9.106e+14   8.84e+06   1.03e+08      0.000    9.11e+14    9.11e+14\n",
       "Tags_In confusion whether part time or DLP             -2.979e+15   4.78e+07  -6.24e+07      0.000   -2.98e+15   -2.98e+15\n",
       "Tags_Interested  in full time MBA                       9.572e+14    8.6e+06   1.11e+08      0.000    9.57e+14    9.57e+14\n",
       "Tags_Interested in Next batch                           5.468e+15   3.43e+07    1.6e+08      0.000    5.47e+15    5.47e+15\n",
       "Tags_Interested in other courses                        6.985e+14   5.69e+06   1.23e+08      0.000    6.98e+14    6.98e+14\n",
       "Tags_Lateral student                                    3.456e+15    4.8e+07   7.21e+07      0.000    3.46e+15    3.46e+15\n",
       "Tags_Lost to EINS                                       3.163e+15   7.76e+06   4.08e+08      0.000    3.16e+15    3.16e+15\n",
       "Tags_Lost to Others                                    -2.763e+15   3.46e+07  -7.98e+07      0.000   -2.76e+15   -2.76e+15\n",
       "Tags_Not doing further education                       -2.119e+15   7.95e+06  -2.67e+08      0.000   -2.12e+15   -2.12e+15\n",
       "Tags_Recognition issue (DEC approval)                     -0.9231   3.07e-08  -3.01e+07      0.000      -0.923      -0.923\n",
       "Tags_Ringing                                            2.225e+14   5.37e+06   4.14e+07      0.000    2.23e+14    2.23e+14\n",
       "Tags_Shall take in the next coming month                  -2.2929   3.83e-08  -5.98e+07      0.000      -2.293      -2.293\n",
       "Tags_Still Thinking                                     5.475e+14   3.42e+07    1.6e+07      0.000    5.47e+14    5.47e+14\n",
       "Tags_University not recognized                         -2.866e+15    4.8e+07  -5.97e+07      0.000   -2.87e+15   -2.87e+15\n",
       "Tags_Unknown                                            2.013e+15   5.75e+06    3.5e+08      0.000    2.01e+15    2.01e+15\n",
       "Tags_Want to take admission but has financial problems  6.428e+14   2.88e+07   2.23e+07      0.000    6.43e+14    6.43e+14\n",
       "Tags_Will revert after reading the email                2.357e+15   5.81e+06   4.06e+08      0.000    2.36e+15    2.36e+15\n",
       "Tags_in touch with EINS                                 2.911e+13   3.05e+07   9.54e+05      0.000    2.91e+13    2.91e+13\n",
       "Tags_invalid number                                     1.189e+14   1.04e+07   1.14e+07      0.000    1.19e+14    1.19e+14\n",
       "Tags_number not provided                               -5.896e+14   1.51e+07   -3.9e+07      0.000    -5.9e+14    -5.9e+14\n",
       "Tags_opp hangup                                         5.191e+14   1.47e+07   3.52e+07      0.000    5.19e+14    5.19e+14\n",
       "Tags_switched off                                      -4.893e+14   7.13e+06  -6.86e+07      0.000   -4.89e+14   -4.89e+14\n",
       "Tags_wrong number given                                 -3.04e+15   1.38e+07  -2.21e+08      0.000   -3.04e+15   -3.04e+15\n",
       "Lead Quality_Low in Relevance                          -2.864e+14   4.92e+06  -5.82e+07      0.000   -2.86e+14   -2.86e+14\n",
       "Lead Quality_Might be                                  -2.075e+14   4.25e+06  -4.88e+07      0.000   -2.08e+14   -2.08e+14\n",
       "Lead Quality_Not Sure                                   2.693e+13   5.16e+06   5.22e+06      0.000    2.69e+13    2.69e+13\n",
       "Lead Quality_Unassigned                                -3.255e+14   4.95e+06  -6.58e+07      0.000   -3.26e+14   -3.26e+14\n",
       "Lead Quality_Worst                                     -1.038e+15   6.24e+06  -1.66e+08      0.000   -1.04e+15   -1.04e+15\n",
       "Last Notable Activity_Email Bounced                    -2.731e+15   7.58e+07   -3.6e+07      0.000   -2.73e+15   -2.73e+15\n",
       "Last Notable Activity_Email Link Clicked               -2.999e+15   7.56e+07  -3.96e+07      0.000      -3e+15      -3e+15\n",
       "Last Notable Activity_Email Marked Spam                 1.042e+14   4.77e+07   2.19e+06      0.000    1.04e+14    1.04e+14\n",
       "Last Notable Activity_Email Opened                     -2.386e+15   7.49e+07  -3.18e+07      0.000   -2.39e+15   -2.39e+15\n",
       "Last Notable Activity_Email Received                            0          0        nan        nan           0           0\n",
       "Last Notable Activity_Form Submitted on Website        -5.405e+15   1.01e+08  -5.35e+07      0.000   -5.41e+15   -5.41e+15\n",
       "Last Notable Activity_Had a Phone Conversation           1.28e+15      8e+07    1.6e+07      0.000    1.28e+15    1.28e+15\n",
       "Last Notable Activity_Modified                         -2.725e+15   7.49e+07  -3.64e+07      0.000   -2.72e+15   -2.72e+15\n",
       "Last Notable Activity_Olark Chat Conversation          -2.857e+15   7.52e+07   -3.8e+07      0.000   -2.86e+15   -2.86e+15\n",
       "Last Notable Activity_Page Visited on Website          -2.701e+15   7.52e+07  -3.59e+07      0.000    -2.7e+15    -2.7e+15\n",
       "Last Notable Activity_Resubscribed to emails              2.4e+14   4.85e+07   4.95e+06      0.000     2.4e+14     2.4e+14\n",
       "Last Notable Activity_SMS Sent                         -2.201e+15    7.5e+07  -2.93e+07      0.000    -2.2e+15    -2.2e+15\n",
       "Last Notable Activity_Unreachable                      -2.224e+15    7.7e+07  -2.89e+07      0.000   -2.22e+15   -2.22e+15\n",
       "Last Notable Activity_Unsubscribed                     -2.308e+15   7.99e+07  -2.89e+07      0.000   -2.31e+15   -2.31e+15\n",
       "Last Notable Activity_View in browser link Clicked              0          0        nan        nan           0           0\n",
       "==========================================================================================================================\n",
       "\"\"\""
      ]
     },
     "execution_count": 99,
     "metadata": {},
     "output_type": "execute_result"
    }
   ],
   "source": [
    "# Logistic regression model\n",
    "logistic_model = sm.GLM(y_train,(sm.add_constant(X_train)), family = sm.families.Binomial())\n",
    "logistic_model.fit().summary()"
   ]
  },
  {
   "cell_type": "markdown",
   "metadata": {},
   "source": [
    "**Feature Selection Using RFE**"
   ]
  },
  {
   "cell_type": "code",
   "execution_count": 100,
   "metadata": {},
   "outputs": [],
   "source": [
    "from sklearn.linear_model import LogisticRegression\n",
    "logreg = LogisticRegression()"
   ]
  },
  {
   "cell_type": "code",
   "execution_count": 101,
   "metadata": {},
   "outputs": [],
   "source": [
    "from sklearn.feature_selection import RFE\n",
    "rfe = RFE(logreg, 15)             # running RFE with 15 variables as output\n",
    "rfe = rfe.fit(X_train, y_train)"
   ]
  },
  {
   "cell_type": "code",
   "execution_count": 102,
   "metadata": {},
   "outputs": [],
   "source": [
    "from sklearn.feature_selection import RFECV\n",
    "from sklearn.metrics import accuracy_score, confusion_matrix"
   ]
  },
  {
   "cell_type": "code",
   "execution_count": 103,
   "metadata": {},
   "outputs": [
    {
     "data": {
      "text/plain": [
       "[('Do Not Email', True, 1),\n",
       " ('TotalVisits', False, 72),\n",
       " ('Total Time Spent on Website', False, 11),\n",
       " ('Page Views Per Visit', False, 66),\n",
       " ('A free copy of Mastering The Interview', False, 93),\n",
       " ('Lead Origin_Landing Page Submission', False, 25),\n",
       " ('Lead Origin_Lead Add Form', False, 10),\n",
       " ('Lead Origin_Lead Import', False, 91),\n",
       " ('Lead Source_Direct Traffic', False, 41),\n",
       " ('Lead Source_Facebook', False, 40),\n",
       " ('Lead Source_Google', False, 65),\n",
       " ('Lead Source_Live Chat', False, 115),\n",
       " ('Lead Source_NC_EDM', False, 125),\n",
       " ('Lead Source_Olark Chat', False, 12),\n",
       " ('Lead Source_Organic Search', False, 94),\n",
       " ('Lead Source_Pay per Click Ads', False, 119),\n",
       " ('Lead Source_Press_Release', False, 130),\n",
       " ('Lead Source_Reference', False, 29),\n",
       " ('Lead Source_Referral Sites', False, 52),\n",
       " ('Lead Source_Social Media', False, 67),\n",
       " ('Lead Source_WeLearn', False, 120),\n",
       " ('Lead Source_Welingak Website', True, 1),\n",
       " ('Lead Source_bing', False, 95),\n",
       " ('Lead Source_blog', False, 131),\n",
       " ('Lead Source_testone', False, 117),\n",
       " ('Lead Source_welearnblog_Home', False, 82),\n",
       " ('Lead Source_youtubechannel', False, 88),\n",
       " ('Last Activity_Converted to Lead', False, 34),\n",
       " ('Last Activity_Email Bounced', False, 58),\n",
       " ('Last Activity_Email Link Clicked', False, 80),\n",
       " ('Last Activity_Email Marked Spam', False, 109),\n",
       " ('Last Activity_Email Opened', False, 105),\n",
       " ('Last Activity_Email Received', False, 103),\n",
       " ('Last Activity_Form Submitted on Website', False, 102),\n",
       " ('Last Activity_Had a Phone Conversation', False, 39),\n",
       " ('Last Activity_Olark Chat Conversation', False, 35),\n",
       " ('Last Activity_Page Visited on Website', False, 59),\n",
       " ('Last Activity_Resubscribed to emails', False, 79),\n",
       " ('Last Activity_SMS Sent', False, 4),\n",
       " ('Last Activity_Unreachable', False, 90),\n",
       " ('Last Activity_Unsubscribed', False, 19),\n",
       " ('Last Activity_View in browser link Clicked', False, 63),\n",
       " ('Last Activity_Visited Booth in Tradeshow', False, 133),\n",
       " ('Country_Australia', False, 89),\n",
       " ('Country_Bahrain', False, 110),\n",
       " ('Country_Bangladesh', False, 101),\n",
       " ('Country_Belgium', False, 99),\n",
       " ('Country_Canada', False, 44),\n",
       " ('Country_China', False, 98),\n",
       " ('Country_Denmark', False, 118),\n",
       " ('Country_France', False, 48),\n",
       " ('Country_Germany', False, 106),\n",
       " ('Country_Ghana', False, 76),\n",
       " ('Country_Hong Kong', False, 14),\n",
       " ('Country_India', False, 47),\n",
       " ('Country_Indonesia', False, 92),\n",
       " ('Country_Italy', False, 121),\n",
       " ('Country_Kenya', False, 128),\n",
       " ('Country_Kuwait', False, 104),\n",
       " ('Country_Liberia', False, 113),\n",
       " ('Country_Malaysia', False, 124),\n",
       " ('Country_Netherlands', False, 45),\n",
       " ('Country_Nigeria', False, 111),\n",
       " ('Country_Oman', False, 49),\n",
       " ('Country_Philippines', False, 112),\n",
       " ('Country_Qatar', False, 54),\n",
       " ('Country_Russia', False, 129),\n",
       " ('Country_Saudi Arabia', False, 13),\n",
       " ('Country_Singapore', False, 53),\n",
       " ('Country_South Africa', False, 15),\n",
       " ('Country_Sri Lanka', False, 116),\n",
       " ('Country_Sweden', False, 107),\n",
       " ('Country_Switzerland', False, 127),\n",
       " ('Country_Tanzania', False, 134),\n",
       " ('Country_Uganda', False, 87),\n",
       " ('Country_United Arab Emirates', False, 68),\n",
       " ('Country_United Kingdom', False, 64),\n",
       " ('Country_United States', False, 22),\n",
       " ('Country_Vietnam', False, 123),\n",
       " ('Country_unknown', False, 55),\n",
       " ('Specialization_Business Administration', False, 85),\n",
       " ('Specialization_E-Business', False, 83),\n",
       " ('Specialization_E-COMMERCE', False, 26),\n",
       " ('Specialization_Finance Management', False, 96),\n",
       " ('Specialization_Healthcare Management', False, 50),\n",
       " ('Specialization_Hospitality Management', False, 28),\n",
       " ('Specialization_Human Resource Management', False, 70),\n",
       " ('Specialization_IT Projects Management', False, 84),\n",
       " ('Specialization_International Business', False, 38),\n",
       " ('Specialization_Marketing Management', False, 43),\n",
       " ('Specialization_Media and Advertising', False, 75),\n",
       " ('Specialization_Operations Management', False, 114),\n",
       " ('Specialization_Retail Management', False, 69),\n",
       " ('Specialization_Rural and Agribusiness', False, 51),\n",
       " ('Specialization_Services Excellence', False, 77),\n",
       " ('Specialization_Specialization Not given', False, 100),\n",
       " ('Specialization_Supply Chain Management', False, 20),\n",
       " ('Specialization_Travel and Tourism', False, 33),\n",
       " ('What is your current occupation_Housewife', False, 42),\n",
       " ('What is your current occupation_Other', True, 1),\n",
       " ('What is your current occupation_Student', False, 62),\n",
       " ('What is your current occupation_Unemployed', False, 46),\n",
       " ('What is your current occupation_Working Professional', False, 30),\n",
       " ('Tags_Busy', True, 1),\n",
       " ('Tags_Closed by Horizzon', True, 1),\n",
       " ('Tags_Diploma holder (Not Eligible)', False, 9),\n",
       " ('Tags_Graduation in progress', False, 73),\n",
       " ('Tags_In confusion whether part time or DLP', False, 74),\n",
       " ('Tags_Interested  in full time MBA', False, 21),\n",
       " ('Tags_Interested in Next batch', False, 36),\n",
       " ('Tags_Interested in other courses', False, 6),\n",
       " ('Tags_Lateral student', True, 1),\n",
       " ('Tags_Lost to EINS', True, 1),\n",
       " ('Tags_Lost to Others', False, 31),\n",
       " ('Tags_Not doing further education', False, 3),\n",
       " ('Tags_Recognition issue (DEC approval)', False, 132),\n",
       " ('Tags_Ringing', True, 1),\n",
       " ('Tags_Shall take in the next coming month', False, 126),\n",
       " ('Tags_Still Thinking', False, 61),\n",
       " ('Tags_University not recognized', False, 78),\n",
       " ('Tags_Unknown', True, 1),\n",
       " ('Tags_Want to take admission but has financial problems', False, 56),\n",
       " ('Tags_Will revert after reading the email', True, 1),\n",
       " ('Tags_in touch with EINS', False, 32),\n",
       " ('Tags_invalid number', True, 1),\n",
       " ('Tags_number not provided', False, 2),\n",
       " ('Tags_opp hangup', False, 57),\n",
       " ('Tags_switched off', True, 1),\n",
       " ('Tags_wrong number given', True, 1),\n",
       " ('Lead Quality_Low in Relevance', False, 37),\n",
       " ('Lead Quality_Might be', False, 18),\n",
       " ('Lead Quality_Not Sure', False, 23),\n",
       " ('Lead Quality_Unassigned', False, 17),\n",
       " ('Lead Quality_Worst', True, 1),\n",
       " ('Last Notable Activity_Email Bounced', False, 86),\n",
       " ('Last Notable Activity_Email Link Clicked', False, 16),\n",
       " ('Last Notable Activity_Email Marked Spam', False, 108),\n",
       " ('Last Notable Activity_Email Opened', False, 60),\n",
       " ('Last Notable Activity_Email Received', False, 122),\n",
       " ('Last Notable Activity_Form Submitted on Website', False, 97),\n",
       " ('Last Notable Activity_Had a Phone Conversation', False, 8),\n",
       " ('Last Notable Activity_Modified', False, 5),\n",
       " ('Last Notable Activity_Olark Chat Conversation', False, 7),\n",
       " ('Last Notable Activity_Page Visited on Website', False, 71),\n",
       " ('Last Notable Activity_Resubscribed to emails', False, 81),\n",
       " ('Last Notable Activity_SMS Sent', True, 1),\n",
       " ('Last Notable Activity_Unreachable', False, 24),\n",
       " ('Last Notable Activity_Unsubscribed', False, 27),\n",
       " ('Last Notable Activity_View in browser link Clicked', False, 135)]"
      ]
     },
     "execution_count": 103,
     "metadata": {},
     "output_type": "execute_result"
    }
   ],
   "source": [
    "list(zip(X_train.columns, rfe.support_, rfe.ranking_))"
   ]
  },
  {
   "cell_type": "code",
   "execution_count": 104,
   "metadata": {},
   "outputs": [],
   "source": [
    "cols = X_train.columns[rfe.support_]"
   ]
  },
  {
   "cell_type": "code",
   "execution_count": 105,
   "metadata": {},
   "outputs": [
    {
     "data": {
      "text/plain": [
       "Index(['TotalVisits', 'Total Time Spent on Website', 'Page Views Per Visit',\n",
       "       'A free copy of Mastering The Interview',\n",
       "       'Lead Origin_Landing Page Submission', 'Lead Origin_Lead Add Form',\n",
       "       'Lead Origin_Lead Import', 'Lead Source_Direct Traffic',\n",
       "       'Lead Source_Facebook', 'Lead Source_Google',\n",
       "       ...\n",
       "       'Last Notable Activity_Email Received',\n",
       "       'Last Notable Activity_Form Submitted on Website',\n",
       "       'Last Notable Activity_Had a Phone Conversation',\n",
       "       'Last Notable Activity_Modified',\n",
       "       'Last Notable Activity_Olark Chat Conversation',\n",
       "       'Last Notable Activity_Page Visited on Website',\n",
       "       'Last Notable Activity_Resubscribed to emails',\n",
       "       'Last Notable Activity_Unreachable',\n",
       "       'Last Notable Activity_Unsubscribed',\n",
       "       'Last Notable Activity_View in browser link Clicked'],\n",
       "      dtype='object', length=134)"
      ]
     },
     "execution_count": 105,
     "metadata": {},
     "output_type": "execute_result"
    }
   ],
   "source": [
    "X_train.columns[~rfe.support_]"
   ]
  },
  {
   "cell_type": "markdown",
   "metadata": {},
   "source": [
    "### The following columns are required for Building the model"
   ]
  },
  {
   "cell_type": "code",
   "execution_count": 106,
   "metadata": {},
   "outputs": [
    {
     "data": {
      "text/plain": [
       "Index(['Do Not Email', 'Lead Source_Welingak Website',\n",
       "       'What is your current occupation_Other', 'Tags_Busy',\n",
       "       'Tags_Closed by Horizzon', 'Tags_Lateral student', 'Tags_Lost to EINS',\n",
       "       'Tags_Ringing', 'Tags_Unknown',\n",
       "       'Tags_Will revert after reading the email', 'Tags_invalid number',\n",
       "       'Tags_switched off', 'Tags_wrong number given', 'Lead Quality_Worst',\n",
       "       'Last Notable Activity_SMS Sent'],\n",
       "      dtype='object')"
      ]
     },
     "execution_count": 106,
     "metadata": {},
     "output_type": "execute_result"
    }
   ],
   "source": [
    "cols"
   ]
  },
  {
   "cell_type": "code",
   "execution_count": 107,
   "metadata": {},
   "outputs": [
    {
     "data": {
      "text/plain": [
       "(6378, 149)"
      ]
     },
     "execution_count": 107,
     "metadata": {},
     "output_type": "execute_result"
    }
   ],
   "source": [
    "X_train.shape"
   ]
  },
  {
   "cell_type": "code",
   "execution_count": 108,
   "metadata": {},
   "outputs": [
    {
     "data": {
      "text/plain": [
       "(6378, 15)"
      ]
     },
     "execution_count": 108,
     "metadata": {},
     "output_type": "execute_result"
    }
   ],
   "source": [
    "X_train[cols].shape"
   ]
  },
  {
   "cell_type": "markdown",
   "metadata": {},
   "source": [
    "##### Assessing the model with StatsModels"
   ]
  },
  {
   "cell_type": "code",
   "execution_count": 109,
   "metadata": {},
   "outputs": [
    {
     "data": {
      "text/html": [
       "<table class=\"simpletable\">\n",
       "<caption>Generalized Linear Model Regression Results</caption>\n",
       "<tr>\n",
       "  <th>Dep. Variable:</th>      <td>Converted</td>    <th>  No. Observations:  </th>  <td>  6378</td>  \n",
       "</tr>\n",
       "<tr>\n",
       "  <th>Model:</th>                 <td>GLM</td>       <th>  Df Residuals:      </th>  <td>  6362</td>  \n",
       "</tr>\n",
       "<tr>\n",
       "  <th>Model Family:</th>       <td>Binomial</td>     <th>  Df Model:          </th>  <td>    15</td>  \n",
       "</tr>\n",
       "<tr>\n",
       "  <th>Link Function:</th>        <td>logit</td>      <th>  Scale:             </th> <td>  1.0000</td> \n",
       "</tr>\n",
       "<tr>\n",
       "  <th>Method:</th>               <td>IRLS</td>       <th>  Log-Likelihood:    </th> <td> -1213.8</td> \n",
       "</tr>\n",
       "<tr>\n",
       "  <th>Date:</th>           <td>Mon, 17 Jun 2019</td> <th>  Deviance:          </th> <td>  2427.7</td> \n",
       "</tr>\n",
       "<tr>\n",
       "  <th>Time:</th>               <td>21:30:14</td>     <th>  Pearson chi2:      </th> <td>1.06e+04</td> \n",
       "</tr>\n",
       "<tr>\n",
       "  <th>No. Iterations:</th>        <td>24</td>        <th>  Covariance Type:   </th> <td>nonrobust</td>\n",
       "</tr>\n",
       "</table>\n",
       "<table class=\"simpletable\">\n",
       "<tr>\n",
       "                      <td></td>                        <th>coef</th>     <th>std err</th>      <th>z</th>      <th>P>|z|</th>  <th>[0.025</th>    <th>0.975]</th>  \n",
       "</tr>\n",
       "<tr>\n",
       "  <th>const</th>                                    <td>   -3.3689</td> <td>    0.206</td> <td>  -16.356</td> <td> 0.000</td> <td>   -3.773</td> <td>   -2.965</td>\n",
       "</tr>\n",
       "<tr>\n",
       "  <th>Do Not Email</th>                             <td>   -1.4211</td> <td>    0.240</td> <td>   -5.910</td> <td> 0.000</td> <td>   -1.892</td> <td>   -0.950</td>\n",
       "</tr>\n",
       "<tr>\n",
       "  <th>Lead Source_Welingak Website</th>             <td>    3.0409</td> <td>    0.743</td> <td>    4.094</td> <td> 0.000</td> <td>    1.585</td> <td>    4.497</td>\n",
       "</tr>\n",
       "<tr>\n",
       "  <th>What is your current occupation_Other</th>    <td>   -2.5930</td> <td>    0.143</td> <td>  -18.192</td> <td> 0.000</td> <td>   -2.872</td> <td>   -2.314</td>\n",
       "</tr>\n",
       "<tr>\n",
       "  <th>Tags_Busy</th>                                <td>    2.5826</td> <td>    0.296</td> <td>    8.722</td> <td> 0.000</td> <td>    2.002</td> <td>    3.163</td>\n",
       "</tr>\n",
       "<tr>\n",
       "  <th>Tags_Closed by Horizzon</th>                  <td>   28.9231</td> <td> 1.32e+04</td> <td>    0.002</td> <td> 0.998</td> <td>-2.59e+04</td> <td>  2.6e+04</td>\n",
       "</tr>\n",
       "<tr>\n",
       "  <th>Tags_Lateral student</th>                     <td>   28.9349</td> <td> 1.53e+05</td> <td>    0.000</td> <td> 1.000</td> <td>-2.99e+05</td> <td> 2.99e+05</td>\n",
       "</tr>\n",
       "<tr>\n",
       "  <th>Tags_Lost to EINS</th>                        <td>    9.1140</td> <td>    0.762</td> <td>   11.960</td> <td> 0.000</td> <td>    7.620</td> <td>   10.608</td>\n",
       "</tr>\n",
       "<tr>\n",
       "  <th>Tags_Ringing</th>                             <td>   -1.7341</td> <td>    0.306</td> <td>   -5.665</td> <td> 0.000</td> <td>   -2.334</td> <td>   -1.134</td>\n",
       "</tr>\n",
       "<tr>\n",
       "  <th>Tags_Unknown</th>                             <td>    3.3903</td> <td>    0.234</td> <td>   14.498</td> <td> 0.000</td> <td>    2.932</td> <td>    3.849</td>\n",
       "</tr>\n",
       "<tr>\n",
       "  <th>Tags_Will revert after reading the email</th> <td>    6.2174</td> <td>    0.253</td> <td>   24.615</td> <td> 0.000</td> <td>    5.722</td> <td>    6.713</td>\n",
       "</tr>\n",
       "<tr>\n",
       "  <th>Tags_invalid number</th>                      <td>   -1.9557</td> <td>    1.059</td> <td>   -1.846</td> <td> 0.065</td> <td>   -4.032</td> <td>    0.120</td>\n",
       "</tr>\n",
       "<tr>\n",
       "  <th>Tags_switched off</th>                        <td>   -3.4441</td> <td>    1.033</td> <td>   -3.335</td> <td> 0.001</td> <td>   -5.468</td> <td>   -1.420</td>\n",
       "</tr>\n",
       "<tr>\n",
       "  <th>Tags_wrong number given</th>                  <td>  -23.5368</td> <td>  3.6e+04</td> <td>   -0.001</td> <td> 0.999</td> <td>-7.06e+04</td> <td> 7.06e+04</td>\n",
       "</tr>\n",
       "<tr>\n",
       "  <th>Lead Quality_Worst</th>                       <td>   -2.5477</td> <td>    0.889</td> <td>   -2.865</td> <td> 0.004</td> <td>   -4.291</td> <td>   -0.805</td>\n",
       "</tr>\n",
       "<tr>\n",
       "  <th>Last Notable Activity_SMS Sent</th>           <td>    2.8540</td> <td>    0.139</td> <td>   20.604</td> <td> 0.000</td> <td>    2.582</td> <td>    3.125</td>\n",
       "</tr>\n",
       "</table>"
      ],
      "text/plain": [
       "<class 'statsmodels.iolib.summary.Summary'>\n",
       "\"\"\"\n",
       "                 Generalized Linear Model Regression Results                  \n",
       "==============================================================================\n",
       "Dep. Variable:              Converted   No. Observations:                 6378\n",
       "Model:                            GLM   Df Residuals:                     6362\n",
       "Model Family:                Binomial   Df Model:                           15\n",
       "Link Function:                  logit   Scale:                          1.0000\n",
       "Method:                          IRLS   Log-Likelihood:                -1213.8\n",
       "Date:                Mon, 17 Jun 2019   Deviance:                       2427.7\n",
       "Time:                        21:30:14   Pearson chi2:                 1.06e+04\n",
       "No. Iterations:                    24   Covariance Type:             nonrobust\n",
       "============================================================================================================\n",
       "                                               coef    std err          z      P>|z|      [0.025      0.975]\n",
       "------------------------------------------------------------------------------------------------------------\n",
       "const                                       -3.3689      0.206    -16.356      0.000      -3.773      -2.965\n",
       "Do Not Email                                -1.4211      0.240     -5.910      0.000      -1.892      -0.950\n",
       "Lead Source_Welingak Website                 3.0409      0.743      4.094      0.000       1.585       4.497\n",
       "What is your current occupation_Other       -2.5930      0.143    -18.192      0.000      -2.872      -2.314\n",
       "Tags_Busy                                    2.5826      0.296      8.722      0.000       2.002       3.163\n",
       "Tags_Closed by Horizzon                     28.9231   1.32e+04      0.002      0.998   -2.59e+04     2.6e+04\n",
       "Tags_Lateral student                        28.9349   1.53e+05      0.000      1.000   -2.99e+05    2.99e+05\n",
       "Tags_Lost to EINS                            9.1140      0.762     11.960      0.000       7.620      10.608\n",
       "Tags_Ringing                                -1.7341      0.306     -5.665      0.000      -2.334      -1.134\n",
       "Tags_Unknown                                 3.3903      0.234     14.498      0.000       2.932       3.849\n",
       "Tags_Will revert after reading the email     6.2174      0.253     24.615      0.000       5.722       6.713\n",
       "Tags_invalid number                         -1.9557      1.059     -1.846      0.065      -4.032       0.120\n",
       "Tags_switched off                           -3.4441      1.033     -3.335      0.001      -5.468      -1.420\n",
       "Tags_wrong number given                    -23.5368    3.6e+04     -0.001      0.999   -7.06e+04    7.06e+04\n",
       "Lead Quality_Worst                          -2.5477      0.889     -2.865      0.004      -4.291      -0.805\n",
       "Last Notable Activity_SMS Sent               2.8540      0.139     20.604      0.000       2.582       3.125\n",
       "============================================================================================================\n",
       "\"\"\""
      ]
     },
     "execution_count": 109,
     "metadata": {},
     "output_type": "execute_result"
    }
   ],
   "source": [
    "X_train_sm = sm.add_constant(X_train[cols])\n",
    "logistic_model2 = sm.GLM(y_train,X_train_sm, family = sm.families.Binomial())\n",
    "res = logistic_model2.fit()\n",
    "res.summary()"
   ]
  },
  {
   "cell_type": "markdown",
   "metadata": {},
   "source": [
    "#### Getting the predicted values on the train data  set"
   ]
  },
  {
   "cell_type": "code",
   "execution_count": 110,
   "metadata": {},
   "outputs": [
    {
     "data": {
      "text/plain": [
       "309     0.945245\n",
       "3745    0.002687\n",
       "8035    0.946619\n",
       "8286    0.996674\n",
       "7954    0.018116\n",
       "3826    0.070990\n",
       "1942    0.312962\n",
       "1541    0.070990\n",
       "4978    0.095435\n",
       "7076    0.996674\n",
       "dtype: float64"
      ]
     },
     "execution_count": 110,
     "metadata": {},
     "output_type": "execute_result"
    }
   ],
   "source": [
    "y_train_pred = res.predict(X_train_sm)\n",
    "y_train_pred[:10]"
   ]
  },
  {
   "cell_type": "code",
   "execution_count": 111,
   "metadata": {},
   "outputs": [
    {
     "data": {
      "text/plain": [
       "array([0.94524545, 0.00268711, 0.9466185 , 0.9966737 , 0.01811563,\n",
       "       0.07098979, 0.31296223, 0.07098979, 0.09543511, 0.9966737 ])"
      ]
     },
     "execution_count": 111,
     "metadata": {},
     "output_type": "execute_result"
    }
   ],
   "source": [
    "y_train_pred = y_train_pred.values.reshape(-1)\n",
    "y_train_pred[:10]"
   ]
  },
  {
   "cell_type": "markdown",
   "metadata": {},
   "source": [
    "#### Creating a dataframe with the original 'Converted' flag and the  'Predicted_Conversion' flag value also  calculating 'Converted_Prob' & 'Lead_Score'"
   ]
  },
  {
   "cell_type": "code",
   "execution_count": 112,
   "metadata": {},
   "outputs": [
    {
     "data": {
      "text/html": [
       "<div>\n",
       "<style scoped>\n",
       "    .dataframe tbody tr th:only-of-type {\n",
       "        vertical-align: middle;\n",
       "    }\n",
       "\n",
       "    .dataframe tbody tr th {\n",
       "        vertical-align: top;\n",
       "    }\n",
       "\n",
       "    .dataframe thead th {\n",
       "        text-align: right;\n",
       "    }\n",
       "</style>\n",
       "<table border=\"1\" class=\"dataframe\">\n",
       "  <thead>\n",
       "    <tr style=\"text-align: right;\">\n",
       "      <th></th>\n",
       "      <th>Converted</th>\n",
       "      <th>Converted_Probability</th>\n",
       "    </tr>\n",
       "  </thead>\n",
       "  <tbody>\n",
       "    <tr>\n",
       "      <th>0</th>\n",
       "      <td>1</td>\n",
       "      <td>0.945245</td>\n",
       "    </tr>\n",
       "    <tr>\n",
       "      <th>1</th>\n",
       "      <td>0</td>\n",
       "      <td>0.002687</td>\n",
       "    </tr>\n",
       "    <tr>\n",
       "      <th>2</th>\n",
       "      <td>1</td>\n",
       "      <td>0.946619</td>\n",
       "    </tr>\n",
       "    <tr>\n",
       "      <th>3</th>\n",
       "      <td>1</td>\n",
       "      <td>0.996674</td>\n",
       "    </tr>\n",
       "    <tr>\n",
       "      <th>4</th>\n",
       "      <td>0</td>\n",
       "      <td>0.018116</td>\n",
       "    </tr>\n",
       "  </tbody>\n",
       "</table>\n",
       "</div>"
      ],
      "text/plain": [
       "   Converted  Converted_Probability\n",
       "0          1               0.945245\n",
       "1          0               0.002687\n",
       "2          1               0.946619\n",
       "3          1               0.996674\n",
       "4          0               0.018116"
      ]
     },
     "execution_count": 112,
     "metadata": {},
     "output_type": "execute_result"
    }
   ],
   "source": [
    "y_train_pred_final = pd.DataFrame({'Converted':y_train.values, 'Converted_Probability':y_train_pred})\n",
    "y_train_pred_final.head()"
   ]
  },
  {
   "cell_type": "code",
   "execution_count": 113,
   "metadata": {},
   "outputs": [
    {
     "data": {
      "text/html": [
       "<div>\n",
       "<style scoped>\n",
       "    .dataframe tbody tr th:only-of-type {\n",
       "        vertical-align: middle;\n",
       "    }\n",
       "\n",
       "    .dataframe tbody tr th {\n",
       "        vertical-align: top;\n",
       "    }\n",
       "\n",
       "    .dataframe thead th {\n",
       "        text-align: right;\n",
       "    }\n",
       "</style>\n",
       "<table border=\"1\" class=\"dataframe\">\n",
       "  <thead>\n",
       "    <tr style=\"text-align: right;\">\n",
       "      <th></th>\n",
       "      <th>Converted</th>\n",
       "      <th>Converted_Probability</th>\n",
       "      <th>Lead_Score</th>\n",
       "    </tr>\n",
       "  </thead>\n",
       "  <tbody>\n",
       "    <tr>\n",
       "      <th>0</th>\n",
       "      <td>1</td>\n",
       "      <td>0.945245</td>\n",
       "      <td>95.0</td>\n",
       "    </tr>\n",
       "    <tr>\n",
       "      <th>1</th>\n",
       "      <td>0</td>\n",
       "      <td>0.002687</td>\n",
       "      <td>0.0</td>\n",
       "    </tr>\n",
       "    <tr>\n",
       "      <th>2</th>\n",
       "      <td>1</td>\n",
       "      <td>0.946619</td>\n",
       "      <td>95.0</td>\n",
       "    </tr>\n",
       "    <tr>\n",
       "      <th>3</th>\n",
       "      <td>1</td>\n",
       "      <td>0.996674</td>\n",
       "      <td>100.0</td>\n",
       "    </tr>\n",
       "    <tr>\n",
       "      <th>4</th>\n",
       "      <td>0</td>\n",
       "      <td>0.018116</td>\n",
       "      <td>2.0</td>\n",
       "    </tr>\n",
       "  </tbody>\n",
       "</table>\n",
       "</div>"
      ],
      "text/plain": [
       "   Converted  Converted_Probability  Lead_Score\n",
       "0          1               0.945245        95.0\n",
       "1          0               0.002687         0.0\n",
       "2          1               0.946619        95.0\n",
       "3          1               0.996674       100.0\n",
       "4          0               0.018116         2.0"
      ]
     },
     "execution_count": 113,
     "metadata": {},
     "output_type": "execute_result"
    }
   ],
   "source": [
    "y_train_pred_final['Lead_Score']=round((y_train_pred_final['Converted_Probability']*100))\n",
    "y_train_pred_final.head()"
   ]
  },
  {
   "cell_type": "markdown",
   "metadata": {},
   "source": [
    "##### Creating new column 'predicted' with 1 if Converted_Prob > 0.5 else 0"
   ]
  },
  {
   "cell_type": "code",
   "execution_count": 114,
   "metadata": {},
   "outputs": [
    {
     "data": {
      "text/html": [
       "<div>\n",
       "<style scoped>\n",
       "    .dataframe tbody tr th:only-of-type {\n",
       "        vertical-align: middle;\n",
       "    }\n",
       "\n",
       "    .dataframe tbody tr th {\n",
       "        vertical-align: top;\n",
       "    }\n",
       "\n",
       "    .dataframe thead th {\n",
       "        text-align: right;\n",
       "    }\n",
       "</style>\n",
       "<table border=\"1\" class=\"dataframe\">\n",
       "  <thead>\n",
       "    <tr style=\"text-align: right;\">\n",
       "      <th></th>\n",
       "      <th>Converted</th>\n",
       "      <th>Converted_Probability</th>\n",
       "      <th>Lead_Score</th>\n",
       "      <th>Predicted_Conversion</th>\n",
       "    </tr>\n",
       "  </thead>\n",
       "  <tbody>\n",
       "    <tr>\n",
       "      <th>0</th>\n",
       "      <td>1</td>\n",
       "      <td>0.945245</td>\n",
       "      <td>95.0</td>\n",
       "      <td>1</td>\n",
       "    </tr>\n",
       "    <tr>\n",
       "      <th>1</th>\n",
       "      <td>0</td>\n",
       "      <td>0.002687</td>\n",
       "      <td>0.0</td>\n",
       "      <td>0</td>\n",
       "    </tr>\n",
       "    <tr>\n",
       "      <th>2</th>\n",
       "      <td>1</td>\n",
       "      <td>0.946619</td>\n",
       "      <td>95.0</td>\n",
       "      <td>1</td>\n",
       "    </tr>\n",
       "    <tr>\n",
       "      <th>3</th>\n",
       "      <td>1</td>\n",
       "      <td>0.996674</td>\n",
       "      <td>100.0</td>\n",
       "      <td>1</td>\n",
       "    </tr>\n",
       "    <tr>\n",
       "      <th>4</th>\n",
       "      <td>0</td>\n",
       "      <td>0.018116</td>\n",
       "      <td>2.0</td>\n",
       "      <td>0</td>\n",
       "    </tr>\n",
       "  </tbody>\n",
       "</table>\n",
       "</div>"
      ],
      "text/plain": [
       "   Converted  Converted_Probability  Lead_Score  Predicted_Conversion\n",
       "0          1               0.945245        95.0                     1\n",
       "1          0               0.002687         0.0                     0\n",
       "2          1               0.946619        95.0                     1\n",
       "3          1               0.996674       100.0                     1\n",
       "4          0               0.018116         2.0                     0"
      ]
     },
     "execution_count": 114,
     "metadata": {},
     "output_type": "execute_result"
    }
   ],
   "source": [
    "y_train_pred_final['Predicted_Conversion'] = y_train_pred_final.Converted_Probability.map(lambda x: 1 if x > 0.5 else 0)\n",
    "# Let's see the head\n",
    "y_train_pred_final.head()"
   ]
  },
  {
   "cell_type": "code",
   "execution_count": 115,
   "metadata": {},
   "outputs": [],
   "source": [
    "from sklearn import metrics"
   ]
  },
  {
   "cell_type": "code",
   "execution_count": 116,
   "metadata": {},
   "outputs": [
    {
     "name": "stdout",
     "output_type": "stream",
     "text": [
      "[[3644  259]\n",
      " [ 181 2294]]\n"
     ]
    }
   ],
   "source": [
    "# Confusion matrix \n",
    "confusion = metrics.confusion_matrix(y_train_pred_final.Converted, y_train_pred_final.Predicted_Conversion)\n",
    "print(confusion)"
   ]
  },
  {
   "cell_type": "code",
   "execution_count": 117,
   "metadata": {},
   "outputs": [
    {
     "name": "stdout",
     "output_type": "stream",
     "text": [
      "0.9310128566948886\n"
     ]
    }
   ],
   "source": [
    "# Let's check the overall accuracy.\n",
    "print(metrics.accuracy_score(y_train_pred_final.Converted, y_train_pred_final.Predicted_Conversion))"
   ]
  },
  {
   "cell_type": "markdown",
   "metadata": {},
   "source": [
    "#### Checking VIFs"
   ]
  },
  {
   "cell_type": "code",
   "execution_count": 118,
   "metadata": {},
   "outputs": [],
   "source": [
    "# Check for the VIF values of the feature variables. \n",
    "from statsmodels.stats.outliers_influence import variance_inflation_factor"
   ]
  },
  {
   "cell_type": "code",
   "execution_count": 119,
   "metadata": {},
   "outputs": [
    {
     "data": {
      "text/html": [
       "<div>\n",
       "<style scoped>\n",
       "    .dataframe tbody tr th:only-of-type {\n",
       "        vertical-align: middle;\n",
       "    }\n",
       "\n",
       "    .dataframe tbody tr th {\n",
       "        vertical-align: top;\n",
       "    }\n",
       "\n",
       "    .dataframe thead th {\n",
       "        text-align: right;\n",
       "    }\n",
       "</style>\n",
       "<table border=\"1\" class=\"dataframe\">\n",
       "  <thead>\n",
       "    <tr style=\"text-align: right;\">\n",
       "      <th></th>\n",
       "      <th>Features</th>\n",
       "      <th>VIF</th>\n",
       "    </tr>\n",
       "  </thead>\n",
       "  <tbody>\n",
       "    <tr>\n",
       "      <th>8</th>\n",
       "      <td>Tags_Unknown</td>\n",
       "      <td>4.90</td>\n",
       "    </tr>\n",
       "    <tr>\n",
       "      <th>2</th>\n",
       "      <td>What is your current occupation_Other</td>\n",
       "      <td>4.58</td>\n",
       "    </tr>\n",
       "    <tr>\n",
       "      <th>14</th>\n",
       "      <td>Last Notable Activity_SMS Sent</td>\n",
       "      <td>1.59</td>\n",
       "    </tr>\n",
       "    <tr>\n",
       "      <th>9</th>\n",
       "      <td>Tags_Will revert after reading the email</td>\n",
       "      <td>1.35</td>\n",
       "    </tr>\n",
       "    <tr>\n",
       "      <th>1</th>\n",
       "      <td>Lead Source_Welingak Website</td>\n",
       "      <td>1.13</td>\n",
       "    </tr>\n",
       "    <tr>\n",
       "      <th>0</th>\n",
       "      <td>Do Not Email</td>\n",
       "      <td>1.10</td>\n",
       "    </tr>\n",
       "    <tr>\n",
       "      <th>7</th>\n",
       "      <td>Tags_Ringing</td>\n",
       "      <td>1.09</td>\n",
       "    </tr>\n",
       "    <tr>\n",
       "      <th>3</th>\n",
       "      <td>Tags_Busy</td>\n",
       "      <td>1.03</td>\n",
       "    </tr>\n",
       "    <tr>\n",
       "      <th>6</th>\n",
       "      <td>Tags_Lost to EINS</td>\n",
       "      <td>1.03</td>\n",
       "    </tr>\n",
       "    <tr>\n",
       "      <th>11</th>\n",
       "      <td>Tags_switched off</td>\n",
       "      <td>1.03</td>\n",
       "    </tr>\n",
       "    <tr>\n",
       "      <th>13</th>\n",
       "      <td>Lead Quality_Worst</td>\n",
       "      <td>1.03</td>\n",
       "    </tr>\n",
       "    <tr>\n",
       "      <th>10</th>\n",
       "      <td>Tags_invalid number</td>\n",
       "      <td>1.02</td>\n",
       "    </tr>\n",
       "    <tr>\n",
       "      <th>4</th>\n",
       "      <td>Tags_Closed by Horizzon</td>\n",
       "      <td>1.01</td>\n",
       "    </tr>\n",
       "    <tr>\n",
       "      <th>5</th>\n",
       "      <td>Tags_Lateral student</td>\n",
       "      <td>1.00</td>\n",
       "    </tr>\n",
       "    <tr>\n",
       "      <th>12</th>\n",
       "      <td>Tags_wrong number given</td>\n",
       "      <td>1.00</td>\n",
       "    </tr>\n",
       "  </tbody>\n",
       "</table>\n",
       "</div>"
      ],
      "text/plain": [
       "                                    Features   VIF\n",
       "8                               Tags_Unknown  4.90\n",
       "2      What is your current occupation_Other  4.58\n",
       "14            Last Notable Activity_SMS Sent  1.59\n",
       "9   Tags_Will revert after reading the email  1.35\n",
       "1               Lead Source_Welingak Website  1.13\n",
       "0                               Do Not Email  1.10\n",
       "7                               Tags_Ringing  1.09\n",
       "3                                  Tags_Busy  1.03\n",
       "6                          Tags_Lost to EINS  1.03\n",
       "11                         Tags_switched off  1.03\n",
       "13                        Lead Quality_Worst  1.03\n",
       "10                       Tags_invalid number  1.02\n",
       "4                    Tags_Closed by Horizzon  1.01\n",
       "5                       Tags_Lateral student  1.00\n",
       "12                   Tags_wrong number given  1.00"
      ]
     },
     "execution_count": 119,
     "metadata": {},
     "output_type": "execute_result"
    }
   ],
   "source": [
    "# Create a dataframe that will contain the names of all the feature variables and their respective VIFs\n",
    "vif = pd.DataFrame()\n",
    "vif['Features'] = X_train[cols].columns\n",
    "vif['VIF'] = [variance_inflation_factor(X_train[cols].values, i) for i in range(X_train[cols].shape[1])]\n",
    "vif['VIF'] = round(vif['VIF'], 2)\n",
    "vif = vif.sort_values(by = \"VIF\", ascending = False)\n",
    "vif"
   ]
  },
  {
   "cell_type": "markdown",
   "metadata": {},
   "source": [
    "Dropping high p value (0.999) column 'Tags_wrong number given'"
   ]
  },
  {
   "cell_type": "code",
   "execution_count": 120,
   "metadata": {},
   "outputs": [
    {
     "data": {
      "text/plain": [
       "Index(['Do Not Email', 'Lead Source_Welingak Website',\n",
       "       'What is your current occupation_Other', 'Tags_Busy',\n",
       "       'Tags_Closed by Horizzon', 'Tags_Lost to EINS', 'Tags_Ringing',\n",
       "       'Tags_Unknown', 'Tags_Will revert after reading the email',\n",
       "       'Tags_invalid number', 'Tags_switched off', 'Tags_wrong number given',\n",
       "       'Lead Quality_Worst', 'Last Notable Activity_SMS Sent'],\n",
       "      dtype='object')"
      ]
     },
     "execution_count": 120,
     "metadata": {},
     "output_type": "execute_result"
    }
   ],
   "source": [
    "cols = cols.drop('Tags_Lateral student', 1)\n",
    "cols"
   ]
  },
  {
   "cell_type": "code",
   "execution_count": 121,
   "metadata": {},
   "outputs": [
    {
     "data": {
      "text/html": [
       "<table class=\"simpletable\">\n",
       "<caption>Generalized Linear Model Regression Results</caption>\n",
       "<tr>\n",
       "  <th>Dep. Variable:</th>      <td>Converted</td>    <th>  No. Observations:  </th>  <td>  6378</td>  \n",
       "</tr>\n",
       "<tr>\n",
       "  <th>Model:</th>                 <td>GLM</td>       <th>  Df Residuals:      </th>  <td>  6363</td>  \n",
       "</tr>\n",
       "<tr>\n",
       "  <th>Model Family:</th>       <td>Binomial</td>     <th>  Df Model:          </th>  <td>    14</td>  \n",
       "</tr>\n",
       "<tr>\n",
       "  <th>Link Function:</th>        <td>logit</td>      <th>  Scale:             </th> <td>  1.0000</td> \n",
       "</tr>\n",
       "<tr>\n",
       "  <th>Method:</th>               <td>IRLS</td>       <th>  Log-Likelihood:    </th> <td> -1220.6</td> \n",
       "</tr>\n",
       "<tr>\n",
       "  <th>Date:</th>           <td>Mon, 17 Jun 2019</td> <th>  Deviance:          </th> <td>  2441.1</td> \n",
       "</tr>\n",
       "<tr>\n",
       "  <th>Time:</th>               <td>21:30:15</td>     <th>  Pearson chi2:      </th> <td>1.06e+04</td> \n",
       "</tr>\n",
       "<tr>\n",
       "  <th>No. Iterations:</th>        <td>24</td>        <th>  Covariance Type:   </th> <td>nonrobust</td>\n",
       "</tr>\n",
       "</table>\n",
       "<table class=\"simpletable\">\n",
       "<tr>\n",
       "                      <td></td>                        <th>coef</th>     <th>std err</th>      <th>z</th>      <th>P>|z|</th>  <th>[0.025</th>    <th>0.975]</th>  \n",
       "</tr>\n",
       "<tr>\n",
       "  <th>const</th>                                    <td>   -3.2896</td> <td>    0.199</td> <td>  -16.504</td> <td> 0.000</td> <td>   -3.680</td> <td>   -2.899</td>\n",
       "</tr>\n",
       "<tr>\n",
       "  <th>Do Not Email</th>                             <td>   -1.4234</td> <td>    0.240</td> <td>   -5.928</td> <td> 0.000</td> <td>   -1.894</td> <td>   -0.953</td>\n",
       "</tr>\n",
       "<tr>\n",
       "  <th>Lead Source_Welingak Website</th>             <td>    3.0408</td> <td>    0.743</td> <td>    4.094</td> <td> 0.000</td> <td>    1.585</td> <td>    4.497</td>\n",
       "</tr>\n",
       "<tr>\n",
       "  <th>What is your current occupation_Other</th>    <td>   -2.5921</td> <td>    0.142</td> <td>  -18.198</td> <td> 0.000</td> <td>   -2.871</td> <td>   -2.313</td>\n",
       "</tr>\n",
       "<tr>\n",
       "  <th>Tags_Busy</th>                                <td>    2.5056</td> <td>    0.292</td> <td>    8.593</td> <td> 0.000</td> <td>    1.934</td> <td>    3.077</td>\n",
       "</tr>\n",
       "<tr>\n",
       "  <th>Tags_Closed by Horizzon</th>                  <td>   28.8461</td> <td> 1.32e+04</td> <td>    0.002</td> <td> 0.998</td> <td>-2.59e+04</td> <td>  2.6e+04</td>\n",
       "</tr>\n",
       "<tr>\n",
       "  <th>Tags_Lost to EINS</th>                        <td>    9.0397</td> <td>    0.761</td> <td>   11.885</td> <td> 0.000</td> <td>    7.549</td> <td>   10.530</td>\n",
       "</tr>\n",
       "<tr>\n",
       "  <th>Tags_Ringing</th>                             <td>   -1.8072</td> <td>    0.302</td> <td>   -5.983</td> <td> 0.000</td> <td>   -2.399</td> <td>   -1.215</td>\n",
       "</tr>\n",
       "<tr>\n",
       "  <th>Tags_Unknown</th>                             <td>    3.3123</td> <td>    0.228</td> <td>   14.523</td> <td> 0.000</td> <td>    2.865</td> <td>    3.759</td>\n",
       "</tr>\n",
       "<tr>\n",
       "  <th>Tags_Will revert after reading the email</th> <td>    6.1389</td> <td>    0.247</td> <td>   24.828</td> <td> 0.000</td> <td>    5.654</td> <td>    6.624</td>\n",
       "</tr>\n",
       "<tr>\n",
       "  <th>Tags_invalid number</th>                      <td>   -2.0270</td> <td>    1.058</td> <td>   -1.916</td> <td> 0.055</td> <td>   -4.101</td> <td>    0.047</td>\n",
       "</tr>\n",
       "<tr>\n",
       "  <th>Tags_switched off</th>                        <td>   -3.5167</td> <td>    1.032</td> <td>   -3.409</td> <td> 0.001</td> <td>   -5.539</td> <td>   -1.495</td>\n",
       "</tr>\n",
       "<tr>\n",
       "  <th>Tags_wrong number given</th>                  <td>  -23.6096</td> <td>  3.6e+04</td> <td>   -0.001</td> <td> 0.999</td> <td>-7.06e+04</td> <td> 7.06e+04</td>\n",
       "</tr>\n",
       "<tr>\n",
       "  <th>Lead Quality_Worst</th>                       <td>   -2.6030</td> <td>    0.881</td> <td>   -2.953</td> <td> 0.003</td> <td>   -4.331</td> <td>   -0.875</td>\n",
       "</tr>\n",
       "<tr>\n",
       "  <th>Last Notable Activity_SMS Sent</th>           <td>    2.8469</td> <td>    0.138</td> <td>   20.597</td> <td> 0.000</td> <td>    2.576</td> <td>    3.118</td>\n",
       "</tr>\n",
       "</table>"
      ],
      "text/plain": [
       "<class 'statsmodels.iolib.summary.Summary'>\n",
       "\"\"\"\n",
       "                 Generalized Linear Model Regression Results                  \n",
       "==============================================================================\n",
       "Dep. Variable:              Converted   No. Observations:                 6378\n",
       "Model:                            GLM   Df Residuals:                     6363\n",
       "Model Family:                Binomial   Df Model:                           14\n",
       "Link Function:                  logit   Scale:                          1.0000\n",
       "Method:                          IRLS   Log-Likelihood:                -1220.6\n",
       "Date:                Mon, 17 Jun 2019   Deviance:                       2441.1\n",
       "Time:                        21:30:15   Pearson chi2:                 1.06e+04\n",
       "No. Iterations:                    24   Covariance Type:             nonrobust\n",
       "============================================================================================================\n",
       "                                               coef    std err          z      P>|z|      [0.025      0.975]\n",
       "------------------------------------------------------------------------------------------------------------\n",
       "const                                       -3.2896      0.199    -16.504      0.000      -3.680      -2.899\n",
       "Do Not Email                                -1.4234      0.240     -5.928      0.000      -1.894      -0.953\n",
       "Lead Source_Welingak Website                 3.0408      0.743      4.094      0.000       1.585       4.497\n",
       "What is your current occupation_Other       -2.5921      0.142    -18.198      0.000      -2.871      -2.313\n",
       "Tags_Busy                                    2.5056      0.292      8.593      0.000       1.934       3.077\n",
       "Tags_Closed by Horizzon                     28.8461   1.32e+04      0.002      0.998   -2.59e+04     2.6e+04\n",
       "Tags_Lost to EINS                            9.0397      0.761     11.885      0.000       7.549      10.530\n",
       "Tags_Ringing                                -1.8072      0.302     -5.983      0.000      -2.399      -1.215\n",
       "Tags_Unknown                                 3.3123      0.228     14.523      0.000       2.865       3.759\n",
       "Tags_Will revert after reading the email     6.1389      0.247     24.828      0.000       5.654       6.624\n",
       "Tags_invalid number                         -2.0270      1.058     -1.916      0.055      -4.101       0.047\n",
       "Tags_switched off                           -3.5167      1.032     -3.409      0.001      -5.539      -1.495\n",
       "Tags_wrong number given                    -23.6096    3.6e+04     -0.001      0.999   -7.06e+04    7.06e+04\n",
       "Lead Quality_Worst                          -2.6030      0.881     -2.953      0.003      -4.331      -0.875\n",
       "Last Notable Activity_SMS Sent               2.8469      0.138     20.597      0.000       2.576       3.118\n",
       "============================================================================================================\n",
       "\"\"\""
      ]
     },
     "execution_count": 121,
     "metadata": {},
     "output_type": "execute_result"
    }
   ],
   "source": [
    "# Let's re-run the model using the selected variables\n",
    "X_train_sm = sm.add_constant(X_train[cols])\n",
    "logistic_model3 = sm.GLM(y_train,X_train_sm, family = sm.families.Binomial())\n",
    "res = logistic_model3.fit()\n",
    "res.summary()"
   ]
  },
  {
   "cell_type": "code",
   "execution_count": 122,
   "metadata": {},
   "outputs": [],
   "source": [
    "y_train_pred = res.predict(X_train_sm).values.reshape(-1)"
   ]
  },
  {
   "cell_type": "code",
   "execution_count": 123,
   "metadata": {},
   "outputs": [
    {
     "data": {
      "text/plain": [
       "array([0.94528425, 0.00275217, 0.94632383, 0.99665273, 0.01811354,\n",
       "       0.071132  , 0.31345599, 0.071132  , 0.09535631, 0.99665273])"
      ]
     },
     "execution_count": 123,
     "metadata": {},
     "output_type": "execute_result"
    }
   ],
   "source": [
    "y_train_pred[:10]"
   ]
  },
  {
   "cell_type": "code",
   "execution_count": 124,
   "metadata": {},
   "outputs": [],
   "source": [
    "y_train_pred_final['Converted_Prob'] = y_train_pred"
   ]
  },
  {
   "cell_type": "code",
   "execution_count": 125,
   "metadata": {},
   "outputs": [
    {
     "data": {
      "text/html": [
       "<div>\n",
       "<style scoped>\n",
       "    .dataframe tbody tr th:only-of-type {\n",
       "        vertical-align: middle;\n",
       "    }\n",
       "\n",
       "    .dataframe tbody tr th {\n",
       "        vertical-align: top;\n",
       "    }\n",
       "\n",
       "    .dataframe thead th {\n",
       "        text-align: right;\n",
       "    }\n",
       "</style>\n",
       "<table border=\"1\" class=\"dataframe\">\n",
       "  <thead>\n",
       "    <tr style=\"text-align: right;\">\n",
       "      <th></th>\n",
       "      <th>Converted</th>\n",
       "      <th>Converted_Probability</th>\n",
       "      <th>Lead_Score</th>\n",
       "      <th>Predicted_Conversion</th>\n",
       "      <th>Converted_Prob</th>\n",
       "    </tr>\n",
       "  </thead>\n",
       "  <tbody>\n",
       "    <tr>\n",
       "      <th>0</th>\n",
       "      <td>1</td>\n",
       "      <td>0.945245</td>\n",
       "      <td>95.0</td>\n",
       "      <td>1</td>\n",
       "      <td>0.945284</td>\n",
       "    </tr>\n",
       "    <tr>\n",
       "      <th>1</th>\n",
       "      <td>0</td>\n",
       "      <td>0.002687</td>\n",
       "      <td>0.0</td>\n",
       "      <td>0</td>\n",
       "      <td>0.002752</td>\n",
       "    </tr>\n",
       "    <tr>\n",
       "      <th>2</th>\n",
       "      <td>1</td>\n",
       "      <td>0.946619</td>\n",
       "      <td>95.0</td>\n",
       "      <td>1</td>\n",
       "      <td>0.946324</td>\n",
       "    </tr>\n",
       "    <tr>\n",
       "      <th>3</th>\n",
       "      <td>1</td>\n",
       "      <td>0.996674</td>\n",
       "      <td>100.0</td>\n",
       "      <td>1</td>\n",
       "      <td>0.996653</td>\n",
       "    </tr>\n",
       "    <tr>\n",
       "      <th>4</th>\n",
       "      <td>0</td>\n",
       "      <td>0.018116</td>\n",
       "      <td>2.0</td>\n",
       "      <td>0</td>\n",
       "      <td>0.018114</td>\n",
       "    </tr>\n",
       "  </tbody>\n",
       "</table>\n",
       "</div>"
      ],
      "text/plain": [
       "   Converted  Converted_Probability  Lead_Score  Predicted_Conversion  \\\n",
       "0          1               0.945245        95.0                     1   \n",
       "1          0               0.002687         0.0                     0   \n",
       "2          1               0.946619        95.0                     1   \n",
       "3          1               0.996674       100.0                     1   \n",
       "4          0               0.018116         2.0                     0   \n",
       "\n",
       "   Converted_Prob  \n",
       "0        0.945284  \n",
       "1        0.002752  \n",
       "2        0.946324  \n",
       "3        0.996653  \n",
       "4        0.018114  "
      ]
     },
     "execution_count": 125,
     "metadata": {},
     "output_type": "execute_result"
    }
   ],
   "source": [
    "# Creating new column 'predicted' with 1 if Churn_Prob > 0.5 else 0\n",
    "y_train_pred_final['Predicted_Conversion'] = y_train_pred_final.Converted_Prob.map(lambda x: 1 if x > 0.5 else 0)\n",
    "y_train_pred_final['Lead_Score']=round(y_train_pred_final['Converted_Prob']*100)\n",
    "y_train_pred_final.head()"
   ]
  },
  {
   "cell_type": "code",
   "execution_count": 126,
   "metadata": {},
   "outputs": [
    {
     "name": "stdout",
     "output_type": "stream",
     "text": [
      "0.9306992787707745\n"
     ]
    }
   ],
   "source": [
    "# Let's check the overall accuracy.\n",
    "print(metrics.accuracy_score(y_train_pred_final.Converted, y_train_pred_final.Predicted_Conversion))"
   ]
  },
  {
   "cell_type": "markdown",
   "metadata": {},
   "source": [
    "So overall the accuracy hasn't dropped much"
   ]
  },
  {
   "cell_type": "markdown",
   "metadata": {},
   "source": [
    "#### Checking the VIFs again"
   ]
  },
  {
   "cell_type": "code",
   "execution_count": 127,
   "metadata": {},
   "outputs": [
    {
     "data": {
      "text/html": [
       "<div>\n",
       "<style scoped>\n",
       "    .dataframe tbody tr th:only-of-type {\n",
       "        vertical-align: middle;\n",
       "    }\n",
       "\n",
       "    .dataframe tbody tr th {\n",
       "        vertical-align: top;\n",
       "    }\n",
       "\n",
       "    .dataframe thead th {\n",
       "        text-align: right;\n",
       "    }\n",
       "</style>\n",
       "<table border=\"1\" class=\"dataframe\">\n",
       "  <thead>\n",
       "    <tr style=\"text-align: right;\">\n",
       "      <th></th>\n",
       "      <th>Features</th>\n",
       "      <th>VIF</th>\n",
       "    </tr>\n",
       "  </thead>\n",
       "  <tbody>\n",
       "    <tr>\n",
       "      <th>7</th>\n",
       "      <td>Tags_Unknown</td>\n",
       "      <td>4.90</td>\n",
       "    </tr>\n",
       "    <tr>\n",
       "      <th>2</th>\n",
       "      <td>What is your current occupation_Other</td>\n",
       "      <td>4.58</td>\n",
       "    </tr>\n",
       "    <tr>\n",
       "      <th>13</th>\n",
       "      <td>Last Notable Activity_SMS Sent</td>\n",
       "      <td>1.59</td>\n",
       "    </tr>\n",
       "    <tr>\n",
       "      <th>8</th>\n",
       "      <td>Tags_Will revert after reading the email</td>\n",
       "      <td>1.35</td>\n",
       "    </tr>\n",
       "    <tr>\n",
       "      <th>1</th>\n",
       "      <td>Lead Source_Welingak Website</td>\n",
       "      <td>1.13</td>\n",
       "    </tr>\n",
       "    <tr>\n",
       "      <th>0</th>\n",
       "      <td>Do Not Email</td>\n",
       "      <td>1.10</td>\n",
       "    </tr>\n",
       "    <tr>\n",
       "      <th>6</th>\n",
       "      <td>Tags_Ringing</td>\n",
       "      <td>1.09</td>\n",
       "    </tr>\n",
       "    <tr>\n",
       "      <th>3</th>\n",
       "      <td>Tags_Busy</td>\n",
       "      <td>1.03</td>\n",
       "    </tr>\n",
       "    <tr>\n",
       "      <th>5</th>\n",
       "      <td>Tags_Lost to EINS</td>\n",
       "      <td>1.03</td>\n",
       "    </tr>\n",
       "    <tr>\n",
       "      <th>10</th>\n",
       "      <td>Tags_switched off</td>\n",
       "      <td>1.03</td>\n",
       "    </tr>\n",
       "    <tr>\n",
       "      <th>12</th>\n",
       "      <td>Lead Quality_Worst</td>\n",
       "      <td>1.03</td>\n",
       "    </tr>\n",
       "    <tr>\n",
       "      <th>9</th>\n",
       "      <td>Tags_invalid number</td>\n",
       "      <td>1.02</td>\n",
       "    </tr>\n",
       "    <tr>\n",
       "      <th>4</th>\n",
       "      <td>Tags_Closed by Horizzon</td>\n",
       "      <td>1.01</td>\n",
       "    </tr>\n",
       "    <tr>\n",
       "      <th>11</th>\n",
       "      <td>Tags_wrong number given</td>\n",
       "      <td>1.00</td>\n",
       "    </tr>\n",
       "  </tbody>\n",
       "</table>\n",
       "</div>"
      ],
      "text/plain": [
       "                                    Features   VIF\n",
       "7                               Tags_Unknown  4.90\n",
       "2      What is your current occupation_Other  4.58\n",
       "13            Last Notable Activity_SMS Sent  1.59\n",
       "8   Tags_Will revert after reading the email  1.35\n",
       "1               Lead Source_Welingak Website  1.13\n",
       "0                               Do Not Email  1.10\n",
       "6                               Tags_Ringing  1.09\n",
       "3                                  Tags_Busy  1.03\n",
       "5                          Tags_Lost to EINS  1.03\n",
       "10                         Tags_switched off  1.03\n",
       "12                        Lead Quality_Worst  1.03\n",
       "9                        Tags_invalid number  1.02\n",
       "4                    Tags_Closed by Horizzon  1.01\n",
       "11                   Tags_wrong number given  1.00"
      ]
     },
     "execution_count": 127,
     "metadata": {},
     "output_type": "execute_result"
    }
   ],
   "source": [
    "vif = pd.DataFrame()\n",
    "vif['Features'] = X_train[cols].columns\n",
    "vif['VIF'] = [variance_inflation_factor(X_train[cols].values, i) for i in range(X_train[cols].shape[1])]\n",
    "vif['VIF'] = round(vif['VIF'], 2)\n",
    "vif = vif.sort_values(by = \"VIF\", ascending = False)\n",
    "vif"
   ]
  },
  {
   "cell_type": "code",
   "execution_count": 128,
   "metadata": {},
   "outputs": [
    {
     "data": {
      "text/plain": [
       "Index(['Do Not Email', 'Lead Source_Welingak Website',\n",
       "       'What is your current occupation_Other', 'Tags_Busy',\n",
       "       'Tags_Closed by Horizzon', 'Tags_Lost to EINS', 'Tags_Ringing',\n",
       "       'Tags_Unknown', 'Tags_Will revert after reading the email',\n",
       "       'Tags_invalid number', 'Tags_switched off', 'Lead Quality_Worst',\n",
       "       'Last Notable Activity_SMS Sent'],\n",
       "      dtype='object')"
      ]
     },
     "execution_count": 128,
     "metadata": {},
     "output_type": "execute_result"
    }
   ],
   "source": [
    "# Let's drop 'Tags_wrong number given' since it has a high p value\n",
    "cols = cols.drop('Tags_wrong number given')\n",
    "cols"
   ]
  },
  {
   "cell_type": "code",
   "execution_count": 129,
   "metadata": {},
   "outputs": [
    {
     "data": {
      "text/html": [
       "<table class=\"simpletable\">\n",
       "<caption>Generalized Linear Model Regression Results</caption>\n",
       "<tr>\n",
       "  <th>Dep. Variable:</th>      <td>Converted</td>    <th>  No. Observations:  </th>  <td>  6378</td>  \n",
       "</tr>\n",
       "<tr>\n",
       "  <th>Model:</th>                 <td>GLM</td>       <th>  Df Residuals:      </th>  <td>  6364</td>  \n",
       "</tr>\n",
       "<tr>\n",
       "  <th>Model Family:</th>       <td>Binomial</td>     <th>  Df Model:          </th>  <td>    13</td>  \n",
       "</tr>\n",
       "<tr>\n",
       "  <th>Link Function:</th>        <td>logit</td>      <th>  Scale:             </th> <td>  1.0000</td> \n",
       "</tr>\n",
       "<tr>\n",
       "  <th>Method:</th>               <td>IRLS</td>       <th>  Log-Likelihood:    </th> <td> -1224.4</td> \n",
       "</tr>\n",
       "<tr>\n",
       "  <th>Date:</th>           <td>Mon, 17 Jun 2019</td> <th>  Deviance:          </th> <td>  2448.8</td> \n",
       "</tr>\n",
       "<tr>\n",
       "  <th>Time:</th>               <td>21:30:16</td>     <th>  Pearson chi2:      </th> <td>1.05e+04</td> \n",
       "</tr>\n",
       "<tr>\n",
       "  <th>No. Iterations:</th>        <td>24</td>        <th>  Covariance Type:   </th> <td>nonrobust</td>\n",
       "</tr>\n",
       "</table>\n",
       "<table class=\"simpletable\">\n",
       "<tr>\n",
       "                      <td></td>                        <th>coef</th>     <th>std err</th>      <th>z</th>      <th>P>|z|</th>  <th>[0.025</th>    <th>0.975]</th>  \n",
       "</tr>\n",
       "<tr>\n",
       "  <th>const</th>                                    <td>   -3.4052</td> <td>    0.201</td> <td>  -16.925</td> <td> 0.000</td> <td>   -3.799</td> <td>   -3.011</td>\n",
       "</tr>\n",
       "<tr>\n",
       "  <th>Do Not Email</th>                             <td>   -1.4163</td> <td>    0.240</td> <td>   -5.908</td> <td> 0.000</td> <td>   -1.886</td> <td>   -0.946</td>\n",
       "</tr>\n",
       "<tr>\n",
       "  <th>Lead Source_Welingak Website</th>             <td>    3.0387</td> <td>    0.743</td> <td>    4.092</td> <td> 0.000</td> <td>    1.583</td> <td>    4.494</td>\n",
       "</tr>\n",
       "<tr>\n",
       "  <th>What is your current occupation_Other</th>    <td>   -2.5846</td> <td>    0.142</td> <td>  -18.205</td> <td> 0.000</td> <td>   -2.863</td> <td>   -2.306</td>\n",
       "</tr>\n",
       "<tr>\n",
       "  <th>Tags_Busy</th>                                <td>    2.6320</td> <td>    0.291</td> <td>    9.040</td> <td> 0.000</td> <td>    2.061</td> <td>    3.203</td>\n",
       "</tr>\n",
       "<tr>\n",
       "  <th>Tags_Closed by Horizzon</th>                  <td>   28.9584</td> <td> 1.32e+04</td> <td>    0.002</td> <td> 0.998</td> <td>-2.59e+04</td> <td>  2.6e+04</td>\n",
       "</tr>\n",
       "<tr>\n",
       "  <th>Tags_Lost to EINS</th>                        <td>    9.1410</td> <td>    0.761</td> <td>   12.013</td> <td> 0.000</td> <td>    7.650</td> <td>   10.632</td>\n",
       "</tr>\n",
       "<tr>\n",
       "  <th>Tags_Ringing</th>                             <td>   -1.6606</td> <td>    0.300</td> <td>   -5.540</td> <td> 0.000</td> <td>   -2.248</td> <td>   -1.073</td>\n",
       "</tr>\n",
       "<tr>\n",
       "  <th>Tags_Unknown</th>                             <td>    3.4314</td> <td>    0.229</td> <td>   14.972</td> <td> 0.000</td> <td>    2.982</td> <td>    3.881</td>\n",
       "</tr>\n",
       "<tr>\n",
       "  <th>Tags_Will revert after reading the email</th> <td>    6.2553</td> <td>    0.249</td> <td>   25.167</td> <td> 0.000</td> <td>    5.768</td> <td>    6.742</td>\n",
       "</tr>\n",
       "<tr>\n",
       "  <th>Tags_invalid number</th>                      <td>   -1.8823</td> <td>    1.057</td> <td>   -1.781</td> <td> 0.075</td> <td>   -3.954</td> <td>    0.190</td>\n",
       "</tr>\n",
       "<tr>\n",
       "  <th>Tags_switched off</th>                        <td>   -3.3696</td> <td>    1.031</td> <td>   -3.269</td> <td> 0.001</td> <td>   -5.390</td> <td>   -1.349</td>\n",
       "</tr>\n",
       "<tr>\n",
       "  <th>Lead Quality_Worst</th>                       <td>   -2.5228</td> <td>    0.891</td> <td>   -2.830</td> <td> 0.005</td> <td>   -4.270</td> <td>   -0.776</td>\n",
       "</tr>\n",
       "<tr>\n",
       "  <th>Last Notable Activity_SMS Sent</th>           <td>    2.8105</td> <td>    0.136</td> <td>   20.595</td> <td> 0.000</td> <td>    2.543</td> <td>    3.078</td>\n",
       "</tr>\n",
       "</table>"
      ],
      "text/plain": [
       "<class 'statsmodels.iolib.summary.Summary'>\n",
       "\"\"\"\n",
       "                 Generalized Linear Model Regression Results                  \n",
       "==============================================================================\n",
       "Dep. Variable:              Converted   No. Observations:                 6378\n",
       "Model:                            GLM   Df Residuals:                     6364\n",
       "Model Family:                Binomial   Df Model:                           13\n",
       "Link Function:                  logit   Scale:                          1.0000\n",
       "Method:                          IRLS   Log-Likelihood:                -1224.4\n",
       "Date:                Mon, 17 Jun 2019   Deviance:                       2448.8\n",
       "Time:                        21:30:16   Pearson chi2:                 1.05e+04\n",
       "No. Iterations:                    24   Covariance Type:             nonrobust\n",
       "============================================================================================================\n",
       "                                               coef    std err          z      P>|z|      [0.025      0.975]\n",
       "------------------------------------------------------------------------------------------------------------\n",
       "const                                       -3.4052      0.201    -16.925      0.000      -3.799      -3.011\n",
       "Do Not Email                                -1.4163      0.240     -5.908      0.000      -1.886      -0.946\n",
       "Lead Source_Welingak Website                 3.0387      0.743      4.092      0.000       1.583       4.494\n",
       "What is your current occupation_Other       -2.5846      0.142    -18.205      0.000      -2.863      -2.306\n",
       "Tags_Busy                                    2.6320      0.291      9.040      0.000       2.061       3.203\n",
       "Tags_Closed by Horizzon                     28.9584   1.32e+04      0.002      0.998   -2.59e+04     2.6e+04\n",
       "Tags_Lost to EINS                            9.1410      0.761     12.013      0.000       7.650      10.632\n",
       "Tags_Ringing                                -1.6606      0.300     -5.540      0.000      -2.248      -1.073\n",
       "Tags_Unknown                                 3.4314      0.229     14.972      0.000       2.982       3.881\n",
       "Tags_Will revert after reading the email     6.2553      0.249     25.167      0.000       5.768       6.742\n",
       "Tags_invalid number                         -1.8823      1.057     -1.781      0.075      -3.954       0.190\n",
       "Tags_switched off                           -3.3696      1.031     -3.269      0.001      -5.390      -1.349\n",
       "Lead Quality_Worst                          -2.5228      0.891     -2.830      0.005      -4.270      -0.776\n",
       "Last Notable Activity_SMS Sent               2.8105      0.136     20.595      0.000       2.543       3.078\n",
       "============================================================================================================\n",
       "\"\"\""
      ]
     },
     "execution_count": 129,
     "metadata": {},
     "output_type": "execute_result"
    }
   ],
   "source": [
    "# Let's re-run the model using the selected variables\n",
    "X_train_sm = sm.add_constant(X_train[cols])\n",
    "logm4 = sm.GLM(y_train,X_train_sm, family = sm.families.Binomial())\n",
    "res = logm4.fit()\n",
    "res.summary()"
   ]
  },
  {
   "cell_type": "code",
   "execution_count": 130,
   "metadata": {},
   "outputs": [],
   "source": [
    "y_train_pred = res.predict(X_train_sm).values.reshape(-1)"
   ]
  },
  {
   "cell_type": "code",
   "execution_count": 131,
   "metadata": {},
   "outputs": [
    {
     "data": {
      "text/plain": [
       "array([0.94532717, 0.00265694, 0.94462886, 0.99653189, 0.01843939,\n",
       "       0.07186876, 0.315798  , 0.07186876, 0.09490068, 0.99653189])"
      ]
     },
     "execution_count": 131,
     "metadata": {},
     "output_type": "execute_result"
    }
   ],
   "source": [
    "y_train_pred[:10]"
   ]
  },
  {
   "cell_type": "code",
   "execution_count": 132,
   "metadata": {},
   "outputs": [],
   "source": [
    "y_train_pred_final['Converted_Prob'] = y_train_pred"
   ]
  },
  {
   "cell_type": "code",
   "execution_count": 133,
   "metadata": {},
   "outputs": [
    {
     "data": {
      "text/html": [
       "<div>\n",
       "<style scoped>\n",
       "    .dataframe tbody tr th:only-of-type {\n",
       "        vertical-align: middle;\n",
       "    }\n",
       "\n",
       "    .dataframe tbody tr th {\n",
       "        vertical-align: top;\n",
       "    }\n",
       "\n",
       "    .dataframe thead th {\n",
       "        text-align: right;\n",
       "    }\n",
       "</style>\n",
       "<table border=\"1\" class=\"dataframe\">\n",
       "  <thead>\n",
       "    <tr style=\"text-align: right;\">\n",
       "      <th></th>\n",
       "      <th>Converted</th>\n",
       "      <th>Converted_Probability</th>\n",
       "      <th>Lead_Score</th>\n",
       "      <th>Predicted_Conversion</th>\n",
       "      <th>Converted_Prob</th>\n",
       "    </tr>\n",
       "  </thead>\n",
       "  <tbody>\n",
       "    <tr>\n",
       "      <th>0</th>\n",
       "      <td>1</td>\n",
       "      <td>0.945245</td>\n",
       "      <td>95.0</td>\n",
       "      <td>1</td>\n",
       "      <td>0.945327</td>\n",
       "    </tr>\n",
       "    <tr>\n",
       "      <th>1</th>\n",
       "      <td>0</td>\n",
       "      <td>0.002687</td>\n",
       "      <td>0.0</td>\n",
       "      <td>0</td>\n",
       "      <td>0.002657</td>\n",
       "    </tr>\n",
       "    <tr>\n",
       "      <th>2</th>\n",
       "      <td>1</td>\n",
       "      <td>0.946619</td>\n",
       "      <td>94.0</td>\n",
       "      <td>1</td>\n",
       "      <td>0.944629</td>\n",
       "    </tr>\n",
       "    <tr>\n",
       "      <th>3</th>\n",
       "      <td>1</td>\n",
       "      <td>0.996674</td>\n",
       "      <td>100.0</td>\n",
       "      <td>1</td>\n",
       "      <td>0.996532</td>\n",
       "    </tr>\n",
       "    <tr>\n",
       "      <th>4</th>\n",
       "      <td>0</td>\n",
       "      <td>0.018116</td>\n",
       "      <td>2.0</td>\n",
       "      <td>0</td>\n",
       "      <td>0.018439</td>\n",
       "    </tr>\n",
       "  </tbody>\n",
       "</table>\n",
       "</div>"
      ],
      "text/plain": [
       "   Converted  Converted_Probability  Lead_Score  Predicted_Conversion  \\\n",
       "0          1               0.945245        95.0                     1   \n",
       "1          0               0.002687         0.0                     0   \n",
       "2          1               0.946619        94.0                     1   \n",
       "3          1               0.996674       100.0                     1   \n",
       "4          0               0.018116         2.0                     0   \n",
       "\n",
       "   Converted_Prob  \n",
       "0        0.945327  \n",
       "1        0.002657  \n",
       "2        0.944629  \n",
       "3        0.996532  \n",
       "4        0.018439  "
      ]
     },
     "execution_count": 133,
     "metadata": {},
     "output_type": "execute_result"
    }
   ],
   "source": [
    "# Creating new column 'predicted' with 1 if Churn_Prob > 0.5 else 0\n",
    "y_train_pred_final['Predicted_Conversion'] = y_train_pred_final.Converted_Prob.map(lambda x: 1 if x > 0.5 else 0)\n",
    "y_train_pred_final['Lead_Score']=round(y_train_pred_final['Converted_Prob']*100)\n",
    "y_train_pred_final.head()"
   ]
  },
  {
   "cell_type": "code",
   "execution_count": 134,
   "metadata": {},
   "outputs": [
    {
     "name": "stdout",
     "output_type": "stream",
     "text": [
      "0.9306992787707745\n"
     ]
    }
   ],
   "source": [
    "# Let's check the overall accuracy.\n",
    "print(metrics.accuracy_score(y_train_pred_final.Converted, y_train_pred_final.Predicted_Conversion))"
   ]
  },
  {
   "cell_type": "markdown",
   "metadata": {},
   "source": [
    "##### Let's now check the VIFs again"
   ]
  },
  {
   "cell_type": "code",
   "execution_count": 135,
   "metadata": {},
   "outputs": [
    {
     "data": {
      "text/html": [
       "<div>\n",
       "<style scoped>\n",
       "    .dataframe tbody tr th:only-of-type {\n",
       "        vertical-align: middle;\n",
       "    }\n",
       "\n",
       "    .dataframe tbody tr th {\n",
       "        vertical-align: top;\n",
       "    }\n",
       "\n",
       "    .dataframe thead th {\n",
       "        text-align: right;\n",
       "    }\n",
       "</style>\n",
       "<table border=\"1\" class=\"dataframe\">\n",
       "  <thead>\n",
       "    <tr style=\"text-align: right;\">\n",
       "      <th></th>\n",
       "      <th>Features</th>\n",
       "      <th>VIF</th>\n",
       "    </tr>\n",
       "  </thead>\n",
       "  <tbody>\n",
       "    <tr>\n",
       "      <th>7</th>\n",
       "      <td>Tags_Unknown</td>\n",
       "      <td>4.89</td>\n",
       "    </tr>\n",
       "    <tr>\n",
       "      <th>2</th>\n",
       "      <td>What is your current occupation_Other</td>\n",
       "      <td>4.58</td>\n",
       "    </tr>\n",
       "    <tr>\n",
       "      <th>12</th>\n",
       "      <td>Last Notable Activity_SMS Sent</td>\n",
       "      <td>1.59</td>\n",
       "    </tr>\n",
       "    <tr>\n",
       "      <th>8</th>\n",
       "      <td>Tags_Will revert after reading the email</td>\n",
       "      <td>1.35</td>\n",
       "    </tr>\n",
       "    <tr>\n",
       "      <th>1</th>\n",
       "      <td>Lead Source_Welingak Website</td>\n",
       "      <td>1.13</td>\n",
       "    </tr>\n",
       "    <tr>\n",
       "      <th>0</th>\n",
       "      <td>Do Not Email</td>\n",
       "      <td>1.10</td>\n",
       "    </tr>\n",
       "    <tr>\n",
       "      <th>6</th>\n",
       "      <td>Tags_Ringing</td>\n",
       "      <td>1.09</td>\n",
       "    </tr>\n",
       "    <tr>\n",
       "      <th>3</th>\n",
       "      <td>Tags_Busy</td>\n",
       "      <td>1.03</td>\n",
       "    </tr>\n",
       "    <tr>\n",
       "      <th>5</th>\n",
       "      <td>Tags_Lost to EINS</td>\n",
       "      <td>1.03</td>\n",
       "    </tr>\n",
       "    <tr>\n",
       "      <th>10</th>\n",
       "      <td>Tags_switched off</td>\n",
       "      <td>1.03</td>\n",
       "    </tr>\n",
       "    <tr>\n",
       "      <th>11</th>\n",
       "      <td>Lead Quality_Worst</td>\n",
       "      <td>1.03</td>\n",
       "    </tr>\n",
       "    <tr>\n",
       "      <th>9</th>\n",
       "      <td>Tags_invalid number</td>\n",
       "      <td>1.02</td>\n",
       "    </tr>\n",
       "    <tr>\n",
       "      <th>4</th>\n",
       "      <td>Tags_Closed by Horizzon</td>\n",
       "      <td>1.01</td>\n",
       "    </tr>\n",
       "  </tbody>\n",
       "</table>\n",
       "</div>"
      ],
      "text/plain": [
       "                                    Features   VIF\n",
       "7                               Tags_Unknown  4.89\n",
       "2      What is your current occupation_Other  4.58\n",
       "12            Last Notable Activity_SMS Sent  1.59\n",
       "8   Tags_Will revert after reading the email  1.35\n",
       "1               Lead Source_Welingak Website  1.13\n",
       "0                               Do Not Email  1.10\n",
       "6                               Tags_Ringing  1.09\n",
       "3                                  Tags_Busy  1.03\n",
       "5                          Tags_Lost to EINS  1.03\n",
       "10                         Tags_switched off  1.03\n",
       "11                        Lead Quality_Worst  1.03\n",
       "9                        Tags_invalid number  1.02\n",
       "4                    Tags_Closed by Horizzon  1.01"
      ]
     },
     "execution_count": 135,
     "metadata": {},
     "output_type": "execute_result"
    }
   ],
   "source": [
    "vif = pd.DataFrame()\n",
    "vif['Features'] = X_train[cols].columns\n",
    "vif['VIF'] = [variance_inflation_factor(X_train[cols].values, i) for i in range(X_train[cols].shape[1])]\n",
    "vif['VIF'] = round(vif['VIF'], 2)\n",
    "vif = vif.sort_values(by = \"VIF\", ascending = False)\n",
    "vif"
   ]
  },
  {
   "cell_type": "code",
   "execution_count": 136,
   "metadata": {},
   "outputs": [
    {
     "data": {
      "text/plain": [
       "array([[3644,  259],\n",
       "       [ 183, 2292]], dtype=int64)"
      ]
     },
     "execution_count": 136,
     "metadata": {},
     "output_type": "execute_result"
    }
   ],
   "source": [
    "# Let's take a look at the confusion matrix again \n",
    "confusion = metrics.confusion_matrix(y_train_pred_final.Converted, y_train_pred_final.Predicted_Conversion )\n",
    "confusion"
   ]
  },
  {
   "cell_type": "code",
   "execution_count": 137,
   "metadata": {},
   "outputs": [
    {
     "data": {
      "text/plain": [
       "0.9306992787707745"
      ]
     },
     "execution_count": 137,
     "metadata": {},
     "output_type": "execute_result"
    }
   ],
   "source": [
    "# Let's check the overall accuracy.\n",
    "metrics.accuracy_score(y_train_pred_final.Converted, y_train_pred_final.Predicted_Conversion)"
   ]
  },
  {
   "cell_type": "markdown",
   "metadata": {},
   "source": [
    "**Dropping 'Tags_Closed by Horizzon' since it has a high p value**"
   ]
  },
  {
   "cell_type": "code",
   "execution_count": 138,
   "metadata": {},
   "outputs": [
    {
     "data": {
      "text/plain": [
       "Index(['Do Not Email', 'Lead Source_Welingak Website',\n",
       "       'What is your current occupation_Other', 'Tags_Busy',\n",
       "       'Tags_Lost to EINS', 'Tags_Ringing', 'Tags_Unknown',\n",
       "       'Tags_Will revert after reading the email', 'Tags_invalid number',\n",
       "       'Tags_switched off', 'Lead Quality_Worst',\n",
       "       'Last Notable Activity_SMS Sent'],\n",
       "      dtype='object')"
      ]
     },
     "execution_count": 138,
     "metadata": {},
     "output_type": "execute_result"
    }
   ],
   "source": [
    "cols = cols.drop('Tags_Closed by Horizzon')\n",
    "cols"
   ]
  },
  {
   "cell_type": "code",
   "execution_count": 139,
   "metadata": {},
   "outputs": [
    {
     "data": {
      "text/html": [
       "<table class=\"simpletable\">\n",
       "<caption>Generalized Linear Model Regression Results</caption>\n",
       "<tr>\n",
       "  <th>Dep. Variable:</th>      <td>Converted</td>    <th>  No. Observations:  </th>  <td>  6378</td>  \n",
       "</tr>\n",
       "<tr>\n",
       "  <th>Model:</th>                 <td>GLM</td>       <th>  Df Residuals:      </th>  <td>  6365</td>  \n",
       "</tr>\n",
       "<tr>\n",
       "  <th>Model Family:</th>       <td>Binomial</td>     <th>  Df Model:          </th>  <td>    12</td>  \n",
       "</tr>\n",
       "<tr>\n",
       "  <th>Link Function:</th>        <td>logit</td>      <th>  Scale:             </th> <td>  1.0000</td> \n",
       "</tr>\n",
       "<tr>\n",
       "  <th>Method:</th>               <td>IRLS</td>       <th>  Log-Likelihood:    </th> <td> -1690.0</td> \n",
       "</tr>\n",
       "<tr>\n",
       "  <th>Date:</th>           <td>Mon, 17 Jun 2019</td> <th>  Deviance:          </th> <td>  3380.0</td> \n",
       "</tr>\n",
       "<tr>\n",
       "  <th>Time:</th>               <td>21:30:16</td>     <th>  Pearson chi2:      </th> <td>1.07e+04</td> \n",
       "</tr>\n",
       "<tr>\n",
       "  <th>No. Iterations:</th>         <td>8</td>        <th>  Covariance Type:   </th> <td>nonrobust</td>\n",
       "</tr>\n",
       "</table>\n",
       "<table class=\"simpletable\">\n",
       "<tr>\n",
       "                      <td></td>                        <th>coef</th>     <th>std err</th>      <th>z</th>      <th>P>|z|</th>  <th>[0.025</th>    <th>0.975]</th>  \n",
       "</tr>\n",
       "<tr>\n",
       "  <th>const</th>                                    <td>   -0.8933</td> <td>    0.075</td> <td>  -11.963</td> <td> 0.000</td> <td>   -1.040</td> <td>   -0.747</td>\n",
       "</tr>\n",
       "<tr>\n",
       "  <th>Do Not Email</th>                             <td>   -1.5364</td> <td>    0.217</td> <td>   -7.089</td> <td> 0.000</td> <td>   -1.961</td> <td>   -1.112</td>\n",
       "</tr>\n",
       "<tr>\n",
       "  <th>Lead Source_Welingak Website</th>             <td>    3.6338</td> <td>    0.729</td> <td>    4.981</td> <td> 0.000</td> <td>    2.204</td> <td>    5.064</td>\n",
       "</tr>\n",
       "<tr>\n",
       "  <th>What is your current occupation_Other</th>    <td>   -2.5567</td> <td>    0.138</td> <td>  -18.512</td> <td> 0.000</td> <td>   -2.827</td> <td>   -2.286</td>\n",
       "</tr>\n",
       "<tr>\n",
       "  <th>Tags_Busy</th>                                <td>    0.2111</td> <td>    0.223</td> <td>    0.945</td> <td> 0.345</td> <td>   -0.227</td> <td>    0.649</td>\n",
       "</tr>\n",
       "<tr>\n",
       "  <th>Tags_Lost to EINS</th>                        <td>    6.8805</td> <td>    0.755</td> <td>    9.108</td> <td> 0.000</td> <td>    5.400</td> <td>    8.361</td>\n",
       "</tr>\n",
       "<tr>\n",
       "  <th>Tags_Ringing</th>                             <td>   -3.9481</td> <td>    0.245</td> <td>  -16.099</td> <td> 0.000</td> <td>   -4.429</td> <td>   -3.467</td>\n",
       "</tr>\n",
       "<tr>\n",
       "  <th>Tags_Unknown</th>                             <td>    0.9680</td> <td>    0.135</td> <td>    7.187</td> <td> 0.000</td> <td>    0.704</td> <td>    1.232</td>\n",
       "</tr>\n",
       "<tr>\n",
       "  <th>Tags_Will revert after reading the email</th> <td>    3.7728</td> <td>    0.166</td> <td>   22.736</td> <td> 0.000</td> <td>    3.448</td> <td>    4.098</td>\n",
       "</tr>\n",
       "<tr>\n",
       "  <th>Tags_invalid number</th>                      <td>   -4.1411</td> <td>    1.043</td> <td>   -3.971</td> <td> 0.000</td> <td>   -6.185</td> <td>   -2.097</td>\n",
       "</tr>\n",
       "<tr>\n",
       "  <th>Tags_switched off</th>                        <td>   -5.6384</td> <td>    1.016</td> <td>   -5.548</td> <td> 0.000</td> <td>   -7.630</td> <td>   -3.647</td>\n",
       "</tr>\n",
       "<tr>\n",
       "  <th>Lead Quality_Worst</th>                       <td>   -3.9951</td> <td>    0.585</td> <td>   -6.826</td> <td> 0.000</td> <td>   -5.142</td> <td>   -2.848</td>\n",
       "</tr>\n",
       "<tr>\n",
       "  <th>Last Notable Activity_SMS Sent</th>           <td>    2.5471</td> <td>    0.133</td> <td>   19.208</td> <td> 0.000</td> <td>    2.287</td> <td>    2.807</td>\n",
       "</tr>\n",
       "</table>"
      ],
      "text/plain": [
       "<class 'statsmodels.iolib.summary.Summary'>\n",
       "\"\"\"\n",
       "                 Generalized Linear Model Regression Results                  \n",
       "==============================================================================\n",
       "Dep. Variable:              Converted   No. Observations:                 6378\n",
       "Model:                            GLM   Df Residuals:                     6365\n",
       "Model Family:                Binomial   Df Model:                           12\n",
       "Link Function:                  logit   Scale:                          1.0000\n",
       "Method:                          IRLS   Log-Likelihood:                -1690.0\n",
       "Date:                Mon, 17 Jun 2019   Deviance:                       3380.0\n",
       "Time:                        21:30:16   Pearson chi2:                 1.07e+04\n",
       "No. Iterations:                     8   Covariance Type:             nonrobust\n",
       "============================================================================================================\n",
       "                                               coef    std err          z      P>|z|      [0.025      0.975]\n",
       "------------------------------------------------------------------------------------------------------------\n",
       "const                                       -0.8933      0.075    -11.963      0.000      -1.040      -0.747\n",
       "Do Not Email                                -1.5364      0.217     -7.089      0.000      -1.961      -1.112\n",
       "Lead Source_Welingak Website                 3.6338      0.729      4.981      0.000       2.204       5.064\n",
       "What is your current occupation_Other       -2.5567      0.138    -18.512      0.000      -2.827      -2.286\n",
       "Tags_Busy                                    0.2111      0.223      0.945      0.345      -0.227       0.649\n",
       "Tags_Lost to EINS                            6.8805      0.755      9.108      0.000       5.400       8.361\n",
       "Tags_Ringing                                -3.9481      0.245    -16.099      0.000      -4.429      -3.467\n",
       "Tags_Unknown                                 0.9680      0.135      7.187      0.000       0.704       1.232\n",
       "Tags_Will revert after reading the email     3.7728      0.166     22.736      0.000       3.448       4.098\n",
       "Tags_invalid number                         -4.1411      1.043     -3.971      0.000      -6.185      -2.097\n",
       "Tags_switched off                           -5.6384      1.016     -5.548      0.000      -7.630      -3.647\n",
       "Lead Quality_Worst                          -3.9951      0.585     -6.826      0.000      -5.142      -2.848\n",
       "Last Notable Activity_SMS Sent               2.5471      0.133     19.208      0.000       2.287       2.807\n",
       "============================================================================================================\n",
       "\"\"\""
      ]
     },
     "execution_count": 139,
     "metadata": {},
     "output_type": "execute_result"
    }
   ],
   "source": [
    "# Let's re-run the model using the selected variables\n",
    "X_train_sm = sm.add_constant(X_train[cols])\n",
    "logm5 = sm.GLM(y_train,X_train_sm, family = sm.families.Binomial())\n",
    "res = logm5.fit()\n",
    "res.summary()"
   ]
  },
  {
   "cell_type": "code",
   "execution_count": 140,
   "metadata": {},
   "outputs": [],
   "source": [
    "y_train_pred = res.predict(X_train_sm).values.reshape(-1)"
   ]
  },
  {
   "cell_type": "code",
   "execution_count": 141,
   "metadata": {},
   "outputs": [
    {
     "data": {
      "text/plain": [
       "array([0.94682471, 0.00747782, 0.93225476, 0.99562153, 0.01766433,\n",
       "       0.07713093, 0.33579034, 0.07713093, 0.09160444, 0.99562153])"
      ]
     },
     "execution_count": 141,
     "metadata": {},
     "output_type": "execute_result"
    }
   ],
   "source": [
    "y_train_pred[:10]"
   ]
  },
  {
   "cell_type": "code",
   "execution_count": 142,
   "metadata": {},
   "outputs": [],
   "source": [
    "y_train_pred_final['Converted_Prob'] = y_train_pred"
   ]
  },
  {
   "cell_type": "code",
   "execution_count": 143,
   "metadata": {},
   "outputs": [
    {
     "data": {
      "text/html": [
       "<div>\n",
       "<style scoped>\n",
       "    .dataframe tbody tr th:only-of-type {\n",
       "        vertical-align: middle;\n",
       "    }\n",
       "\n",
       "    .dataframe tbody tr th {\n",
       "        vertical-align: top;\n",
       "    }\n",
       "\n",
       "    .dataframe thead th {\n",
       "        text-align: right;\n",
       "    }\n",
       "</style>\n",
       "<table border=\"1\" class=\"dataframe\">\n",
       "  <thead>\n",
       "    <tr style=\"text-align: right;\">\n",
       "      <th></th>\n",
       "      <th>Converted</th>\n",
       "      <th>Converted_Probability</th>\n",
       "      <th>Lead_Score</th>\n",
       "      <th>Predicted_Conversion</th>\n",
       "      <th>Converted_Prob</th>\n",
       "    </tr>\n",
       "  </thead>\n",
       "  <tbody>\n",
       "    <tr>\n",
       "      <th>0</th>\n",
       "      <td>1</td>\n",
       "      <td>0.945245</td>\n",
       "      <td>95.0</td>\n",
       "      <td>1</td>\n",
       "      <td>0.946825</td>\n",
       "    </tr>\n",
       "    <tr>\n",
       "      <th>1</th>\n",
       "      <td>0</td>\n",
       "      <td>0.002687</td>\n",
       "      <td>1.0</td>\n",
       "      <td>0</td>\n",
       "      <td>0.007478</td>\n",
       "    </tr>\n",
       "    <tr>\n",
       "      <th>2</th>\n",
       "      <td>1</td>\n",
       "      <td>0.946619</td>\n",
       "      <td>93.0</td>\n",
       "      <td>1</td>\n",
       "      <td>0.932255</td>\n",
       "    </tr>\n",
       "    <tr>\n",
       "      <th>3</th>\n",
       "      <td>1</td>\n",
       "      <td>0.996674</td>\n",
       "      <td>100.0</td>\n",
       "      <td>1</td>\n",
       "      <td>0.995622</td>\n",
       "    </tr>\n",
       "    <tr>\n",
       "      <th>4</th>\n",
       "      <td>0</td>\n",
       "      <td>0.018116</td>\n",
       "      <td>2.0</td>\n",
       "      <td>0</td>\n",
       "      <td>0.017664</td>\n",
       "    </tr>\n",
       "  </tbody>\n",
       "</table>\n",
       "</div>"
      ],
      "text/plain": [
       "   Converted  Converted_Probability  Lead_Score  Predicted_Conversion  \\\n",
       "0          1               0.945245        95.0                     1   \n",
       "1          0               0.002687         1.0                     0   \n",
       "2          1               0.946619        93.0                     1   \n",
       "3          1               0.996674       100.0                     1   \n",
       "4          0               0.018116         2.0                     0   \n",
       "\n",
       "   Converted_Prob  \n",
       "0        0.946825  \n",
       "1        0.007478  \n",
       "2        0.932255  \n",
       "3        0.995622  \n",
       "4        0.017664  "
      ]
     },
     "execution_count": 143,
     "metadata": {},
     "output_type": "execute_result"
    }
   ],
   "source": [
    "# Creating new column 'predicted' with 1 if Converted_Prob > 0.5 else 0\n",
    "y_train_pred_final['Predicted_Conversion'] = y_train_pred_final.Converted_Prob.map(lambda x: 1 if x > 0.5 else 0)\n",
    "y_train_pred_final['Lead_Score']=round(y_train_pred_final['Converted_Prob']*100)\n",
    "y_train_pred_final.head()"
   ]
  },
  {
   "cell_type": "code",
   "execution_count": 144,
   "metadata": {},
   "outputs": [
    {
     "name": "stdout",
     "output_type": "stream",
     "text": [
      "0.892129194104735\n"
     ]
    }
   ],
   "source": [
    "# Let's check the overall accuracy.\n",
    "print(metrics.accuracy_score(y_train_pred_final.Converted, y_train_pred_final.Predicted_Conversion))"
   ]
  },
  {
   "cell_type": "markdown",
   "metadata": {},
   "source": [
    "**Checking the VIFs**"
   ]
  },
  {
   "cell_type": "code",
   "execution_count": 145,
   "metadata": {},
   "outputs": [
    {
     "data": {
      "text/html": [
       "<div>\n",
       "<style scoped>\n",
       "    .dataframe tbody tr th:only-of-type {\n",
       "        vertical-align: middle;\n",
       "    }\n",
       "\n",
       "    .dataframe tbody tr th {\n",
       "        vertical-align: top;\n",
       "    }\n",
       "\n",
       "    .dataframe thead th {\n",
       "        text-align: right;\n",
       "    }\n",
       "</style>\n",
       "<table border=\"1\" class=\"dataframe\">\n",
       "  <thead>\n",
       "    <tr style=\"text-align: right;\">\n",
       "      <th></th>\n",
       "      <th>Features</th>\n",
       "      <th>VIF</th>\n",
       "    </tr>\n",
       "  </thead>\n",
       "  <tbody>\n",
       "    <tr>\n",
       "      <th>6</th>\n",
       "      <td>Tags_Unknown</td>\n",
       "      <td>4.89</td>\n",
       "    </tr>\n",
       "    <tr>\n",
       "      <th>2</th>\n",
       "      <td>What is your current occupation_Other</td>\n",
       "      <td>4.58</td>\n",
       "    </tr>\n",
       "    <tr>\n",
       "      <th>11</th>\n",
       "      <td>Last Notable Activity_SMS Sent</td>\n",
       "      <td>1.59</td>\n",
       "    </tr>\n",
       "    <tr>\n",
       "      <th>7</th>\n",
       "      <td>Tags_Will revert after reading the email</td>\n",
       "      <td>1.35</td>\n",
       "    </tr>\n",
       "    <tr>\n",
       "      <th>1</th>\n",
       "      <td>Lead Source_Welingak Website</td>\n",
       "      <td>1.12</td>\n",
       "    </tr>\n",
       "    <tr>\n",
       "      <th>0</th>\n",
       "      <td>Do Not Email</td>\n",
       "      <td>1.10</td>\n",
       "    </tr>\n",
       "    <tr>\n",
       "      <th>5</th>\n",
       "      <td>Tags_Ringing</td>\n",
       "      <td>1.09</td>\n",
       "    </tr>\n",
       "    <tr>\n",
       "      <th>3</th>\n",
       "      <td>Tags_Busy</td>\n",
       "      <td>1.03</td>\n",
       "    </tr>\n",
       "    <tr>\n",
       "      <th>4</th>\n",
       "      <td>Tags_Lost to EINS</td>\n",
       "      <td>1.03</td>\n",
       "    </tr>\n",
       "    <tr>\n",
       "      <th>9</th>\n",
       "      <td>Tags_switched off</td>\n",
       "      <td>1.03</td>\n",
       "    </tr>\n",
       "    <tr>\n",
       "      <th>10</th>\n",
       "      <td>Lead Quality_Worst</td>\n",
       "      <td>1.03</td>\n",
       "    </tr>\n",
       "    <tr>\n",
       "      <th>8</th>\n",
       "      <td>Tags_invalid number</td>\n",
       "      <td>1.02</td>\n",
       "    </tr>\n",
       "  </tbody>\n",
       "</table>\n",
       "</div>"
      ],
      "text/plain": [
       "                                    Features   VIF\n",
       "6                               Tags_Unknown  4.89\n",
       "2      What is your current occupation_Other  4.58\n",
       "11            Last Notable Activity_SMS Sent  1.59\n",
       "7   Tags_Will revert after reading the email  1.35\n",
       "1               Lead Source_Welingak Website  1.12\n",
       "0                               Do Not Email  1.10\n",
       "5                               Tags_Ringing  1.09\n",
       "3                                  Tags_Busy  1.03\n",
       "4                          Tags_Lost to EINS  1.03\n",
       "9                          Tags_switched off  1.03\n",
       "10                        Lead Quality_Worst  1.03\n",
       "8                        Tags_invalid number  1.02"
      ]
     },
     "execution_count": 145,
     "metadata": {},
     "output_type": "execute_result"
    }
   ],
   "source": [
    "vif = pd.DataFrame()\n",
    "vif['Features'] = X_train[cols].columns\n",
    "vif['VIF'] = [variance_inflation_factor(X_train[cols].values, i) for i in range(X_train[cols].shape[1])]\n",
    "vif['VIF'] = round(vif['VIF'], 2)\n",
    "vif = vif.sort_values(by = \"VIF\", ascending = False)\n",
    "vif"
   ]
  },
  {
   "cell_type": "code",
   "execution_count": 146,
   "metadata": {},
   "outputs": [
    {
     "data": {
      "text/plain": [
       "0.892129194104735"
      ]
     },
     "execution_count": 146,
     "metadata": {},
     "output_type": "execute_result"
    }
   ],
   "source": [
    "# Let's check the overall accuracy.\n",
    "metrics.accuracy_score(y_train_pred_final.Converted, y_train_pred_final.Predicted_Conversion)"
   ]
  },
  {
   "cell_type": "code",
   "execution_count": 147,
   "metadata": {},
   "outputs": [
    {
     "data": {
      "text/plain": [
       "Index(['Do Not Email', 'Lead Source_Welingak Website',\n",
       "       'What is your current occupation_Other', 'Tags_Lost to EINS',\n",
       "       'Tags_Ringing', 'Tags_Unknown',\n",
       "       'Tags_Will revert after reading the email', 'Tags_invalid number',\n",
       "       'Tags_switched off', 'Lead Quality_Worst',\n",
       "       'Last Notable Activity_SMS Sent'],\n",
       "      dtype='object')"
      ]
     },
     "execution_count": 147,
     "metadata": {},
     "output_type": "execute_result"
    }
   ],
   "source": [
    "cols = cols.drop('Tags_Busy')\n",
    "cols"
   ]
  },
  {
   "cell_type": "code",
   "execution_count": 148,
   "metadata": {},
   "outputs": [
    {
     "data": {
      "text/html": [
       "<table class=\"simpletable\">\n",
       "<caption>Generalized Linear Model Regression Results</caption>\n",
       "<tr>\n",
       "  <th>Dep. Variable:</th>      <td>Converted</td>    <th>  No. Observations:  </th>  <td>  6378</td>  \n",
       "</tr>\n",
       "<tr>\n",
       "  <th>Model:</th>                 <td>GLM</td>       <th>  Df Residuals:      </th>  <td>  6366</td>  \n",
       "</tr>\n",
       "<tr>\n",
       "  <th>Model Family:</th>       <td>Binomial</td>     <th>  Df Model:          </th>  <td>    11</td>  \n",
       "</tr>\n",
       "<tr>\n",
       "  <th>Link Function:</th>        <td>logit</td>      <th>  Scale:             </th> <td>  1.0000</td> \n",
       "</tr>\n",
       "<tr>\n",
       "  <th>Method:</th>               <td>IRLS</td>       <th>  Log-Likelihood:    </th> <td> -1690.4</td> \n",
       "</tr>\n",
       "<tr>\n",
       "  <th>Date:</th>           <td>Mon, 17 Jun 2019</td> <th>  Deviance:          </th> <td>  3380.9</td> \n",
       "</tr>\n",
       "<tr>\n",
       "  <th>Time:</th>               <td>21:30:17</td>     <th>  Pearson chi2:      </th> <td>1.08e+04</td> \n",
       "</tr>\n",
       "<tr>\n",
       "  <th>No. Iterations:</th>         <td>8</td>        <th>  Covariance Type:   </th> <td>nonrobust</td>\n",
       "</tr>\n",
       "</table>\n",
       "<table class=\"simpletable\">\n",
       "<tr>\n",
       "                      <td></td>                        <th>coef</th>     <th>std err</th>      <th>z</th>      <th>P>|z|</th>  <th>[0.025</th>    <th>0.975]</th>  \n",
       "</tr>\n",
       "<tr>\n",
       "  <th>const</th>                                    <td>   -0.8707</td> <td>    0.070</td> <td>  -12.356</td> <td> 0.000</td> <td>   -1.009</td> <td>   -0.733</td>\n",
       "</tr>\n",
       "<tr>\n",
       "  <th>Do Not Email</th>                             <td>   -1.5334</td> <td>    0.216</td> <td>   -7.086</td> <td> 0.000</td> <td>   -1.957</td> <td>   -1.109</td>\n",
       "</tr>\n",
       "<tr>\n",
       "  <th>Lead Source_Welingak Website</th>             <td>    3.6244</td> <td>    0.729</td> <td>    4.969</td> <td> 0.000</td> <td>    2.195</td> <td>    5.054</td>\n",
       "</tr>\n",
       "<tr>\n",
       "  <th>What is your current occupation_Other</th>    <td>   -2.5606</td> <td>    0.138</td> <td>  -18.519</td> <td> 0.000</td> <td>   -2.832</td> <td>   -2.290</td>\n",
       "</tr>\n",
       "<tr>\n",
       "  <th>Tags_Lost to EINS</th>                        <td>    6.8659</td> <td>    0.756</td> <td>    9.085</td> <td> 0.000</td> <td>    5.385</td> <td>    8.347</td>\n",
       "</tr>\n",
       "<tr>\n",
       "  <th>Tags_Ringing</th>                             <td>   -3.9904</td> <td>    0.241</td> <td>  -16.547</td> <td> 0.000</td> <td>   -4.463</td> <td>   -3.518</td>\n",
       "</tr>\n",
       "<tr>\n",
       "  <th>Tags_Unknown</th>                             <td>    0.9421</td> <td>    0.132</td> <td>    7.151</td> <td> 0.000</td> <td>    0.684</td> <td>    1.200</td>\n",
       "</tr>\n",
       "<tr>\n",
       "  <th>Tags_Will revert after reading the email</th> <td>    3.7485</td> <td>    0.164</td> <td>   22.884</td> <td> 0.000</td> <td>    3.427</td> <td>    4.070</td>\n",
       "</tr>\n",
       "<tr>\n",
       "  <th>Tags_invalid number</th>                      <td>   -4.1836</td> <td>    1.042</td> <td>   -4.014</td> <td> 0.000</td> <td>   -6.226</td> <td>   -2.141</td>\n",
       "</tr>\n",
       "<tr>\n",
       "  <th>Tags_switched off</th>                        <td>   -5.6818</td> <td>    1.015</td> <td>   -5.596</td> <td> 0.000</td> <td>   -7.672</td> <td>   -3.692</td>\n",
       "</tr>\n",
       "<tr>\n",
       "  <th>Lead Quality_Worst</th>                       <td>   -4.0151</td> <td>    0.584</td> <td>   -6.875</td> <td> 0.000</td> <td>   -5.160</td> <td>   -2.870</td>\n",
       "</tr>\n",
       "<tr>\n",
       "  <th>Last Notable Activity_SMS Sent</th>           <td>    2.5710</td> <td>    0.130</td> <td>   19.765</td> <td> 0.000</td> <td>    2.316</td> <td>    2.826</td>\n",
       "</tr>\n",
       "</table>"
      ],
      "text/plain": [
       "<class 'statsmodels.iolib.summary.Summary'>\n",
       "\"\"\"\n",
       "                 Generalized Linear Model Regression Results                  \n",
       "==============================================================================\n",
       "Dep. Variable:              Converted   No. Observations:                 6378\n",
       "Model:                            GLM   Df Residuals:                     6366\n",
       "Model Family:                Binomial   Df Model:                           11\n",
       "Link Function:                  logit   Scale:                          1.0000\n",
       "Method:                          IRLS   Log-Likelihood:                -1690.4\n",
       "Date:                Mon, 17 Jun 2019   Deviance:                       3380.9\n",
       "Time:                        21:30:17   Pearson chi2:                 1.08e+04\n",
       "No. Iterations:                     8   Covariance Type:             nonrobust\n",
       "============================================================================================================\n",
       "                                               coef    std err          z      P>|z|      [0.025      0.975]\n",
       "------------------------------------------------------------------------------------------------------------\n",
       "const                                       -0.8707      0.070    -12.356      0.000      -1.009      -0.733\n",
       "Do Not Email                                -1.5334      0.216     -7.086      0.000      -1.957      -1.109\n",
       "Lead Source_Welingak Website                 3.6244      0.729      4.969      0.000       2.195       5.054\n",
       "What is your current occupation_Other       -2.5606      0.138    -18.519      0.000      -2.832      -2.290\n",
       "Tags_Lost to EINS                            6.8659      0.756      9.085      0.000       5.385       8.347\n",
       "Tags_Ringing                                -3.9904      0.241    -16.547      0.000      -4.463      -3.518\n",
       "Tags_Unknown                                 0.9421      0.132      7.151      0.000       0.684       1.200\n",
       "Tags_Will revert after reading the email     3.7485      0.164     22.884      0.000       3.427       4.070\n",
       "Tags_invalid number                         -4.1836      1.042     -4.014      0.000      -6.226      -2.141\n",
       "Tags_switched off                           -5.6818      1.015     -5.596      0.000      -7.672      -3.692\n",
       "Lead Quality_Worst                          -4.0151      0.584     -6.875      0.000      -5.160      -2.870\n",
       "Last Notable Activity_SMS Sent               2.5710      0.130     19.765      0.000       2.316       2.826\n",
       "============================================================================================================\n",
       "\"\"\""
      ]
     },
     "execution_count": 148,
     "metadata": {},
     "output_type": "execute_result"
    }
   ],
   "source": [
    "# Let's re-run the model using the selected variables\n",
    "X_train_sm = sm.add_constant(X_train[cols])\n",
    "logm7 = sm.GLM(y_train,X_train_sm, family = sm.families.Binomial())\n",
    "res = logm7.fit()\n",
    "res.summary()"
   ]
  },
  {
   "cell_type": "code",
   "execution_count": 149,
   "metadata": {},
   "outputs": [],
   "source": [
    "y_train_pred = res.predict(X_train_sm).values.reshape(-1)"
   ]
  },
  {
   "cell_type": "code",
   "execution_count": 150,
   "metadata": {},
   "outputs": [
    {
     "data": {
      "text/plain": [
       "array([0.94673487, 0.00749655, 0.93353949, 0.99571685, 0.01759092,\n",
       "       0.07661394, 0.29510323, 0.07661394, 0.09194684, 0.99571685])"
      ]
     },
     "execution_count": 150,
     "metadata": {},
     "output_type": "execute_result"
    }
   ],
   "source": [
    "y_train_pred[:10]"
   ]
  },
  {
   "cell_type": "code",
   "execution_count": 151,
   "metadata": {},
   "outputs": [],
   "source": [
    "y_train_pred_final['Converted_Prob'] = y_train_pred"
   ]
  },
  {
   "cell_type": "code",
   "execution_count": 152,
   "metadata": {},
   "outputs": [
    {
     "data": {
      "text/html": [
       "<div>\n",
       "<style scoped>\n",
       "    .dataframe tbody tr th:only-of-type {\n",
       "        vertical-align: middle;\n",
       "    }\n",
       "\n",
       "    .dataframe tbody tr th {\n",
       "        vertical-align: top;\n",
       "    }\n",
       "\n",
       "    .dataframe thead th {\n",
       "        text-align: right;\n",
       "    }\n",
       "</style>\n",
       "<table border=\"1\" class=\"dataframe\">\n",
       "  <thead>\n",
       "    <tr style=\"text-align: right;\">\n",
       "      <th></th>\n",
       "      <th>Converted</th>\n",
       "      <th>Converted_Probability</th>\n",
       "      <th>Lead_Score</th>\n",
       "      <th>Predicted_Conversion</th>\n",
       "      <th>Converted_Prob</th>\n",
       "    </tr>\n",
       "  </thead>\n",
       "  <tbody>\n",
       "    <tr>\n",
       "      <th>0</th>\n",
       "      <td>1</td>\n",
       "      <td>0.945245</td>\n",
       "      <td>95.0</td>\n",
       "      <td>1</td>\n",
       "      <td>0.946735</td>\n",
       "    </tr>\n",
       "    <tr>\n",
       "      <th>1</th>\n",
       "      <td>0</td>\n",
       "      <td>0.002687</td>\n",
       "      <td>1.0</td>\n",
       "      <td>0</td>\n",
       "      <td>0.007497</td>\n",
       "    </tr>\n",
       "    <tr>\n",
       "      <th>2</th>\n",
       "      <td>1</td>\n",
       "      <td>0.946619</td>\n",
       "      <td>93.0</td>\n",
       "      <td>1</td>\n",
       "      <td>0.933539</td>\n",
       "    </tr>\n",
       "    <tr>\n",
       "      <th>3</th>\n",
       "      <td>1</td>\n",
       "      <td>0.996674</td>\n",
       "      <td>100.0</td>\n",
       "      <td>1</td>\n",
       "      <td>0.995717</td>\n",
       "    </tr>\n",
       "    <tr>\n",
       "      <th>4</th>\n",
       "      <td>0</td>\n",
       "      <td>0.018116</td>\n",
       "      <td>2.0</td>\n",
       "      <td>0</td>\n",
       "      <td>0.017591</td>\n",
       "    </tr>\n",
       "  </tbody>\n",
       "</table>\n",
       "</div>"
      ],
      "text/plain": [
       "   Converted  Converted_Probability  Lead_Score  Predicted_Conversion  \\\n",
       "0          1               0.945245        95.0                     1   \n",
       "1          0               0.002687         1.0                     0   \n",
       "2          1               0.946619        93.0                     1   \n",
       "3          1               0.996674       100.0                     1   \n",
       "4          0               0.018116         2.0                     0   \n",
       "\n",
       "   Converted_Prob  \n",
       "0        0.946735  \n",
       "1        0.007497  \n",
       "2        0.933539  \n",
       "3        0.995717  \n",
       "4        0.017591  "
      ]
     },
     "execution_count": 152,
     "metadata": {},
     "output_type": "execute_result"
    }
   ],
   "source": [
    "# Creating new column 'predicted' with 1 if Converted_Prob > 0.5 else 0\n",
    "y_train_pred_final['Predicted_Conversion'] = y_train_pred_final.Converted_Prob.map(lambda x: 1 if x > 0.5 else 0)\n",
    "y_train_pred_final['Lead_Score']=round(y_train_pred_final['Converted_Prob']*100)\n",
    "y_train_pred_final.head()"
   ]
  },
  {
   "cell_type": "code",
   "execution_count": 153,
   "metadata": {},
   "outputs": [
    {
     "name": "stdout",
     "output_type": "stream",
     "text": [
      "0.892129194104735\n"
     ]
    }
   ],
   "source": [
    "# Let's check the overall accuracy.\n",
    "print(metrics.accuracy_score(y_train_pred_final.Converted, y_train_pred_final.Predicted_Conversion))"
   ]
  },
  {
   "cell_type": "markdown",
   "metadata": {},
   "source": [
    "Now all the variables are within critical VIF limit of <5 and p value of <0.05. Hence it is a good model with accuracy of ~89.21%."
   ]
  },
  {
   "cell_type": "code",
   "execution_count": 154,
   "metadata": {},
   "outputs": [
    {
     "data": {
      "text/plain": [
       "array([[3627,  276],\n",
       "       [ 412, 2063]], dtype=int64)"
      ]
     },
     "execution_count": 154,
     "metadata": {},
     "output_type": "execute_result"
    }
   ],
   "source": [
    "# Let's take a look at the confusion matrix again \n",
    "confusion = metrics.confusion_matrix(y_train_pred_final.Converted, y_train_pred_final.Predicted_Conversion )\n",
    "confusion"
   ]
  },
  {
   "cell_type": "markdown",
   "metadata": {},
   "source": [
    "### Finding Optimal Cutoff Point"
   ]
  },
  {
   "cell_type": "markdown",
   "metadata": {},
   "source": [
    "Optimal cutoff probability is that prob where we get balanced sensitivity and specificity"
   ]
  },
  {
   "cell_type": "code",
   "execution_count": 155,
   "metadata": {},
   "outputs": [
    {
     "data": {
      "text/html": [
       "<div>\n",
       "<style scoped>\n",
       "    .dataframe tbody tr th:only-of-type {\n",
       "        vertical-align: middle;\n",
       "    }\n",
       "\n",
       "    .dataframe tbody tr th {\n",
       "        vertical-align: top;\n",
       "    }\n",
       "\n",
       "    .dataframe thead th {\n",
       "        text-align: right;\n",
       "    }\n",
       "</style>\n",
       "<table border=\"1\" class=\"dataframe\">\n",
       "  <thead>\n",
       "    <tr style=\"text-align: right;\">\n",
       "      <th></th>\n",
       "      <th>Converted</th>\n",
       "      <th>Converted_Probability</th>\n",
       "      <th>Lead_Score</th>\n",
       "      <th>Predicted_Conversion</th>\n",
       "      <th>Converted_Prob</th>\n",
       "      <th>0.0</th>\n",
       "      <th>0.1</th>\n",
       "      <th>0.2</th>\n",
       "      <th>0.3</th>\n",
       "      <th>0.4</th>\n",
       "      <th>0.5</th>\n",
       "      <th>0.6</th>\n",
       "      <th>0.7</th>\n",
       "      <th>0.8</th>\n",
       "      <th>0.9</th>\n",
       "    </tr>\n",
       "  </thead>\n",
       "  <tbody>\n",
       "    <tr>\n",
       "      <th>0</th>\n",
       "      <td>1</td>\n",
       "      <td>0.945245</td>\n",
       "      <td>95.0</td>\n",
       "      <td>1</td>\n",
       "      <td>0.946735</td>\n",
       "      <td>1</td>\n",
       "      <td>1</td>\n",
       "      <td>1</td>\n",
       "      <td>1</td>\n",
       "      <td>1</td>\n",
       "      <td>1</td>\n",
       "      <td>1</td>\n",
       "      <td>1</td>\n",
       "      <td>1</td>\n",
       "      <td>1</td>\n",
       "    </tr>\n",
       "    <tr>\n",
       "      <th>1</th>\n",
       "      <td>0</td>\n",
       "      <td>0.002687</td>\n",
       "      <td>1.0</td>\n",
       "      <td>0</td>\n",
       "      <td>0.007497</td>\n",
       "      <td>1</td>\n",
       "      <td>0</td>\n",
       "      <td>0</td>\n",
       "      <td>0</td>\n",
       "      <td>0</td>\n",
       "      <td>0</td>\n",
       "      <td>0</td>\n",
       "      <td>0</td>\n",
       "      <td>0</td>\n",
       "      <td>0</td>\n",
       "    </tr>\n",
       "    <tr>\n",
       "      <th>2</th>\n",
       "      <td>1</td>\n",
       "      <td>0.946619</td>\n",
       "      <td>93.0</td>\n",
       "      <td>1</td>\n",
       "      <td>0.933539</td>\n",
       "      <td>1</td>\n",
       "      <td>1</td>\n",
       "      <td>1</td>\n",
       "      <td>1</td>\n",
       "      <td>1</td>\n",
       "      <td>1</td>\n",
       "      <td>1</td>\n",
       "      <td>1</td>\n",
       "      <td>1</td>\n",
       "      <td>1</td>\n",
       "    </tr>\n",
       "    <tr>\n",
       "      <th>3</th>\n",
       "      <td>1</td>\n",
       "      <td>0.996674</td>\n",
       "      <td>100.0</td>\n",
       "      <td>1</td>\n",
       "      <td>0.995717</td>\n",
       "      <td>1</td>\n",
       "      <td>1</td>\n",
       "      <td>1</td>\n",
       "      <td>1</td>\n",
       "      <td>1</td>\n",
       "      <td>1</td>\n",
       "      <td>1</td>\n",
       "      <td>1</td>\n",
       "      <td>1</td>\n",
       "      <td>1</td>\n",
       "    </tr>\n",
       "    <tr>\n",
       "      <th>4</th>\n",
       "      <td>0</td>\n",
       "      <td>0.018116</td>\n",
       "      <td>2.0</td>\n",
       "      <td>0</td>\n",
       "      <td>0.017591</td>\n",
       "      <td>1</td>\n",
       "      <td>0</td>\n",
       "      <td>0</td>\n",
       "      <td>0</td>\n",
       "      <td>0</td>\n",
       "      <td>0</td>\n",
       "      <td>0</td>\n",
       "      <td>0</td>\n",
       "      <td>0</td>\n",
       "      <td>0</td>\n",
       "    </tr>\n",
       "  </tbody>\n",
       "</table>\n",
       "</div>"
      ],
      "text/plain": [
       "   Converted  Converted_Probability  Lead_Score  Predicted_Conversion  \\\n",
       "0          1               0.945245        95.0                     1   \n",
       "1          0               0.002687         1.0                     0   \n",
       "2          1               0.946619        93.0                     1   \n",
       "3          1               0.996674       100.0                     1   \n",
       "4          0               0.018116         2.0                     0   \n",
       "\n",
       "   Converted_Prob  0.0  0.1  0.2  0.3  0.4  0.5  0.6  0.7  0.8  0.9  \n",
       "0        0.946735    1    1    1    1    1    1    1    1    1    1  \n",
       "1        0.007497    1    0    0    0    0    0    0    0    0    0  \n",
       "2        0.933539    1    1    1    1    1    1    1    1    1    1  \n",
       "3        0.995717    1    1    1    1    1    1    1    1    1    1  \n",
       "4        0.017591    1    0    0    0    0    0    0    0    0    0  "
      ]
     },
     "execution_count": 155,
     "metadata": {},
     "output_type": "execute_result"
    }
   ],
   "source": [
    "# Let's create columns with different probability cutoffs \n",
    "numbers = [float(x)/10 for x in range(10)]\n",
    "for i in numbers:\n",
    "    y_train_pred_final[i]= y_train_pred_final.Converted_Prob.map(lambda x: 1 if x > i else 0)\n",
    "y_train_pred_final.head()"
   ]
  },
  {
   "cell_type": "code",
   "execution_count": 156,
   "metadata": {},
   "outputs": [
    {
     "name": "stdout",
     "output_type": "stream",
     "text": [
      "     prob  accuracy     sensi     speci\n",
      "0.0   0.0  0.388053  1.000000  0.000000\n",
      "0.1   0.1  0.836626  0.952323  0.763259\n",
      "0.2   0.2  0.842114  0.950707  0.773251\n",
      "0.3   0.3  0.892129  0.833535  0.929285\n",
      "0.4   0.4  0.892129  0.833535  0.929285\n",
      "0.5   0.5  0.892129  0.833535  0.929285\n",
      "0.6   0.6  0.880213  0.729697  0.975660\n",
      "0.7   0.7  0.880213  0.729697  0.975660\n",
      "0.8   0.8  0.876450  0.718384  0.976685\n",
      "0.9   0.9  0.872844  0.695354  0.985396\n"
     ]
    }
   ],
   "source": [
    "# Now let's calculate accuracy sensitivity and specificity for various probability cutoffs.\n",
    "cutoff_df = pd.DataFrame( columns = ['prob','accuracy','sensi','speci'])\n",
    "from sklearn.metrics import confusion_matrix\n",
    "\n",
    "num = [0.0,0.1,0.2,0.3,0.4,0.5,0.6,0.7,0.8,0.9]\n",
    "for i in num:\n",
    "    cm1 = metrics.confusion_matrix(y_train_pred_final.Converted, y_train_pred_final[i] )\n",
    "    total1=sum(sum(cm1))\n",
    "    accuracy = (cm1[0,0]+cm1[1,1])/total1\n",
    "    \n",
    "    speci = cm1[0,0]/(cm1[0,0]+cm1[0,1])\n",
    "    sensi = cm1[1,1]/(cm1[1,0]+cm1[1,1])\n",
    "    cutoff_df.loc[i] =[ i ,accuracy,sensi,speci]\n",
    "print(cutoff_df)"
   ]
  },
  {
   "cell_type": "code",
   "execution_count": 157,
   "metadata": {},
   "outputs": [
    {
     "data": {
      "image/png": "[encoded data removed]",
      "text/plain": [
       "<Figure size 432x288 with 1 Axes>"
      ]
     },
     "metadata": {
      "needs_background": "light"
     },
     "output_type": "display_data"
    }
   ],
   "source": [
    "# Let's plot accuracy sensitivity and specificity for various probabilities.\n",
    "cutoff_df.plot.line(x='prob', y=['accuracy','sensi','speci'])\n",
    "plt.show()"
   ]
  },
  {
   "cell_type": "markdown",
   "metadata": {},
   "source": [
    "#### From the curve above,the three curves are intersecting ~0.30 taking it as cutoff probability."
   ]
  },
  {
   "cell_type": "code",
   "execution_count": 158,
   "metadata": {},
   "outputs": [
    {
     "data": {
      "text/html": [
       "<div>\n",
       "<style scoped>\n",
       "    .dataframe tbody tr th:only-of-type {\n",
       "        vertical-align: middle;\n",
       "    }\n",
       "\n",
       "    .dataframe tbody tr th {\n",
       "        vertical-align: top;\n",
       "    }\n",
       "\n",
       "    .dataframe thead th {\n",
       "        text-align: right;\n",
       "    }\n",
       "</style>\n",
       "<table border=\"1\" class=\"dataframe\">\n",
       "  <thead>\n",
       "    <tr style=\"text-align: right;\">\n",
       "      <th></th>\n",
       "      <th>Converted</th>\n",
       "      <th>Converted_Probability</th>\n",
       "      <th>Lead_Score</th>\n",
       "      <th>Predicted_Conversion</th>\n",
       "      <th>Converted_Prob</th>\n",
       "      <th>0.0</th>\n",
       "      <th>0.1</th>\n",
       "      <th>0.2</th>\n",
       "      <th>0.3</th>\n",
       "      <th>0.4</th>\n",
       "      <th>0.5</th>\n",
       "      <th>0.6</th>\n",
       "      <th>0.7</th>\n",
       "      <th>0.8</th>\n",
       "      <th>0.9</th>\n",
       "      <th>final_predicted</th>\n",
       "    </tr>\n",
       "  </thead>\n",
       "  <tbody>\n",
       "    <tr>\n",
       "      <th>0</th>\n",
       "      <td>1</td>\n",
       "      <td>0.945245</td>\n",
       "      <td>95.0</td>\n",
       "      <td>1</td>\n",
       "      <td>0.946735</td>\n",
       "      <td>1</td>\n",
       "      <td>1</td>\n",
       "      <td>1</td>\n",
       "      <td>1</td>\n",
       "      <td>1</td>\n",
       "      <td>1</td>\n",
       "      <td>1</td>\n",
       "      <td>1</td>\n",
       "      <td>1</td>\n",
       "      <td>1</td>\n",
       "      <td>1</td>\n",
       "    </tr>\n",
       "    <tr>\n",
       "      <th>1</th>\n",
       "      <td>0</td>\n",
       "      <td>0.002687</td>\n",
       "      <td>1.0</td>\n",
       "      <td>0</td>\n",
       "      <td>0.007497</td>\n",
       "      <td>1</td>\n",
       "      <td>0</td>\n",
       "      <td>0</td>\n",
       "      <td>0</td>\n",
       "      <td>0</td>\n",
       "      <td>0</td>\n",
       "      <td>0</td>\n",
       "      <td>0</td>\n",
       "      <td>0</td>\n",
       "      <td>0</td>\n",
       "      <td>0</td>\n",
       "    </tr>\n",
       "    <tr>\n",
       "      <th>2</th>\n",
       "      <td>1</td>\n",
       "      <td>0.946619</td>\n",
       "      <td>93.0</td>\n",
       "      <td>1</td>\n",
       "      <td>0.933539</td>\n",
       "      <td>1</td>\n",
       "      <td>1</td>\n",
       "      <td>1</td>\n",
       "      <td>1</td>\n",
       "      <td>1</td>\n",
       "      <td>1</td>\n",
       "      <td>1</td>\n",
       "      <td>1</td>\n",
       "      <td>1</td>\n",
       "      <td>1</td>\n",
       "      <td>1</td>\n",
       "    </tr>\n",
       "    <tr>\n",
       "      <th>3</th>\n",
       "      <td>1</td>\n",
       "      <td>0.996674</td>\n",
       "      <td>100.0</td>\n",
       "      <td>1</td>\n",
       "      <td>0.995717</td>\n",
       "      <td>1</td>\n",
       "      <td>1</td>\n",
       "      <td>1</td>\n",
       "      <td>1</td>\n",
       "      <td>1</td>\n",
       "      <td>1</td>\n",
       "      <td>1</td>\n",
       "      <td>1</td>\n",
       "      <td>1</td>\n",
       "      <td>1</td>\n",
       "      <td>1</td>\n",
       "    </tr>\n",
       "    <tr>\n",
       "      <th>4</th>\n",
       "      <td>0</td>\n",
       "      <td>0.018116</td>\n",
       "      <td>2.0</td>\n",
       "      <td>0</td>\n",
       "      <td>0.017591</td>\n",
       "      <td>1</td>\n",
       "      <td>0</td>\n",
       "      <td>0</td>\n",
       "      <td>0</td>\n",
       "      <td>0</td>\n",
       "      <td>0</td>\n",
       "      <td>0</td>\n",
       "      <td>0</td>\n",
       "      <td>0</td>\n",
       "      <td>0</td>\n",
       "      <td>0</td>\n",
       "    </tr>\n",
       "  </tbody>\n",
       "</table>\n",
       "</div>"
      ],
      "text/plain": [
       "   Converted  Converted_Probability  Lead_Score  Predicted_Conversion  \\\n",
       "0          1               0.945245        95.0                     1   \n",
       "1          0               0.002687         1.0                     0   \n",
       "2          1               0.946619        93.0                     1   \n",
       "3          1               0.996674       100.0                     1   \n",
       "4          0               0.018116         2.0                     0   \n",
       "\n",
       "   Converted_Prob  0.0  0.1  0.2  0.3  0.4  0.5  0.6  0.7  0.8  0.9  \\\n",
       "0        0.946735    1    1    1    1    1    1    1    1    1    1   \n",
       "1        0.007497    1    0    0    0    0    0    0    0    0    0   \n",
       "2        0.933539    1    1    1    1    1    1    1    1    1    1   \n",
       "3        0.995717    1    1    1    1    1    1    1    1    1    1   \n",
       "4        0.017591    1    0    0    0    0    0    0    0    0    0   \n",
       "\n",
       "   final_predicted  \n",
       "0                1  \n",
       "1                0  \n",
       "2                1  \n",
       "3                1  \n",
       "4                0  "
      ]
     },
     "execution_count": 158,
     "metadata": {},
     "output_type": "execute_result"
    }
   ],
   "source": [
    "y_train_pred_final['final_predicted'] = y_train_pred_final.Converted_Prob.map( lambda x: 1 if x > 0.30 else 0)\n",
    "\n",
    "y_train_pred_final.head()"
   ]
  },
  {
   "cell_type": "code",
   "execution_count": 159,
   "metadata": {},
   "outputs": [
    {
     "data": {
      "text/plain": [
       "0.892129194104735"
      ]
     },
     "execution_count": 159,
     "metadata": {},
     "output_type": "execute_result"
    }
   ],
   "source": [
    "# Let's check the overall accuracy.\n",
    "metrics.accuracy_score(y_train_pred_final.Converted, y_train_pred_final.final_predicted)"
   ]
  },
  {
   "cell_type": "code",
   "execution_count": 160,
   "metadata": {},
   "outputs": [
    {
     "data": {
      "text/plain": [
       "array([[3627,  276],\n",
       "       [ 412, 2063]], dtype=int64)"
      ]
     },
     "execution_count": 160,
     "metadata": {},
     "output_type": "execute_result"
    }
   ],
   "source": [
    "confusion2 = metrics.confusion_matrix(y_train_pred_final.Converted, y_train_pred_final.final_predicted )\n",
    "confusion2"
   ]
  },
  {
   "cell_type": "code",
   "execution_count": 161,
   "metadata": {},
   "outputs": [],
   "source": [
    "TP = confusion2[1,1] # true positive \n",
    "TN = confusion2[0,0] # true negatives\n",
    "FP = confusion2[0,1] # false positives\n",
    "FN = confusion2[1,0] # false negatives"
   ]
  },
  {
   "cell_type": "code",
   "execution_count": 162,
   "metadata": {},
   "outputs": [
    {
     "data": {
      "text/plain": [
       "0.8335353535353536"
      ]
     },
     "execution_count": 162,
     "metadata": {},
     "output_type": "execute_result"
    }
   ],
   "source": [
    "# Let's see the sensitivity of our logistic regression model\n",
    "TP / float(TP+FN)"
   ]
  },
  {
   "cell_type": "code",
   "execution_count": 163,
   "metadata": {},
   "outputs": [
    {
     "data": {
      "text/plain": [
       "0.9292851652574943"
      ]
     },
     "execution_count": 163,
     "metadata": {},
     "output_type": "execute_result"
    }
   ],
   "source": [
    "# Let us calculate specificity\n",
    "TN / float(TN+FP)"
   ]
  },
  {
   "cell_type": "code",
   "execution_count": 164,
   "metadata": {},
   "outputs": [
    {
     "name": "stdout",
     "output_type": "stream",
     "text": [
      "0.07071483474250577\n"
     ]
    }
   ],
   "source": [
    "# Calculate false postive rate - predicting churn when customer does not have churned\n",
    "print(FP/ float(TN+FP))"
   ]
  },
  {
   "cell_type": "code",
   "execution_count": 165,
   "metadata": {},
   "outputs": [
    {
     "name": "stdout",
     "output_type": "stream",
     "text": [
      "0.8820008550662677\n"
     ]
    }
   ],
   "source": [
    "# Positive predictive value \n",
    "print (TP / float(TP+FP))"
   ]
  },
  {
   "cell_type": "code",
   "execution_count": 166,
   "metadata": {},
   "outputs": [
    {
     "name": "stdout",
     "output_type": "stream",
     "text": [
      "0.8979945531072048\n"
     ]
    }
   ],
   "source": [
    "# Negative predictive value\n",
    "print (TN / float(TN+ FN))"
   ]
  },
  {
   "cell_type": "markdown",
   "metadata": {},
   "source": [
    "### Making predictions on the test set"
   ]
  },
  {
   "cell_type": "code",
   "execution_count": 167,
   "metadata": {},
   "outputs": [],
   "source": [
    "X_test[['Total Time Spent on Website','TotalVisits','Page Views Per Visit']] = scaler.transform(X_test[['Total Time Spent on Website','TotalVisits','Page Views Per Visit']])"
   ]
  },
  {
   "cell_type": "code",
   "execution_count": 168,
   "metadata": {},
   "outputs": [
    {
     "data": {
      "text/html": [
       "<div>\n",
       "<style scoped>\n",
       "    .dataframe tbody tr th:only-of-type {\n",
       "        vertical-align: middle;\n",
       "    }\n",
       "\n",
       "    .dataframe tbody tr th {\n",
       "        vertical-align: top;\n",
       "    }\n",
       "\n",
       "    .dataframe thead th {\n",
       "        text-align: right;\n",
       "    }\n",
       "</style>\n",
       "<table border=\"1\" class=\"dataframe\">\n",
       "  <thead>\n",
       "    <tr style=\"text-align: right;\">\n",
       "      <th></th>\n",
       "      <th>Do Not Email</th>\n",
       "      <th>Lead Source_Welingak Website</th>\n",
       "      <th>What is your current occupation_Other</th>\n",
       "      <th>Tags_Lost to EINS</th>\n",
       "      <th>Tags_Ringing</th>\n",
       "      <th>Tags_Unknown</th>\n",
       "      <th>Tags_Will revert after reading the email</th>\n",
       "      <th>Tags_invalid number</th>\n",
       "      <th>Tags_switched off</th>\n",
       "      <th>Lead Quality_Worst</th>\n",
       "      <th>Last Notable Activity_SMS Sent</th>\n",
       "    </tr>\n",
       "  </thead>\n",
       "  <tbody>\n",
       "    <tr>\n",
       "      <th>358</th>\n",
       "      <td>0</td>\n",
       "      <td>0</td>\n",
       "      <td>0</td>\n",
       "      <td>0</td>\n",
       "      <td>0</td>\n",
       "      <td>0</td>\n",
       "      <td>1</td>\n",
       "      <td>0</td>\n",
       "      <td>0</td>\n",
       "      <td>0</td>\n",
       "      <td>0</td>\n",
       "    </tr>\n",
       "    <tr>\n",
       "      <th>1048</th>\n",
       "      <td>0</td>\n",
       "      <td>0</td>\n",
       "      <td>0</td>\n",
       "      <td>0</td>\n",
       "      <td>0</td>\n",
       "      <td>0</td>\n",
       "      <td>1</td>\n",
       "      <td>0</td>\n",
       "      <td>0</td>\n",
       "      <td>0</td>\n",
       "      <td>0</td>\n",
       "    </tr>\n",
       "    <tr>\n",
       "      <th>7525</th>\n",
       "      <td>1</td>\n",
       "      <td>0</td>\n",
       "      <td>0</td>\n",
       "      <td>0</td>\n",
       "      <td>0</td>\n",
       "      <td>0</td>\n",
       "      <td>1</td>\n",
       "      <td>0</td>\n",
       "      <td>0</td>\n",
       "      <td>0</td>\n",
       "      <td>0</td>\n",
       "    </tr>\n",
       "    <tr>\n",
       "      <th>1031</th>\n",
       "      <td>0</td>\n",
       "      <td>0</td>\n",
       "      <td>0</td>\n",
       "      <td>0</td>\n",
       "      <td>0</td>\n",
       "      <td>0</td>\n",
       "      <td>0</td>\n",
       "      <td>0</td>\n",
       "      <td>0</td>\n",
       "      <td>0</td>\n",
       "      <td>0</td>\n",
       "    </tr>\n",
       "    <tr>\n",
       "      <th>4200</th>\n",
       "      <td>0</td>\n",
       "      <td>0</td>\n",
       "      <td>0</td>\n",
       "      <td>0</td>\n",
       "      <td>0</td>\n",
       "      <td>0</td>\n",
       "      <td>1</td>\n",
       "      <td>0</td>\n",
       "      <td>0</td>\n",
       "      <td>0</td>\n",
       "      <td>1</td>\n",
       "    </tr>\n",
       "  </tbody>\n",
       "</table>\n",
       "</div>"
      ],
      "text/plain": [
       "      Do Not Email  Lead Source_Welingak Website  \\\n",
       "358              0                             0   \n",
       "1048             0                             0   \n",
       "7525             1                             0   \n",
       "1031             0                             0   \n",
       "4200             0                             0   \n",
       "\n",
       "      What is your current occupation_Other  Tags_Lost to EINS  Tags_Ringing  \\\n",
       "358                                       0                  0             0   \n",
       "1048                                      0                  0             0   \n",
       "7525                                      0                  0             0   \n",
       "1031                                      0                  0             0   \n",
       "4200                                      0                  0             0   \n",
       "\n",
       "      Tags_Unknown  Tags_Will revert after reading the email  \\\n",
       "358              0                                         1   \n",
       "1048             0                                         1   \n",
       "7525             0                                         1   \n",
       "1031             0                                         0   \n",
       "4200             0                                         1   \n",
       "\n",
       "      Tags_invalid number  Tags_switched off  Lead Quality_Worst  \\\n",
       "358                     0                  0                   0   \n",
       "1048                    0                  0                   0   \n",
       "7525                    0                  0                   0   \n",
       "1031                    0                  0                   0   \n",
       "4200                    0                  0                   0   \n",
       "\n",
       "      Last Notable Activity_SMS Sent  \n",
       "358                                0  \n",
       "1048                               0  \n",
       "7525                               0  \n",
       "1031                               0  \n",
       "4200                               1  "
      ]
     },
     "execution_count": 168,
     "metadata": {},
     "output_type": "execute_result"
    }
   ],
   "source": [
    "X_test = X_test[cols]\n",
    "X_test.head()"
   ]
  },
  {
   "cell_type": "code",
   "execution_count": 169,
   "metadata": {},
   "outputs": [],
   "source": [
    "X_test_sm = sm.add_constant(X_test)"
   ]
  },
  {
   "cell_type": "code",
   "execution_count": 170,
   "metadata": {},
   "outputs": [
    {
     "data": {
      "text/plain": [
       "(2734, 11)"
      ]
     },
     "execution_count": 170,
     "metadata": {},
     "output_type": "execute_result"
    }
   ],
   "source": [
    "X_test.shape"
   ]
  },
  {
   "cell_type": "markdown",
   "metadata": {},
   "source": [
    "Making predictions on the test set"
   ]
  },
  {
   "cell_type": "code",
   "execution_count": 171,
   "metadata": {},
   "outputs": [],
   "source": [
    "y_test_pred = res.predict(X_test_sm)"
   ]
  },
  {
   "cell_type": "code",
   "execution_count": 172,
   "metadata": {},
   "outputs": [
    {
     "data": {
      "text/plain": [
       "358     0.946735\n",
       "1048    0.946735\n",
       "7525    0.793209\n",
       "1031    0.295103\n",
       "4200    0.995717\n",
       "5853    0.076614\n",
       "7606    0.933539\n",
       "5227    0.076614\n",
       "4238    0.995717\n",
       "8336    0.076614\n",
       "dtype: float64"
      ]
     },
     "execution_count": 172,
     "metadata": {},
     "output_type": "execute_result"
    }
   ],
   "source": [
    "y_test_pred[:10]"
   ]
  },
  {
   "cell_type": "code",
   "execution_count": 173,
   "metadata": {},
   "outputs": [],
   "source": [
    "# Converting y_pred to a dataframe which is an array\n",
    "y_pred_1 = pd.DataFrame(y_test_pred)"
   ]
  },
  {
   "cell_type": "code",
   "execution_count": 174,
   "metadata": {},
   "outputs": [
    {
     "data": {
      "text/html": [
       "<div>\n",
       "<style scoped>\n",
       "    .dataframe tbody tr th:only-of-type {\n",
       "        vertical-align: middle;\n",
       "    }\n",
       "\n",
       "    .dataframe tbody tr th {\n",
       "        vertical-align: top;\n",
       "    }\n",
       "\n",
       "    .dataframe thead th {\n",
       "        text-align: right;\n",
       "    }\n",
       "</style>\n",
       "<table border=\"1\" class=\"dataframe\">\n",
       "  <thead>\n",
       "    <tr style=\"text-align: right;\">\n",
       "      <th></th>\n",
       "      <th>0</th>\n",
       "    </tr>\n",
       "  </thead>\n",
       "  <tbody>\n",
       "    <tr>\n",
       "      <th>358</th>\n",
       "      <td>0.946735</td>\n",
       "    </tr>\n",
       "    <tr>\n",
       "      <th>1048</th>\n",
       "      <td>0.946735</td>\n",
       "    </tr>\n",
       "    <tr>\n",
       "      <th>7525</th>\n",
       "      <td>0.793209</td>\n",
       "    </tr>\n",
       "    <tr>\n",
       "      <th>1031</th>\n",
       "      <td>0.295103</td>\n",
       "    </tr>\n",
       "    <tr>\n",
       "      <th>4200</th>\n",
       "      <td>0.995717</td>\n",
       "    </tr>\n",
       "  </tbody>\n",
       "</table>\n",
       "</div>"
      ],
      "text/plain": [
       "             0\n",
       "358   0.946735\n",
       "1048  0.946735\n",
       "7525  0.793209\n",
       "1031  0.295103\n",
       "4200  0.995717"
      ]
     },
     "execution_count": 174,
     "metadata": {},
     "output_type": "execute_result"
    }
   ],
   "source": [
    "# Let's see the head\n",
    "y_pred_1.head()"
   ]
  },
  {
   "cell_type": "code",
   "execution_count": 175,
   "metadata": {},
   "outputs": [],
   "source": [
    "# Converting y_test to dataframe\n",
    "y_test_df = pd.DataFrame(y_test)"
   ]
  },
  {
   "cell_type": "code",
   "execution_count": 176,
   "metadata": {},
   "outputs": [],
   "source": [
    "# Appending y_test_df and y_pred_1\n",
    "y_pred_final = pd.concat([y_test_df, y_pred_1],axis=1)"
   ]
  },
  {
   "cell_type": "code",
   "execution_count": 177,
   "metadata": {},
   "outputs": [
    {
     "data": {
      "text/html": [
       "<div>\n",
       "<style scoped>\n",
       "    .dataframe tbody tr th:only-of-type {\n",
       "        vertical-align: middle;\n",
       "    }\n",
       "\n",
       "    .dataframe tbody tr th {\n",
       "        vertical-align: top;\n",
       "    }\n",
       "\n",
       "    .dataframe thead th {\n",
       "        text-align: right;\n",
       "    }\n",
       "</style>\n",
       "<table border=\"1\" class=\"dataframe\">\n",
       "  <thead>\n",
       "    <tr style=\"text-align: right;\">\n",
       "      <th></th>\n",
       "      <th>Converted</th>\n",
       "      <th>0</th>\n",
       "    </tr>\n",
       "  </thead>\n",
       "  <tbody>\n",
       "    <tr>\n",
       "      <th>358</th>\n",
       "      <td>1</td>\n",
       "      <td>0.946735</td>\n",
       "    </tr>\n",
       "    <tr>\n",
       "      <th>1048</th>\n",
       "      <td>1</td>\n",
       "      <td>0.946735</td>\n",
       "    </tr>\n",
       "    <tr>\n",
       "      <th>7525</th>\n",
       "      <td>1</td>\n",
       "      <td>0.793209</td>\n",
       "    </tr>\n",
       "    <tr>\n",
       "      <th>1031</th>\n",
       "      <td>0</td>\n",
       "      <td>0.295103</td>\n",
       "    </tr>\n",
       "    <tr>\n",
       "      <th>4200</th>\n",
       "      <td>1</td>\n",
       "      <td>0.995717</td>\n",
       "    </tr>\n",
       "  </tbody>\n",
       "</table>\n",
       "</div>"
      ],
      "text/plain": [
       "      Converted         0\n",
       "358           1  0.946735\n",
       "1048          1  0.946735\n",
       "7525          1  0.793209\n",
       "1031          0  0.295103\n",
       "4200          1  0.995717"
      ]
     },
     "execution_count": 177,
     "metadata": {},
     "output_type": "execute_result"
    }
   ],
   "source": [
    "y_pred_final.head()"
   ]
  },
  {
   "cell_type": "code",
   "execution_count": 178,
   "metadata": {},
   "outputs": [],
   "source": [
    "# Renaming the column \n",
    "y_pred_final= y_pred_final.rename(columns={ 0 : 'Converted_Probability'})"
   ]
  },
  {
   "cell_type": "code",
   "execution_count": 179,
   "metadata": {},
   "outputs": [
    {
     "data": {
      "text/html": [
       "<div>\n",
       "<style scoped>\n",
       "    .dataframe tbody tr th:only-of-type {\n",
       "        vertical-align: middle;\n",
       "    }\n",
       "\n",
       "    .dataframe tbody tr th {\n",
       "        vertical-align: top;\n",
       "    }\n",
       "\n",
       "    .dataframe thead th {\n",
       "        text-align: right;\n",
       "    }\n",
       "</style>\n",
       "<table border=\"1\" class=\"dataframe\">\n",
       "  <thead>\n",
       "    <tr style=\"text-align: right;\">\n",
       "      <th></th>\n",
       "      <th>Converted</th>\n",
       "      <th>Converted_Probability</th>\n",
       "    </tr>\n",
       "  </thead>\n",
       "  <tbody>\n",
       "    <tr>\n",
       "      <th>358</th>\n",
       "      <td>1</td>\n",
       "      <td>0.946735</td>\n",
       "    </tr>\n",
       "    <tr>\n",
       "      <th>1048</th>\n",
       "      <td>1</td>\n",
       "      <td>0.946735</td>\n",
       "    </tr>\n",
       "    <tr>\n",
       "      <th>7525</th>\n",
       "      <td>1</td>\n",
       "      <td>0.793209</td>\n",
       "    </tr>\n",
       "    <tr>\n",
       "      <th>1031</th>\n",
       "      <td>0</td>\n",
       "      <td>0.295103</td>\n",
       "    </tr>\n",
       "    <tr>\n",
       "      <th>4200</th>\n",
       "      <td>1</td>\n",
       "      <td>0.995717</td>\n",
       "    </tr>\n",
       "  </tbody>\n",
       "</table>\n",
       "</div>"
      ],
      "text/plain": [
       "      Converted  Converted_Probability\n",
       "358           1               0.946735\n",
       "1048          1               0.946735\n",
       "7525          1               0.793209\n",
       "1031          0               0.295103\n",
       "4200          1               0.995717"
      ]
     },
     "execution_count": 179,
     "metadata": {},
     "output_type": "execute_result"
    }
   ],
   "source": [
    "# Let's see the head of y_pred_final\n",
    "y_pred_final.head()"
   ]
  },
  {
   "cell_type": "code",
   "execution_count": 180,
   "metadata": {},
   "outputs": [],
   "source": [
    "y_pred_final['Predicted_Conversion'] = y_pred_final.Converted_Probability.map(lambda x: 1 if x > 0.38 else 0)"
   ]
  },
  {
   "cell_type": "code",
   "execution_count": 181,
   "metadata": {},
   "outputs": [],
   "source": [
    "y_pred_final['Lead_Score'] =round(y_pred_final['Converted_Probability']*100)"
   ]
  },
  {
   "cell_type": "code",
   "execution_count": 182,
   "metadata": {},
   "outputs": [
    {
     "data": {
      "text/html": [
       "<div>\n",
       "<style scoped>\n",
       "    .dataframe tbody tr th:only-of-type {\n",
       "        vertical-align: middle;\n",
       "    }\n",
       "\n",
       "    .dataframe tbody tr th {\n",
       "        vertical-align: top;\n",
       "    }\n",
       "\n",
       "    .dataframe thead th {\n",
       "        text-align: right;\n",
       "    }\n",
       "</style>\n",
       "<table border=\"1\" class=\"dataframe\">\n",
       "  <thead>\n",
       "    <tr style=\"text-align: right;\">\n",
       "      <th></th>\n",
       "      <th>Converted</th>\n",
       "      <th>Converted_Probability</th>\n",
       "      <th>Predicted_Conversion</th>\n",
       "      <th>Lead_Score</th>\n",
       "    </tr>\n",
       "  </thead>\n",
       "  <tbody>\n",
       "    <tr>\n",
       "      <th>358</th>\n",
       "      <td>1</td>\n",
       "      <td>0.946735</td>\n",
       "      <td>1</td>\n",
       "      <td>95.0</td>\n",
       "    </tr>\n",
       "    <tr>\n",
       "      <th>1048</th>\n",
       "      <td>1</td>\n",
       "      <td>0.946735</td>\n",
       "      <td>1</td>\n",
       "      <td>95.0</td>\n",
       "    </tr>\n",
       "    <tr>\n",
       "      <th>7525</th>\n",
       "      <td>1</td>\n",
       "      <td>0.793209</td>\n",
       "      <td>1</td>\n",
       "      <td>79.0</td>\n",
       "    </tr>\n",
       "    <tr>\n",
       "      <th>1031</th>\n",
       "      <td>0</td>\n",
       "      <td>0.295103</td>\n",
       "      <td>0</td>\n",
       "      <td>30.0</td>\n",
       "    </tr>\n",
       "    <tr>\n",
       "      <th>4200</th>\n",
       "      <td>1</td>\n",
       "      <td>0.995717</td>\n",
       "      <td>1</td>\n",
       "      <td>100.0</td>\n",
       "    </tr>\n",
       "  </tbody>\n",
       "</table>\n",
       "</div>"
      ],
      "text/plain": [
       "      Converted  Converted_Probability  Predicted_Conversion  Lead_Score\n",
       "358           1               0.946735                     1        95.0\n",
       "1048          1               0.946735                     1        95.0\n",
       "7525          1               0.793209                     1        79.0\n",
       "1031          0               0.295103                     0        30.0\n",
       "4200          1               0.995717                     1       100.0"
      ]
     },
     "execution_count": 182,
     "metadata": {},
     "output_type": "execute_result"
    }
   ],
   "source": [
    "y_pred_final.head()"
   ]
  },
  {
   "cell_type": "code",
   "execution_count": 183,
   "metadata": {},
   "outputs": [
    {
     "data": {
      "text/plain": [
       "0.8884418434528164"
      ]
     },
     "execution_count": 183,
     "metadata": {},
     "output_type": "execute_result"
    }
   ],
   "source": [
    "# Let's check the overall accuracy.\n",
    "metrics.accuracy_score(y_pred_final.Converted, y_pred_final.Predicted_Conversion)"
   ]
  },
  {
   "cell_type": "code",
   "execution_count": 184,
   "metadata": {},
   "outputs": [
    {
     "data": {
      "text/plain": [
       "array([[1571,  131],\n",
       "       [ 174,  858]], dtype=int64)"
      ]
     },
     "execution_count": 184,
     "metadata": {},
     "output_type": "execute_result"
    }
   ],
   "source": [
    "confusion2 = metrics.confusion_matrix(y_pred_final.Converted, y_pred_final.Predicted_Conversion)\n",
    "confusion2"
   ]
  },
  {
   "cell_type": "code",
   "execution_count": 185,
   "metadata": {},
   "outputs": [],
   "source": [
    "TP = confusion2[1,1] # true positive \n",
    "TN = confusion2[0,0] # true negatives\n",
    "FP = confusion2[0,1] # false positives\n",
    "FN = confusion2[1,0] # false negatives"
   ]
  },
  {
   "cell_type": "code",
   "execution_count": 186,
   "metadata": {},
   "outputs": [
    {
     "data": {
      "text/plain": [
       "0.8313953488372093"
      ]
     },
     "execution_count": 186,
     "metadata": {},
     "output_type": "execute_result"
    }
   ],
   "source": [
    "# Let's see the sensitivity of our logistic regression model\n",
    "TP / float(TP+FN)"
   ]
  },
  {
   "cell_type": "code",
   "execution_count": 187,
   "metadata": {},
   "outputs": [
    {
     "data": {
      "text/plain": [
       "0.9230317273795534"
      ]
     },
     "execution_count": 187,
     "metadata": {},
     "output_type": "execute_result"
    }
   ],
   "source": [
    "# Let us calculate specificity\n",
    "TN / float(TN+FP)"
   ]
  },
  {
   "cell_type": "markdown",
   "metadata": {},
   "source": [
    "## Checking Conversion % "
   ]
  },
  {
   "cell_type": "markdown",
   "metadata": {},
   "source": [
    "**Using the model the cutoff score has to be decided the which company can employ to identify the hot leads. And in those identified Hot leads it can get conversion rate of minimum 80%*"
   ]
  },
  {
   "cell_type": "code",
   "execution_count": 188,
   "metadata": {},
   "outputs": [
    {
     "data": {
      "text/html": [
       "<div>\n",
       "<style scoped>\n",
       "    .dataframe tbody tr th:only-of-type {\n",
       "        vertical-align: middle;\n",
       "    }\n",
       "\n",
       "    .dataframe tbody tr th {\n",
       "        vertical-align: top;\n",
       "    }\n",
       "\n",
       "    .dataframe thead th {\n",
       "        text-align: right;\n",
       "    }\n",
       "</style>\n",
       "<table border=\"1\" class=\"dataframe\">\n",
       "  <thead>\n",
       "    <tr style=\"text-align: right;\">\n",
       "      <th></th>\n",
       "      <th>Converted</th>\n",
       "      <th>Converted_Probability</th>\n",
       "      <th>Lead_Score</th>\n",
       "      <th>Predicted_Conversion</th>\n",
       "      <th>Converted_Prob</th>\n",
       "      <th>0.0</th>\n",
       "      <th>0.1</th>\n",
       "      <th>0.2</th>\n",
       "      <th>0.3</th>\n",
       "      <th>0.4</th>\n",
       "      <th>0.5</th>\n",
       "      <th>0.6</th>\n",
       "      <th>0.7</th>\n",
       "      <th>0.8</th>\n",
       "      <th>0.9</th>\n",
       "      <th>final_predicted</th>\n",
       "    </tr>\n",
       "  </thead>\n",
       "  <tbody>\n",
       "    <tr>\n",
       "      <th>0</th>\n",
       "      <td>1</td>\n",
       "      <td>0.945245</td>\n",
       "      <td>95.0</td>\n",
       "      <td>1</td>\n",
       "      <td>0.946735</td>\n",
       "      <td>1</td>\n",
       "      <td>1</td>\n",
       "      <td>1</td>\n",
       "      <td>1</td>\n",
       "      <td>1</td>\n",
       "      <td>1</td>\n",
       "      <td>1</td>\n",
       "      <td>1</td>\n",
       "      <td>1</td>\n",
       "      <td>1</td>\n",
       "      <td>1</td>\n",
       "    </tr>\n",
       "    <tr>\n",
       "      <th>1</th>\n",
       "      <td>0</td>\n",
       "      <td>0.002687</td>\n",
       "      <td>1.0</td>\n",
       "      <td>0</td>\n",
       "      <td>0.007497</td>\n",
       "      <td>1</td>\n",
       "      <td>0</td>\n",
       "      <td>0</td>\n",
       "      <td>0</td>\n",
       "      <td>0</td>\n",
       "      <td>0</td>\n",
       "      <td>0</td>\n",
       "      <td>0</td>\n",
       "      <td>0</td>\n",
       "      <td>0</td>\n",
       "      <td>0</td>\n",
       "    </tr>\n",
       "  </tbody>\n",
       "</table>\n",
       "</div>"
      ],
      "text/plain": [
       "   Converted  Converted_Probability  Lead_Score  Predicted_Conversion  \\\n",
       "0          1               0.945245        95.0                     1   \n",
       "1          0               0.002687         1.0                     0   \n",
       "\n",
       "   Converted_Prob  0.0  0.1  0.2  0.3  0.4  0.5  0.6  0.7  0.8  0.9  \\\n",
       "0        0.946735    1    1    1    1    1    1    1    1    1    1   \n",
       "1        0.007497    1    0    0    0    0    0    0    0    0    0   \n",
       "\n",
       "   final_predicted  \n",
       "0                1  \n",
       "1                0  "
      ]
     },
     "execution_count": 188,
     "metadata": {},
     "output_type": "execute_result"
    }
   ],
   "source": [
    "y_train_pred_final.head(2)"
   ]
  },
  {
   "cell_type": "code",
   "execution_count": 189,
   "metadata": {},
   "outputs": [],
   "source": [
    "df_train=y_train_pred_final[['Converted','Lead_Score','Predicted_Conversion']]"
   ]
  },
  {
   "cell_type": "code",
   "execution_count": 190,
   "metadata": {},
   "outputs": [
    {
     "data": {
      "text/html": [
       "<div>\n",
       "<style scoped>\n",
       "    .dataframe tbody tr th:only-of-type {\n",
       "        vertical-align: middle;\n",
       "    }\n",
       "\n",
       "    .dataframe tbody tr th {\n",
       "        vertical-align: top;\n",
       "    }\n",
       "\n",
       "    .dataframe thead th {\n",
       "        text-align: right;\n",
       "    }\n",
       "</style>\n",
       "<table border=\"1\" class=\"dataframe\">\n",
       "  <thead>\n",
       "    <tr style=\"text-align: right;\">\n",
       "      <th></th>\n",
       "      <th>Converted</th>\n",
       "      <th>Converted_Probability</th>\n",
       "      <th>Predicted_Conversion</th>\n",
       "      <th>Lead_Score</th>\n",
       "    </tr>\n",
       "  </thead>\n",
       "  <tbody>\n",
       "    <tr>\n",
       "      <th>358</th>\n",
       "      <td>1</td>\n",
       "      <td>0.946735</td>\n",
       "      <td>1</td>\n",
       "      <td>95.0</td>\n",
       "    </tr>\n",
       "    <tr>\n",
       "      <th>1048</th>\n",
       "      <td>1</td>\n",
       "      <td>0.946735</td>\n",
       "      <td>1</td>\n",
       "      <td>95.0</td>\n",
       "    </tr>\n",
       "    <tr>\n",
       "      <th>7525</th>\n",
       "      <td>1</td>\n",
       "      <td>0.793209</td>\n",
       "      <td>1</td>\n",
       "      <td>79.0</td>\n",
       "    </tr>\n",
       "    <tr>\n",
       "      <th>1031</th>\n",
       "      <td>0</td>\n",
       "      <td>0.295103</td>\n",
       "      <td>0</td>\n",
       "      <td>30.0</td>\n",
       "    </tr>\n",
       "    <tr>\n",
       "      <th>4200</th>\n",
       "      <td>1</td>\n",
       "      <td>0.995717</td>\n",
       "      <td>1</td>\n",
       "      <td>100.0</td>\n",
       "    </tr>\n",
       "  </tbody>\n",
       "</table>\n",
       "</div>"
      ],
      "text/plain": [
       "      Converted  Converted_Probability  Predicted_Conversion  Lead_Score\n",
       "358           1               0.946735                     1        95.0\n",
       "1048          1               0.946735                     1        95.0\n",
       "7525          1               0.793209                     1        79.0\n",
       "1031          0               0.295103                     0        30.0\n",
       "4200          1               0.995717                     1       100.0"
      ]
     },
     "execution_count": 190,
     "metadata": {},
     "output_type": "execute_result"
    }
   ],
   "source": [
    "y_pred_final.head()"
   ]
  },
  {
   "cell_type": "code",
   "execution_count": 191,
   "metadata": {},
   "outputs": [],
   "source": [
    "df_test=y_pred_final[['Converted','Lead_Score','Predicted_Conversion']]"
   ]
  },
  {
   "cell_type": "code",
   "execution_count": 192,
   "metadata": {},
   "outputs": [
    {
     "data": {
      "text/plain": [
       "(6378, 3)"
      ]
     },
     "execution_count": 192,
     "metadata": {},
     "output_type": "execute_result"
    }
   ],
   "source": [
    "df_train.shape"
   ]
  },
  {
   "cell_type": "code",
   "execution_count": 193,
   "metadata": {},
   "outputs": [
    {
     "data": {
      "text/plain": [
       "(2734, 3)"
      ]
     },
     "execution_count": 193,
     "metadata": {},
     "output_type": "execute_result"
    }
   ],
   "source": [
    "df_test.shape"
   ]
  },
  {
   "cell_type": "code",
   "execution_count": 194,
   "metadata": {},
   "outputs": [],
   "source": [
    "df=pd.concat([df_train,df_test])"
   ]
  },
  {
   "cell_type": "code",
   "execution_count": 195,
   "metadata": {},
   "outputs": [
    {
     "data": {
      "text/plain": [
       "(9112, 3)"
      ]
     },
     "execution_count": 195,
     "metadata": {},
     "output_type": "execute_result"
    }
   ],
   "source": [
    "df.shape"
   ]
  },
  {
   "cell_type": "code",
   "execution_count": 196,
   "metadata": {},
   "outputs": [
    {
     "data": {
      "text/html": [
       "<div>\n",
       "<style scoped>\n",
       "    .dataframe tbody tr th:only-of-type {\n",
       "        vertical-align: middle;\n",
       "    }\n",
       "\n",
       "    .dataframe tbody tr th {\n",
       "        vertical-align: top;\n",
       "    }\n",
       "\n",
       "    .dataframe thead th {\n",
       "        text-align: right;\n",
       "    }\n",
       "</style>\n",
       "<table border=\"1\" class=\"dataframe\">\n",
       "  <thead>\n",
       "    <tr style=\"text-align: right;\">\n",
       "      <th></th>\n",
       "      <th>Converted</th>\n",
       "      <th>Lead_Score</th>\n",
       "      <th>Predicted_Conversion</th>\n",
       "    </tr>\n",
       "  </thead>\n",
       "  <tbody>\n",
       "    <tr>\n",
       "      <th>0</th>\n",
       "      <td>1</td>\n",
       "      <td>95.0</td>\n",
       "      <td>1</td>\n",
       "    </tr>\n",
       "    <tr>\n",
       "      <th>1</th>\n",
       "      <td>0</td>\n",
       "      <td>1.0</td>\n",
       "      <td>0</td>\n",
       "    </tr>\n",
       "    <tr>\n",
       "      <th>2</th>\n",
       "      <td>1</td>\n",
       "      <td>93.0</td>\n",
       "      <td>1</td>\n",
       "    </tr>\n",
       "    <tr>\n",
       "      <th>3</th>\n",
       "      <td>1</td>\n",
       "      <td>100.0</td>\n",
       "      <td>1</td>\n",
       "    </tr>\n",
       "    <tr>\n",
       "      <th>4</th>\n",
       "      <td>0</td>\n",
       "      <td>2.0</td>\n",
       "      <td>0</td>\n",
       "    </tr>\n",
       "  </tbody>\n",
       "</table>\n",
       "</div>"
      ],
      "text/plain": [
       "   Converted  Lead_Score  Predicted_Conversion\n",
       "0          1        95.0                     1\n",
       "1          0         1.0                     0\n",
       "2          1        93.0                     1\n",
       "3          1       100.0                     1\n",
       "4          0         2.0                     0"
      ]
     },
     "execution_count": 196,
     "metadata": {},
     "output_type": "execute_result"
    }
   ],
   "source": [
    "df.head()"
   ]
  },
  {
   "cell_type": "markdown",
   "metadata": {},
   "source": [
    "**At value 38, desired Converison of >80% ie that  is obtained, hence cutoff Lead score is chosen as 38.**"
   ]
  },
  {
   "cell_type": "code",
   "execution_count": 218,
   "metadata": {},
   "outputs": [],
   "source": [
    "df_optimal_conversion=df[df['Lead_Score']>=32]"
   ]
  },
  {
   "cell_type": "code",
   "execution_count": 219,
   "metadata": {},
   "outputs": [
    {
     "data": {
      "text/plain": [
       "(3328, 3)"
      ]
     },
     "execution_count": 219,
     "metadata": {},
     "output_type": "execute_result"
    }
   ],
   "source": [
    "df_optimal_conversion.shape"
   ]
  },
  {
   "cell_type": "code",
   "execution_count": 220,
   "metadata": {},
   "outputs": [],
   "source": [
    "conversion_rate=round(100*(df_optimal_conversion['Converted'].sum()/len(df_optimal_conversion.index)))"
   ]
  },
  {
   "cell_type": "code",
   "execution_count": 221,
   "metadata": {},
   "outputs": [
    {
     "data": {
      "text/plain": [
       "88.0"
      ]
     },
     "execution_count": 221,
     "metadata": {},
     "output_type": "execute_result"
    }
   ],
   "source": [
    "conversion_rate"
   ]
  },
  {
   "cell_type": "markdown",
   "metadata": {},
   "source": [
    "### Conclusion"
   ]
  },
  {
   "cell_type": "markdown",
   "metadata": {},
   "source": [
    "## Thus, the Lead_Score cutoff has been set at 32. Conversion rate of 88% has been  achieved.Hence it is a good model with accuracy of 88.88%. Thus X Education should try to reach only prospects with Lead score of >=30 to achieve >80% conversion rate. ##"
   ]
  },
  {
   "cell_type": "code",
   "execution_count": null,
   "metadata": {},
   "outputs": [],
   "source": []
  }
 ],
 "metadata": {
  "kernelspec": {
   "display_name": "Python 3",
   "language": "python",
   "name": "python3"
  },
  "language_info": {
   "codemirror_mode": {
    "name": "ipython",
    "version": 3
   },
   "file_extension": ".py",
   "mimetype": "text/x-python",
   "name": "python",
   "nbconvert_exporter": "python",
   "pygments_lexer": "ipython3",
   "version": "3.7.1"
  }
 },
 "nbformat": 4,
 "nbformat_minor": 2
}
